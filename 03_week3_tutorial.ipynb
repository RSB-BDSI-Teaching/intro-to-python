{
 "cells": [
  {
   "cell_type": "markdown",
   "metadata": {},
   "source": [
    "# Week 3 Tutorial - Handling DNA sequences and plotting \n",
    "\n",
    "In this week, we will cover the following topics:\n",
    "\n",
    "* Python Modules\n",
    "    * What is a Python module?\n",
    "    * What is a Python library?\n",
    "    * How to use a Python module?\n",
    "* Introduction to Biopython/cogent3\n",
    "    * What is Biopython/cogent3?\n",
    "    * Download the coding sequences of Arabidopsis\n",
    "    * Build a DNA sequence object \n",
    "    * Translate the DNA sequence to protein sequence \n",
    "    * Calculate the isoelectric point of our protein sequence\n",
    "* Plotting \n",
    "    * Introduction to seaborn \n",
    "    * Plot a histogram of the isoelectric points data and look at the distribution "
   ]
  },
  {
   "cell_type": "markdown",
   "metadata": {},
   "source": [
    "## Python Modules\n",
    "\n",
    "### What is a Python module?\n",
    "\n",
    "In Python, a module is a file containing Python code that can be imported and used in other Python code. A module can define functions, classes, and variables that can be used in other programs. Modules provide a way to organise code into separate files, making it easier to manage and reuse code across multiple programs. \n",
    "\n",
    "Python comes with a large number of built-in modules that provide a wide range of functionality, such as file I/O, networking, math operations, and more. You can also create your own modules by writing Python code in a file with a `.py` extension and importing it into your other Python programs. \n",
    "\n",
    "### What is a Python library?\n",
    "\n",
    "A library is a collection of pre-written code that can be imported and used in a Python program. A library typically contains a set of functions, classes, or modules that provide specific functionality. \n",
    "\n",
    "### How to use a Python module?\n",
    "\n",
    "If we are using a built-in Python module, we can load the module by use the `import` command with the module name. If we are using an external Python module, we have to download the module first and then use `import` to load. \n",
    "\n",
    "A module can provide a range of functions and constants, we need to put the function name after the module name with a dot to call the function. \n",
    "\n",
    "Here's an example of importing a built-in module in Python:"
   ]
  },
  {
   "cell_type": "code",
   "execution_count": 15,
   "metadata": {},
   "outputs": [
    {
     "name": "stdout",
     "output_type": "stream",
     "text": [
      "Pi is 3.141592653589793\n",
      "The sine value of 2*pi is -2.4492935982947064e-16\n",
      "The square root value of 2 is 1.4142135623730951\n"
     ]
    }
   ],
   "source": [
    "import math\n",
    "\n",
    "print(\"Pi is\", math.pi)\n",
    "\n",
    "x = math.sin(2*math.pi)\n",
    "print(\"The sine value of 2*pi is\", x)\n",
    "\n",
    "y = math.sqrt(2) \n",
    "print(\"The square root value of 2 is\", y)"
   ]
  },
  {
   "cell_type": "markdown",
   "metadata": {},
   "source": [
    "In this example, we used the `import` command to load the \"math\" module. `math.pi` means to call the \"pi\" value that stored in the module \"math\".\n",
    "\n",
    "Then we also used `math.sin` to calculate the sine value of `2*pi` and `math.sqrt` to calculate the square root of 2.\n",
    "\n",
    "__We can also import specific functions or variables from a module.__\n",
    "\n",
    "In this way, we can only use the function name to call the function, we don't need to put the module name before. \n",
    "\n",
    "Here's an example:"
   ]
  },
  {
   "cell_type": "code",
   "execution_count": 16,
   "metadata": {},
   "outputs": [
    {
     "name": "stdout",
     "output_type": "stream",
     "text": [
      "Pi is 3.141592653589793\n",
      "The sine value of 2*pi is -2.4492935982947064e-16\n"
     ]
    }
   ],
   "source": [
    "from math import sin, pi\n",
    "\n",
    "print(\"Pi is\", pi)\n",
    "\n",
    "x = sin(2 * pi)\n",
    "print(\"The sine value of 2*Pi is\", x)"
   ]
  },
  {
   "cell_type": "markdown",
   "metadata": {},
   "source": [
    "__We can also give a module a different name.__\n",
    "\n",
    "Some modules can have really long names and it can be difficult for us to type every time. So, it is easier if we make the module name short. \n",
    "\n",
    "Here's an example about how to do so:"
   ]
  },
  {
   "cell_type": "code",
   "execution_count": 18,
   "metadata": {
    "scrolled": true
   },
   "outputs": [
    {
     "name": "stdout",
     "output_type": "stream",
     "text": [
      "Pi is 3.141592653589793\n",
      "The sine value of 2*Pi is -2.4492935982947064e-16\n"
     ]
    }
   ],
   "source": [
    "import math as m\n",
    "\n",
    "print(\"Pi is\", m.pi)\n",
    "print(\"The sine value of 2*Pi is\", m.sin(2 * m.pi))"
   ]
  },
  {
   "cell_type": "markdown",
   "metadata": {},
   "source": [
    "__We can also import a specific function or variable from a module and give it a different name.__\n",
    "\n",
    "For example:"
   ]
  },
  {
   "cell_type": "code",
   "execution_count": 19,
   "metadata": {},
   "outputs": [
    {
     "name": "stdout",
     "output_type": "stream",
     "text": [
      "Pi is 3.141592653589793\n",
      "The sine value of 2*Pi is -2.4492935982947064e-16\n"
     ]
    }
   ],
   "source": [
    "from math import sin as s \n",
    "from math import pi \n",
    "\n",
    "print(\"Pi is\", pi)\n",
    "print(\"The sine value of 2*Pi is\", s(2*pi))"
   ]
  },
  {
   "cell_type": "markdown",
   "metadata": {},
   "source": [
    "## Introduction to [Biopython](https://biopython.org/)/[cogent3](https://cogent3.org/index.html)\n",
    "\n",
    "### What is Biopython/cogent3?\n",
    "\n",
    "Biopython and COGENT3 are Python libraries for computational biology, with a focus on different areas of biological research.\n",
    "\n",
    "Biopython is a popular open-source Python package for biological computing that provides a set of modules and tools for working with biological data, such as DNA, RNA, and protein sequences. Biopython allows researchers to perform a wide range of tasks, such as sequence alignment, data parsing and conversion, statistical analysis, and more. Biopython is widely used in many areas of biological research, including genomics, proteomics, bioinformatics, and computational biology. \n",
    "\n",
    "cogent3 is a Python library for computational genomics, phylogenetics, and evolutionary biology. cogent3 provides a range of tools and methods for working with biological data, such as DNA and protein sequences, phylogenetic trees, and genomic data. cogent3 includes modules for common bioinformatics tasks, such as reading and writing sequence data in various formats, performing sequence alignment using popular algorithms (e.g., ClustalW, MUSCLE), and constructing phylogenetic trees. It also provides advanced functionality for statistical inference, hypothesis testing, and simulation of evolutionary processes. \n",
    "\n",
    "cogent3 is developed and maintained by the Huttley group at RSB. \n",
    "\n",
    "In today's class, we are going to use the coding sequences of Arabidopsis as our DNA sequence data to perform some basic applications of Biopython/cogent3."
   ]
  },
  {
   "cell_type": "markdown",
   "metadata": {},
   "source": [
    "### Downloading the data \n",
    "\n",
    "We are using the public released coding sequences of Arabidopsis. You can find the data [here](https://www.arabidopsis.org/download/index-auto.jsp?dir=%2Fdownload_files%2FGenes%2FAraport11_genome_release%2FAraport11_blastsets).\n",
    "\n",
    "__Using Linux command-line in Jupyter Notebook.__\n",
    "\n",
    "In Jupyter Notebook, we can run Linux command-line programs using the `!` character at the beginning of a cell. This character tells Jupyter Notebook to treat the cell contents as a shell command, rather than Python code. Here, we will use the Linux command-line to download the data. \n",
    "\n",
    "__Downloading data from the web.__\n",
    "\n",
    "In Linux, we use the `wget` command to download files from the web, it can download files from HTTP, HTTPS, and FTP servers. \n",
    "\n",
    "Run the following cell to download our data:"
   ]
  },
  {
   "cell_type": "code",
   "execution_count": 7,
   "metadata": {},
   "outputs": [
    {
     "name": "stdout",
     "output_type": "stream",
     "text": [
      "--2023-05-03 17:09:53--  https://www.arabidopsis.org/download_files/Genes/Araport11_genome_release/Araport11_blastsets/Araport11_cds_20220914.gz\n",
      "Resolving www.arabidopsis.org (www.arabidopsis.org)... 52.88.10.157\n",
      "Connecting to www.arabidopsis.org (www.arabidopsis.org)|52.88.10.157|:443... connected.\n",
      "HTTP request sent, awaiting response... 200 OK\n",
      "Length: 13201113 (13M) [application/x-gzip]\n",
      "Saving to: ‘Araport11_cds_20220914.gz’\n",
      "\n",
      "Araport11_cds_20220 100%[===================>]  12.59M  4.90MB/s    in 2.6s    \n",
      "\n",
      "2023-05-03 17:09:57 (4.90 MB/s) - ‘Araport11_cds_20220914.gz’ saved [13201113/13201113]\n",
      "\n"
     ]
    }
   ],
   "source": [
    "!wget https://www.arabidopsis.org/download_files/Genes/Araport11_genome_release/Araport11_blastsets/Araport11_cds_20220914.gz"
   ]
  },
  {
   "cell_type": "markdown",
   "metadata": {},
   "source": [
    "Run the following cell to decompress the file:"
   ]
  },
  {
   "cell_type": "code",
   "execution_count": 8,
   "metadata": {},
   "outputs": [],
   "source": [
    "!gunzip Araport11_cds_20220914.gz"
   ]
  },
  {
   "cell_type": "markdown",
   "metadata": {},
   "source": [
    "Run the following cell to rename our CDS file to have a file extension, so we can know it is a FASTA file:"
   ]
  },
  {
   "cell_type": "code",
   "execution_count": 9,
   "metadata": {},
   "outputs": [],
   "source": [
    "!mv Araport11_cds_20220914 Araport11_cds_20220914.fa"
   ]
  },
  {
   "cell_type": "markdown",
   "metadata": {},
   "source": [
    "Run the following cell to take a look of the CDS file:"
   ]
  },
  {
   "cell_type": "code",
   "execution_count": 13,
   "metadata": {
    "scrolled": true
   },
   "outputs": [
    {
     "name": "stdout",
     "output_type": "stream",
     "text": [
      ">AT1G01010.1 | Symbols: NAC001, NTL10, ANAC001 | NAC domain containing protein 1 | chr1:3760-5630 FORWARD LENGTH=1290\r\n",
      "ATGGAGGATCAAGTTGGGTTTGGGTTCCGTCCGAACGACGAGGAGCTCGTTGGTCACTATCTCCGTAACAAAATCGAAGG\r\n",
      "AAACACTAGCCGCGACGTTGAAGTAGCCATCAGCGAGGTCAACATCTGTAGCTACGATCCTTGGAACTTGCGCTTCCAGT\r\n",
      "CAAAGTACAAATCGAGAGATGCTATGTGGTACTTCTTCTCTCGTAGAGAAAACAACAAAGGGAATCGACAGAGCAGGACA\r\n",
      "ACGGTTTCTGGTAAATGGAAGCTTACCGGAGAATCTGTTGAGGTCAAGGACCAGTGGGGATTTTGTAGTGAGGGCTTTCG\r\n",
      "TGGTAAGATTGGTCATAAAAGGGTTTTGGTGTTCCTCGATGGAAGATACCCTGACAAAACCAAATCTGATTGGGTTATCC\r\n",
      "ACGAGTTCCACTACGACCTCTTACCAGAACATCAGAGGACATATGTCATCTGCAGACTTGAGTACAAGGGTGATGATGCG\r\n",
      "GACATTCTATCTGCTTATGCAATAGATCCCACTCCCGCTTTTGTCCCCAATATGACTAGTAGTGCAGGTTCTGTGGTCAA\r\n",
      "CCAATCACGTCAACGAAATTCAGGATCTTACAACACTTACTCTGAGTATGATTCAGCAAATCATGGCCAGCAGTTTAATG\r\n",
      "AAAACTCTAACATTATGCAGCAGCAACCACTTCAAGGATCATTCAACCCTCTCCTTGAGTATGATTTTGCAAATCACGGC\r\n",
      "GGTCAGTGGCTGAGTGACTATATCGACCTGCAACAGCAAGTTCCTTACTTGGCACCTTATGAAAATGAGTCGGAGATGAT\r\n",
      "TTGGAAGCATGTGATTGAAGAAAATTTTGAGTTTTTGGTAGATGAAAGGACATCTATGCAACAGCATTACAGTGATCACC\r\n",
      "GGCCCAAAAAACCTGTGTCTGGGGTTTTGCCTGATGATAGCAGTGATACTGAAACTGGATCAATGATTTTCGAAGACACT\r\n",
      "TCGAGCTCCACTGATAGTGTTGGTAGTTCAGATGAACCGGGCCATACTCGTATAGATGATATTCCATCATTGAACATTAT\r\n",
      "TGAGCCTTTGCACAATTATAAGGCACAAGAGCAACCAAAGCAGCAGAGCAAAGAAAAGGTGATAAGTTCGCAGAAAAGCG\r\n",
      "AATGCGAGTGGAAAATGGCTGAAGACTCGATCAAGATACCTCCATCCACCAACACGGTGAAGCAGAGCTGGATTGTTTTG\r\n",
      "GAGAATGCACAGTGGAACTATCTCAAGAACATGATCATTGGTGTCTTGTTGTTCATCTCCGTCATTAGTTGGATCATTCT\r\n",
      "TGTTGGTTAA\r\n",
      ">AT1G01020.1 | Symbols: ARV1 |  | chr1:6915-8666 REVERSE LENGTH=738\r\n",
      "ATGGCGGCGAGTGAACACAGATGCGTGGGATGTGGTTTTAGGGTAAAGTCATTGTTCATTCAATACTCTCCGGGTAACAT\r\n",
      "TCGTCTCATGAAATGCGGAAATTGCAAGGAAGTAGCAGATGAGTACATCGAGTGTGAACGCATGATTATTTTCATCGATT\r\n",
      "TAATCCTTCACAGACCAAAGGTATATAGACACGTCCTCTACAATGCAATTAATCCAGCAACTGTCAATATTCAGCATCTG\r\n",
      "TTGTGGAAGTTGGTCTTCGCCTATCTTCTTCTAGACTGTTATAGAAGCTTGCTACTGAGAAAAAGTGATGAAGAATCGAG\r\n",
      "CTTTTCTGATAGCCCTGTTCTTCTATCTATAAAGGTTCTGATTGGTGTCTTATCTGCAAACGCTGCATTTATCATCTCTT\r\n",
      "TTGCCATTGCGACTAAGGGTTTGCTAAATGAAGTTTCCAGAAGAAGAGAGATTATGTTGGGGATATTCATCTCTAGTTAC\r\n",
      "TTCAAGATATTTCTGCTTGCGATGTTGGTATGGGAATTCCCAATGTCAGTGATTTTTTTTGTCGATATACTTCTCTTAAC\r\n",
      "ATCAAACTCCATGGCTCTTAAAGTGATGACTGAATCAACAATGACCAGATGCATAGCCGTATGCTTAATCGCGCACTTGA\r\n",
      "TTAGATTCTTGGTGGGTCAGATTTTTGAGCCGACAATATTTTTGATACAAATTGGATCTCTGTTGCAATATATGTCTTAT\r\n",
      "TTTTTCAGAATCGTATGA\r\n",
      ">AT1G01020.2 | Symbols: ARV1 |  | chr1:7315-8666 REVERSE LENGTH=576\r\n",
      "ATGGCGGCGAGTGAACACAGATGCGTGGGATGTGGTTTTAGGGTAAAGTCATTGTTCATTCAATACTCTCCGGGTAACAT\r\n",
      "TCGTCTCATGAAATGCGGAAATTGCAAGGAAGTAGCAGATGAGTACATCGAGTGTGAACGCATGATTATTTTCATCGATT\r\n",
      "TAATCCTTCACAGACCAAAGGTATATAGACACGTCCTCTACAATGCAATTAATCCAGCAACTGTCAATATTCAGCATCTG\r\n",
      "TTGTGGAAGTTGGTCTTCGCCTATCTTCTTCTAGACTGTTATAGAAGCTTGCTACTGAGAAAAAGTGATGAAGAATCGAG\r\n",
      "CTTTTCTGATAGCCCTGTTCTTCTATCTATAAAGGTTCTGATTGGTGTCTTATCTGCAAACGCTGCATTTATCATCTCTT\r\n",
      "TTGCCATTGCGACTAAGGGTTTGCTAAATGAAGTTTCCAGAAGAAGAGAGATTATGTTGGGGATATTCATCTCTAGTTAC\r\n",
      "TTCAAGATATTTCTGCTTGCGATGTTGGTATGTTGTAGCTTTACCTCTCACTTAATTCCTAATATTGAAGTTCCAAACTT\r\n",
      "CTTAAGCATTCCATAA\r\n",
      ">AT1G01020.3 | Symbols: ARV1 |  | chr1:6915-8442 REVERSE LENGTH=711\r\n",
      "ATGAGTACATCGAGTGTGAACGCATGGTCTGTTTTAATCACTTTCTTTCCCTTTTTGGGTGTTTCCCTATTTCTTTCCAA\r\n",
      "TTTTGGTTTTTGGTTCTTTAATTGTTTTCTTTGGCAGATTATTTTCATCGATTTAATCCTTCACAGACCAAAGGTATATA\r\n",
      "GACACGTCCTCTACAATGCAATTAATCCAGCAACTGTCAATATTCAGCATCTGTTGTGGAAGTTGGTCTTCGCCTATCTT\r\n",
      "CTTCTAGACTGTTATAGAAGCTTGCTACTGAGAAAAAGTGATGAAGAATCGAGCTTTTCTGATAGCCCTGTTCTTCTATC\r\n",
      "TATAAAGGTTCTGATTGGTGTCTTATCTGCAAACGCTGCATTTATCATCTCTTTTGCCATTGCGACTAAGGGTTTGCTAA\r\n",
      "ATGAAGTTTCCAGAAGAAGAGAGATTATGTTGGGGATATTCATCTCTAGTTACTTCAAGATATTTCTGCTTGCGATGTTG\r\n",
      "GTATGGGAATTCCCAATGTCAGTGATTTTTTTTGTCGATATACTTCTCTTAACATCAAACTCCATGGCTCTTAAAGTGAT\r\n",
      "GACTGAATCAACAATGACCAGATGCATAGCCGTATGCTTAATCGCGCACTTGATTAGATTCTTGGTGGGTCAGATTTTTG\r\n",
      "AGCCGACAATATTTTTGATACAAATTGGATCTCTGTTGCAATATATGTCTTATTTTTTCAGAATCGTATGA\r\n",
      ">AT1G01020.4 | Symbols: ARV1 |  | chr1:6915-8442 REVERSE LENGTH=711\r\n",
      "ATGAGTACATCGAGTGTGAACGCATGGTCTGTTTTAATCACTTTCTTTCCCTTTTTGGGTGTTTCCCTATTTCTTTCCAA\r\n"
     ]
    }
   ],
   "source": [
    "!head -n 50 Araport11_cds_20220914.fa"
   ]
  },
  {
   "cell_type": "markdown",
   "metadata": {},
   "source": [
    "To calculate how many coding sequences we have in the file:"
   ]
  },
  {
   "cell_type": "code",
   "execution_count": 59,
   "metadata": {},
   "outputs": [
    {
     "name": "stdout",
     "output_type": "stream",
     "text": [
      "48266\r\n"
     ]
    }
   ],
   "source": [
    "!cat Araport11_cds_20220914.fa | grep \"^>\" | wc -l"
   ]
  },
  {
   "cell_type": "markdown",
   "metadata": {},
   "source": [
    "__What is a FASTA file?__\n",
    "\n",
    "A FASTA file is a text file format used for representing nucleotide or protein sequences. It is named after the FASTA software package that was one of the first tools for aligning and comparing DNA sequences. \n",
    "\n",
    "A typical FASTA file consists of one or more sequences, each preceded by a header line that begins with a `>` character. The header line contains a description of the sequence, which can include the sequence name, gene name, organism, and other relevant information. \n",
    "\n",
    "The sequence itself follows the header line and consists of a series of letters representing the nucleotide or amino acids that make up the sequence. The letters can be in upper or lowercase and may include spaces, dashes, or other characters to represent gaps or other features of the sequence. \n",
    "\n",
    "FASTA files are widely used in bioinformatics for storing and sharing sequence data, and are compatible with many different software tools and databases."
   ]
  },
  {
   "cell_type": "markdown",
   "metadata": {},
   "source": [
    "### Load the sequence data into Python\n",
    "\n",
    "__Use the [SeqIO](https://biopython.org/wiki/SeqIO) module from Biopython to input and output sequences.__\n",
    "\n",
    "\n",
    "\n",
    "We will use this to store all CDS sequences into a list and to explore the sequence object a bit more."
   ]
  },
  {
   "cell_type": "code",
   "execution_count": 35,
   "metadata": {},
   "outputs": [],
   "source": [
    "from Bio import SeqIO"
   ]
  },
  {
   "cell_type": "code",
   "execution_count": 39,
   "metadata": {},
   "outputs": [],
   "source": [
    "filename = \"Araport11_cds_20220914.fa\"\n",
    "arabidopsis_cds = []\n",
    "\n",
    "for seq in SeqIO.parse(filename, 'fasta'):\n",
    "    arabidopsis_cds.append(seq)"
   ]
  },
  {
   "cell_type": "code",
   "execution_count": 60,
   "metadata": {},
   "outputs": [
    {
     "data": {
      "text/plain": [
       "[SeqRecord(seq=Seq('ATGGAGGATCAAGTTGGGTTTGGGTTCCGTCCGAACGACGAGGAGCTCGTTGGT...TAA'), id='AT1G01010.1', name='AT1G01010.1', description='AT1G01010.1 | Symbols: NAC001, NTL10, ANAC001 | NAC domain containing protein 1 | chr1:3760-5630 FORWARD LENGTH=1290', dbxrefs=[]),\n",
       " SeqRecord(seq=Seq('ATGGCGGCGAGTGAACACAGATGCGTGGGATGTGGTTTTAGGGTAAAGTCATTG...TGA'), id='AT1G01020.1', name='AT1G01020.1', description='AT1G01020.1 | Symbols: ARV1 |  | chr1:6915-8666 REVERSE LENGTH=738', dbxrefs=[]),\n",
       " SeqRecord(seq=Seq('ATGGCGGCGAGTGAACACAGATGCGTGGGATGTGGTTTTAGGGTAAAGTCATTG...TAA'), id='AT1G01020.2', name='AT1G01020.2', description='AT1G01020.2 | Symbols: ARV1 |  | chr1:7315-8666 REVERSE LENGTH=576', dbxrefs=[]),\n",
       " SeqRecord(seq=Seq('ATGAGTACATCGAGTGTGAACGCATGGTCTGTTTTAATCACTTTCTTTCCCTTT...TGA'), id='AT1G01020.3', name='AT1G01020.3', description='AT1G01020.3 | Symbols: ARV1 |  | chr1:6915-8442 REVERSE LENGTH=711', dbxrefs=[]),\n",
       " SeqRecord(seq=Seq('ATGAGTACATCGAGTGTGAACGCATGGTCTGTTTTAATCACTTTCTTTCCCTTT...TGA'), id='AT1G01020.4', name='AT1G01020.4', description='AT1G01020.4 | Symbols: ARV1 |  | chr1:6915-8442 REVERSE LENGTH=711', dbxrefs=[]),\n",
       " SeqRecord(seq=Seq('ATGATTATTTTCATCGATTTAATCCTTCACAGACCAAAGGTATATAGACACGTC...TGA'), id='AT1G01020.5', name='AT1G01020.5', description='AT1G01020.5 | Symbols: ARV1 |  | chr1:6915-8419 REVERSE LENGTH=597', dbxrefs=[]),\n",
       " SeqRecord(seq=Seq('ATGATTATTTTCATCGATTTAATCCTTCACAGACCAAAGGTATATAGACACGTC...TAA'), id='AT1G01020.6', name='AT1G01020.6', description='AT1G01020.6 | Symbols: ARV1 |  | chr1:7315-8419 REVERSE LENGTH=315', dbxrefs=[]),\n",
       " SeqRecord(seq=Seq('ATGGATCTATCCCTGGCTCCGACAACAACAACAAGTTCCGACCAAGAACAAGAC...TGA'), id='AT1G01030.1', name='AT1G01030.1', description='AT1G01030.1 | Symbols: NGA3 | NGATHA3 | chr1:11864-12940 REVERSE LENGTH=1077', dbxrefs=[]),\n",
       " SeqRecord(seq=Seq('ATGGATCTATCCCTGGCTCCGACAACAACAACAAGTTCCGACCAAGAACAAGAC...TGA'), id='AT1G01030.2', name='AT1G01030.2', description='AT1G01030.2 | Symbols: NGA3 | NGATHA3 | chr1:11864-12940 REVERSE LENGTH=1008', dbxrefs=[]),\n",
       " SeqRecord(seq=Seq('ATGGTAATGGAGGATGAGCCTAGAGAAGCCACAATAAAGCCTTCTTATTGGCTA...TGA'), id='AT1G01040.1', name='AT1G01040.1', description='AT1G01040.1 | Symbols: EMB76, SIN1, SUS1, ATDCL1, DCL1, ASU1, EMB60, CAF | ABNORMAL SUSPENSOR 1, EMBRYO DEFECTIVE 60, EMBRYO DEFECTIVE 76, SUSPENSOR 1, dicer-like 1, CARPEL FACTORY, DICER-LIKE 1, SHORT INTEGUMENTS 1 | chr1:23519-31079 FORWARD LENGTH=5730', dbxrefs=[]),\n",
       " SeqRecord(seq=Seq('ATGGTAATGGAGGATGAGCCTAGAGAAGCCACAATAAAGCCTTCTTATTGGCTA...TGA'), id='AT1G01040.2', name='AT1G01040.2', description='AT1G01040.2 | Symbols: EMB76, SIN1, SUS1, ATDCL1, DCL1, ASU1, EMB60, CAF | ABNORMAL SUSPENSOR 1, EMBRYO DEFECTIVE 60, EMBRYO DEFECTIVE 76, SUSPENSOR 1, dicer-like 1, CARPEL FACTORY, DICER-LIKE 1, SHORT INTEGUMENTS 1 | chr1:23519-31079 FORWARD LENGTH=5733', dbxrefs=[]),\n",
       " SeqRecord(seq=Seq('ATGAGTGAAGAAACTAAAGATAACCAGAGGCTGCAGCGACCAGCTCCTCGTCTT...TGA'), id='AT1G01050.1', name='AT1G01050.1', description='AT1G01050.1 | Symbols: AtPPa1, PPa1 | pyrophosphorylase 1 | chr1:31382-32670 REVERSE LENGTH=639', dbxrefs=[]),\n",
       " SeqRecord(seq=Seq('ATGAGTGAAGAAACTAAAGATAACCAGAGGCTGCAGCGACCAGCTCCTCGTCTT...TGA'), id='AT1G01050.2', name='AT1G01050.2', description='AT1G01050.2 | Symbols: AtPPa1, PPa1 | pyrophosphorylase 1 | chr1:31382-32670 REVERSE LENGTH=639', dbxrefs=[]),\n",
       " SeqRecord(seq=Seq('ATGGATACTAATACATCTGGAGAAGAATTATTAGCTAAGGCAAGAAAGCCATAT...TGA'), id='AT1G01060.1', name='AT1G01060.1', description='AT1G01060.1 | Symbols: LHY1, LHY | LATE ELONGATED HYPOCOTYL, LATE ELONGATED HYPOCOTYL 1 | chr1:33992-37061 REVERSE LENGTH=1938', dbxrefs=[]),\n",
       " SeqRecord(seq=Seq('ATGGATACTAATACATCTGGAGAAGAATTATTAGCTAAGGCAAGAAAGCCATAT...TGA'), id='AT1G01060.2', name='AT1G01060.2', description='AT1G01060.2 | Symbols: LHY1, LHY | LATE ELONGATED HYPOCOTYL, LATE ELONGATED HYPOCOTYL 1 | chr1:33992-37061 REVERSE LENGTH=1938', dbxrefs=[]),\n",
       " SeqRecord(seq=Seq('ATGGATACTAATACATCTGGAGAAGAATTATTAGCTAAGGCAAGAAAGCCATAT...TGA'), id='AT1G01060.3', name='AT1G01060.3', description='AT1G01060.3 | Symbols: LHY1, LHY | LATE ELONGATED HYPOCOTYL, LATE ELONGATED HYPOCOTYL 1 | chr1:33992-37061 REVERSE LENGTH=1938', dbxrefs=[]),\n",
       " SeqRecord(seq=Seq('ATGGATACTAATACATCTGGAGAAGAATTATTAGCTAAGGCAAGAAAGCCATAT...TGA'), id='AT1G01060.4', name='AT1G01060.4', description='AT1G01060.4 | Symbols: LHY1, LHY | LATE ELONGATED HYPOCOTYL, LATE ELONGATED HYPOCOTYL 1 | chr1:33992-37061 REVERSE LENGTH=1935', dbxrefs=[]),\n",
       " SeqRecord(seq=Seq('ATGGAAGAGCTTGGCAACGAATTGAAGAACATATTGGGACAAAGACTGCTGTTC...TGA'), id='AT1G01060.5', name='AT1G01060.5', description='AT1G01060.5 | Symbols: LHY1, LHY | LATE ELONGATED HYPOCOTYL, LATE ELONGATED HYPOCOTYL 1 | chr1:33992-36836 REVERSE LENGTH=1932', dbxrefs=[]),\n",
       " SeqRecord(seq=Seq('ATGGAAGAGCTTGGCAACGAATTGAAGAACATATTGGGACAAAGACTGCTGTTC...TGA'), id='AT1G01060.6', name='AT1G01060.6', description='AT1G01060.6 | Symbols: LHY1, LHY | LATE ELONGATED HYPOCOTYL, LATE ELONGATED HYPOCOTYL 1 | chr1:33992-36836 REVERSE LENGTH=1932', dbxrefs=[]),\n",
       " SeqRecord(seq=Seq('ATGGATACTAATACATCTGGAGAAGAATTATTAGCTAAGGCAAGAAAGCCATAT...TGA'), id='AT1G01060.7', name='AT1G01060.7', description='AT1G01060.7 | Symbols: LHY1, LHY | LATE ELONGATED HYPOCOTYL, LATE ELONGATED HYPOCOTYL 1 | chr1:33992-37061 REVERSE LENGTH=1938', dbxrefs=[]),\n",
       " SeqRecord(seq=Seq('ATGGATACTAATACATCTGGAGAAGAATTATTAGCTAAGGCAAGAAAGCCATAT...TGA'), id='AT1G01060.8', name='AT1G01060.8', description='AT1G01060.8 | Symbols: LHY1, LHY | LATE ELONGATED HYPOCOTYL, LATE ELONGATED HYPOCOTYL 1 | chr1:33992-37061 REVERSE LENGTH=1938', dbxrefs=[]),\n",
       " SeqRecord(seq=Seq('ATGGCTGGAGATATGCAAGGAGTGAGAGTAGTAGAAAAATATTCACCGGTCATA...TAA'), id='AT1G01070.1', name='AT1G01070.1', description='AT1G01070.1 | Symbols: UMAMIT28 | Usually multiple acids move in and out Transporters 28 | chr1:38898-40877 REVERSE LENGTH=1098', dbxrefs=[]),\n",
       " SeqRecord(seq=Seq('ATGTTAATATATATGTATAATTTTAATGAATTTTCTAAAGAATTTCTATTGTTG...TAA'), id='AT1G01070.2', name='AT1G01070.2', description='AT1G01070.2 | Symbols: UMAMIT28 | Usually multiple acids move in and out Transporters 28 | chr1:38898-40597 REVERSE LENGTH=957', dbxrefs=[]),\n",
       " SeqRecord(seq=Seq('ATGGCGGCCTCCTGCTTCGCAATTCCCTTATCTTCTTCTTCTCGATCGTCTCAC...TAA'), id='AT1G01080.1', name='AT1G01080.1', description='AT1G01080.1 | Symbols: no symbol available | no full name available | chr1:45503-46789 REVERSE LENGTH=882', dbxrefs=[]),\n",
       " SeqRecord(seq=Seq('ATGGCGGCCTCCTGCTTCGCAATTCCCTTATCTTCTTCTTCTCGATCGTCTCAC...TAA'), id='AT1G01080.2', name='AT1G01080.2', description='AT1G01080.2 | Symbols: no symbol available | no full name available | chr1:45503-46789 REVERSE LENGTH=885', dbxrefs=[]),\n",
       " SeqRecord(seq=Seq('ATGGCGGCCTCCTGCTTCGCAATTCCCTTATCTTCTTCTTCTCGATCGTCTCAC...TGA'), id='AT1G01080.3', name='AT1G01080.3', description='AT1G01080.3 | Symbols: no symbol available | no full name available | chr1:45610-46789 REVERSE LENGTH=861', dbxrefs=[]),\n",
       " SeqRecord(seq=Seq('ATGGCGACGGCTTTCGCTCCCACTAAGCTCACTGCCACGGTTCCTCTGCATGGA...TGA'), id='AT1G01090.1', name='AT1G01090.1', description='AT1G01090.1 | Symbols: PDH-E1 ALPHA | pyruvate dehydrogenase E1 alpha | chr1:47705-49166 REVERSE LENGTH=1287', dbxrefs=[]),\n",
       " SeqRecord(seq=Seq('ATGTCGACAGTTGGAGAGCTTGCTTGCAGCTACGCTGTTATGATCCTCGAGGAC...TAA'), id='AT1G01100.1', name='AT1G01100.1', description='AT1G01100.1 | Symbols: RPP1A, RPP1.1 | 60S acidic ribosomal protein P1-1, RPP1 co-orthologous gene 1 | chr1:50284-50954 REVERSE LENGTH=339', dbxrefs=[]),\n",
       " SeqRecord(seq=Seq('ATGTCGACAGTTGGAGAGCTTGCTTGCAGCTACGCTGTTATGATCCTCGAGGAC...TAA'), id='AT1G01100.2', name='AT1G01100.2', description='AT1G01100.2 | Symbols: RPP1A, RPP1.1 | 60S acidic ribosomal protein P1-1, RPP1 co-orthologous gene 1 | chr1:50284-50954 REVERSE LENGTH=339', dbxrefs=[]),\n",
       " SeqRecord(seq=Seq('ATGTCGACAGTTGGAGAGCTTGCTTGCAGCTACGCTGTTATGATCCTCGAGGAC...TAA'), id='AT1G01100.3', name='AT1G01100.3', description='AT1G01100.3 | Symbols: RPP1A, RPP1.1 | 60S acidic ribosomal protein P1-1, RPP1 co-orthologous gene 1 | chr1:50284-50954 REVERSE LENGTH=291', dbxrefs=[]),\n",
       " SeqRecord(seq=Seq('ATGTCGACAGTTGGAGAGCTTGCTTGCAGCTACGCTGTTATGATCCTCGAGGAC...TAA'), id='AT1G01100.4', name='AT1G01100.4', description='AT1G01100.4 | Symbols: RPP1A, RPP1.1 | 60S acidic ribosomal protein P1-1, RPP1 co-orthologous gene 1 | chr1:50284-50954 REVERSE LENGTH=339', dbxrefs=[]),\n",
       " SeqRecord(seq=Seq('ATGACATTAAGGTGTATGCAAGCTCTGGTTCGAGTCCAGTCTCGTGTGCTTGAC...TGA'), id='AT1G01110.1', name='AT1G01110.1', description='AT1G01110.1 | Symbols: IQD18 | IQ-domain 18 | chr1:53022-54494 FORWARD LENGTH=1095', dbxrefs=[]),\n",
       " SeqRecord(seq=Seq('ATGGGGAAAAAGAACGGCTCTTCTTCTTGGCTCACCGCTGTAAAGCGAGCTTTC...TGA'), id='AT1G01110.2', name='AT1G01110.2', description='AT1G01110.2 | Symbols: IQD18 | IQ-domain 18 | chr1:52239-54494 FORWARD LENGTH=1584', dbxrefs=[]),\n",
       " SeqRecord(seq=Seq('ATGGAGAGAACAAACAGCATTGAGATGGATCGAGAGAGATTAACGGCGGAGATG...TGA'), id='AT1G01120.1', name='AT1G01120.1', description='AT1G01120.1 | Symbols: KCS1 | 3-ketoacyl-CoA synthase 1 | chr1:57392-58978 REVERSE LENGTH=1587', dbxrefs=[]),\n",
       " SeqRecord(seq=Seq('ATGGAGAAACGTTCAGATTCAGAGAGTGTAGAGATTTTGGGTGATTGGGATTCA...TGA'), id='AT1G01130.1', name='AT1G01130.1', description='AT1G01130.1 | Symbols: no symbol available | no full name available | chr1:61905-63811 REVERSE LENGTH=375', dbxrefs=[]),\n",
       " SeqRecord(seq=Seq('ATGAGTGGAAGCAGAAGGAAGGCGACGCCGGCGAGTAGGACGCGAGTAGGGAAT...TAA'), id='AT1G01140.1', name='AT1G01140.1', description='AT1G01140.1 | Symbols: SnRK3.12, PKS6, CIPK9 | SNF1-RELATED PROTEIN KINASE 3.12, CBL-interacting protein kinase 9, PROTEIN KINASE 6 | chr1:64398-67512 REVERSE LENGTH=1344', dbxrefs=[]),\n",
       " SeqRecord(seq=Seq('ATGAGTGGAAGCAGAAGGAAGGCGACGCCGGCGAGTAGGACGCGAGTAGGGAAT...TAA'), id='AT1G01140.2', name='AT1G01140.2', description='AT1G01140.2 | Symbols: SnRK3.12, PKS6, CIPK9 | SNF1-RELATED PROTEIN KINASE 3.12, CBL-interacting protein kinase 9, PROTEIN KINASE 6 | chr1:64398-67512 REVERSE LENGTH=1350', dbxrefs=[]),\n",
       " SeqRecord(seq=Seq('ATGAGTGGAAGCAGAAGGAAGGCGACGCCGGCGAGTAGGACGCGAGTAGGGAAT...TAA'), id='AT1G01140.3', name='AT1G01140.3', description='AT1G01140.3 | Symbols: SnRK3.12, PKS6, CIPK9 | SNF1-RELATED PROTEIN KINASE 3.12, CBL-interacting protein kinase 9, PROTEIN KINASE 6 | chr1:64398-67512 REVERSE LENGTH=1356', dbxrefs=[]),\n",
       " SeqRecord(seq=Seq('ATGGTGAGTGATCTCCCGCTTGATGAAGATGATATCGCTCTCCTCAAGAGTCCT...TAG'), id='AT1G01150.1', name='AT1G01150.1', description='AT1G01150.1 | Symbols: no symbol available | no full name available | chr1:70115-71998 REVERSE LENGTH=1038', dbxrefs=[]),\n",
       " SeqRecord(seq=Seq('ATGGTGAGTGATCTCCCGCTTGATGAAGATGATATCGCTCTCCTCAAGAGTCCT...TAG'), id='AT1G01150.2', name='AT1G01150.2', description='AT1G01150.2 | Symbols: no symbol available | no full name available | chr1:70115-71998 REVERSE LENGTH=930', dbxrefs=[]),\n",
       " SeqRecord(seq=Seq('ATGGTGAGTGATCTCCCGCTTGATGAAGATGATATCGCTCTCCTCAAGAGTCCT...TGA'), id='AT1G01150.3', name='AT1G01150.3', description='AT1G01150.3 | Symbols: no symbol available | no full name available | chr1:70828-71998 REVERSE LENGTH=879', dbxrefs=[]),\n",
       " SeqRecord(seq=Seq('ATGCAGCAGCAGCAGTCTCCGCAAATGTTTCCGATGGTTCCGTCGATTCCCCCT...TGA'), id='AT1G01160.1', name='AT1G01160.1', description='AT1G01160.1 | Symbols: GIF2 | GRF1-interacting factor 2 | chr1:72583-73883 FORWARD LENGTH=588', dbxrefs=[]),\n",
       " SeqRecord(seq=Seq('ATGCAGCAGCAGCAGTCTCCGCAAATGTTTCCGATGGTTCCGTCGATTCCCCCT...TGA'), id='AT1G01160.2', name='AT1G01160.2', description='AT1G01160.2 | Symbols: GIF2 | GRF1-interacting factor 2 | chr1:72583-73883 FORWARD LENGTH=690', dbxrefs=[]),\n",
       " SeqRecord(seq=Seq('ATGGCATCAGGAGGTAAAGCCAAGTACATAATCGGTGCTCTCATCGGTTCTTTC...TGA'), id='AT1G01170.1', name='AT1G01170.1', description='AT1G01170.1 | Symbols: no symbol available | no full name available | chr1:74105-74443 REVERSE LENGTH=252', dbxrefs=[]),\n",
       " SeqRecord(seq=Seq('ATGGCATCAGGAGGTAAAGCCAAGTACATAATCGGTGCTCTCATCGGTTCTTTC...TGA'), id='AT1G01170.2', name='AT1G01170.2', description='AT1G01170.2 | Symbols: no symbol available | no full name available | chr1:74105-74443 REVERSE LENGTH=252', dbxrefs=[]),\n",
       " SeqRecord(seq=Seq('ATGAAGGAGGATCGTCGTCTTCCTCACAAACGCGACGCCTTCCAATTCTTGAAA...TGA'), id='AT1G01180.1', name='AT1G01180.1', description='AT1G01180.1 | Symbols: no symbol available | no full name available | chr1:75633-76556 FORWARD LENGTH=924', dbxrefs=[]),\n",
       " SeqRecord(seq=Seq('ATGAGAACCGAAATAGAAAGTTTGTGGGTATTTGCTCTTGCATCAAAATTCAAT...TAA'), id='AT1G01190.1', name='AT1G01190.1', description='AT1G01190.1 | Symbols: CYP78A8 | \"cytochrome P450, family 78, subfamily A, polypeptide 8\" | chr1:83045-84864 REVERSE LENGTH=1608', dbxrefs=[]),\n",
       " SeqRecord(seq=Seq('ATGTTCTCTTTGAACATGAGAACCGAAATAGAAAGTTTGTGGGTATTTGCTCTT...TAA'), id='AT1G01190.2', name='AT1G01190.2', description='AT1G01190.2 | Symbols: CYP78A8 | \"cytochrome P450, family 78, subfamily A, polypeptide 8\" | chr1:83045-84879 REVERSE LENGTH=1623', dbxrefs=[]),\n",
       " SeqRecord(seq=Seq('ATGAACGAAGAGATGAGCGGTGAGTCGCCGGAGAATAACAAACACGTAAAGAAA...TGA'), id='AT1G01200.1', name='AT1G01200.1', description='AT1G01200.1 | Symbols: RABA3, ATRABA3, ATRAB-A3 | ARABIDOPSIS RAB GTPASE HOMOLOG A3, RAB GTPase homolog A3 | chr1:86715-88145 REVERSE LENGTH=714', dbxrefs=[]),\n",
       " SeqRecord(seq=Seq('ATGGAGTTTTGTCCAACATGTGGGAATCTGTTGCGATACGAGGGAGGTGGCAAT...TGA'), id='AT1G01210.1', name='AT1G01210.1', description='AT1G01210.1 | Symbols: no symbol available | no full name available | chr1:88977-89529 FORWARD LENGTH=321', dbxrefs=[]),\n",
       " SeqRecord(seq=Seq('ATGGAGTTTTGTCCAACATGTGGGAATCTGTTGCGATACGAGGGAGGTGGCAAT...TGA'), id='AT1G01210.2', name='AT1G01210.2', description='AT1G01210.2 | Symbols: no symbol available | no full name available | chr1:88977-89529 FORWARD LENGTH=321', dbxrefs=[]),\n",
       " SeqRecord(seq=Seq('ATGGAGTTTTGTCCAACATGTGGGAATCTGTTGCGATACGAGGGAGGTGGCAAT...TGA'), id='AT1G01210.3', name='AT1G01210.3', description='AT1G01210.3 | Symbols: no symbol available | no full name available | chr1:88977-89529 FORWARD LENGTH=321', dbxrefs=[]),\n",
       " SeqRecord(seq=Seq('ATGTCTAAGCAGAGGAAGAAAGCTGACTTAGCCACCGTTTTGCGCAAGTCATGG...TGA'), id='AT1G01220.1', name='AT1G01220.1', description='AT1G01220.1 | Symbols: FKGP, AtFKGP | Arabidopsis thaliana L-fucokinase/GDP-L-fucose pyrophosphorylase, L-fucokinase/GDP-L-fucose pyrophosphorylase | chr1:91750-95552 FORWARD LENGTH=3168', dbxrefs=[]),\n",
       " SeqRecord(seq=Seq('ATGACTGGAGACGTCCTTCCTTGTTTTGATGCTTTTAAAATGACTCTCCCTGAA...TGA'), id='AT1G01220.2', name='AT1G01220.2', description='AT1G01220.2 | Symbols: FKGP, AtFKGP | Arabidopsis thaliana L-fucokinase/GDP-L-fucose pyrophosphorylase, L-fucokinase/GDP-L-fucose pyrophosphorylase | chr1:92583-95552 FORWARD LENGTH=2601', dbxrefs=[]),\n",
       " SeqRecord(seq=Seq('ATGTTGTATGTTAATAATCAACAGATGGAAGTTGCGAATGGTGCTTGCAAATGG...TGA'), id='AT1G01220.3', name='AT1G01220.3', description='AT1G01220.3 | Symbols: FKGP, AtFKGP | Arabidopsis thaliana L-fucokinase/GDP-L-fucose pyrophosphorylase, L-fucokinase/GDP-L-fucose pyrophosphorylase | chr1:92246-95552 FORWARD LENGTH=2871', dbxrefs=[]),\n",
       " SeqRecord(seq=Seq('ATGGAAGTTGCGAATGGTGCTTGCAAATGGGTTAGATTCATCTCTGCAAAGCAT...TGA'), id='AT1G01220.4', name='AT1G01220.4', description='AT1G01220.4 | Symbols: FKGP, AtFKGP | Arabidopsis thaliana L-fucokinase/GDP-L-fucose pyrophosphorylase, L-fucokinase/GDP-L-fucose pyrophosphorylase | chr1:92270-95552 FORWARD LENGTH=2847', dbxrefs=[]),\n",
       " SeqRecord(seq=Seq('ATGACTGGAGACGTCCTTCCTTGTTTTGATGCTTTTAAAATGACTCTCCCTGAA...TGA'), id='AT1G01220.5', name='AT1G01220.5', description='AT1G01220.5 | Symbols: FKGP, AtFKGP | Arabidopsis thaliana L-fucokinase/GDP-L-fucose pyrophosphorylase, L-fucokinase/GDP-L-fucose pyrophosphorylase | chr1:92583-95552 FORWARD LENGTH=2601', dbxrefs=[]),\n",
       " SeqRecord(seq=Seq('ATGACTGGAGACGTCCTTCCTTGTTTTGATGCTTTTAAAATGACTCTCCCTGAA...TGA'), id='AT1G01220.6', name='AT1G01220.6', description='AT1G01220.6 | Symbols: FKGP, AtFKGP | Arabidopsis thaliana L-fucokinase/GDP-L-fucose pyrophosphorylase, L-fucokinase/GDP-L-fucose pyrophosphorylase | chr1:92583-95552 FORWARD LENGTH=2601', dbxrefs=[]),\n",
       " SeqRecord(seq=Seq('ATGTCTAAGCAGAGGAAGAAAGCTGACTTAGCCACCGTTTTGCGCAAGTCATGG...TGA'), id='AT1G01220.7', name='AT1G01220.7', description='AT1G01220.7 | Symbols: FKGP, AtFKGP | Arabidopsis thaliana L-fucokinase/GDP-L-fucose pyrophosphorylase, L-fucokinase/GDP-L-fucose pyrophosphorylase | chr1:91750-95552 FORWARD LENGTH=3168', dbxrefs=[]),\n",
       " SeqRecord(seq=Seq('ATGTTGTATGTTAATAATCAACAGATGGAAGTTGCGAATGGTGCTTGCAAATGG...TGA'), id='AT1G01220.8', name='AT1G01220.8', description='AT1G01220.8 | Symbols: FKGP, AtFKGP | Arabidopsis thaliana L-fucokinase/GDP-L-fucose pyrophosphorylase, L-fucokinase/GDP-L-fucose pyrophosphorylase | chr1:92246-95552 FORWARD LENGTH=2871', dbxrefs=[]),\n",
       " SeqRecord(seq=Seq('ATGGGTTTGCTTACGAACAAGATTGAGAGAGAAGAGCTAAAGCCAGGAGATCAC...TGA'), id='AT1G01225.1', name='AT1G01225.1', description='AT1G01225.1 | Symbols: no symbol available | no full name available | chr1:96064-97242 FORWARD LENGTH=783', dbxrefs=[]),\n",
       " SeqRecord(seq=Seq('ATGGCGAATCTGTATGTGAAAGCGGTTCCACCACCGGATATGAATAGGAATACG...TAA'), id='AT1G01230.1', name='AT1G01230.1', description='AT1G01230.1 | Symbols: AtORM1, ORM1 | Orosomucoid-like 1 | chr1:97620-99046 FORWARD LENGTH=474', dbxrefs=[]),\n",
       " SeqRecord(seq=Seq('ATGGGAGCAGCTGAAGCAAGAGCATTGTGGCAAAGAACAGCTAGTCGTTGCTTT...TAG'), id='AT1G01240.1', name='AT1G01240.1', description='AT1G01240.1 | Symbols: no symbol available | no full name available | chr1:100683-101678 FORWARD LENGTH=996', dbxrefs=[]),\n",
       " SeqRecord(seq=Seq('ATGGGAGCAGCTGAAGCAAGAGCATTGTGGCAAAGAACAGCTAGTCGTTGCTTT...TAG'), id='AT1G01240.2', name='AT1G01240.2', description='AT1G01240.2 | Symbols: no symbol available | no full name available | chr1:100683-101678 FORWARD LENGTH=996', dbxrefs=[]),\n",
       " SeqRecord(seq=Seq('ATGGGAGCAGCTGAAGCAAGAGCATTGTGGCAAAGAACAGCTAGTCGTTGCTTT...TAG'), id='AT1G01240.3', name='AT1G01240.3', description='AT1G01240.3 | Symbols: no symbol available | no full name available | chr1:100683-101678 FORWARD LENGTH=996', dbxrefs=[]),\n",
       " SeqRecord(seq=Seq('ATGGGAGCAGCTGAAGCAAGAGCATTGTGGCAAAGAACAGCTAGTCGTTGCTTT...TAG'), id='AT1G01240.4', name='AT1G01240.4', description='AT1G01240.4 | Symbols: no symbol available | no full name available | chr1:100683-101678 FORWARD LENGTH=996', dbxrefs=[]),\n",
       " SeqRecord(seq=Seq('ATGGGAGCAGCTGAAGCAAGAGCATTGTGGCAAAGAACAGCTAGTCGTTGCTTT...TAG'), id='AT1G01240.5', name='AT1G01240.5', description='AT1G01240.5 | Symbols: no symbol available | no full name available | chr1:100683-101678 FORWARD LENGTH=996', dbxrefs=[]),\n",
       " SeqRecord(seq=Seq('ATGTCACCACAGAGAATGAAGCTATCATCACCACCAGTTACCAACAACGAACCA...TGA'), id='AT1G01250.1', name='AT1G01250.1', description='AT1G01250.1 | Symbols: no symbol available | no full name available | chr1:104731-105309 REVERSE LENGTH=579', dbxrefs=[]),\n",
       " SeqRecord(seq=Seq('ATGAATATTGGTCGCCTAGTGTGGAACGAGGACGATAAAGCGATTGTTGCGTCA...TAG'), id='AT1G01260.1', name='AT1G01260.1', description='AT1G01260.1 | Symbols: bHLH13, bHLH013, JAM2 | Jasmonate Associated MYC2 LIKE 2 | chr1:109595-111367 FORWARD LENGTH=1773', dbxrefs=[]),\n",
       " SeqRecord(seq=Seq('ATGAATATTGGTCGCCTAGTGTGGAACGAGGACGATAAAGCGATTGTTGCGTCA...TAG'), id='AT1G01260.2', name='AT1G01260.2', description='AT1G01260.2 | Symbols: bHLH13, bHLH013, JAM2 | Jasmonate Associated MYC2 LIKE 2 | chr1:109595-111367 FORWARD LENGTH=1773', dbxrefs=[]),\n",
       " SeqRecord(seq=Seq('ATGAATATTGGTCGCCTAGTGTGGAACGAGGACGATAAAGCGATTGTTGCGTCA...TAG'), id='AT1G01260.3', name='AT1G01260.3', description='AT1G01260.3 | Symbols: bHLH13, bHLH013, JAM2 | Jasmonate Associated MYC2 LIKE 2 | chr1:109595-111367 FORWARD LENGTH=1773', dbxrefs=[]),\n",
       " SeqRecord(seq=Seq('ATGATTTTGGTGCTAGCCTCCCTCTTCGCTGTTCTCATTCTTAATGTTCTTCTA...TAA'), id='AT1G01280.1', name='AT1G01280.1', description='AT1G01280.1 | Symbols: CYP703, CYP703A2 | \"cytochrome P450, family 703, subfamily A, polypeptide 2\" | chr1:112290-113905 FORWARD LENGTH=1533', dbxrefs=[]),\n",
       " SeqRecord(seq=Seq('ATGATTTCGACGCTCCGTCGCGCCGTGTTTCTCCGTCGATTTCCGGCGGTGGTT...TAG'), id='AT1G01290.1', name='AT1G01290.1', description='AT1G01290.1 | Symbols: CNX3 | cofactor of nitrate reductase and xanthine dehydrogenase 3 | chr1:114299-115296 FORWARD LENGTH=813', dbxrefs=[]),\n",
       " SeqRecord(seq=Seq('ATGATTTCGACGCTCCGTCGCGCCGTGTTTCTCCGTCGATTTCCGGCGGTGGTT...TAG'), id='AT1G01290.2', name='AT1G01290.2', description='AT1G01290.2 | Symbols: CNX3 | cofactor of nitrate reductase and xanthine dehydrogenase 3 | chr1:114299-115296 FORWARD LENGTH=813', dbxrefs=[]),\n",
       " SeqRecord(seq=Seq('ATGGTAGGAAGAAGAAAAGCTTTACTCTTTTCTCTCTGTTTCTTCTTCCTCTCT...TAA'), id='AT1G01300.1', name='AT1G01300.1', description='AT1G01300.1 | Symbols: no symbol available | no full name available | chr1:117065-118522 FORWARD LENGTH=1458', dbxrefs=[]),\n",
       " SeqRecord(seq=Seq('ATGGGAAAGCCAAGAAGCGTGTCTCCGACCATCTTCCTCCTAGTCATCCTCTTG...TAA'), id='AT1G01305.1', name='AT1G01305.1', description='AT1G01305.1 | Symbols: no symbol available | no full name available | chr1:119429-119854 FORWARD LENGTH=426', dbxrefs=[]),\n",
       " SeqRecord(seq=Seq('ATGGAGCTTCGTAAACGGAAAATACGAGCTCCATTACATATCTTCGTCGGCATA...TGA'), id='AT1G01310.1', name='AT1G01310.1', description='AT1G01310.1 | Symbols: no symbol available | no full name available | chr1:120221-120946 FORWARD LENGTH=726', dbxrefs=[]),\n",
       " SeqRecord(seq=Seq('ATGGCTCCCAAGAACAACCGTGGAAAGACAAAAGGAGATAAGAAGAAGAAGGAA...TGA'), id='AT1G01320.1', name='AT1G01320.1', description='AT1G01320.1 | Symbols: REC1, FLL2 | FLOURY ENDOSPERM LIKE 2, REDUCED CHLOROPLAST COVERAGE | chr1:121582-130099 REVERSE LENGTH=5394', dbxrefs=[]),\n",
       " SeqRecord(seq=Seq('ATGGCTCCCAAGAACAACCGTGGAAAGACAAAAGGAGATAAGAAGAAGAAGGAA...TGA'), id='AT1G01320.2', name='AT1G01320.2', description='AT1G01320.2 | Symbols: REC1, FLL2 | FLOURY ENDOSPERM LIKE 2, REDUCED CHLOROPLAST COVERAGE | chr1:121582-130099 REVERSE LENGTH=5364', dbxrefs=[]),\n",
       " SeqRecord(seq=Seq('ATGGCTCCCAAGAACAACCGTGGAAAGACAAAAGGAGATAAGAAGAAGAAGGAA...TGA'), id='AT1G01320.3', name='AT1G01320.3', description='AT1G01320.3 | Symbols: REC1, FLL2 | FLOURY ENDOSPERM LIKE 2, REDUCED CHLOROPLAST COVERAGE | chr1:121582-130099 REVERSE LENGTH=5370', dbxrefs=[]),\n",
       " SeqRecord(seq=Seq('ATGGGCCTAAGTGATTGTCTTATTTATAGGCTTGTTGTTCGCTGCTTTTTGGAT...TAA'), id='AT1G01335.1', name='AT1G01335.1', description='AT1G01335.1 | Symbols: AREP1 | auxin-responsive endogenous polypeptide 1 | chr1:130736-130858 FORWARD LENGTH=123', dbxrefs=[]),\n",
       " SeqRecord(seq=Seq('ATGATTTTGTTTAGGTTCAAAGATGAAGGCAAACCATTATCCTCTGAATATGGT...TAG'), id='AT1G01340.1', name='AT1G01340.1', description='AT1G01340.1 | Symbols: ACBK1, CNGC10, ATCNGC10 | cyclic nucleotide gated channel 10 | chr1:132414-135118 REVERSE LENGTH=2121', dbxrefs=[]),\n",
       " SeqRecord(seq=Seq('ATGGCATTTAGCCATGATAATCGTGTAAGGTTCAAAGATGAAGGCAAACCATTA...TAG'), id='AT1G01340.2', name='AT1G01340.2', description='AT1G01340.2 | Symbols: ACBK1, CNGC10, ATCNGC10 | cyclic nucleotide gated channel 10 | chr1:132414-135216 REVERSE LENGTH=2136', dbxrefs=[]),\n",
       " SeqRecord(seq=Seq('ATGTCAGATTCTGGTGAGCCTAAACCTTCTCAGCAAGAAGAACCTCTACCTCAA...TGA'), id='AT1G01350.1', name='AT1G01350.1', description='AT1G01350.1 | Symbols: no symbol available | no full name available | chr1:136732-137970 FORWARD LENGTH=1032', dbxrefs=[]),\n",
       " SeqRecord(seq=Seq('ATGAGGAAGGCGAAGGCTGTGGCCTGTGGGTGTCCGGTTCCGGCTGACGTTGAT...TAG'), id='AT1G01355.1', name='AT1G01355.1', description='AT1G01355.1 | Symbols: no symbol available | no full name available | chr1:138513-139568 FORWARD LENGTH=687', dbxrefs=[]),\n",
       " SeqRecord(seq=Seq('ATGACTTCCTCAGACAAGTCCATTCCTCTGGAATCGCTCTTCATCACGTTCCCA...TAG'), id='AT1G01355.2', name='AT1G01355.2', description='AT1G01355.2 | Symbols: no symbol available | no full name available | chr1:138722-139568 FORWARD LENGTH=447', dbxrefs=[]),\n",
       " SeqRecord(seq=Seq('ATGAGGAAGGCGAAGGCTGTGGCCTGTGGGTGTCCGGTTCCGGCTGACGTTGAT...TAG'), id='AT1G01355.3', name='AT1G01355.3', description='AT1G01355.3 | Symbols: no symbol available | no full name available | chr1:138513-139568 FORWARD LENGTH=675', dbxrefs=[]),\n",
       " SeqRecord(seq=Seq('ATGATGGACGGCGTTGAAGGCGGCACGGCGATGTACGGTGGTCTCGAGACGGTG...TGA'), id='AT1G01360.1', name='AT1G01360.1', description='AT1G01360.1 | Symbols: PYL9, RCAR1 | regulatory component of ABA receptor 1, PYRABACTIN RESISTANCE 1-LIKE 9 | chr1:142138-142914 FORWARD LENGTH=564', dbxrefs=[]),\n",
       " SeqRecord(seq=Seq('ATGGCGAGAACCAAGCATCGCGTTACCAGGTCACAACCTCGGAATCAAACTGAT...TGA'), id='AT1G01370.1', name='AT1G01370.1', description='AT1G01370.1 | Symbols: CENH3, HTR12 | CENTROMERIC HISTONE H3 | chr1:143773-145400 FORWARD LENGTH=537', dbxrefs=[]),\n",
       " SeqRecord(seq=Seq('ATGGCGAGAACCAAGCATCGCGTTACCAGGTCACAACCTCGGAATCAAACTGAT...TGA'), id='AT1G01370.2', name='AT1G01370.2', description='AT1G01370.2 | Symbols: CENH3, HTR12 | CENTROMERIC HISTONE H3 | chr1:143773-145400 FORWARD LENGTH=537', dbxrefs=[]),\n",
       " SeqRecord(seq=Seq('ATGGCGAGAACCAAGCATCGCGTTACCAGGTCACAACCTCGGAATCAAACTGAT...TGA'), id='AT1G01370.3', name='AT1G01370.3', description='AT1G01370.3 | Symbols: CENH3, HTR12 | CENTROMERIC HISTONE H3 | chr1:143773-145400 FORWARD LENGTH=537', dbxrefs=[]),\n",
       " SeqRecord(seq=Seq('ATGGCGAGAACCAAGCATCGCGTTACCAGGTCACAACCTCGGAATCAAACTGAT...TGA'), id='AT1G01370.4', name='AT1G01370.4', description='AT1G01370.4 | Symbols: CENH3, HTR12 | CENTROMERIC HISTONE H3 | chr1:143773-145400 FORWARD LENGTH=537', dbxrefs=[]),\n",
       " SeqRecord(seq=Seq('ATGAATACGCAGCGTAAGTCGAAGCATCTTAAGACCAATCCAACCATTGTTGCC...TGA'), id='AT1G01380.1', name='AT1G01380.1', description='AT1G01380.1 | Symbols: ETC1 | ENHANCER OF TRY AND CPC 1 | chr1:147267-147740 FORWARD LENGTH=252', dbxrefs=[]),\n",
       " SeqRecord(seq=Seq('ATGAATACGCAGCGTAAGTCGAAGCATCTTAAGACCAATCCAACCATTGTTGCC...TAA'), id='AT1G01380.2', name='AT1G01380.2', description='AT1G01380.2 | Symbols: ETC1 | ENHANCER OF TRY AND CPC 1 | chr1:147267-147567 FORWARD LENGTH=183', dbxrefs=[]),\n",
       " SeqRecord(seq=Seq('ATGAATACGCAGCGTAAGTCGAAGCATCTTAAGACCAATCCAACCATTGTTGCC...TGA'), id='AT1G01380.3', name='AT1G01380.3', description='AT1G01380.3 | Symbols: ETC1 | ENHANCER OF TRY AND CPC 1 | chr1:147267-147694 FORWARD LENGTH=195', dbxrefs=[]),\n",
       " SeqRecord(seq=Seq('ATGGCGGAAGCAAACACTCCACACATAGCAATCATGCCGAGTCCCGGTATGGGT...TAA'), id='AT1G01390.1', name='AT1G01390.1', description='AT1G01390.1 | Symbols: no symbol available | no full name available | chr1:148319-149761 REVERSE LENGTH=1443', dbxrefs=[]),\n",
       " SeqRecord(seq=Seq('ATGAGCATAGATATTTTTCAAGAAATAAGAATAAAGAAAATTCTACTCTTAATG...TAA'), id='AT1G01390.2', name='AT1G01390.2', description='AT1G01390.2 | Symbols: no symbol available | no full name available | chr1:148319-149812 REVERSE LENGTH=1494', dbxrefs=[]),\n",
       " SeqRecord(seq=Seq('ATGGAGAGAGAGGAGCCAATTGCGAGGAACGAGGTGGATCACGAAACGCCAACG...TGA'), id='AT1G01400.1', name='AT1G01400.1', description='AT1G01400.1 | Symbols: no symbol available | no full name available | chr1:151158-152149 REVERSE LENGTH=615', dbxrefs=[]),\n",
       " SeqRecord(seq=Seq('ATGACTCATGAACGCGGCTATGATTTGGCGTCACAAGTACTAAACATTTGCAAC...TAG'), id='AT1G01410.1', name='AT1G01410.1', description='AT1G01410.1 | Symbols: PUM22, APUM22 | pumilio 22 | chr1:153113-154198 FORWARD LENGTH=1086', dbxrefs=[]),\n",
       " SeqRecord(seq=Seq('ATGGCAGATGGAAACACTCCACATGTAGCAATCATACCAAGTCCCGGTATAGGT...TGA'), id='AT1G01420.1', name='AT1G01420.1', description='AT1G01420.1 | Symbols: UGT72B3 | UDP-glucosyl transferase 72B3 | chr1:154566-156011 REVERSE LENGTH=1446', dbxrefs=[]),\n",
       " SeqRecord(seq=Seq('ATGCAAAAAATGGCAGATGGAAACACTCCACATGTAGCAATCATACCAAGTCCC...TGA'), id='AT1G01420.2', name='AT1G01420.2', description='AT1G01420.2 | Symbols: UGT72B3 | UDP-glucosyl transferase 72B3 | chr1:154566-156020 REVERSE LENGTH=1455', dbxrefs=[]),\n",
       " SeqRecord(seq=Seq('ATGGATTCATTGAGATTAATATCTAAGAGCATCAAGATTGAAGGAACCCCATTT...TAG'), id='AT1G01430.1', name='AT1G01430.1', description='AT1G01430.1 | Symbols: TBL25, MOAT3 | mannan O-acetyltransferase 3, TRICHOME BIREFRINGENCE-LIKE 25 | chr1:156953-158536 REVERSE LENGTH=1371', dbxrefs=[]),\n",
       " SeqRecord(seq=Seq('ATGAGGACAAGCGGTGACGTTTATGGAGCAGATACTGGTTCCTCAAGAAGTGAT...TGA'), id='AT1G01440.1', name='AT1G01440.1', description='AT1G01440.1 | Symbols: no symbol available | no full name available | chr1:159935-162219 REVERSE LENGTH=1995', dbxrefs=[]),\n",
       " SeqRecord(seq=Seq('ATGGCTGATTTCCTTTTGAAGCATTTGGGAGATGGAAATGAGAGCCCCAAGCTA...TAG'), id='AT1G01450.1', name='AT1G01450.1', description='AT1G01450.1 | Symbols: no symbol available | no full name available | chr1:164105-165517 REVERSE LENGTH=1413', dbxrefs=[]),\n",
       " SeqRecord(seq=Seq('ATGGATCAAAAGCGGCCAACCATCGCCGGCGATGAAGAAATGGCGGCCGAGAAA...TGA'), id='AT1G01453.1', name='AT1G01453.1', description='AT1G01453.1 | Symbols: AtMLKL1 | Mixed Lineage Kinase Like 1 | chr1:166853-167798 REVERSE LENGTH=804', dbxrefs=[]),\n",
       " SeqRecord(seq=Seq('ATGGATCAAAAGCGGCCAACCATCGCCGGCGATGAAGAAATGGCGGCCGAGAAA...TAA'), id='AT1G01453.2', name='AT1G01453.2', description='AT1G01453.2 | Symbols: AtMLKL1 | Mixed Lineage Kinase Like 1 | chr1:166929-167798 REVERSE LENGTH=870', dbxrefs=[]),\n",
       " SeqRecord(seq=Seq('ATGTTTACGCGGGAGATAACAGCAAAGGACGTGAAAGCCACTGAGAAAAACAGG...TGA'), id='AT1G01460.1', name='AT1G01460.1', description='AT1G01460.1 | Symbols: PIPK11, ATPIPK11 |  | chr1:169115-171154 FORWARD LENGTH=1284', dbxrefs=[]),\n",
       " SeqRecord(seq=Seq('ATGGCGAGCTTGCTAGATAAAGCCAAGGACTTCGTGGCGGATAAACTCACCGCG...TGA'), id='AT1G01470.1', name='AT1G01470.1', description='AT1G01470.1 | Symbols: LEA14, LSR3, AtLEA14, LEA1 | LIGHT STRESS-REGULATED 3, Arabidopsis thaliana Late Embryogenesis abundant 14, LATE EMBRYOGENESIS ABUNDANT 14 | chr1:172295-172826 REVERSE LENGTH=456', dbxrefs=[]),\n",
       " SeqRecord(seq=Seq('ATGGGTCTTCCGGGAAAAAATAAAGGTGCAGTTTTGTCGAAGATAGCGACTAAC...TGA'), id='AT1G01480.1', name='AT1G01480.1', description='AT1G01480.1 | Symbols: AT-ACC2, ACS2 | 1-amino-cyclopropane-1-carboxylate synthase 2 | chr1:175862-178051 FORWARD LENGTH=1491', dbxrefs=[]),\n",
       " SeqRecord(seq=Seq('ATGGGAAAAGCTAGAGGTGGAAGAGTGACTTTTGATCCGGAGAGGGTGGTTATG...TGA'), id='AT1G01480.2', name='AT1G01480.2', description='AT1G01480.2 | Symbols: AT-ACC2, ACS2 | 1-amino-cyclopropane-1-carboxylate synthase 2 | chr1:176607-178051 FORWARD LENGTH=1173', dbxrefs=[]),\n",
       " SeqRecord(seq=Seq('ATGAAGAAAATTGTGTTAAAGCTGGATTTGCATGACGATAGGGCAAAACAAAAG...TGA'), id='AT1G01490.1', name='AT1G01490.1', description='AT1G01490.1 | Symbols: AtHMP01 | Heavy Metal Protein 1 | chr1:180401-182066 REVERSE LENGTH=534', dbxrefs=[]),\n",
       " SeqRecord(seq=Seq('ATGAAGAAAATTGTGTTAAAGCTGGATTTGCATGACGATAGGGCAAAACAAAAG...TGA'), id='AT1G01490.2', name='AT1G01490.2', description='AT1G01490.2 | Symbols: AtHMP01 | Heavy Metal Protein 1 | chr1:180401-182066 REVERSE LENGTH=534', dbxrefs=[]),\n",
       " SeqRecord(seq=Seq('ATGGACATGAAGGAGAAGAAATTGACGGTTATTGGAACCGTGGATCCGGTAAAT...TGA'), id='AT1G01490.3', name='AT1G01490.3', description='AT1G01490.3 | Symbols: AtHMP01 | Heavy Metal Protein 1 | chr1:180401-180835 REVERSE LENGTH=435', dbxrefs=[]),\n",
       " SeqRecord(seq=Seq('ATGATGAGTATGCCTCTGCTTTTGCAAAACTCTGTTTCTCTACTATATATGTTC...TGA'), id='AT1G01490.4', name='AT1G01490.4', description='AT1G01490.4 | Symbols: AtHMP01 | Heavy Metal Protein 1 | chr1:180401-181680 REVERSE LENGTH=615', dbxrefs=[]),\n",
       " SeqRecord(seq=Seq('ATGATTTCGAAAGATCACCTTCATCATCTGGATCCTCTGGGTACAACCAAATCG...TGA'), id='AT1G01500.1', name='AT1G01500.1', description='AT1G01500.1 | Symbols: no symbol available | no full name available | chr1:185260-186573 FORWARD LENGTH=984', dbxrefs=[]),\n",
       " SeqRecord(seq=Seq('ATGAGCAAGATCCGTTCGTCTGCGACAATGCCACATCGCGACCAGCCGTCACCG...TAA'), id='AT1G01510.1', name='AT1G01510.1', description='AT1G01510.1 | Symbols: DOQ, AN | ANGUSTIFOLIA, DETORQUEO | chr1:187235-189836 FORWARD LENGTH=1911', dbxrefs=[]),\n",
       " SeqRecord(seq=Seq('ATGGTGACTGTAAACCCTAGCCAAGCTCATTGTTTGCCTATGAAAATGAGTCTA...TAG'), id='AT1G01520.1', name='AT1G01520.1', description='AT1G01520.1 | Symbols: REV3, ASG4 | ALTERED SEED GERMINATION 4, REVEILLE 3 | chr1:190596-192139 FORWARD LENGTH=864', dbxrefs=[]),\n",
       " SeqRecord(seq=Seq('ATGGTGACTGTAAACCCTAGCCAAGCTCATTGTTTGCCTATGAAAATGAGTCTA...TGA'), id='AT1G01520.2', name='AT1G01520.2', description='AT1G01520.2 | Symbols: REV3, ASG4 | ALTERED SEED GERMINATION 4, REVEILLE 3 | chr1:190596-191895 FORWARD LENGTH=777', dbxrefs=[]),\n",
       " SeqRecord(seq=Seq('ATGGTGACTGTAAACCCTAGCCAAGCTCATTGTTTGCCTATGAAAATGAGTCTA...TGA'), id='AT1G01520.3', name='AT1G01520.3', description='AT1G01520.3 | Symbols: REV3, ASG4 | ALTERED SEED GERMINATION 4, REVEILLE 3 | chr1:190596-192059 FORWARD LENGTH=864', dbxrefs=[]),\n",
       " SeqRecord(seq=Seq('ATGGTGACTGTAAACCCTAGCCAAGCTCATTGTTTGCCTATGAAAATGAGTCTA...TGA'), id='AT1G01520.4', name='AT1G01520.4', description='AT1G01520.4 | Symbols: REV3, ASG4 | ALTERED SEED GERMINATION 4, REVEILLE 3 | chr1:190596-191895 FORWARD LENGTH=777', dbxrefs=[]),\n",
       " SeqRecord(seq=Seq('ATGGGACTAAAGAACATCTCCCACCTCCTCGACCAAAGAGGAAAGCCAATCACC...TAG'), id='AT1G01520.5', name='AT1G01520.5', description='AT1G01520.5 | Symbols: REV3, ASG4 | ALTERED SEED GERMINATION 4, REVEILLE 3 | chr1:191181-192139 FORWARD LENGTH=612', dbxrefs=[]),\n",
       " SeqRecord(seq=Seq('ATGGCGAGAAAGAATCTTGGTCGTAGAAAAATAGAGTTGGTAAAAATGACCAAC...TAG'), id='AT1G01530.1', name='AT1G01530.1', description='AT1G01530.1 | Symbols: AGL28 | AGAMOUS-like 28 | chr1:192640-193662 REVERSE LENGTH=744', dbxrefs=[]),\n",
       " SeqRecord(seq=Seq('ATGTCGGTGTACGACGCTGCTTTCCTTAATACAGAGCTTTCGAAACCGACATCG...TAG'), id='AT1G01540.1', name='AT1G01540.1', description='AT1G01540.1 | Symbols: no symbol available | no full name available | chr1:195980-197973 FORWARD LENGTH=1161', dbxrefs=[]),\n",
       " SeqRecord(seq=Seq('ATGTCGGTGTACGACGCTGCTTTCCTTAATACAGAGCTTTCGAAACCGACATCG...TGA'), id='AT1G01540.2', name='AT1G01540.2', description='AT1G01540.2 | Symbols: no symbol available | no full name available | chr1:195980-198383 FORWARD LENGTH=1419', dbxrefs=[]),\n",
       " SeqRecord(seq=Seq('ATGGCTCGTCCACAAGACCCTCCACGTGGTTTCTTCCCTTTTGGAAACCCCTTC...TGA'), id='AT1G01550.1', name='AT1G01550.1', description='AT1G01550.1 | Symbols: BPS1 | BYPASS 1 | chr1:200526-201575 FORWARD LENGTH=1050', dbxrefs=[]),\n",
       " SeqRecord(seq=Seq('ATGGCTCGTCCACAAGACCCTCCACGTGGTTTCTTCCCTTTTGGAAACCCCTTC...TGA'), id='AT1G01550.2', name='AT1G01550.2', description='AT1G01550.2 | Symbols: BPS1 | BYPASS 1 | chr1:200526-201575 FORWARD LENGTH=1050', dbxrefs=[]),\n",
       " SeqRecord(seq=Seq('ATGTCAATAGAGAAACCATTCTTCGGTGATGACAGCAACAGAGGAGTAAGTATC...TGA'), id='AT1G01560.1', name='AT1G01560.1', description='AT1G01560.1 | Symbols: MPK11, ATMPK11 | MAP kinase 11 | chr1:202345-203662 FORWARD LENGTH=828', dbxrefs=[]),\n",
       " SeqRecord(seq=Seq('ATGTCAATAGAGAAACCATTCTTCGGTGATGACAGCAACAGAGGAGTAAGTATC...TAA'), id='AT1G01560.2', name='AT1G01560.2', description='AT1G01560.2 | Symbols: MPK11, ATMPK11 | MAP kinase 11 | chr1:202345-204189 FORWARD LENGTH=1110', dbxrefs=[]),\n",
       " SeqRecord(seq=Seq('ATGTCAATAGAGAAACCATTCTTCGGTGATGACAGCAACAGAGGAGTAAGTATC...TGA'), id='AT1G01560.3', name='AT1G01560.3', description='AT1G01560.3 | Symbols: MPK11, ATMPK11 | MAP kinase 11 | chr1:202345-204035 FORWARD LENGTH=1041', dbxrefs=[]),\n",
       " SeqRecord(seq=Seq('ATGTCAATAGAGAAACCATTCTTCGGTGATGACAGCAACAGAGGAGTAAGTATC...TGA'), id='AT1G01560.4', name='AT1G01560.4', description='AT1G01560.4 | Symbols: MPK11, ATMPK11 | MAP kinase 11 | chr1:202345-203662 FORWARD LENGTH=828', dbxrefs=[]),\n",
       " SeqRecord(seq=Seq('ATGTCGAGGCTAATCTTCTTAATTCTCGCCATTCTCTTCTCTCTTCAATTCGTT...TAG'), id='AT1G01570.1', name='AT1G01570.1', description='AT1G01570.1 | Symbols: no symbol available | no full name available | chr1:205176-207435 FORWARD LENGTH=1437', dbxrefs=[]),\n",
       " SeqRecord(seq=Seq('ATGGGAGACGATAAGAAAGATCAGAAGCAGCTTTCTTCATACTTGAAAGCTAAA...TAG'), id='AT1G01570.2', name='AT1G01570.2', description='AT1G01570.2 | Symbols: no symbol available | no full name available | chr1:205083-207435 FORWARD LENGTH=1530', dbxrefs=[]),\n",
       " SeqRecord(seq=Seq('ATGGAGATCGAAAAAAGCAATAACGGTGGTTCGAACCCATCTGCAGGAGAAGAA...TGA'), id='AT1G01580.1', name='AT1G01580.1', description='AT1G01580.1 | Symbols: FRD1, FRO2, ATFRO2 | FERRIC REDUCTION OXIDASE 2, ferric reduction oxidase 2, FERRIC CHELATE REDUCTASE DEFECTIVE 1 | chr1:209395-212810 FORWARD LENGTH=2178', dbxrefs=[]),\n",
       " SeqRecord(seq=Seq('ATGAAAGAAAACAAAAAACAAGATCCATGGGGAAGAGTCACATGCATGGAGCAT...TGA'), id='AT1G01580.2', name='AT1G01580.2', description='AT1G01580.2 | Symbols: FRD1, FRO2, ATFRO2 | FERRIC REDUCTION OXIDASE 2, ferric reduction oxidase 2, FERRIC CHELATE REDUCTASE DEFECTIVE 1 | chr1:209161-212810 FORWARD LENGTH=2412', dbxrefs=[]),\n",
       " SeqRecord(seq=Seq('ATGGGAGTAGGAGAAATGAATAAGGAAGTGATTGATAAGGTGATTAAGTTCTTG...TGA'), id='AT1G01590.1', name='AT1G01590.1', description='AT1G01590.1 | Symbols: FRO1, ATFRO1 | FERRIC REDUCTION OXIDASE 1, ferric reduction oxidase 1 | chr1:214229-217304 FORWARD LENGTH=2115', dbxrefs=[]),\n",
       " SeqRecord(seq=Seq('ATGGAAATATCCAATGCCATGCTTCTTGTAGCGATCGTAACAGGGTATTGGCTA...TAA'), id='AT1G01600.1', name='AT1G01600.1', description='AT1G01600.1 | Symbols: CYP86A4 | \"cytochrome P450, family 86, subfamily A, polypeptide 4\" | chr1:219200-220994 FORWARD LENGTH=1665', dbxrefs=[]),\n",
       " SeqRecord(seq=Seq('ATGTCTCCGGCGAAGAAGAGCCGAAGTTTTCCTCCGATAAGCGAGTGTAAAAGC...TAA'), id='AT1G01610.1', name='AT1G01610.1', description='AT1G01610.1 | Symbols: GPAT4, ATGPAT4 | GLYCEROL-3-PHOSPHATE sn-2-ACYLTRANSFERASE 4 | chr1:221950-224255 REVERSE LENGTH=1512', dbxrefs=[]),\n",
       " SeqRecord(seq=Seq('ATGGAAGGGAAAGAAGAGGATGTTCGAGTGGGAGCTAACAAGTTCCCGGAGAGG...TGA'), id='AT1G01620.1', name='AT1G01620.1', description='AT1G01620.1 | Symbols: TMP-B, PIP1;3, PIP1C | plasma membrane intrinsic protein 1C, PLASMA MEMBRANE INTRINSIC PROTEIN 1;3 | chr1:225986-227176 REVERSE LENGTH=861', dbxrefs=[]),\n",
       " SeqRecord(seq=Seq('ATGGGAGTGAAGAGAGCACCAAACATGTGTGCCTCTGTTGGAATCCAAGGCATT...TGA'), id='AT1G01620.2', name='AT1G01620.2', description='AT1G01620.2 | Symbols: TMP-B, PIP1;3, PIP1C | plasma membrane intrinsic protein 1C, PLASMA MEMBRANE INTRINSIC PROTEIN 1;3 | chr1:225986-226960 REVERSE LENGTH=645', dbxrefs=[]),\n",
       " SeqRecord(seq=Seq('ATGGAAAACAAAGAGACCAAGCAAGAACCAGCAGCAGCAGCTGAGCAAAAGACC...TGA'), id='AT1G01630.1', name='AT1G01630.1', description='AT1G01630.1 | Symbols: no symbol available | no full name available | chr1:229206-230675 FORWARD LENGTH=768', dbxrefs=[]),\n",
       " SeqRecord(seq=Seq('ATGACAGAAGCAGAGCAAAAGGCGGCTTTCCTCGGTGGTCTTGTTGTCTCATTC...TGA'), id='AT1G01640.1', name='AT1G01640.1', description='AT1G01640.1 | Symbols: no symbol available | no full name available | chr1:231164-231915 REVERSE LENGTH=624', dbxrefs=[]),\n",
       " SeqRecord(seq=Seq('ATGCATACTGATGTTCTCGTTAAACCTGGTGAAGAAGCTCCACCCATACCTACC...TGA'), id='AT1G01640.2', name='AT1G01640.2', description='AT1G01640.2 | Symbols: no symbol available | no full name available | chr1:231164-231852 REVERSE LENGTH=561', dbxrefs=[]),\n",
       " SeqRecord(seq=Seq('ATGATCTTGTGGAAATCTCTCAGTTGTTTCTCGTTCGTCTTCGGGTTGTTGTTG...TAA'), id='AT1G01650.1', name='AT1G01650.1', description='AT1G01650.1 | Symbols: ATSPPL4, SPPL4 | SIGNAL PEPTIDE PEPTIDASE-LIKE 4, ARABIDOPSIS THALIANA SIGNAL PEPTIDE PEPTIDASE-LIKE 4 | chr1:233188-237647 REVERSE LENGTH=1623', dbxrefs=[]),\n",
       " SeqRecord(seq=Seq('ATGGTCTGCGAGAAGGGTGAAAACGTTTTAGATATTACTATTCCTGTTGTTATG...TAA'), id='AT1G01650.2', name='AT1G01650.2', description='AT1G01650.2 | Symbols: ATSPPL4, SPPL4 | SIGNAL PEPTIDE PEPTIDASE-LIKE 4, ARABIDOPSIS THALIANA SIGNAL PEPTIDE PEPTIDASE-LIKE 4 | chr1:233188-236537 REVERSE LENGTH=1197', dbxrefs=[]),\n",
       " SeqRecord(seq=Seq('ATGGTCTGCGAGAAGGGTGAAAACGTTTTAGATATTACTATTCCTGTTGTTATG...TAA'), id='AT1G01650.3', name='AT1G01650.3', description='AT1G01650.3 | Symbols: ATSPPL4, SPPL4 | SIGNAL PEPTIDE PEPTIDASE-LIKE 4, ARABIDOPSIS THALIANA SIGNAL PEPTIDE PEPTIDASE-LIKE 4 | chr1:233188-236537 REVERSE LENGTH=1197', dbxrefs=[]),\n",
       " SeqRecord(seq=Seq('ATGGTCTGCGAGAAGGGTGAAAACGTTTTAGATATTACTATTCCTGTTGTTATG...TAA'), id='AT1G01650.4', name='AT1G01650.4', description='AT1G01650.4 | Symbols: ATSPPL4, SPPL4 | SIGNAL PEPTIDE PEPTIDASE-LIKE 4, ARABIDOPSIS THALIANA SIGNAL PEPTIDE PEPTIDASE-LIKE 4 | chr1:233188-236537 REVERSE LENGTH=1197', dbxrefs=[]),\n",
       " SeqRecord(seq=Seq('ATGGCGGAACTCATGGCCATGGGCAATGATGTTGTTCATGTTGCAGTGAAGAGT...TGA'), id='AT1G01660.1', name='AT1G01660.1', description='AT1G01660.1 | Symbols: PUB55 |  | chr1:240057-242608 REVERSE LENGTH=1707', dbxrefs=[]),\n",
       " SeqRecord(seq=Seq('ATGGCGGAACTCATGGCCATGGGCAATGATGTTGTTCATGTTGCAGTGAAGAGT...TGA'), id='AT1G01660.2', name='AT1G01660.2', description='AT1G01660.2 | Symbols: PUB55 |  | chr1:240057-242608 REVERSE LENGTH=1710', dbxrefs=[]),\n",
       " SeqRecord(seq=Seq('ATGACCCCTTCATCAAGTGGGCTGGAACAAAGCGAGATCGATGCAATCCAGGAG...TAA'), id='AT1G01670.1', name='AT1G01670.1', description='AT1G01670.1 | Symbols: PUB56 |  | chr1:242943-245163 REVERSE LENGTH=1098', dbxrefs=[]),\n",
       " SeqRecord(seq=Seq('ATGACCCCTTCATCAAGTGGGCTGGAACAAAGCGAGATCGATGCAATCCAGGAG...TAA'), id='AT1G01670.2', name='AT1G01670.2', description='AT1G01670.2 | Symbols: PUB56 |  | chr1:242943-245163 REVERSE LENGTH=1098', dbxrefs=[]),\n",
       " SeqRecord(seq=Seq('ATGGTTCATATCACACCTACAAAAGCTGACTACGTGATTCAACATGCGCCCCAT...TAA'), id='AT1G01670.3', name='AT1G01670.3', description='AT1G01670.3 | Symbols: PUB56 |  | chr1:242943-244357 REVERSE LENGTH=846', dbxrefs=[]),\n",
       " SeqRecord(seq=Seq('ATGGAAGACGCCATATATGTTGCAGTGAATCAAGATGTTCGAGAAAGTAAAAAA...TGA'), id='AT1G01680.1', name='AT1G01680.1', description='AT1G01680.1 | Symbols: ATPUB54, PUB54 | plant U-box 54, PLANT U-BOX 54 | chr1:246411-248329 REVERSE LENGTH=927', dbxrefs=[]),\n",
       " SeqRecord(seq=Seq('ATGAAGATGAATATTAACAAAGCCTGCGATCTGAAATCTATTTCTGTCTTTCCT...TGA'), id='AT1G01690.1', name='AT1G01690.1', description='AT1G01690.1 | Symbols: PRD3, MER2, ATPRD3 | ARABIDOPSIS THALIANA PUTATIVE RECOMBINATION INITIATION DEFECTS 3, putative recombination initiation defects 3 | chr1:249242-252221 FORWARD LENGTH=1356', dbxrefs=[]),\n",
       " SeqRecord(seq=Seq('ATGAAGATGAATATTAACAAAGCCTGCGATCTGAAATCTATTTCTGTCTTTCCT...TGA'), id='AT1G01690.2', name='AT1G01690.2', description='AT1G01690.2 | Symbols: PRD3, MER2, ATPRD3 | ARABIDOPSIS THALIANA PUTATIVE RECOMBINATION INITIATION DEFECTS 3, putative recombination initiation defects 3 | chr1:249242-252221 FORWARD LENGTH=1353', dbxrefs=[]),\n",
       " SeqRecord(seq=Seq('ATGAAGATGAATATTAACAAAGCCTGCGATCTGAAATCTATTTCTGTCTTTCCT...TGA'), id='AT1G01690.3', name='AT1G01690.3', description='AT1G01690.3 | Symbols: PRD3, MER2, ATPRD3 | ARABIDOPSIS THALIANA PUTATIVE RECOMBINATION INITIATION DEFECTS 3, putative recombination initiation defects 3 | chr1:249242-252221 FORWARD LENGTH=1353', dbxrefs=[]),\n",
       " SeqRecord(seq=Seq('ATGCCAGTCGAAAAACATGTGGAAGAAAAGCTTCGCTCAAATAGAAAAGAGAGA...TAA'), id='AT1G01695.1', name='AT1G01695.1', description='AT1G01695.1 | Symbols: TRM33 | TON1 Recruiting Motif 33 | chr1:252947-254495 FORWARD LENGTH=1302', dbxrefs=[]),\n",
       " SeqRecord(seq=Seq('ATGGAGAATTTGCCAAATCACGAAGAAAACGACGATGTGGGCTATCATCAGTCA...TGA'), id='AT1G01700.1', name='AT1G01700.1', description='AT1G01700.1 | Symbols: ATROPGEF2, ROPGEF2 | ROP (rho of plants) guanine nucleotide exchange factor 2 | chr1:259495-261474 REVERSE LENGTH=1458', dbxrefs=[]),\n",
       " SeqRecord(seq=Seq('ATGGAGAATTTGCCAAATCACGAAGAAAACGACGATGTGGGCTATCATCAGTCA...TGA'), id='AT1G01700.2', name='AT1G01700.2', description='AT1G01700.2 | Symbols: ATROPGEF2, ROPGEF2 | ROP (rho of plants) guanine nucleotide exchange factor 2 | chr1:259992-261474 REVERSE LENGTH=1119', dbxrefs=[]),\n",
       " SeqRecord(seq=Seq('ATGGAGAATTTGCCAAATCACGAAGAAAACGACGATGTGGGCTATCATCAGTCA...TGA'), id='AT1G01700.3', name='AT1G01700.3', description='AT1G01700.3 | Symbols: ATROPGEF2, ROPGEF2 | ROP (rho of plants) guanine nucleotide exchange factor 2 | chr1:259663-261474 REVERSE LENGTH=1386', dbxrefs=[]),\n",
       " SeqRecord(seq=Seq('ATGGAGAATTTGCCAAATCACGAAGAAAACGACGATGTGGGCTATCATCAGTCA...TGA'), id='AT1G01700.4', name='AT1G01700.4', description='AT1G01700.4 | Symbols: ATROPGEF2, ROPGEF2 | ROP (rho of plants) guanine nucleotide exchange factor 2 | chr1:259495-261474 REVERSE LENGTH=1548', dbxrefs=[]),\n",
       " SeqRecord(seq=Seq('ATGGAGAATTTGCCAAATCACGAAGAAAACGACGATGTGGGCTATCATCAGTCA...TGA'), id='AT1G01700.5', name='AT1G01700.5', description='AT1G01700.5 | Symbols: ATROPGEF2, ROPGEF2 | ROP (rho of plants) guanine nucleotide exchange factor 2 | chr1:259992-261474 REVERSE LENGTH=1119', dbxrefs=[]),\n",
       " SeqRecord(seq=Seq('ATGAACACCGAGTCAGTTGTCGAGTTCCTTGGAAACGTCCCTTTACTCCAGAAA...TGA'), id='AT1G01710.1', name='AT1G01710.1', description='AT1G01710.1 | Symbols: no symbol available | no full name available | chr1:262950-266029 FORWARD LENGTH=1284', dbxrefs=[]),\n",
       " SeqRecord(seq=Seq('ATGGCTTTCGAACACAGAAATGAAGACCTAAATTCCTTGGATTCGGAAGAAGAT...TAA'), id='AT1G01715.1', name='AT1G01715.1', description='AT1G01715.1 | Symbols: no symbol available | no full name available | chr1:266517-267504 FORWARD LENGTH=420', dbxrefs=[]),\n",
       " SeqRecord(seq=Seq('ATGGCTTTCGAACACAGAAATGAAGACCTAAATTCCTTGGATTCGGAAGAAGAT...TAA'), id='AT1G01715.2', name='AT1G01715.2', description='AT1G01715.2 | Symbols: no symbol available | no full name available | chr1:266517-267504 FORWARD LENGTH=420', dbxrefs=[]),\n",
       " SeqRecord(seq=Seq('ATGTCAGAATTATTACAGTTGCCTCCAGGTTTCCGATTTCACCCTACCGATGAA...TAG'), id='AT1G01720.1', name='AT1G01720.1', description='AT1G01720.1 | Symbols: ATAF1, ANAC2, ANAC002 | Arabidopsis NAC domain containing protein 2 | chr1:268471-269514 FORWARD LENGTH=870', dbxrefs=[]),\n",
       " SeqRecord(seq=Seq('ATGAATCCCCAAATTGAAAAGGTGGTGAAGGTAACCAGTGTGGTGGCGACTGCT...TGA'), id='AT1G01725.1', name='AT1G01725.1', description='AT1G01725.1 | Symbols: no symbol available | no full name available | chr1:270016-270735 REVERSE LENGTH=189', dbxrefs=[]),\n",
       " SeqRecord(seq=Seq('ATGGAGAAATCGACCTCTCCGGCGACTCGAGTCACCGAACCTCCTCCTGCTGCT...TAA'), id='AT1G01730.1', name='AT1G01730.1', description='AT1G01730.1 | Symbols: no symbol available | no full name available | chr1:271002-271872 FORWARD LENGTH=675', dbxrefs=[]),\n",
       " SeqRecord(seq=Seq('ATGGGAGGTCAAAGCTCAAAGATTGGTACATGTTGTTCACACAAGACTACTGCT...TAA'), id='AT1G01740.1', name='AT1G01740.1', description='AT1G01740.1 | Symbols: BSK4 | brassinosteroid-signaling kinase 4 | chr1:272111-274239 REVERSE LENGTH=1452', dbxrefs=[]),\n",
       " SeqRecord(seq=Seq('ATGGGAGGTCAAAGCTCAAAGATTGGTACATGTTGTTCACACAAGACTACTGCT...TAA'), id='AT1G01740.2', name='AT1G01740.2', description='AT1G01740.2 | Symbols: BSK4 | brassinosteroid-signaling kinase 4 | chr1:272111-274239 REVERSE LENGTH=1452', dbxrefs=[]),\n",
       " SeqRecord(seq=Seq('ATGAAGATTGCTATCAAGCGCTTTTCTGGAACTGCCTGGCCTGATCCTCGCCAA...TAA'), id='AT1G01740.3', name='AT1G01740.3', description='AT1G01740.3 | Symbols: BSK4 | brassinosteroid-signaling kinase 4 | chr1:272111-273922 REVERSE LENGTH=1218', dbxrefs=[]),\n",
       " SeqRecord(seq=Seq('ATGAAGATTGCTATCAAGCGCTTTTCTGGAACTGCCTGGCCTGATCCTCGCCAA...TAA'), id='AT1G01740.4', name='AT1G01740.4', description='AT1G01740.4 | Symbols: BSK4 | brassinosteroid-signaling kinase 4 | chr1:272111-273922 REVERSE LENGTH=1218', dbxrefs=[]),\n",
       " SeqRecord(seq=Seq('ATGGGAGGTCAAAGCTCAAAGATTGGTACATGTTGTTCACACAAGACTACTGCT...TAA'), id='AT1G01740.5', name='AT1G01740.5', description='AT1G01740.5 | Symbols: BSK4 | brassinosteroid-signaling kinase 4 | chr1:272111-274239 REVERSE LENGTH=1428', dbxrefs=[]),\n",
       " SeqRecord(seq=Seq('ATGGCTAATTCAGCGTCTGGGATGCACGTTAGCGATGAGTGCAAGCTCAAGTTC...TGA'), id='AT1G01750.1', name='AT1G01750.1', description='AT1G01750.1 | Symbols: ADF11 | actin depolymerizing factor 11 | chr1:275528-276126 FORWARD LENGTH=423', dbxrefs=[]),\n",
       " SeqRecord(seq=Seq('ATGTGTTTGACTGTGCAGGCTAATTCAGCGTCTGGGATGCACGTTAGCGATGAG...TGA'), id='AT1G01750.2', name='AT1G01750.2', description='AT1G01750.2 | Symbols: ADF11 | actin depolymerizing factor 11 | chr1:275614-276126 FORWARD LENGTH=438', dbxrefs=[]),\n",
       " SeqRecord(seq=Seq('ATGGAGGAGGATTGGGGAAAGACAGTATCAGAGAAGGTTATTTCGGCTTACATG...TAG'), id='AT1G01760.1', name='AT1G01760.1', description='AT1G01760.1 | Symbols: AtTAD1, TAD1 | ortholog of yeast Tad1 | chr1:276412-278448 REVERSE LENGTH=1263', dbxrefs=[]),\n",
       " SeqRecord(seq=Seq('ATGAATGAATCAACGGACTTGTTTGTGGGAATCGTAGCAATGGAGGAGGATTGG...TAA'), id='AT1G01760.2', name='AT1G01760.2', description='AT1G01760.2 | Symbols: AtTAD1, TAD1 | ortholog of yeast Tad1 | chr1:276640-278487 REVERSE LENGTH=1260', dbxrefs=[]),\n",
       " SeqRecord(seq=Seq('ATGAATGAATCAACGGACTTGTTTGTGGGAATCGTAGCAATGGAGGAGGATTGG...TAG'), id='AT1G01760.3', name='AT1G01760.3', description='AT1G01760.3 | Symbols: AtTAD1, TAD1 | ortholog of yeast Tad1 | chr1:276412-278487 REVERSE LENGTH=1302', dbxrefs=[]),\n",
       " SeqRecord(seq=Seq('ATGGAGGAGGATTGGGGAAAGACAGTATCAGAGAAGGTTATTTCGGCTTACATG...TAG'), id='AT1G01760.4', name='AT1G01760.4', description='AT1G01760.4 | Symbols: AtTAD1, TAD1 | ortholog of yeast Tad1 | chr1:276412-278448 REVERSE LENGTH=1263', dbxrefs=[]),\n",
       " SeqRecord(seq=Seq('ATGGCTAACCCAGACGTTAAAGAGATTCTCTGCGATTGTGTGATAAACTTGAGA...TGA'), id='AT1G01770.1', name='AT1G01770.1', description='AT1G01770.1 | Symbols: no symbol available | no full name available | chr1:278759-282490 FORWARD LENGTH=1899', dbxrefs=[]),\n",
       " SeqRecord(seq=Seq('ATGTCTTTCACAGGAACTCTCGACAAATGCAATGTTTGTGATAAGACAGTCTAT...TGA'), id='AT1G01780.1', name='AT1G01780.1', description='AT1G01780.1 | Symbols: PLIM2b | PLIM2b | chr1:282919-284082 FORWARD LENGTH=618', dbxrefs=[]),\n",
       " SeqRecord(seq=Seq('ATGGAGTATGCGTCTACTTTTCAAAGGCCGATTCTATTCCATGGTGGAGATGGT...TGA'), id='AT1G01790.1', name='AT1G01790.1', description='AT1G01790.1 | Symbols: KEA1, ATKEA1 | K+ EFFLUX ANTIPORTER 1, K+ efflux antiporter 1 | chr1:284781-290869 FORWARD LENGTH=3582', dbxrefs=[]),\n",
       " SeqRecord(seq=Seq('ATGGAGTATGCGTCTACTTTTCAAAGGCCGATTCTATTCCATGGTGGAGATGGT...TGA'), id='AT1G01790.2', name='AT1G01790.2', description='AT1G01790.2 | Symbols: KEA1, ATKEA1 | K+ EFFLUX ANTIPORTER 1, K+ efflux antiporter 1 | chr1:284781-290869 FORWARD LENGTH=3582', dbxrefs=[]),\n",
       " SeqRecord(seq=Seq('ATGGCAGACCCAAGAGTTGCAGTTGTTACTGGTTCCAACAAAGGGATTGGGTTT...TGA'), id='AT1G01800.1', name='AT1G01800.1', description='AT1G01800.1 | Symbols: no symbol available | no full name available | chr1:293396-294888 FORWARD LENGTH=888', dbxrefs=[]),\n",
       " SeqRecord(seq=Seq('ATGAAAACAAGGGTCTTGCTGCTGTCCAAAAGCTCAAGACTGAGAATGGTTTTT...TGA'), id='AT1G01800.2', name='AT1G01800.2', description='AT1G01800.2 | Symbols: no symbol available | no full name available | chr1:293595-294888 FORWARD LENGTH=783', dbxrefs=[]),\n",
       " SeqRecord(seq=Seq('ATGAAGCCGGAAACTAAGAGAAGCACCGCCACAACAAGACGGCGGACCAATGAC...TAG'), id='AT1G01810.1', name='AT1G01810.1', description='AT1G01810.1 | Symbols: no symbol available | no full name available | chr1:295242-295724 FORWARD LENGTH=483', dbxrefs=[]),\n",
       " SeqRecord(seq=Seq('ATGAGTACCCTTGAGACCACAAGAGCTGAGCTTGGTCTGGTAGTTGTGTATTTG...TGA'), id='AT1G01820.1', name='AT1G01820.1', description='AT1G01820.1 | Symbols: PEX11C | peroxin 11c | chr1:296213-297723 REVERSE LENGTH=708', dbxrefs=[]),\n",
       " SeqRecord(seq=Seq('ATGGGAACAATGGCAGAATTGGGAACCATGGGAAAATTTGGAGCCATGGCAGAA...TAA'), id='AT1G01830.1', name='AT1G01830.1', description='AT1G01830.1 | Symbols: no symbol available | no full name available | chr1:298717-300441 REVERSE LENGTH=1725', dbxrefs=[]),\n",
       " SeqRecord(seq=Seq('ATGGGAACAATGGCAGAATTGGGAACCATGGGAAAATTTGGAGCCATGGCAGAA...TAA'), id='AT1G01830.2', name='AT1G01830.2', description='AT1G01830.2 | Symbols: no symbol available | no full name available | chr1:298717-300441 REVERSE LENGTH=1725', dbxrefs=[]),\n",
       " SeqRecord(seq=Seq('ATGGGAACAATGGCAGAATTGGGAACCATGGGAAAATTTGGAGCCATGGCAGAA...TAA'), id='AT1G01830.3', name='AT1G01830.3', description='AT1G01830.3 | Symbols: no symbol available | no full name available | chr1:298717-300441 REVERSE LENGTH=1725', dbxrefs=[]),\n",
       " SeqRecord(seq=Seq('ATGGCAAGTATAGAGCAAGTAGCTGAGCTGATATCATCGCTGGAGCAAGCAACT...TGA'), id='AT1G01840.1', name='AT1G01840.1', description='AT1G01840.1 | Symbols: no symbol available | no full name available | chr1:303650-304108 FORWARD LENGTH=459', dbxrefs=[]),\n",
       " SeqRecord(seq=Seq('ATGATGAATGCGGTAATAACATCAGCCACCATCAACTGCAACTCTCTGTCGCCG...TAA'), id='AT1G01860.1', name='AT1G01860.1', description='AT1G01860.1 | Symbols: PFC1 | PALEFACE 1 | chr1:304439-306275 REVERSE LENGTH=1032', dbxrefs=[]),\n",
       " SeqRecord(seq=Seq('ATGTTGAATTCGGACATCAACGACCAGCTAGCCTCTGCGGCTGATGTGAAAGAA...TAA'), id='AT1G01860.2', name='AT1G01860.2', description='AT1G01860.2 | Symbols: PFC1 | PALEFACE 1 | chr1:304439-305928 REVERSE LENGTH=795', dbxrefs=[]),\n",
       " SeqRecord(seq=Seq('ATGTTGAATTCGGACATCAACGACCAGCTAGCCTCTGCGGCTGATGTGAAAGAA...TAA'), id='AT1G01860.3', name='AT1G01860.3', description='AT1G01860.3 | Symbols: PFC1 | PALEFACE 1 | chr1:304622-305928 REVERSE LENGTH=804', dbxrefs=[]),\n",
       " SeqRecord(seq=Seq('ATGATGAATGCGGTAATAACATCAGCCACCATCAACTGCAACTCTCTGTCGCCG...TAA'), id='AT1G01860.4', name='AT1G01860.4', description='AT1G01860.4 | Symbols: PFC1 | PALEFACE 1 | chr1:304622-306275 REVERSE LENGTH=1041', dbxrefs=[]),\n",
       " SeqRecord(seq=Seq('ATGATGAATGCGGTAATAACATCAGCCACCATCAACTGCAACTCTCTGTCGCCG...TGA'), id='AT1G01860.5', name='AT1G01860.5', description='AT1G01860.5 | Symbols: PFC1 | PALEFACE 1 | chr1:305151-306275 REVERSE LENGTH=741', dbxrefs=[]),\n",
       " SeqRecord(seq=Seq('ATGGGTGTGGGAGGCAATTTCTGGGATTTGCTGAGACCATATGCTCAGCAACAA...TAG'), id='AT1G01880.1', name='AT1G01880.1', description='AT1G01880.1 | Symbols: AtGEN1, GEN1 | ortholog of HsGEN1 | chr1:306558-308991 REVERSE LENGTH=1800', dbxrefs=[]),\n",
       " SeqRecord(seq=Seq('ATGGGTGTGGGAGGCAATTTCTGGGATTTGCTGAGACCATATGCTCAGCAACAA...TAG'), id='AT1G01880.2', name='AT1G01880.2', description='AT1G01880.2 | Symbols: AtGEN1, GEN1 | ortholog of HsGEN1 | chr1:306558-308991 REVERSE LENGTH=1797', dbxrefs=[]),\n",
       " SeqRecord(seq=Seq('ATGGGTGTGGGAGGCAATTTCTGGGATTTGCTGAGACCATATGCTCAGCAACAA...TAG'), id='AT1G01880.3', name='AT1G01880.3', description='AT1G01880.3 | Symbols: AtGEN1, GEN1 | ortholog of HsGEN1 | chr1:306558-308991 REVERSE LENGTH=1800', dbxrefs=[]),\n",
       " SeqRecord(seq=Seq('ATGCGGTTTAGGGTTTTGCAGTTTGGAGCGTACCCGGTTTTTGTGGTTGATGGA...TAG'), id='AT1G01880.4', name='AT1G01880.4', description='AT1G01880.4 | Symbols: AtGEN1, GEN1 | ortholog of HsGEN1 | chr1:306558-308594 REVERSE LENGTH=1626', dbxrefs=[]),\n",
       " SeqRecord(seq=Seq('ATGCATCGCTTTCTTTTAATGCTCTTATTTCCCTTTAGCGACAACCGTCCCATG...TAA'), id='AT1G01900.1', name='AT1G01900.1', description='AT1G01900.1 | Symbols: ATSBT1.1, SBTI1.1 |  | chr1:310332-313011 FORWARD LENGTH=2325', dbxrefs=[]),\n",
       " SeqRecord(seq=Seq('ATGGCGGCGGATTTGCCGGAGGCGACAGTACAGAACATTCTGGACCAAGAGTCT...TAA'), id='AT1G01910.1', name='AT1G01910.1', description='AT1G01910.1 | Symbols: GET3a, AtGET3a | Guided Entry of Tail-anchored protein 3a | chr1:313595-315831 REVERSE LENGTH=1062', dbxrefs=[]),\n",
       " SeqRecord(seq=Seq('ATGGCGGCGGATTTGCCGGAGGCGACAGTACAGAACATTCTGGACCAAGAGTCT...TAA'), id='AT1G01910.2', name='AT1G01910.2', description='AT1G01910.2 | Symbols: GET3a, AtGET3a | Guided Entry of Tail-anchored protein 3a | chr1:313595-315831 REVERSE LENGTH=1062', dbxrefs=[]),\n",
       " SeqRecord(seq=Seq('ATGGCGGCGGATTTGCCGGAGGCGACAGTACAGAACATTCTGGACCAAGAGTCT...TGA'), id='AT1G01910.3', name='AT1G01910.3', description='AT1G01910.3 | Symbols: GET3a, AtGET3a | Guided Entry of Tail-anchored protein 3a | chr1:313746-315831 REVERSE LENGTH=912', dbxrefs=[]),\n",
       " SeqRecord(seq=Seq('ATGGCGGCGGATTTGCCGGAGGCGACAGTACAGAACATTCTGGACCAAGAGTCT...TAA'), id='AT1G01910.4', name='AT1G01910.4', description='AT1G01910.4 | Symbols: GET3a, AtGET3a | Guided Entry of Tail-anchored protein 3a | chr1:313595-315831 REVERSE LENGTH=1062', dbxrefs=[]),\n",
       " SeqRecord(seq=Seq('ATGCCTTTCAGCAACGCTTCACTAAATCTCCCACTTTGGTTCAAGGTTTCTCTA...TAA'), id='AT1G01910.5', name='AT1G01910.5', description='AT1G01910.5 | Symbols: GET3a, AtGET3a | Guided Entry of Tail-anchored protein 3a | chr1:313595-315644 REVERSE LENGTH=750', dbxrefs=[]),\n",
       " SeqRecord(seq=Seq('ATGGCGATTTCAGAAGAAGAAGCCAAACTCGAAAGGTTCCTAGATTGGCTTCAG...TGA'), id='AT1G01920.1', name='AT1G01920.1', description='AT1G01920.1 | Symbols: no symbol available | no full name available | chr1:316204-319507 FORWARD LENGTH=1719', dbxrefs=[]),\n",
       " SeqRecord(seq=Seq('ATGGCGATTTCAGAAGAAGAAGCCAAACTCGAAAGGTTCCTAGATTGGCTTCAG...TGA'), id='AT1G01920.2', name='AT1G01920.2', description='AT1G01920.2 | Symbols: no symbol available | no full name available | chr1:316204-319507 FORWARD LENGTH=1644', dbxrefs=[]),\n",
       " SeqRecord(seq=Seq('ATGGCGATTTCAGAAGAAGAAGCCAAACTCGAAAGGTTCCTAGATTGGCTTCAG...TGA'), id='AT1G01920.3', name='AT1G01920.3', description='AT1G01920.3 | Symbols: no symbol available | no full name available | chr1:316204-318819 FORWARD LENGTH=1305', dbxrefs=[]),\n",
       " SeqRecord(seq=Seq('ATGCTCTGGAAATTTTCAGAAGTTTTGCTTGTTGTTCCGCTTGATCTGGCCATT...TGA'), id='AT1G01920.4', name='AT1G01920.4', description='AT1G01920.4 | Symbols: no symbol available | no full name available | chr1:316438-319507 FORWARD LENGTH=1512', dbxrefs=[]),\n",
       " SeqRecord(seq=Seq('ATGGCGATTTCAGAAGAAGAAGCCAAACTCGAAAGGTTCCTAGATTGGCTTCAG...TAA'), id='AT1G01920.5', name='AT1G01920.5', description='AT1G01920.5 | Symbols: no symbol available | no full name available | chr1:316204-319342 FORWARD LENGTH=1554', dbxrefs=[]),\n",
       " SeqRecord(seq=Seq('ATGGCGACCACCGGCGCGGCGGCCACCACCGAGATTGGTAATCCAGAATATAAA...TAA'), id='AT1G01930.1', name='AT1G01930.1', description='AT1G01930.1 | Symbols: no symbol available | no full name available | chr1:320041-322809 REVERSE LENGTH=1743', dbxrefs=[]),\n",
       " SeqRecord(seq=Seq('ATGTCGGTAACTTTGCACACGAACCTGGGTGACATCAAGTGCGAAATCTTCTGT...TAA'), id='AT1G01940.1', name='AT1G01940.1', description='AT1G01940.1 | Symbols: no symbol available | no full name available | chr1:323082-324719 FORWARD LENGTH=483', dbxrefs=[]),\n",
       " SeqRecord(seq=Seq('ATGGCTATGGCTTCTTCGAGAAATGGTGCGGTTAGAGGATCCATGAGACCAGTC...TGA'), id='AT1G01950.1', name='AT1G01950.1', description='AT1G01950.1 | Symbols: AtKINUb, ARK2 | \"Arabidopsis thaliana KINESIN Ungrouped clade, gene B\", armadillo repeat kinesin 2 | chr1:325473-330403 FORWARD LENGTH=2685', dbxrefs=[]),\n",
       " SeqRecord(seq=Seq('ATGGCTATGGCTTCTTCGAGAAATGGTGCGGTTAGAGGATCCATGAGACCAGTC...TGA'), id='AT1G01950.2', name='AT1G01950.2', description='AT1G01950.2 | Symbols: AtKINUb, ARK2 | \"Arabidopsis thaliana KINESIN Ungrouped clade, gene B\", armadillo repeat kinesin 2 | chr1:325473-330403 FORWARD LENGTH=2634', dbxrefs=[]),\n",
       " SeqRecord(seq=Seq('ATGGCTATGGCTTCTTCGAGAAATGGTGCGGTTAGAGGATCCATGAGACCAGTC...TGA'), id='AT1G01950.3', name='AT1G01950.3', description='AT1G01950.3 | Symbols: AtKINUb, ARK2 | \"Arabidopsis thaliana KINESIN Ungrouped clade, gene B\", armadillo repeat kinesin 2 | chr1:325473-330403 FORWARD LENGTH=2748', dbxrefs=[]),\n",
       " SeqRecord(seq=Seq('ATGGCTTATGGTCAGACTGGTACTGGCAAGACTTTTACCCTTGGAAGATTAGGA...TGA'), id='AT1G01950.4', name='AT1G01950.4', description='AT1G01950.4 | Symbols: AtKINUb, ARK2 | \"Arabidopsis thaliana KINESIN Ungrouped clade, gene B\", armadillo repeat kinesin 2 | chr1:326362-330403 FORWARD LENGTH=2262', dbxrefs=[]),\n",
       " SeqRecord(seq=Seq('ATGGCTTCTACGGAAGTCGATTCCCGCTTAGGTCGAGTTGTTATCCCTGCTTTG...TAA'), id='AT1G01960.1', name='AT1G01960.1', description='AT1G01960.1 | Symbols: BIG3, EDA10 | embryo sac development arrest 10, BIG3 | chr1:330830-337582 REVERSE LENGTH=5253', dbxrefs=[]),\n",
       " SeqRecord(seq=Seq('ATGGGAATTTATAGCTGCAGCGCAGTGTTGAGCTTCGGCTTGAAATGTCCATTA...TAA'), id='AT1G01970.1', name='AT1G01970.1', description='AT1G01970.1 | Symbols: no symbol available | no full name available | chr1:338538-339905 FORWARD LENGTH=1230', dbxrefs=[]),\n",
       " SeqRecord(seq=Seq('ATGAAGCTCTCTTGTTTGGTTTTTCTCATAGTATCGTCTCTTGTTTCGAGTTCT...TAG'), id='AT1G01980.1', name='AT1G01980.1', description='AT1G01980.1 | Symbols: OGOX4, AtBBE1 | oligogalacturonide oxidase 4 | chr1:340374-341999 REVERSE LENGTH=1626', dbxrefs=[]),\n",
       " SeqRecord(seq=Seq('ATGGGGAGTTTAGTGAAAGCATATTACTGTAACCAGATGCATCACAACAGCATC...TAG'), id='AT1G01990.1', name='AT1G01990.1', description='AT1G01990.1 | Symbols: no symbol available | no full name available | chr1:343462-344199 REVERSE LENGTH=738', dbxrefs=[]),\n",
       " SeqRecord(seq=Seq('ATGTCGCATCTGGACGACATTCCTTCTACGCCTGGGAAATTCAAGATGATGGAT...TGA'), id='AT1G02000.1', name='AT1G02000.1', description='AT1G02000.1 | Symbols: GAE2 | UDP-D-glucuronate 4-epimerase 2 | chr1:346052-347356 FORWARD LENGTH=1305', dbxrefs=[]),\n",
       " SeqRecord(seq=Seq('ATGTCGTTCTCCGATTCAGAGTCATCCTCTCACGGAGGAGGAGGAGGAGATTAC...TGA'), id='AT1G02010.1', name='AT1G02010.1', description='AT1G02010.1 | Symbols: SEC1A | secretory 1A | chr1:348046-352197 FORWARD LENGTH=2022', dbxrefs=[]),\n",
       " SeqRecord(seq=Seq('ATGTCGTTCTCCGATTCAGAGTCATCCTCTCACGGAGGAGGAGGAGGAGATTAC...TGA'), id='AT1G02010.2', name='AT1G02010.2', description='AT1G02010.2 | Symbols: SEC1A | secretory 1A | chr1:348046-352197 FORWARD LENGTH=1983', dbxrefs=[]),\n",
       " SeqRecord(seq=Seq('ATGTCGTTCTCCGATTCAGAGTCATCCTCTCACGGAGGAGGAGGAGGAGATTAC...TAA'), id='AT1G02010.3', name='AT1G02010.3', description='AT1G02010.3 | Symbols: SEC1A | secretory 1A | chr1:348046-351699 FORWARD LENGTH=1836', dbxrefs=[]),\n",
       " SeqRecord(seq=Seq('ATGTCGTTCTCCGATTCAGAGTCATCCTCTCACGGAGGAGGAGGAGGAGATTAC...TGA'), id='AT1G02010.4', name='AT1G02010.4', description='AT1G02010.4 | Symbols: SEC1A | secretory 1A | chr1:348046-352197 FORWARD LENGTH=2112', dbxrefs=[]),\n",
       " SeqRecord(seq=Seq('ATGCTTGGATCTACCAAAACCGGGGATTCTAAAGCTTGGAAGATACTAATAATG...TGA'), id='AT1G02010.5', name='AT1G02010.5', description='AT1G02010.5 | Symbols: SEC1A | secretory 1A | chr1:348226-352197 FORWARD LENGTH=1926', dbxrefs=[]),\n",
       " SeqRecord(seq=Seq('ATGAACATGGAGTATTTCCCCATAGATAATCAGGGATTTCTAACTGATCATGAG...TGA'), id='AT1G02010.6', name='AT1G02010.6', description='AT1G02010.6 | Symbols: SEC1A | secretory 1A | chr1:349067-352197 FORWARD LENGTH=1575', dbxrefs=[]),\n",
       " SeqRecord(seq=Seq('ATGTCGAATCCCAGACAGAGGAAAGGAGAAGCAATGATGAATCCGACGATTTCG...TAG'), id='AT1G02020.1', name='AT1G02020.1', description='AT1G02020.1 | Symbols: no symbol available | no full name available | chr1:352842-354845 REVERSE LENGTH=1929', dbxrefs=[]),\n",
       " SeqRecord(seq=Seq('ATGTCGAATCCCAGACAGAGGAAAGGAGAAGCAATGATGAATCCGACGATTTCG...TAA'), id='AT1G02020.2', name='AT1G02020.2', description='AT1G02020.2 | Symbols: no symbol available | no full name available | chr1:353214-354845 REVERSE LENGTH=1632', dbxrefs=[]),\n",
       " SeqRecord(seq=Seq('ATGTCGAATCCCAGACAGAGGAAAGGAGAAGCAATGATGAATCCGACGATTTCG...TAG'), id='AT1G02020.3', name='AT1G02020.3', description='AT1G02020.3 | Symbols: no symbol available | no full name available | chr1:353390-354845 REVERSE LENGTH=1347', dbxrefs=[]),\n",
       " SeqRecord(seq=Seq('ATGGAAGAGAGGCATAAGTGCAAGTTATGTTGGAAGAGCTTCGCTAATGGAAGG...TAA'), id='AT1G02030.1', name='AT1G02030.1', description='AT1G02030.1 | Symbols: no symbol available | no full name available | chr1:355385-356188 REVERSE LENGTH=804', dbxrefs=[]),\n",
       " SeqRecord(seq=Seq('ATGCATGTGACTAGGAATGTTGGAAAAAGTCAAAAGTTGCACCACGTGTCGTTA...TGA'), id='AT1G02040.1', name='AT1G02040.1', description='AT1G02040.1 | Symbols: no symbol available | no full name available | chr1:358104-359078 REVERSE LENGTH=975', dbxrefs=[]),\n",
       " SeqRecord(seq=Seq('ATGTCGAATTCTAGGATGAATGGTGTTGAGAAGCTAAGCAGCAAATCCACAAGG...TAA'), id='AT1G02050.1', name='AT1G02050.1', description='AT1G02050.1 | Symbols: PKSA, LAP6 | polyketide synthase A, LESS ADHESIVE POLLEN 6 | chr1:359164-360441 REVERSE LENGTH=1188', dbxrefs=[]),\n",
       " SeqRecord(seq=Seq('ATGGTATCTTCTGTACCTAAACTCCATGCTTTGTTTGTCTCCAAGTCTCAACCA...TGA'), id='AT1G02060.1', name='AT1G02060.1', description='AT1G02060.1 | Symbols: no symbol available | no full name available | chr1:360918-363050 REVERSE LENGTH=2133', dbxrefs=[]),\n",
       " SeqRecord(seq=Seq('ATGTTGGACTACGAATGGGATAATCCTTCCTCCATCGTTCTCTCCGGAGATGAA...TAG'), id='AT1G02065.1', name='AT1G02065.1', description='AT1G02065.1 | Symbols: SPL8 | squamosa promoter binding protein-like 8 | chr1:365625-367149 FORWARD LENGTH=1002', dbxrefs=[]),\n",
       " SeqRecord(seq=Seq('ATGTTGGACTACGAATGGGATAATCCTTCCTCCATCGTTCTCTCCGGAGATGAA...TAA'), id='AT1G02065.2', name='AT1G02065.2', description='AT1G02065.2 | Symbols: SPL8 | squamosa promoter binding protein-like 8 | chr1:365625-366365 FORWARD LENGTH=741', dbxrefs=[]),\n",
       " SeqRecord(seq=Seq('ATGAGTAAAGCTTATAACTATCCGCTGGAGAAAAACATTGAATTTGAAGACGAA...TAA'), id='AT1G02067.1', name='AT1G02067.1', description='AT1G02067.1 | Symbols: no symbol available | no full name available | chr1:366945-367166 REVERSE LENGTH=222', dbxrefs=[]),\n",
       " SeqRecord(seq=Seq('ATGGAGAGAGTGTGTTGCATGTGCGGTGATGTCGGTTTCTCCGACAAGCTCTTC...TAG'), id='AT1G02070.1', name='AT1G02070.1', description='AT1G02070.1 | Symbols: no symbol available | no full name available | chr1:370445-370947 REVERSE LENGTH=396', dbxrefs=[]),\n",
       " SeqRecord(seq=Seq('ATGTATTCAAAGACAATTGAAAATCCAGACGAGACGAGTCCACGAATAATGTGG...TAG'), id='AT1G02080.1', name='AT1G02080.1', description='AT1G02080.1 | Symbols: NOT1 |  | chr1:373335-386682 FORWARD LENGTH=7296', dbxrefs=[]),\n",
       " SeqRecord(seq=Seq('ATGACTCCCTCCAAGGTCGCCGGTCATACCCGGTTCTTGCTCCACAGCTTTCAT...TAG'), id='AT1G02080.2', name='AT1G02080.2', description='AT1G02080.2 | Symbols: NOT1 |  | chr1:373694-386682 FORWARD LENGTH=7134', dbxrefs=[]),\n",
       " SeqRecord(seq=Seq('ATGACTCCCTCCAAGGTCGCCGGTCATACCCGGTTCTTGCTCCACAGCTTTCAT...TAG'), id='AT1G02080.3', name='AT1G02080.3', description='AT1G02080.3 | Symbols: NOT1 |  | chr1:373694-386682 FORWARD LENGTH=7137', dbxrefs=[]),\n",
       " SeqRecord(seq=Seq('ATGGATATCGAGCAGAAGCAAGCCGAGATCATTGATCAGCTCGTGAAGCGAGCT...TAG'), id='AT1G02090.1', name='AT1G02090.1', description='AT1G02090.1 | Symbols: FUS5, CSN7, COP15, ATCSN7 | CONSTITUTIVE PHOTOMORPHOGENIC 15, COP9 SIGNALOSOME SUBUNIT 7, ARABIDOPSIS THALIANA COP9 SIGNALOSOME SUBUNIT 7, FUSCA 5 | chr1:387479-389568 REVERSE LENGTH=783', dbxrefs=[]),\n",
       " SeqRecord(seq=Seq('ATGGATATCGAGCAGAAGCAAGCCGAGATCATTGATCAGCTCGTGAAGCGAGCT...TAA'), id='AT1G02090.2', name='AT1G02090.2', description='AT1G02090.2 | Symbols: FUS5, CSN7, COP15, ATCSN7 | CONSTITUTIVE PHOTOMORPHOGENIC 15, COP9 SIGNALOSOME SUBUNIT 7, ARABIDOPSIS THALIANA COP9 SIGNALOSOME SUBUNIT 7, FUSCA 5 | chr1:387647-389568 REVERSE LENGTH=678', dbxrefs=[]),\n",
       " SeqRecord(seq=Seq('ATGGATATCGAGCAGAAGCAAGCCGAGATCATTGATCAGCTCGTGAAGCGAGCT...TAA'), id='AT1G02090.3', name='AT1G02090.3', description='AT1G02090.3 | Symbols: FUS5, CSN7, COP15, ATCSN7 | CONSTITUTIVE PHOTOMORPHOGENIC 15, COP9 SIGNALOSOME SUBUNIT 7, ARABIDOPSIS THALIANA COP9 SIGNALOSOME SUBUNIT 7, FUSCA 5 | chr1:388223-389568 REVERSE LENGTH=714', dbxrefs=[]),\n",
       " SeqRecord(seq=Seq('ATGGCGGAATCTCGCAGCAACAGAGCGGCGGTTCAGGCTACTAACGACGATGCA...TGA'), id='AT1G02100.1', name='AT1G02100.1', description='AT1G02100.1 | Symbols: LCMT1, SBI1 | leucine carboxyl methyl transferase 1, SUPPRESSOR OF BRI1 | chr1:389876-392448 FORWARD LENGTH=999', dbxrefs=[]),\n",
       " SeqRecord(seq=Seq('ATGGCGGAATCTCGCAGCAACAGAGCGGCGGTTCAGGCTACTAACGACGATGCA...TGA'), id='AT1G02100.2', name='AT1G02100.2', description='AT1G02100.2 | Symbols: LCMT1, SBI1 | leucine carboxyl methyl transferase 1, SUPPRESSOR OF BRI1 | chr1:389876-392293 FORWARD LENGTH=921', dbxrefs=[]),\n",
       " SeqRecord(seq=Seq('ATGGCGGAATCTCGCAGCAACAGAGCGGCGGTTCAGGCTACTAACGACGATGCA...TGA'), id='AT1G02100.3', name='AT1G02100.3', description='AT1G02100.3 | Symbols: LCMT1, SBI1 | leucine carboxyl methyl transferase 1, SUPPRESSOR OF BRI1 | chr1:389876-392448 FORWARD LENGTH=999', dbxrefs=[]),\n",
       " SeqRecord(seq=Seq('ATGGGATGCACGGCCTCCAAGCTCGACAGTGAGGATGCTGTCCGTCGCTGCAAG...TGA'), id='AT1G02110.1', name='AT1G02110.1', description='AT1G02110.1 | Symbols: no symbol available | no full name available | chr1:392939-395434 FORWARD LENGTH=2112', dbxrefs=[]),\n",
       " SeqRecord(seq=Seq('ATGGCGATGCTTTCTACTGCTTCCGTTTCGGGGAGCGTCGACCTTCCTCGAGGA...TAA'), id='AT1G02120.1', name='AT1G02120.1', description='AT1G02120.1 | Symbols: VAD1 | VASCULAR ASSOCIATED DEATH1 | chr1:395761-399720 FORWARD LENGTH=1797', dbxrefs=[]),\n",
       " SeqRecord(seq=Seq('ATGGCGATGCTTTCTACTGCTTCCGTTTCGGGGAGCGTCGACCTTCCTCGAGGA...TGA'), id='AT1G02120.2', name='AT1G02120.2', description='AT1G02120.2 | Symbols: VAD1 | VASCULAR ASSOCIATED DEATH1 | chr1:395761-399083 FORWARD LENGTH=1422', dbxrefs=[]),\n",
       " SeqRecord(seq=Seq('ATGGCGATGCTTTCTACTGCTTCCGTTTCGGGGAGCGTCGACCTTCCTCGAGGA...TAA'), id='AT1G02120.3', name='AT1G02120.3', description='AT1G02120.3 | Symbols: VAD1 | VASCULAR ASSOCIATED DEATH1 | chr1:395761-399027 FORWARD LENGTH=1260', dbxrefs=[]),\n",
       " SeqRecord(seq=Seq('ATGAATCCTGAGTACGACTATCTTTTCAAGCTCCTGCTTATCGGGGATTCTGGC...TGA'), id='AT1G02130.1', name='AT1G02130.1', description='AT1G02130.1 | Symbols: ATRABD2A, RABD2A, ARA-5, RA-5, ARA5, ATRAB1B | ARABIDOPSIS THALIANA RESPONSIVE TO ABSCISIC ACID 1B, RAB D2A, ARABIDOPSIS THALIANA RAB D2A, RAS 5, ARABIDOPSIS RAS 5 | chr1:400350-401788 REVERSE LENGTH=612', dbxrefs=[]),\n",
       " SeqRecord(seq=Seq('ATGGCCGCGGAAGAAGCGACGGAGTTCTACCTGAGATACTATGTCGGTCACAAA...TAG'), id='AT1G02140.1', name='AT1G02140.1', description='AT1G02140.1 | Symbols: MAGO, MEE63, HAP1 | MAGO NASHI, HAPLESS 1, MATERNAL EFFECT EMBRYO ARREST 63 | chr1:403467-404401 REVERSE LENGTH=453', dbxrefs=[]),\n",
       " SeqRecord(seq=Seq('ATGCCGACGGATTCGAAAATGGCCAAGTTTCTTCAATCCTATGGATATGATTTG...TAG'), id='AT1G02145.1', name='AT1G02145.1', description='AT1G02145.1 | Symbols: ALG12, EBS4 | EMS-MUTAGENIZED BRI1(BRASSINOSTEROID INSENSITIVE 1) SUPPRESSOR 4, homolog of asparagine-linked glycosylation 12 | chr1:404627-408485 FORWARD LENGTH=1482', dbxrefs=[]),\n",
       " SeqRecord(seq=Seq('ATGCACGACATTCTTTACCATCGCCATCATTTGGACTCTTATGATCATTTGGAG...TAG'), id='AT1G02145.2', name='AT1G02145.2', description='AT1G02145.2 | Symbols: ALG12, EBS4 | EMS-MUTAGENIZED BRI1(BRASSINOSTEROID INSENSITIVE 1) SUPPRESSOR 4, homolog of asparagine-linked glycosylation 12 | chr1:404915-408485 FORWARD LENGTH=999', dbxrefs=[]),\n",
       " SeqRecord(seq=Seq('ATGCCGACGGATTCGAAAATGGCCAAGTTTCTTCAATCCTATGGATATGATTTG...TAG'), id='AT1G02145.3', name='AT1G02145.3', description='AT1G02145.3 | Symbols: ALG12, EBS4 | EMS-MUTAGENIZED BRI1(BRASSINOSTEROID INSENSITIVE 1) SUPPRESSOR 4, homolog of asparagine-linked glycosylation 12 | chr1:404627-408485 FORWARD LENGTH=1494', dbxrefs=[]),\n",
       " SeqRecord(seq=Seq('ATGCACGACATTCTTTACCATCGCCATCATTTGGACTCTTATGATCATTTGGAG...TAG'), id='AT1G02145.4', name='AT1G02145.4', description='AT1G02145.4 | Symbols: ALG12, EBS4 | EMS-MUTAGENIZED BRI1(BRASSINOSTEROID INSENSITIVE 1) SUPPRESSOR 4, homolog of asparagine-linked glycosylation 12 | chr1:404915-408485 FORWARD LENGTH=1362', dbxrefs=[]),\n",
       " SeqRecord(seq=Seq('ATGCTTCTTCAGGCGGCGGTGCAGAACCGCAATGTTCCACTGGCTTCTTCCGCC...TAA'), id='AT1G02150.1', name='AT1G02150.1', description='AT1G02150.1 | Symbols: CCR16 |  | chr1:408779-410433 FORWARD LENGTH=1575', dbxrefs=[]),\n",
       " SeqRecord(seq=Seq('ATGTCGACGAAAGGCGCGGCGGCGGCGTACCCTAGCGCGGCTCGGATATCTGAT...TGA'), id='AT1G02160.1', name='AT1G02160.1', description='AT1G02160.1 | Symbols: no symbol available | no full name available | chr1:410803-411383 FORWARD LENGTH=216', dbxrefs=[]),\n",
       " SeqRecord(seq=Seq('ATGTCGACGAAAGGCGCGGCGGCGGCGTACCCTAGCGCGGCTCGGATATCTGAT...TAA'), id='AT1G02160.2', name='AT1G02160.2', description='AT1G02160.2 | Symbols: no symbol available | no full name available | chr1:410803-411361 FORWARD LENGTH=276', dbxrefs=[]),\n",
       " SeqRecord(seq=Seq('ATGTACCCGCCACCTCCCTCAAGCATCTACGCTCCTCCGATGCTGGTGAATTGC...TAG'), id='AT1G02170.1', name='AT1G02170.1', description='AT1G02170.1 | Symbols: ATMC1, MCP1b, LOL3, AtMCP1b, ATMCPB1, MC1 | metacaspase 1b, LSD ONE LIKE 3, ARABIDOPSIS THALIANA METACASPASE 1B, ARABIDOPSIS THALIANA METACASPASE 1, metacaspase 1 | chr1:411883-413426 FORWARD LENGTH=1104', dbxrefs=[]),\n",
       " SeqRecord(seq=Seq('ATGAAGAACGAAATCAGCATTTTGGAGTTGATTTTACTGTTTCTGTCACTCTCA...TGA'), id='AT1G02180.1', name='AT1G02180.1', description='AT1G02180.1 | Symbols: no symbol available | no full name available | chr1:413619-414505 REVERSE LENGTH=681', dbxrefs=[]),\n",
       " SeqRecord(seq=Seq('ATGGCGTCGAGGCCCGGAGCTCTTACGGAGTGGCCATGGAGTCCCCTTGGTAGC...TGA'), id='AT1G02190.1', name='AT1G02190.1', description='AT1G02190.1 | Symbols: CER1-L1 | ECERIFERUM1-like1 | chr1:415154-417796 FORWARD LENGTH=1884', dbxrefs=[]),\n",
       " SeqRecord(seq=Seq('ATGGCGTCGAGGCCCGGAGCTCTTACGGAGTGGCCATGGAGTCCCCTTGGTAGC...TGA'), id='AT1G02190.2', name='AT1G02190.2', description='AT1G02190.2 | Symbols: CER1-L1 | ECERIFERUM1-like1 | chr1:415154-417796 FORWARD LENGTH=1872', dbxrefs=[]),\n",
       " SeqRecord(seq=Seq('ATGGGATTTGATCAAATGTATGCAGCGGTGATACATCCGTTTGCGGAGCACATA...TAA'), id='AT1G02205.1', name='AT1G02205.1', description='AT1G02205.1 | Symbols: CER22, CER1 | ECERIFERUM 22, ECERIFERUM 1 | chr1:419650-422154 FORWARD LENGTH=1386', dbxrefs=[]),\n",
       " SeqRecord(seq=Seq('ATGGCCACAAAACCAGGAGTCCTCACCGATTGGCCTTGGACACCCCTCGGAAGT...TAA'), id='AT1G02205.2', name='AT1G02205.2', description='AT1G02205.2 | Symbols: CER22, CER1 | ECERIFERUM 22, ECERIFERUM 1 | chr1:418818-422154 FORWARD LENGTH=1878', dbxrefs=[]),\n",
       " SeqRecord(seq=Seq('ATGGCCACAAAACCAGGAGTCCTCACCGATTGGCCTTGGACACCCCTCGGAAGT...TAA'), id='AT1G02205.3', name='AT1G02205.3', description='AT1G02205.3 | Symbols: CER22, CER1 | ECERIFERUM 22, ECERIFERUM 1 | chr1:418818-422154 FORWARD LENGTH=1893', dbxrefs=[]),\n",
       " SeqRecord(seq=Seq('ATGATCGAATCCCGTTACGTTACTGATATATATGTTTTTCTTGACATTGAAACA...TAA'), id='AT1G02205.4', name='AT1G02205.4', description='AT1G02205.4 | Symbols: CER22, CER1 | ECERIFERUM 22, ECERIFERUM 1 | chr1:418924-422154 FORWARD LENGTH=1881', dbxrefs=[]),\n",
       " SeqRecord(seq=Seq('ATGGAGCATGAGAATTGCAGATACCACTCGCTGCACCACACGCAGTTCCGGACC...TAA'), id='AT1G02205.5', name='AT1G02205.5', description='AT1G02205.5 | Symbols: CER22, CER1 | ECERIFERUM 22, ECERIFERUM 1 | chr1:420494-422154 FORWARD LENGTH=1161', dbxrefs=[]),\n",
       " SeqRecord(seq=Seq('ATGGTATGGTTCTTCTTTAGTTGTGATGAATATAACGAAGAAATATTGAAAACG...TAA'), id='AT1G02210.1', name='AT1G02210.1', description='AT1G02210.1 | Symbols: no symbol available | no full name available | chr1:427548-427811 REVERSE LENGTH=264', dbxrefs=[]),\n",
       " SeqRecord(seq=Seq('ATGGAAACTCCTGTGGGTTTAAGATTCTGTCCGACCGACGAGGAGATCGTCGTC...TGA'), id='AT1G02220.1', name='AT1G02220.1', description='AT1G02220.1 | Symbols: XVP, NAC003, ANAC003 | NAC domain containing protein 3 | chr1:428902-430567 REVERSE LENGTH=1185', dbxrefs=[]),\n",
       " SeqRecord(seq=Seq('ATGATGAATCCGGTGGGTTTCAGATTCCGTCCAAACGACGAGGAGATCGTCGAC...TGA'), id='AT1G02230.1', name='AT1G02230.1', description='AT1G02230.1 | Symbols: ANAC004, NAC004 | NAC domain containing protein 4 | chr1:435174-436775 REVERSE LENGTH=1080', dbxrefs=[]),\n",
       " SeqRecord(seq=Seq('ATGGCGAATCCGGTGGGTTTTAGATTCCGTCCGACTGACGGGGAGATCGTCGAC...TGA'), id='AT1G02250.1', name='AT1G02250.1', description='AT1G02250.1 | Symbols: anac005, NAC005 | NAC domain containing protein 5 | chr1:437951-439559 REVERSE LENGTH=1089', dbxrefs=[]),\n",
       " SeqRecord(seq=Seq('ATGGCAATGGCTCCAGTAATAAAGCTGGTCTTAGGTTCAGTTGCCTTTGCCATT...TAA'), id='AT1G02260.1', name='AT1G02260.1', description='AT1G02260.1 | Symbols: no symbol available | no full name available | chr1:440757-442459 REVERSE LENGTH=1509', dbxrefs=[]),\n",
       " SeqRecord(seq=Seq('ATGGCAATGGCTCCAGTAATAAAGCTGGTCTTAGGTTCAGTTGCCTTTGCCATT...TAA'), id='AT1G02260.2', name='AT1G02260.2', description='AT1G02260.2 | Symbols: no symbol available | no full name available | chr1:440757-442459 REVERSE LENGTH=1509', dbxrefs=[]),\n",
       " SeqRecord(seq=Seq('ATGCAAAGCCATCAGAATCGAAGCAGGCTGAGCTTGATTCTACGGTCTAGATTC...TAA'), id='AT1G02270.1', name='AT1G02270.1', description='AT1G02270.1 | Symbols: no symbol available | no full name available | chr1:443301-446197 REVERSE LENGTH=1455', dbxrefs=[]),\n",
       " SeqRecord(seq=Seq('ATGTACCACCACCAGCTTTCATCTTCAGGCTACACTATTTATCAGTTGGCTAGA...TAA'), id='AT1G02270.2', name='AT1G02270.2', description='AT1G02270.2 | Symbols: no symbol available | no full name available | chr1:443301-445526 REVERSE LENGTH=1050', dbxrefs=[]),\n",
       " SeqRecord(seq=Seq('ATGGGGTCTCTCGTTCGTGAATGGGTTGGGTTTCAGCAATTTCCAGCAGCTACC...TAA'), id='AT1G02280.1', name='AT1G02280.1', description='AT1G02280.1 | Symbols: TOC33, PPI1, ATTOC33 | PLASTID PROTEIN IMPORT 1, translocon at the outer envelope membrane of chloroplasts 33 | chr1:448665-450246 REVERSE LENGTH=894', dbxrefs=[]),\n",
       " SeqRecord(seq=Seq('ATGGGGTCTCTCGTTCGTGAATGGGTTGGGTTTCAGCAATTTCCAGCAGCTACC...TAA'), id='AT1G02280.2', name='AT1G02280.2', description='AT1G02280.2 | Symbols: TOC33, PPI1, ATTOC33 | PLASTID PROTEIN IMPORT 1, translocon at the outer envelope membrane of chloroplasts 33 | chr1:448665-450246 REVERSE LENGTH=894', dbxrefs=[]),\n",
       " SeqRecord(seq=Seq('ATGAATAAGAATCAAACAGTTGGGCTAGACTCTGAAGATGATGACTCTGATGAT...TGA'), id='AT1G02290.1', name='AT1G02290.1', description='AT1G02290.1 | Symbols: NFRKB3 |  | chr1:450646-451977 REVERSE LENGTH=1332', dbxrefs=[]),\n",
       " SeqRecord(seq=Seq('ATGGCTGATAGTTGTTGTATCAGACTTCACTTATTAGCCTCTGTTTTCTTGCTC...TAA'), id='AT1G02300.1', name='AT1G02300.1', description='AT1G02300.1 | Symbols: AtcathB1 |  | chr1:453288-455376 FORWARD LENGTH=1140', dbxrefs=[]),\n",
       " SeqRecord(seq=Seq('ATGGCTGATAATTGTATCAGACTTCTTCACTCAGCCTCTGTTTTCTTCTGTTTA...TAA'), id='AT1G02305.1', name='AT1G02305.1', description='AT1G02305.1 | Symbols: AtcathB2 |  | chr1:455816-457974 FORWARD LENGTH=1089', dbxrefs=[]),\n",
       " SeqRecord(seq=Seq('ATGTTAAACATCTTACCGTTTTTCTTGTTCTTTCTTCCGTTTCTCATCGGAAAC...TGA'), id='AT1G02310.1', name='AT1G02310.1', description='AT1G02310.1 | Symbols: MAN1 | endo-beta-mannanase 1 | chr1:458243-460652 REVERSE LENGTH=1236', dbxrefs=[]),\n",
       " SeqRecord(seq=Seq('ATGTCCTTAACGTTTCATGTTGTGTCATTCTCTTTTCTTCAAGTCGGCAAAAGT...TGA'), id='AT1G02310.2', name='AT1G02310.2', description='AT1G02310.2 | Symbols: MAN1 | endo-beta-mannanase 1 | chr1:458243-460712 REVERSE LENGTH=1296', dbxrefs=[]),\n",
       " SeqRecord(seq=Seq('ATGTTTATATTTTCCAAGTATGGATCAAAGGCTCTAACAGCAACAAATGGGAAA...TAA'), id='AT1G02320.1', name='AT1G02320.1', description='AT1G02320.1 | Symbols: no symbol available | no full name available | chr1:461828-461974 FORWARD LENGTH=147', dbxrefs=[]),\n",
       " SeqRecord(seq=Seq('ATGCCGCCGAAGAGAAATTTCAGGAAGCGTAGCTTCGAGGAGGAAGAAGAAGAT...TAA'), id='AT1G02330.1', name='AT1G02330.1', description='AT1G02330.1 | Symbols: CSU2 | COP1 SUPPRESSOR 2 | chr1:462202-463521 REVERSE LENGTH=840', dbxrefs=[]),\n",
       " SeqRecord(seq=Seq('ATGATGAATTCAAGAATTTCTATTATCATTGCGTTATCTTGCATTATGATCACT...TAA'), id='AT1G02335.1', name='AT1G02335.1', description='AT1G02335.1 | Symbols: PDGLP2, GL22 | PLASMODESMAL GERMIN-LIKE PROTEIN 2, germin-like protein subfamily 2 member 2 precursor | chr1:463979-464876 REVERSE LENGTH=660', dbxrefs=[]),\n",
       " SeqRecord(seq=Seq('ATGTCGAATAATCAAGCTTTCATGGAATTGGGATGGAGAAACGACGTCGGATCA...TGA'), id='AT1G02340.1', name='AT1G02340.1', description='AT1G02340.1 | Symbols: RSF1, REP1, HFR1, FBI1 | REDUCED PHYTOCHROME SIGNALING 1, REDUCED SENSITIVITY TO FAR-RED LIGHT 1, LONG HYPOCOTYL IN FAR-RED | chr1:465933-467685 REVERSE LENGTH=879', dbxrefs=[]),\n",
       " SeqRecord(seq=Seq('ATGGAATTGGGATGGAGAAACGACGTCGGATCACTTGCTGTGAAAGATCAGGGC...TGA'), id='AT1G02340.2', name='AT1G02340.2', description='AT1G02340.2 | Symbols: RSF1, REP1, HFR1, FBI1 | REDUCED PHYTOCHROME SIGNALING 1, REDUCED SENSITIVITY TO FAR-RED LIGHT 1, LONG HYPOCOTYL IN FAR-RED | chr1:465933-467533 REVERSE LENGTH=858', dbxrefs=[]),\n",
       " SeqRecord(seq=Seq('ATGGAAATATCAAATGTCTCTTCTCCGTCCGGCGGTGTCGCAGCCATTTCTCTC...TAG'), id='AT1G02350.1', name='AT1G02350.1', description='AT1G02350.1 | Symbols: no symbol available | no full name available | chr1:469818-470693 FORWARD LENGTH=423', dbxrefs=[]),\n",
       " SeqRecord(seq=Seq('ATGGCTCAACAACACTCTTTTCTCCTCTTATGCTTCTTCCTCTCAATCTCTTAT...TAA'), id='AT1G02360.1', name='AT1G02360.1', description='AT1G02360.1 | Symbols: no symbol available | no full name available | chr1:472138-473116 REVERSE LENGTH=819', dbxrefs=[]),\n",
       " SeqRecord(seq=Seq('ATGTATAAACGAACCTTCAGACCAATGAAAAAAAAGTCCACCGTTAAAGTCAAA...TAA'), id='AT1G02360.2', name='AT1G02360.2', description='AT1G02360.2 | Symbols: no symbol available | no full name available | chr1:472138-473254 REVERSE LENGTH=957', dbxrefs=[]),\n",
       " SeqRecord(seq=Seq('ATGAAAACACATGAGAGCATGTATAAACGAACCTTCAGACCAATGAAAAAAAAG...TAA'), id='AT1G02360.3', name='AT1G02360.3', description='AT1G02360.3 | Symbols: no symbol available | no full name available | chr1:472138-473272 REVERSE LENGTH=975', dbxrefs=[]),\n",
       " SeqRecord(seq=Seq('ATGAATTTCCGTAATCTGATTGCTTCCGGTTCTCGCCTCGGCAAGAGGTTCTGT...TAA'), id='AT1G02370.1', name='AT1G02370.1', description='AT1G02370.1 | Symbols: no symbol available | no full name available | chr1:474516-476383 FORWARD LENGTH=1614', dbxrefs=[]),\n",
       " SeqRecord(seq=Seq('ATGGATCAAATGTTATCAGGAGAACAAGATCTTGAAGTAGATATTGAAGCTGGT...TGA'), id='AT1G02380.1', name='AT1G02380.1', description='AT1G02380.1 | Symbols: no symbol available | no full name available | chr1:477814-478850 FORWARD LENGTH=696', dbxrefs=[]),\n",
       " SeqRecord(seq=Seq('ATGTCCGGTAATAAGATCTCGACTCTTCAAGCTCTTGTCTTCTTCTTGTACCGG...TAA'), id='AT1G02390.1', name='AT1G02390.1', description='AT1G02390.1 | Symbols: ATGPAT2, GPAT2 | GLYCEROL-3-PHOSPHATE sn-2-ACYLTRANSFERASE 2 | chr1:480921-483163 FORWARD LENGTH=1593', dbxrefs=[]),\n",
       " SeqRecord(seq=Seq('ATGGTTTTGCCATCTTCAACACCGTTACAAACCACCGGAAAGAAGACGATATCC...TAG'), id='AT1G02400.1', name='AT1G02400.1', description='AT1G02400.1 | Symbols: ATGA2OX6, DTA1, ATGA2OX4, GA2OX6 | Arabidopsis thaliana gibberellin 2-oxidase 4, ARABIDOPSIS THALIANA GIBBERELLIN 2-OXIDASE 6, gibberellin 2-oxidase 6, DOWNSTREAM TARGET OF AGL15 1 | chr1:486964-489391 FORWARD LENGTH=990', dbxrefs=[]),\n",
       " SeqRecord(seq=Seq('ATGGTTTTGCCATCTTCAACACCGTTACAAACCACCGGAAAGAAGACGATATCC...TAA'), id='AT1G02400.2', name='AT1G02400.2', description='AT1G02400.2 | Symbols: ATGA2OX6, DTA1, ATGA2OX4, GA2OX6 | Arabidopsis thaliana gibberellin 2-oxidase 4, ARABIDOPSIS THALIANA GIBBERELLIN 2-OXIDASE 6, gibberellin 2-oxidase 6, DOWNSTREAM TARGET OF AGL15 1 | chr1:486964-489116 FORWARD LENGTH=798', dbxrefs=[]),\n",
       " SeqRecord(seq=Seq('ATGTCGCCTAAAACTCGCCGATCGACGGATCTTGCGGCCACAATCCTCATGGCT...TGA'), id='AT1G02405.1', name='AT1G02405.1', description='AT1G02405.1 | Symbols: no symbol available | no full name available | chr1:490093-490497 REVERSE LENGTH=405', dbxrefs=[]),\n",
       " SeqRecord(seq=Seq('ATGTCGTGGTCGAAAGCTTGTAGAGGAACTCGAATTTCTTCATATTTAGAGAAC...TAA'), id='AT1G02410.1', name='AT1G02410.1', description='AT1G02410.1 | Symbols: COX11 | cytochrome c oxidase 11 | chr1:491300-492762 FORWARD LENGTH=864', dbxrefs=[]),\n",
       " SeqRecord(seq=Seq('ATGTCGTGGTCGAAAGCTTGTAGAGGAACTCGAATTTCTTCATATTTAGAGAAC...TAA'), id='AT1G02410.2', name='AT1G02410.2', description='AT1G02410.2 | Symbols: COX11 | cytochrome c oxidase 11 | chr1:491300-492762 FORWARD LENGTH=864', dbxrefs=[]),\n",
       " SeqRecord(seq=Seq('ATGTCGTGGTCGAAAGCTTGTAGAGGAACTCGAATTTCTTCATATTTAGAGAAC...TAA'), id='AT1G02410.3', name='AT1G02410.3', description='AT1G02410.3 | Symbols: COX11 | cytochrome c oxidase 11 | chr1:491300-492762 FORWARD LENGTH=864', dbxrefs=[]),\n",
       " SeqRecord(seq=Seq('ATGATGATGATCCTCAAGCCTTTATCTTCTCACCACGTTTCCAATTTCCGTCTC...TAA'), id='AT1G02420.1', name='AT1G02420.1', description='AT1G02420.1 | Symbols: no symbol available | no full name available | chr1:493683-495158 FORWARD LENGTH=1476', dbxrefs=[]),\n",
       " SeqRecord(seq=Seq('ATGGGGACAGCTCTGGGAAAGCCATTTGCCGGTTTTTTCCACCAAGAAGAATCG...TAA'), id='AT1G02430.1', name='AT1G02430.1', description='AT1G02430.1 | Symbols: ATARFD1B, ARL3, ARFD1B | ADP-ribosylation factor D1B, ADP-ribosylation factor 3 | chr1:495175-496062 REVERSE LENGTH=573', dbxrefs=[]),\n",
       " SeqRecord(seq=Seq('ATGGGGACAGCTCTGGGAAAGCCATTTGCCGGTTTTTTCCACCAAGAAGAATCG...TAA'), id='AT1G02430.2', name='AT1G02430.2', description='AT1G02430.2 | Symbols: ATARFD1B, ARL3, ARFD1B | ADP-ribosylation factor D1B, ADP-ribosylation factor 3 | chr1:495346-496062 REVERSE LENGTH=492', dbxrefs=[]),\n",
       " SeqRecord(seq=Seq('ATGGGGACGACTCTGGGAAAGCCATTTGCCGGTTTTTTTCACCAAGAAGAAGCG...TAA'), id='AT1G02440.1', name='AT1G02440.1', description='AT1G02440.1 | Symbols: ATARFD1A, ARL4, ARFD1A | ADP-ribosylation factor D1A, ADP-ribosylation factor 4 | chr1:496586-497479 REVERSE LENGTH=573', dbxrefs=[]),\n",
       " SeqRecord(seq=Seq('ATGGGGACGACTCTGGGAAAGCCATTTGCCGGTTTTTTTCACCAAGAAGAAGCG...TAA'), id='AT1G02440.2', name='AT1G02440.2', description='AT1G02440.2 | Symbols: ATARFD1A, ARL4, ARFD1A | ADP-ribosylation factor D1A, ADP-ribosylation factor 4 | chr1:496756-497479 REVERSE LENGTH=372', dbxrefs=[]),\n",
       " SeqRecord(seq=Seq('ATGTATCCTAAACAATTTAGTTTATACAATTATTCCCTAGAGACCATGAGCAAG...TAG'), id='AT1G02450.1', name='AT1G02450.1', description='AT1G02450.1 | Symbols: NIMIN1, NIMIN-1 | NIM1-interacting 1 | chr1:498052-498480 REVERSE LENGTH=429', dbxrefs=[]),\n",
       " SeqRecord(seq=Seq('ATGTTAACTTCTACTTATAATCGCAACCAAGTCCTCGGTTTCATGACACTTATT...TGA'), id='AT1G02460.1', name='AT1G02460.1', description='AT1G02460.1 | Symbols: no symbol available | no full name available | chr1:504897-507099 REVERSE LENGTH=1476', dbxrefs=[]),\n",
       " SeqRecord(seq=Seq('ATGTCATCAATAGCTTCTGGCACAGTTTCAACAACCAGATCGACACTTTGTTTC...TAA'), id='AT1G02470.1', name='AT1G02470.1', description='AT1G02470.1 | Symbols: no symbol available | no full name available | chr1:511916-513573 REVERSE LENGTH=663', dbxrefs=[]),\n",
       " SeqRecord(seq=Seq('ATGTCATCAATAGCTTCTGGCACAGTTTCAACAACCAGATCGACACTTTGTTTC...TGA'), id='AT1G02470.2', name='AT1G02470.2', description='AT1G02470.2 | Symbols: no symbol available | no full name available | chr1:512059-513573 REVERSE LENGTH=603', dbxrefs=[]),\n",
       " SeqRecord(seq=Seq('ATGTCTGTAGTAGCAATTAACATGAACACGATCAATCACTTGTCCAAAACCTGT...TAA'), id='AT1G02475.1', name='AT1G02475.1', description='AT1G02475.1 | Symbols: no symbol available | no full name available | chr1:514110-515331 REVERSE LENGTH=660', dbxrefs=[]),\n",
       " SeqRecord(seq=Seq('ATGGAGATGATGATGTTAACTGGAACAGAGGCAGCAGTAATTGATGATCTAACA...TGA'), id='AT1G02490.1', name='AT1G02490.1', description='AT1G02490.1 | Symbols: no symbol available | no full name available | chr1:516618-516734 FORWARD LENGTH=117', dbxrefs=[]),\n",
       " SeqRecord(seq=Seq('ATGGAGACTTTTCTATTCACATCTGAGTCTGTAAACGAGGGACACCCAGACAAG...TAA'), id='AT1G02500.1', name='AT1G02500.1', description='AT1G02500.1 | Symbols: METK1, SAM-1, AtSAM1, SAM1, MAT1 | S-adenosylmethionine synthetase 1, S-ADENOSYLMETHIONINE SYNTHETASE-1 | chr1:519037-520218 FORWARD LENGTH=1182', dbxrefs=[]),\n",
       " SeqRecord(seq=Seq('ATGGAGACTTTTCTATTCACATCTGAGTCTGTAAACGAGGGACACCCAGACAAG...TAA'), id='AT1G02500.2', name='AT1G02500.2', description='AT1G02500.2 | Symbols: METK1, SAM-1, AtSAM1, SAM1, MAT1 | S-adenosylmethionine synthetase 1, S-ADENOSYLMETHIONINE SYNTHETASE-1 | chr1:519037-520218 FORWARD LENGTH=1182', dbxrefs=[]),\n",
       " SeqRecord(seq=Seq('ATGGAAGAAGAGAACCTTCTCAATGAGAACCTTCTCCATCCCAACGAGTCCTCA...TGA'), id='AT1G02510.1', name='AT1G02510.1', description='AT1G02510.1 | Symbols: KCO4, ATTPK4, TPK4, ATKCO4 | CA2+ ACTIVATED OUTWARD RECTIFYING K+ CHANNEL 4 | chr1:520687-521626 REVERSE LENGTH=855', dbxrefs=[]),\n",
       " SeqRecord(seq=Seq('ATGAACGGTGACGGCGCCAGAGAAGGCGACTCTGTTTCACACGAACCATCAACA...TGA'), id='AT1G02520.1', name='AT1G02520.1', description='AT1G02520.1 | Symbols: ABCB11, MDR8, PGP11 | ATP-binding cassette B11, multi-drug resistance 8, P-glycoprotein 11 | chr1:524134-528745 FORWARD LENGTH=3837', dbxrefs=[]),\n",
       " SeqRecord(seq=Seq('ATGAACGGTGACGGCGCCAGAGAAGGCGACTCTGTTTCACACGAACCATCAACA...TGA'), id='AT1G02520.2', name='AT1G02520.2', description='AT1G02520.2 | Symbols: ABCB11, MDR8, PGP11 | ATP-binding cassette B11, multi-drug resistance 8, P-glycoprotein 11 | chr1:524134-528745 FORWARD LENGTH=3837', dbxrefs=[]),\n",
       " SeqRecord(seq=Seq('ATGAACGGTGACGGCGCCAGAGAAGGCGACTCTGTTTCACACGAACCATCAACA...TGA'), id='AT1G02520.3', name='AT1G02520.3', description='AT1G02520.3 | Symbols: ABCB11, MDR8, PGP11 | ATP-binding cassette B11, multi-drug resistance 8, P-glycoprotein 11 | chr1:524134-528745 FORWARD LENGTH=3837', dbxrefs=[]),\n",
       " SeqRecord(seq=Seq('ATGAACCGTGACGGCGCCGGAGAAGGCGACTCTGTTTCACACGAACATTCAACA...TGA'), id='AT1G02530.1', name='AT1G02530.1', description='AT1G02530.1 | Symbols: ABCB12, PGP12 | ATP-binding cassette B12, P-glycoprotein 12 | chr1:529836-534542 FORWARD LENGTH=3822', dbxrefs=[]),\n",
       " SeqRecord(seq=Seq('ATGAACCGTGACGGCGCCGGAGAAGGCGACTCTGTTTCACACGAACATTCAACA...TGA'), id='AT1G02530.2', name='AT1G02530.2', description='AT1G02530.2 | Symbols: ABCB12, PGP12 | ATP-binding cassette B12, P-glycoprotein 12 | chr1:529836-533354 FORWARD LENGTH=2913', dbxrefs=[]),\n",
       " SeqRecord(seq=Seq('ATGACTGAGTATTGGCTAGCGAGTGAGAACGATGCTGAATTCCAAGAAGTTGCC...TAA'), id='AT1G02540.1', name='AT1G02540.1', description='AT1G02540.1 | Symbols: no symbol available | no full name available | chr1:534827-535699 REVERSE LENGTH=873', dbxrefs=[]),\n",
       " SeqRecord(seq=Seq('ATGAAGAAGTCATCACCATTGCTCTGTTTCTCTCTTGCTTTGTTTTCTCTCCTC...TAA'), id='AT1G02550.1', name='AT1G02550.1', description='AT1G02550.1 | Symbols: no symbol available | no full name available | chr1:536483-537211 FORWARD LENGTH=729', dbxrefs=[]),\n",
       " SeqRecord(seq=Seq('ATGGCTCATGCTTGCGTCTCTACATCGGCTTCTTCTCTCAGATTCACAGCTGGA...TAA'), id='AT1G02560.1', name='AT1G02560.1', description='AT1G02560.1 | Symbols: NCLPP1, NCLPP5, CLPP5 | NUCLEAR CLPP 5, NUCLEAR-ENCODED CLPP 1, nuclear encoded CLP protease 5 | chr1:538000-539805 FORWARD LENGTH=897', dbxrefs=[]),\n",
       " SeqRecord(seq=Seq('ATGGAACATGAAGAAACACAGAAGAAGACAGGAATCAGCTGGTCACTGGTTCGA...TAA'), id='AT1G02570.1', name='AT1G02570.1', description='AT1G02570.1 | Symbols: no symbol available | no full name available | chr1:541380-542216 FORWARD LENGTH=837', dbxrefs=[]),\n",
       " SeqRecord(seq=Seq('ATGGAACATGAAGAAACACAAAAGAACACAAGAAACAGCTGGTCCCTGATTCGA...TAA'), id='AT1G02575.1', name='AT1G02575.1', description='AT1G02575.1 | Symbols: no symbol available | no full name available | chr1:543153-543983 FORWARD LENGTH=831', dbxrefs=[]),\n",
       " SeqRecord(seq=Seq('ATGGAGAAGGAAAACCATGAGGACGATGGTGAGGGTTTGCCACCCGAACTAAAT...TAG'), id='AT1G02580.1', name='AT1G02580.1', description='AT1G02580.1 | Symbols: SDG5, FIS1, MEA, EMB173 | EMBRYO DEFECTIVE 173, MEDEA, FERTILIZATION INDEPENDENT SEED 1, SET DOMAIN-CONTAINING PROTEIN 5 | chr1:544796-548994 FORWARD LENGTH=2070', dbxrefs=[]),\n",
       " SeqRecord(seq=Seq('ATGGAGAAGGAAAACCATGAGGACGATGGTGAGGGTTTGCCACCCGAACTAAAT...TAA'), id='AT1G02580.2', name='AT1G02580.2', description='AT1G02580.2 | Symbols: SDG5, FIS1, MEA, EMB173 | EMBRYO DEFECTIVE 173, MEDEA, FERTILIZATION INDEPENDENT SEED 1, SET DOMAIN-CONTAINING PROTEIN 5 | chr1:544796-548253 FORWARD LENGTH=1755', dbxrefs=[]),\n",
       " SeqRecord(seq=Seq('ATGACGAAAAAACCCTTGTATGAAGGAAATGATGAAAAAAACTTAAAGTGTGTG...TGA'), id='AT1G02590.1', name='AT1G02590.1', description='AT1G02590.1 | Symbols: no symbol available | no full name available | chr1:552138-552761 REVERSE LENGTH=270', dbxrefs=[]),\n",
       " SeqRecord(seq=Seq('ATGGGAGATGTAGTTTTGTTCATAGATGAAACATATTTGAAATCGAGTTTTAAT...TGA'), id='AT1G02610.1', name='AT1G02610.1', description='AT1G02610.1 | Symbols: no symbol available | no full name available | chr1:553181-555854 REVERSE LENGTH=666', dbxrefs=[]),\n",
       " SeqRecord(seq=Seq('ATGGGAGATGTAGTTTTGTTCATAGATGAAACATATTTGAAATCGAGTTTTAAT...TGA'), id='AT1G02610.2', name='AT1G02610.2', description='AT1G02610.2 | Symbols: no symbol available | no full name available | chr1:553368-555854 REVERSE LENGTH=612', dbxrefs=[]),\n",
       " SeqRecord(seq=Seq('ATGGAGTATAAACCTGGATACACCACAACTTCAAAACCATCTCGATTTATTGAA...TGA'), id='AT1G02610.3', name='AT1G02610.3', description='AT1G02610.3 | Symbols: no symbol available | no full name available | chr1:553181-555026 REVERSE LENGTH=468', dbxrefs=[]),\n",
       " SeqRecord(seq=Seq('ATGGGCCCTCTCACTCGGGTATTGATTCTTGTTGAGTGGTTTTCACAGGTTGAT...TAA'), id='AT1G02620.1', name='AT1G02620.1', description='AT1G02620.1 | Symbols: no symbol available | no full name available | chr1:557092-557668 FORWARD LENGTH=369', dbxrefs=[]),\n",
       " SeqRecord(seq=Seq('ATGGTTGATGAGAAAGTGATTGTTGATGAAGTTGAGACAAGAGACGCTTATAGA...TGA'), id='AT1G02630.1', name='AT1G02630.1', description='AT1G02630.1 | Symbols: no symbol available | no full name available | chr1:561007-562382 REVERSE LENGTH=1170', dbxrefs=[]),\n",
       " SeqRecord(seq=Seq('ATGGTTGATGAGAAAGTGATTGTTGATGAAGTTGAGACAAGAGACGCTTATAGA...TGA'), id='AT1G02630.2', name='AT1G02630.2', description='AT1G02630.2 | Symbols: no symbol available | no full name available | chr1:561007-562382 REVERSE LENGTH=1038', dbxrefs=[]),\n",
       " SeqRecord(seq=Seq('ATGATTCTCCACAAAATGGCGTTCTTGGCCGTTATTCTCTTCTTCTTGATAAGC...TGA'), id='AT1G02640.1', name='AT1G02640.1', description='AT1G02640.1 | Symbols: BXL2, ATBXL2 | beta-xylosidase 2, BETA-XYLOSIDASE 2 | chr1:564293-567580 FORWARD LENGTH=2307', dbxrefs=[]),\n",
       " SeqRecord(seq=Seq('ATGGCGATTCATCCTTGGTGGAAACGTAACAGAAAGAAAGTGGACAAGTACATG...TAG'), id='AT1G02650.1', name='AT1G02650.1', description='AT1G02650.1 | Symbols: no symbol available | no full name available | chr1:568704-570418 FORWARD LENGTH=1542', dbxrefs=[]),\n",
       " SeqRecord(seq=Seq('ATGTGTACAAAACTGTATCTGATTCAGAAAGTGGACAAGTACATGAAGAATGCG...TAG'), id='AT1G02650.2', name='AT1G02650.2', description='AT1G02650.2 | Symbols: no symbol available | no full name available | chr1:568805-570418 FORWARD LENGTH=1533', dbxrefs=[]),\n",
       " SeqRecord(seq=Seq('ATGGACAGTTTGTGTTTGAATAGCGGTTTACACGGTGTAATTCCAGCGATCACT...TGA'), id='AT1G02660.1', name='AT1G02660.1', description='AT1G02660.1 | Symbols: PLIP2 | PLASTID LIPASE2 | chr1:572187-574746 REVERSE LENGTH=2142', dbxrefs=[]),\n",
       " SeqRecord(seq=Seq('ATGGCTGGTTTAAGATCAGTCCATGTTGGATCTGAGACCAAAGTCGTCTCAAAG...TAA'), id='AT1G02670.1', name='AT1G02670.1', description='AT1G02670.1 | Symbols: no symbol available | no full name available | chr1:576046-580299 FORWARD LENGTH=2037', dbxrefs=[]),\n",
       " SeqRecord(seq=Seq('ATGGAGCCACACTCTCACCACAAGAATGCGATTCTTCCGTCTAGTAGCCAAGAC...TGA'), id='AT1G02670.2', name='AT1G02670.2', description='AT1G02670.2 | Symbols: no symbol available | no full name available | chr1:576562-579980 FORWARD LENGTH=1932', dbxrefs=[]),\n",
       " SeqRecord(seq=Seq('ATGGAGCCACACTCTCACCACAAGAATGCGATTCTTCCGTCTAGTAGCCAAGAC...TAA'), id='AT1G02670.3', name='AT1G02670.3', description='AT1G02670.3 | Symbols: no symbol available | no full name available | chr1:576562-580299 FORWARD LENGTH=2073', dbxrefs=[]),\n",
       " SeqRecord(seq=Seq('ATGGAGCCACACTCTCACCACAAGAATGCGATTCTTCCGTCTAGTAGCCAAGAC...TGA'), id='AT1G02670.4', name='AT1G02670.4', description='AT1G02670.4 | Symbols: no symbol available | no full name available | chr1:576562-579327 FORWARD LENGTH=1587', dbxrefs=[]),\n",
       " SeqRecord(seq=Seq('ATGGAGCCACACTCTCACCACAAGAATGCGATTCTTCCGTCTAGTAGCCAAGAC...TGA'), id='AT1G02670.5', name='AT1G02670.5', description='AT1G02670.5 | Symbols: no symbol available | no full name available | chr1:576562-579980 FORWARD LENGTH=1851', dbxrefs=[]),\n",
       " SeqRecord(seq=Seq('ATGGAGCCACACTCTCACCACAAGAATGCGATTCTTCCGTCTAGTAGCCAAGAC...TAA'), id='AT1G02670.6', name='AT1G02670.6', description='AT1G02670.6 | Symbols: no symbol available | no full name available | chr1:576562-580299 FORWARD LENGTH=1992', dbxrefs=[]),\n",
       " SeqRecord(seq=Seq('ATGGAGCCACACTCTCACCACAAGAATGCGATTCTTCCGTCTAGTAGCCAAGAC...TAA'), id='AT1G02670.7', name='AT1G02670.7', description='AT1G02670.7 | Symbols: no symbol available | no full name available | chr1:576562-580299 FORWARD LENGTH=2004', dbxrefs=[]),\n",
       " SeqRecord(seq=Seq('ATGAGTAACACACCAGCAGCGGCGGCGTCATCATCGTCTAAATCGAAAGCTGCG...TGA'), id='AT1G02680.1', name='AT1G02680.1', description='AT1G02680.1 | Symbols: TAF13 | TBP-associated factor 13 | chr1:581084-581919 FORWARD LENGTH=381', dbxrefs=[]),\n",
       " SeqRecord(seq=Seq('ATGTCTTACAAACCAAGCGCGAAGACTGAGGTTCGCCGGAACAGGTATAAAGTA...TGA'), id='AT1G02690.1', name='AT1G02690.1', description='AT1G02690.1 | Symbols: IMPA-6 | importin alpha isoform 6 | chr1:584397-587036 FORWARD LENGTH=1617', dbxrefs=[]),\n",
       " SeqRecord(seq=Seq('ATGTCTTACAAACCAAGCGCGAAGACTGAGGTTCGCCGGAACAGGTATAAAGTA...TGA'), id='AT1G02690.2', name='AT1G02690.2', description='AT1G02690.2 | Symbols: IMPA-6 | importin alpha isoform 6 | chr1:584397-587036 FORWARD LENGTH=1620', dbxrefs=[]),\n",
       " SeqRecord(seq=Seq('ATGATGATGCAATCCCGATTATTAGCGTTTGCTTCAGCGGCGCGTTCACGTGTT...TAA'), id='AT1G02700.1', name='AT1G02700.1', description='AT1G02700.1 | Symbols: no symbol available | no full name available | chr1:588367-589232 FORWARD LENGTH=744', dbxrefs=[]),\n",
       " SeqRecord(seq=Seq('ATGGAGTTGTTTCTCTGTTTCGTCACTCTGTTTTTACTATCACAATCTGTTGTT...TAA'), id='AT1G02705.1', name='AT1G02705.1', description='AT1G02705.1 | Symbols: no symbol available | no full name available | chr1:589584-590406 FORWARD LENGTH=426', dbxrefs=[]),\n",
       " SeqRecord(seq=Seq('ATGGAAGCAGAAATCGTCGGGGAAGCTTCTGCGGCTGTGATAATGATCGGTGGT...TGA'), id='AT1G02710.1', name='AT1G02710.1', description='AT1G02710.1 | Symbols: no symbol available | no full name available | chr1:589706-589996 REVERSE LENGTH=291', dbxrefs=[]),\n",
       " SeqRecord(seq=Seq('ATGCATTGGATTACGAGATTCTCTGCTTTCTTCTCCGCCGCATTAGCCATGATT...TGA'), id='AT1G02720.1', name='AT1G02720.1', description='AT1G02720.1 | Symbols: GATL5, AtGATL5 | galacturonosyltransferase-like 5 | chr1:592115-593200 FORWARD LENGTH=1086', dbxrefs=[]),\n",
       " SeqRecord(seq=Seq('ATGCATTGGATTACGAGATTCTCTGCTTTCTTCTCCGCCGCATTAGCCATGATT...TGA'), id='AT1G02720.2', name='AT1G02720.2', description='AT1G02720.2 | Symbols: GATL5, AtGATL5 | galacturonosyltransferase-like 5 | chr1:592115-593200 FORWARD LENGTH=1086', dbxrefs=[]),\n",
       " SeqRecord(seq=Seq('ATGGTGAAATCAGCAGCTTCTCAGTCACCATCTCCGGTGACTATAACGGTGACA...TGA'), id='AT1G02730.1', name='AT1G02730.1', description='AT1G02730.1 | Symbols: ATCSLD5, CSLD5, SOS6 | CELLULOSE SYNTHASE LIKE D5, cellulose synthase-like D5, SALT OVERLY SENSITIVE 6 | chr1:594697-598473 REVERSE LENGTH=3546', dbxrefs=[]),\n",
       " SeqRecord(seq=Seq('ATGGGAAGCCCTAACGCCGCCGCCGAGACGGATCTAACAACCGATGATTTCATC...TAG'), id='AT1G02740.1', name='AT1G02740.1', description='AT1G02740.1 | Symbols: MRG2 | MORF related gene 2 | chr1:599734-602021 REVERSE LENGTH=984', dbxrefs=[]),\n",
       " SeqRecord(seq=Seq('ATGGAAGACGATATGTGGTGCGTTAGCTCATCTGGTTCTTCTAGAAGCTATCGA...TAA'), id='AT1G02750.1', name='AT1G02750.1', description='AT1G02750.1 | Symbols: DiL-2 |  | chr1:602673-604134 FORWARD LENGTH=666', dbxrefs=[]),\n",
       " SeqRecord(seq=Seq('ATGGAAGACGATATGTGGTGCGTTAGCTCATCTGGTTCTTCTAGAAGCTATCGA...TAA'), id='AT1G02750.2', name='AT1G02750.2', description='AT1G02750.2 | Symbols: DiL-2 |  | chr1:602673-604134 FORWARD LENGTH=618', dbxrefs=[]),\n",
       " SeqRecord(seq=Seq('ATGGATATGAGTGTGATTATGAGGTATGGGGATGATAAAGCCGAGGAGTTATGC...TGA'), id='AT1G02770.1', name='AT1G02770.1', description='AT1G02770.1 | Symbols: no symbol available | no full name available | chr1:605071-606624 REVERSE LENGTH=951', dbxrefs=[]),\n",
       " SeqRecord(seq=Seq('ATGGTTTCTCTGAAGCTCCAGAAGCGGCTCGCCGCATCAGTGATGAAGTGCGGG...TGA'), id='AT1G02780.1', name='AT1G02780.1', description='AT1G02780.1 | Symbols: emb2386 | embryo defective 2386 | chr1:608120-609391 REVERSE LENGTH=645', dbxrefs=[]),\n",
       " SeqRecord(seq=Seq('ATGGCTAACGCAAGAAGTTTGGTCGCCAAGGCAAACAATATTAACGTAGGTTCA...TAA'), id='AT1G02790.1', name='AT1G02790.1', description='AT1G02790.1 | Symbols: PG45, PGA4 | polygalacturonase 4 | chr1:610681-612225 REVERSE LENGTH=1269', dbxrefs=[]),\n",
       " SeqRecord(seq=Seq('ATGGCTCTCTATCTCTCTTCTTCACGACTCATCACCTTTCTCTCTTTCATCTTG...TAA'), id='AT1G02800.1', name='AT1G02800.1', description='AT1G02800.1 | Symbols: CEL2, ATCEL2 | cellulase 2 | chr1:613386-616103 REVERSE LENGTH=1506', dbxrefs=[]),\n",
       " SeqRecord(seq=Seq('ATGGAATCTCCAATATTCATTCTCATCACACTATCATTCTTTCTTCAATCAGTT...TAG'), id='AT1G02810.1', name='AT1G02810.1', description='AT1G02810.1 | Symbols: no symbol available | no full name available | chr1:618284-620333 FORWARD LENGTH=1740', dbxrefs=[]),\n",
       " SeqRecord(seq=Seq('ATGTCCATTTTCATCATCTTCCTCCTTCTTCTCTCTACTTCTGTATCCGTCTCC...TAA'), id='AT1G02813.1', name='AT1G02813.1', description='AT1G02813.1 | Symbols: no symbol available | no full name available | chr1:620773-621222 FORWARD LENGTH=450', dbxrefs=[]),\n",
       " SeqRecord(seq=Seq('ATGACTCTGCTTCCGATTTCAATCTTCTTCTTCTTTTTATTTTGCATTCCTTCG...TAA'), id='AT1G02816.1', name='AT1G02816.1', description='AT1G02816.1 | Symbols: no symbol available | no full name available | chr1:621637-622137 FORWARD LENGTH=501', dbxrefs=[]),\n",
       " SeqRecord(seq=Seq('ATGGCTCGTTCTCTCGCTAACGCTAAGATCCAATCCGTCTTCGGCTCCGAAAAG...TAA'), id='AT1G02820.1', name='AT1G02820.1', description='AT1G02820.1 | Symbols: LEA2, LEA3, AtLEA3 | late embryogenesis abundant 3, late embryogenesis abundant 38 | chr1:623933-624304 REVERSE LENGTH=276', dbxrefs=[]),\n",
       " SeqRecord(seq=Seq('ATGGCTCGAGTAGGGGCCAAGTCGAGTGGAGCTGGTGCTAAGAAGAAAGGAGTT...TAA'), id='AT1G02830.1', name='AT1G02830.1', description='AT1G02830.1 | Symbols: no symbol available | no full name available | chr1:625145-625608 REVERSE LENGTH=384', dbxrefs=[]),\n",
       " SeqRecord(seq=Seq('ATGAGCAGTCGTTCGAGTAGAACCGTGTACGTCGGAAACCTTCCTGGCGATATC...TAA'), id='AT1G02840.1', name='AT1G02840.1', description='AT1G02840.1 | Symbols: SRP34, ATSRP34, SR1, At-SR34, SR34 | Serine/Arginine-Rich Protein Splicing Factor 34 | chr1:626918-629583 FORWARD LENGTH=912', dbxrefs=[]),\n",
       " SeqRecord(seq=Seq('ATGAGCAGTCGTTCGAGTAGAACCGTGTACGTCGGAAACCTTCCTGGCGATATC...TAA'), id='AT1G02840.2', name='AT1G02840.2', description='AT1G02840.2 | Symbols: SRP34, ATSRP34, SR1, At-SR34, SR34 | Serine/Arginine-Rich Protein Splicing Factor 34 | chr1:626918-628995 FORWARD LENGTH=858', dbxrefs=[]),\n",
       " SeqRecord(seq=Seq('ATGAGCAGTCGTTCGAGTAGAACCGTGTACGTCGGAAACCTTCCTGGCGATATC...TAG'), id='AT1G02840.3', name='AT1G02840.3', description='AT1G02840.3 | Symbols: SRP34, ATSRP34, SR1, At-SR34, SR34 | Serine/Arginine-Rich Protein Splicing Factor 34 | chr1:626918-628798 FORWARD LENGTH=819', dbxrefs=[]),\n",
       " SeqRecord(seq=Seq('ATGAGCAGTCGTTCGAGTAGAACCGTGTACGTCGGAAACCTTCCTGGCGATATC...TAG'), id='AT1G02840.4', name='AT1G02840.4', description='AT1G02840.4 | Symbols: SRP34, ATSRP34, SR1, At-SR34, SR34 | Serine/Arginine-Rich Protein Splicing Factor 34 | chr1:626918-628798 FORWARD LENGTH=819', dbxrefs=[]),\n",
       " SeqRecord(seq=Seq('ATGAGCAGTCGTTCGAGTAGAACCGTGTACGTCGGAAACCTTCCTGGCGATATC...TAG'), id='AT1G02840.5', name='AT1G02840.5', description='AT1G02840.5 | Symbols: SRP34, ATSRP34, SR1, At-SR34, SR34 | Serine/Arginine-Rich Protein Splicing Factor 34 | chr1:626918-628798 FORWARD LENGTH=819', dbxrefs=[]),\n",
       " SeqRecord(seq=Seq('ATGAAGTTATTGAGCAATAGTCTAATGTTCCTTCCTCTGCTGGCTTTGGCTTTA...TGA'), id='AT1G02850.1', name='AT1G02850.1', description='AT1G02850.1 | Symbols: BGLU11 | beta glucosidase 11 | chr1:630569-633085 FORWARD LENGTH=1413', dbxrefs=[]),\n",
       " SeqRecord(seq=Seq('ATGAAGTTATTGAGCAATAGTCTAATGTTCCTTCCTCTGCTGGCTTTGGCTTTA...TGA'), id='AT1G02850.2', name='AT1G02850.2', description='AT1G02850.2 | Symbols: BGLU11 | beta glucosidase 11 | chr1:630569-633085 FORWARD LENGTH=1494', dbxrefs=[]),\n",
       " SeqRecord(seq=Seq('ATGAAGTTATTGAGCAATAGTCTAATGTTCCTTCCTCTGCTGGCTTTGGCTTTA...TAG'), id='AT1G02850.3', name='AT1G02850.3', description='AT1G02850.3 | Symbols: BGLU11 | beta glucosidase 11 | chr1:630569-632653 FORWARD LENGTH=1308', dbxrefs=[]),\n",
       " SeqRecord(seq=Seq('ATGAAGTTATTGAGCAATAGTCTAATGTTCCTTCCTCTGCTGGCTTTGGCTTTA...TGA'), id='AT1G02850.4', name='AT1G02850.4', description='AT1G02850.4 | Symbols: BGLU11 | beta glucosidase 11 | chr1:630569-633085 FORWARD LENGTH=1566', dbxrefs=[]),\n",
       " SeqRecord(seq=Seq('ATGAAGTTATTGAGCAATAGTCTAATGTTCCTTCCTCTGCTGGCTTTGGCTTTA...TGA'), id='AT1G02850.5', name='AT1G02850.5', description='AT1G02850.5 | Symbols: BGLU11 | beta glucosidase 11 | chr1:630569-633085 FORWARD LENGTH=1563', dbxrefs=[]),\n",
       " SeqRecord(seq=Seq('ATGAAGTTTTGTAAGAAGTATGAAGAGTACATGCAAGGACAGAAGGAGAAGAAG...TGA'), id='AT1G02860.1', name='AT1G02860.1', description='AT1G02860.1 | Symbols: NLA, SYG1, BAH1 | nitrogen limitation adaptation, BENZOIC ACID HYPERSENSITIVE 1 | chr1:635474-637083 FORWARD LENGTH=1008', dbxrefs=[]),\n",
       " SeqRecord(seq=Seq('ATGAAGTTTTGTAAGAAGTATGAAGAGTACATGCAAGGACAGAAGGAGAAGAAG...TGA'), id='AT1G02860.2', name='AT1G02860.2', description='AT1G02860.2 | Symbols: NLA, SYG1, BAH1 | nitrogen limitation adaptation, BENZOIC ACID HYPERSENSITIVE 1 | chr1:635474-637083 FORWARD LENGTH=1002', dbxrefs=[]),\n",
       " SeqRecord(seq=Seq('ATGAAGTTTTGTAAGAAGTATGAAGAGTACATGCAAGGACAGAAGGAGAAGAAG...TAG'), id='AT1G02860.3', name='AT1G02860.3', description='AT1G02860.3 | Symbols: NLA, SYG1, BAH1 | nitrogen limitation adaptation, BENZOIC ACID HYPERSENSITIVE 1 | chr1:635474-636389 FORWARD LENGTH=735', dbxrefs=[]),\n",
       " SeqRecord(seq=Seq('ATGGCGAGGTCGAGAAGAAAGTACAGGAACTCTAGGGCTAAAGTTCGCGTTGCT...TGA'), id='AT1G02870.1', name='AT1G02870.1', description='AT1G02870.1 | Symbols: no symbol available | no full name available | chr1:637401-638603 REVERSE LENGTH=582', dbxrefs=[]),\n",
       " SeqRecord(seq=Seq('ATGAAGAAGAACTTGTATTTTAGGTATAAGCCGGATGTTATCAAAGGAGATATG...TAG'), id='AT1G02880.1', name='AT1G02880.1', description='AT1G02880.1 | Symbols: TPK1 | thiamin pyrophosphokinase1 | chr1:643063-643972 REVERSE LENGTH=594', dbxrefs=[]),\n",
       " SeqRecord(seq=Seq('ATGGATGTTATGATTCACTCTTCAAGCTTTCTCCTCCCTTGCGACGAAACTAGT...TAG'), id='AT1G02880.2', name='AT1G02880.2', description='AT1G02880.2 | Symbols: TPK1 | thiamin pyrophosphokinase1 | chr1:643063-644476 REVERSE LENGTH=795', dbxrefs=[]),\n",
       " SeqRecord(seq=Seq('ATGTCAGCCATGGATGTTATGATTCACTCTTCAAGCTTTCTCCTCCCTTGCGAC...TAG'), id='AT1G02880.3', name='AT1G02880.3', description='AT1G02880.3 | Symbols: TPK1 | thiamin pyrophosphokinase1 | chr1:643063-644485 REVERSE LENGTH=804', dbxrefs=[]),\n",
       " SeqRecord(seq=Seq('ATGGATTCTATACGTCGTGACGTCCTCGACTTTTATATAAACTTGGGAACTAAG...TAG'), id='AT1G02880.4', name='AT1G02880.4', description='AT1G02880.4 | Symbols: TPK1 | thiamin pyrophosphokinase1 | chr1:643063-643921 REVERSE LENGTH=543', dbxrefs=[]),\n",
       " SeqRecord(seq=Seq('ATGAAGAAGAACTTGTATTTTAGGTATAAGCCGGATGTTATCAAAGGAGATATG...TAG'), id='AT1G02880.5', name='AT1G02880.5', description='AT1G02880.5 | Symbols: TPK1 | thiamin pyrophosphokinase1 | chr1:643063-643972 REVERSE LENGTH=594', dbxrefs=[]),\n",
       " SeqRecord(seq=Seq('ATGTCAGCCATGGATGTTATGATTCACTCTTCAAGCTTTCTCCTCCCTTGCGAC...TAG'), id='AT1G02880.6', name='AT1G02880.6', description='AT1G02880.6 | Symbols: TPK1 | thiamin pyrophosphokinase1 | chr1:643063-644485 REVERSE LENGTH=822', dbxrefs=[]),\n",
       " SeqRecord(seq=Seq('ATGGTTGATACGAGACGTAGCTCTTCTGCTTCCAAGCGTTTTTGTGCTGCAACA...TAA'), id='AT1G02890.1', name='AT1G02890.1', description='AT1G02890.1 | Symbols: no symbol available | no full name available | chr1:645372-651797 REVERSE LENGTH=3741', dbxrefs=[]),\n",
       " SeqRecord(seq=Seq('ATGGTTGATACGAGACGTAGCTCTTCTGCTTCCAAGCGTTTTTGTGCTGCAACA...TAA'), id='AT1G02890.2', name='AT1G02890.2', description='AT1G02890.2 | Symbols: no symbol available | no full name available | chr1:645372-651797 REVERSE LENGTH=3657', dbxrefs=[]),\n",
       " SeqRecord(seq=Seq('ATGGACAAGTCCTTTACTCTGTTCTTAACTCTTACGATTCTCGTCGTCTTCATC...TAG'), id='AT1G02900.1', name='AT1G02900.1', description='AT1G02900.1 | Symbols: RALF1, ATRALF1, RALFL1 | RAPID ALKALINIZATION FACTOR 1, RALF-LIKE 1, rapid alkalinization factor 1 | chr1:653976-654338 REVERSE LENGTH=363', dbxrefs=[]),\n",
       " SeqRecord(seq=Seq('ATGGCTGTGGCTACAGCTCCGTCGCTAAACCGCCATTTCCCCCGCCGCATCTCG...TGA'), id='AT1G02910.1', name='AT1G02910.1', description='AT1G02910.1 | Symbols: LPA1 | LOW PSII ACCUMULATION1 | chr1:655749-658125 REVERSE LENGTH=1362', dbxrefs=[]),\n",
       " SeqRecord(seq=Seq('ATGGCTGTGGCTACAGCTCCGTCGCTAAACCGCCATTTCCCCCGCCGCATCTCG...TGA'), id='AT1G02910.2', name='AT1G02910.2', description='AT1G02910.2 | Symbols: LPA1 | LOW PSII ACCUMULATION1 | chr1:656293-658125 REVERSE LENGTH=1113', dbxrefs=[]),\n",
       " SeqRecord(seq=Seq('ATGGCAGGAATCAAAGTTTTCGGTCACCCAGCTTCCACAGCCACTAGAAGAGTT...TAA'), id='AT1G02920.1', name='AT1G02920.1', description='AT1G02920.1 | Symbols: ATGSTF8, GSTF7, ATGSTF7, ATGST11, GST11 | GLUTATHIONE S-TRANSFERASE 11, glutathione S-transferase 7, ARABIDOPSIS GLUTATHIONE S-TRANSFERASE 11 | chr1:658886-659705 REVERSE LENGTH=630', dbxrefs=[]),\n",
       " SeqRecord(seq=Seq('ATGGCAGGAATCAAAGTTTTCGGTCACCCAGCTTCCACAGCCACTAGAAGAGTT...TAA'), id='AT1G02930.1', name='AT1G02930.1', description='AT1G02930.1 | Symbols: ATGSTF3, ATGSTF6, GST1, ERD11, GSTF6, ATGST1 | EARLY RESPONSIVE TO DEHYDRATION 11, ARABIDOPSIS GLUTATHIONE S-TRANSFERASE 1, ARABIDOPSIS THALIANA GLUATIONE S-TRANSFERASE F3, glutathione S-transferase 6, GLUTATHIONE S-TRANSFERASE 1, GLUTATHIONE S-TRANSFERASE | chr1:661363-662191 REVERSE LENGTH=627', dbxrefs=[]),\n",
       " SeqRecord(seq=Seq('ATGGCAGGAATCAAAGTTTTCGGTCACCCAGCTTCCACAGCCACTAGAAGAGTT...TAA'), id='AT1G02930.2', name='AT1G02930.2', description='AT1G02930.2 | Symbols: ATGSTF3, ATGSTF6, GST1, ERD11, GSTF6, ATGST1 | EARLY RESPONSIVE TO DEHYDRATION 11, ARABIDOPSIS GLUTATHIONE S-TRANSFERASE 1, ARABIDOPSIS THALIANA GLUATIONE S-TRANSFERASE F3, glutathione S-transferase 6, GLUTATHIONE S-TRANSFERASE 1, GLUTATHIONE S-TRANSFERASE | chr1:661363-662191 REVERSE LENGTH=627', dbxrefs=[]),\n",
       " SeqRecord(seq=Seq('ATGGGCATAAACGCGAGCCATGTACCGGAAACTTGCTACCATCATTGTAACCAG...TAA'), id='AT1G02940.1', name='AT1G02940.1', description='AT1G02940.1 | Symbols: GSTF5, ATGSTF5 | glutathione S-transferase (class phi) 5, GLUTATHIONE S-TRANSFERASE (CLASS PHI) 5 | chr1:663079-664128 REVERSE LENGTH=771', dbxrefs=[]),\n",
       " SeqRecord(seq=Seq('ATGGGTTCCTCCATATTATTGGTTTTGTTTACTCTCATGGTTATGCTGTCCATT...TAA'), id='AT1G02940.2', name='AT1G02940.2', description='AT1G02940.2 | Symbols: GSTF5, ATGSTF5 | glutathione S-transferase (class phi) 5, GLUTATHIONE S-TRANSFERASE (CLASS PHI) 5 | chr1:663079-664277 REVERSE LENGTH=846', dbxrefs=[]),\n",
       " SeqRecord(seq=Seq('ATGGTTATGCTGTCCATTTCTTATGAACCACTCAAATGGATGGGCATAAACGCG...TAA'), id='AT1G02940.3', name='AT1G02940.3', description='AT1G02940.3 | Symbols: GSTF5, ATGSTF5 | glutathione S-transferase (class phi) 5, GLUTATHIONE S-TRANSFERASE (CLASS PHI) 5 | chr1:663079-664241 REVERSE LENGTH=810', dbxrefs=[]),\n",
       " SeqRecord(seq=Seq('ATGGGCATAAACGCGAGCCATGTACCGGAAACTTGCTACCATCATTGTAACCAG...TAA'), id='AT1G02940.4', name='AT1G02940.4', description='AT1G02940.4 | Symbols: GSTF5, ATGSTF5 | glutathione S-transferase (class phi) 5, GLUTATHIONE S-TRANSFERASE (CLASS PHI) 5 | chr1:663079-664128 REVERSE LENGTH=771', dbxrefs=[]),\n",
       " SeqRecord(seq=Seq('ATGGACTGCTTACAGATGGTGTTCAAGTTATTTCCAAACTGGAAACGTGAGGCA...TAA'), id='AT1G02950.1', name='AT1G02950.1', description='AT1G02950.1 | Symbols: GSTF4, ATGSTF4, GST31 | glutathione S-transferase F4, GLUTATHIONE S-TRANSFERASE 31 | chr1:665308-666420 REVERSE LENGTH=732', dbxrefs=[]),\n",
       " SeqRecord(seq=Seq('ATGGACTGCTTACAGATGGTGTTCAAGTTATTTCCAAACTGGAAACGTGAGGCA...TAA'), id='AT1G02950.2', name='AT1G02950.2', description='AT1G02950.2 | Symbols: GSTF4, ATGSTF4, GST31 | glutathione S-transferase F4, GLUTATHIONE S-TRANSFERASE 31 | chr1:665308-666420 REVERSE LENGTH=738', dbxrefs=[]),\n",
       " SeqRecord(seq=Seq('ATGGACTGCTTACAGATGGTGTTCAAGTTATTTCCAAACTGGAAACGTGAGGCA...TAA'), id='AT1G02950.3', name='AT1G02950.3', description='AT1G02950.3 | Symbols: GSTF4, ATGSTF4, GST31 | glutathione S-transferase F4, GLUTATHIONE S-TRANSFERASE 31 | chr1:665308-666420 REVERSE LENGTH=732', dbxrefs=[]),\n",
       " SeqRecord(seq=Seq('ATGGCGATCCTTTCTCCACCAACACAAGGCGTGTCCTCGCTGTTCTCCATGAGA...TAA'), id='AT1G02950.4', name='AT1G02950.4', description='AT1G02950.4 | Symbols: GSTF4, ATGSTF4, GST31 | glutathione S-transferase F4, GLUTATHIONE S-TRANSFERASE 31 | chr1:665308-666244 REVERSE LENGTH=654', dbxrefs=[]),\n",
       " SeqRecord(seq=Seq('ATGCAGAAATTAAACAAGTGTATCTATATCGTATATATGGACTGCTTACAGATG...TAA'), id='AT1G02950.5', name='AT1G02950.5', description='AT1G02950.5 | Symbols: GSTF4, ATGSTF4, GST31 | glutathione S-transferase F4, GLUTATHIONE S-TRANSFERASE 31 | chr1:665308-666456 REVERSE LENGTH=768', dbxrefs=[]),\n",
       " SeqRecord(seq=Seq('ATGTGGCGGCGAAGTAACTTACCGGGGAATCCAGATTCCGATCAGAGCATATCT...TAA'), id='AT1G02960.1', name='AT1G02960.1', description='AT1G02960.1 | Symbols: no symbol available | no full name available | chr1:667002-669773 REVERSE LENGTH=1389', dbxrefs=[]),\n",
       " SeqRecord(seq=Seq('ATGTGGCGGCGAAGTAACTTACCGGGGAATCCAGATTCCGATCAGAGCATATCT...TAA'), id='AT1G02960.2', name='AT1G02960.2', description='AT1G02960.2 | Symbols: no symbol available | no full name available | chr1:667002-669773 REVERSE LENGTH=1416', dbxrefs=[]),\n",
       " SeqRecord(seq=Seq('ATGTGGCGGCGAAGTAACTTACCGGGGAATCCAGATTCCGATCAGAGCATATCT...TAA'), id='AT1G02960.3', name='AT1G02960.3', description='AT1G02960.3 | Symbols: no symbol available | no full name available | chr1:667325-669773 REVERSE LENGTH=1239', dbxrefs=[]),\n",
       " SeqRecord(seq=Seq('ATGTGGCGGCGAAGTAACTTACCGGGGAATCCAGATTCCGATCAGAGCATATCT...TAG'), id='AT1G02960.4', name='AT1G02960.4', description='AT1G02960.4 | Symbols: no symbol available | no full name available | chr1:667503-669773 REVERSE LENGTH=1164', dbxrefs=[]),\n",
       " SeqRecord(seq=Seq('ATGTGGCGGCGAAGTAACTTACCGGGGAATCCAGATTCCGATCAGAGCATATCT...TAA'), id='AT1G02960.5', name='AT1G02960.5', description='AT1G02960.5 | Symbols: no symbol available | no full name available | chr1:667325-669773 REVERSE LENGTH=1266', dbxrefs=[]),\n",
       " SeqRecord(seq=Seq('ATGTGGCGGCGAAGTAACTTACCGGGGAATCCAGATTCCGATCAGAGCATATCT...TAG'), id='AT1G02960.6', name='AT1G02960.6', description='AT1G02960.6 | Symbols: no symbol available | no full name available | chr1:667503-669773 REVERSE LENGTH=1164', dbxrefs=[]),\n",
       " SeqRecord(seq=Seq('ATGGGAATTGGGCCTATTAAAGCCCAATTACTAATACTAAAAGAAAGTAAACTC...TGA'), id='AT1G02965.1', name='AT1G02965.1', description='AT1G02965.1 | Symbols: no symbol available | no full name available | chr1:671661-672814 REVERSE LENGTH=489', dbxrefs=[]),\n",
       " SeqRecord(seq=Seq('ATGTTCGAGAAGAACGGAAGAACACTGTTGGCGAAGAGGAAAACCCAAGGGACA...TGA'), id='AT1G02970.1', name='AT1G02970.1', description='AT1G02970.1 | Symbols: WEE1, ATWEE1 | WEE1 kinase homolog | chr1:673408-676127 FORWARD LENGTH=1503', dbxrefs=[]),\n",
       " SeqRecord(seq=Seq('ATGGCGAAGAAGGATTCTGTGTTGGAGGCAGGATGGTCTGTCATGGAGGCTGGT...TAG'), id='AT1G02980.1', name='AT1G02980.1', description='AT1G02980.1 | Symbols: CUL2, ATCUL2 | cullin 2 | chr1:677869-681212 FORWARD LENGTH=2229', dbxrefs=[]),\n",
       " SeqRecord(seq=Seq('ATGGCGAAGAAGGATTCTGTGTTGGAGGCAGGATGGTCTGTCATGGAGGCTGGT...TAG'), id='AT1G02980.2', name='AT1G02980.2', description='AT1G02980.2 | Symbols: CUL2, ATCUL2 | cullin 2 | chr1:677869-681212 FORWARD LENGTH=2229', dbxrefs=[]),\n",
       " SeqRecord(seq=Seq('ATGTTTCTTGCGTTGACCCAGATGTTGCTCTCTCTTACATTGATGAGAAACTCG...TAA'), id='AT1G02990.1', name='AT1G02990.1', description='AT1G02990.1 | Symbols: no symbol available | no full name available | chr1:683065-686884 REVERSE LENGTH=3210', dbxrefs=[]),\n",
       " SeqRecord(seq=Seq('ATGTTTCTTGCGTTGACCCAGATGTTGCTCTCTCTTACATTGATGAGAAACTCG...TGA'), id='AT1G02990.2', name='AT1G02990.2', description='AT1G02990.2 | Symbols: no symbol available | no full name available | chr1:681724-686884 REVERSE LENGTH=3717', dbxrefs=[]),\n",
       " SeqRecord(seq=Seq('ATGATTTTGGTGAGTAGTAGCGATGCTAGAAGCGAATTAGGGTTAGGGTTTGGT...TGA'), id='AT1G02990.3', name='AT1G02990.3', description='AT1G02990.3 | Symbols: no symbol available | no full name available | chr1:681724-686996 REVERSE LENGTH=3837', dbxrefs=[]),\n",
       " SeqRecord(seq=Seq('ATGATTTTGGTGAGTAGTAGCGATGCTAGAAGCGAATTAGGGTTAGGGTTTGGT...TGA'), id='AT1G02990.4', name='AT1G02990.4', description='AT1G02990.4 | Symbols: no symbol available | no full name available | chr1:681724-686996 REVERSE LENGTH=3837', dbxrefs=[]),\n",
       " SeqRecord(seq=Seq('ATGATTTTGGTGAGTAGTAGCGATGCTAGAAGCGAATTAGGGTTAGGGTTTGGT...TAA'), id='AT1G02990.5', name='AT1G02990.5', description='AT1G02990.5 | Symbols: no symbol available | no full name available | chr1:682069-686996 REVERSE LENGTH=3663', dbxrefs=[]),\n",
       " SeqRecord(seq=Seq('ATGATTTTGGTGAGTAGTAGCGATGCTAGAAGCGAATTAGGGTTAGGGTTTGGT...TGA'), id='AT1G02990.6', name='AT1G02990.6', description='AT1G02990.6 | Symbols: no symbol available | no full name available | chr1:681724-686996 REVERSE LENGTH=3837', dbxrefs=[]),\n",
       " SeqRecord(seq=Seq('ATGGTGGAGAGACGGAATCCTCTGGTTCTATCATCCACAAGAAGTACTCTCCGT...TAA'), id='AT1G03000.1', name='AT1G03000.1', description='AT1G03000.1 | Symbols: PEX6 | peroxin 6 | chr1:688057-692453 REVERSE LENGTH=2826', dbxrefs=[]),\n",
       " SeqRecord(seq=Seq('ATGGGACTTGTTACAGTCGGAGAATTGAAGCCAGCTTTCACAGGAAAGAGAGGG...TGA'), id='AT1G03010.1', name='AT1G03010.1', description='AT1G03010.1 | Symbols: no symbol available | no full name available | chr1:693480-696188 FORWARD LENGTH=1905', dbxrefs=[]),\n",
       " SeqRecord(seq=Seq('ATGGAATTCAAGCCGATATCCGATGTCTCTAGTGATCTGACAGTTCAAGTTGGA...TGA'), id='AT1G03010.2', name='AT1G03010.2', description='AT1G03010.2 | Symbols: no symbol available | no full name available | chr1:694028-696188 FORWARD LENGTH=1824', dbxrefs=[]),\n",
       " SeqRecord(seq=Seq('ATGGAATTCAAGTACACAAAAGATCTTTTGATTCATAATTCAGAAATCCTTTCG...TGA'), id='AT1G03010.3', name='AT1G03010.3', description='AT1G03010.3 | Symbols: no symbol available | no full name available | chr1:694028-696188 FORWARD LENGTH=1902', dbxrefs=[]),\n",
       " SeqRecord(seq=Seq('ATGGAGAAGATATCAAATTTGTTAGAAGACAAGCCCGTGGTGATATTCAGCAAG...TAA'), id='AT1G03020.1', name='AT1G03020.1', description='AT1G03020.1 | Symbols: GRXS1, ROXY16 |  | chr1:698207-698515 REVERSE LENGTH=309', dbxrefs=[]),\n",
       " SeqRecord(seq=Seq('ATGGAGGTTTCTTCTTTCTCCACTGTACCCAGATACTGTAACTCACGCTCCTTT...TGA'), id='AT1G03030.1', name='AT1G03030.1', description='AT1G03030.1 | Symbols: no symbol available | no full name available | chr1:701621-703568 FORWARD LENGTH=906', dbxrefs=[]),\n",
       " SeqRecord(seq=Seq('ATGGAGGTTTCTTCTTTCTCCACTGTACCCAGATACTGTAACTCACGCTCCTTT...TAG'), id='AT1G03030.2', name='AT1G03030.2', description='AT1G03030.2 | Symbols: no symbol available | no full name available | chr1:701621-703447 FORWARD LENGTH=885', dbxrefs=[]),\n",
       " SeqRecord(seq=Seq('ATGGCTAATAACAACAACATCCCACATGATAGCATCTCCGATCCATCTCCTACC...TAG'), id='AT1G03040.1', name='AT1G03040.1', description='AT1G03040.1 | Symbols: PFB2, bHLH007 | PERICYCLE FACTOR TYPE-B 2 | chr1:704279-706457 REVERSE LENGTH=909', dbxrefs=[]),\n",
       " SeqRecord(seq=Seq('ATGGCTAATAACAACAACATCCCACATGATAGCATCTCCGATCCATCTCCTACC...TAG'), id='AT1G03040.2', name='AT1G03040.2', description='AT1G03040.2 | Symbols: PFB2, bHLH007 | PERICYCLE FACTOR TYPE-B 2 | chr1:704279-706457 REVERSE LENGTH=894', dbxrefs=[]),\n",
       " SeqRecord(seq=Seq('ATGGCTAATAACAACAACATCCCACATGATAGCATCTCCGATCCATCTCCTACC...TAG'), id='AT1G03040.3', name='AT1G03040.3', description='AT1G03040.3 | Symbols: PFB2, bHLH007 | PERICYCLE FACTOR TYPE-B 2 | chr1:704279-706457 REVERSE LENGTH=1002', dbxrefs=[]),\n",
       " SeqRecord(seq=Seq('ATGGGTTCGAGTAAGTTTAAACGAGCCATAGGAGCCGTAAAGGACCAAACCAGC...TGA'), id='AT1G03050.1', name='AT1G03050.1', description='AT1G03050.1 | Symbols: PICALM5A | Phosphatidylinositol binding clathrin assembly protein 5a | chr1:707726-709860 FORWARD LENGTH=1800', dbxrefs=[]),\n",
       " SeqRecord(seq=Seq('ATGAACACTAAGCTATCACTTTCTCAGACCAAAATCTTCACTTTCACAACTTGG...TAG'), id='AT1G03055.1', name='AT1G03055.1', description='AT1G03055.1 | Symbols: AtD27, D27 | A. thaliana homolog of rice D27, DWARF27 | chr1:710102-711763 REVERSE LENGTH=795', dbxrefs=[]),\n",
       " SeqRecord(seq=Seq('ATGAACACTAAGCTATCACTTTCTCAGACCAAAATCTTCACTTTCACAACTTGG...TAA'), id='AT1G03055.2', name='AT1G03055.2', description='AT1G03055.2 | Symbols: AtD27, D27 | A. thaliana homolog of rice D27, DWARF27 | chr1:710912-711763 REVERSE LENGTH=603', dbxrefs=[]),\n",
       " SeqRecord(seq=Seq('ATGAAATGGGCAACATTGCTTAAGGACATCAAGGAGAAGGTTGGATTAGCTCAA...TAG'), id='AT1G03060.1', name='AT1G03060.1', description='AT1G03060.1 | Symbols: BCHA1, SPI | SPIRRIG, Beach-Domain Homolog A1 | chr1:712971-726891 REVERSE LENGTH=10806', dbxrefs=[]),\n",
       " SeqRecord(seq=Seq('ATGAAATGGGCAACATTGCTTAAGGACATCAAGGAGAAGGTTGGATTAGCTCAA...TAG'), id='AT1G03060.2', name='AT1G03060.2', description='AT1G03060.2 | Symbols: BCHA1, SPI | SPIRRIG, Beach-Domain Homolog A1 | chr1:712971-726891 REVERSE LENGTH=10803', dbxrefs=[]),\n",
       " SeqRecord(seq=Seq('ATGAAATGGGCAACATTGCTTAAGGACATCAAGGAGAAGGTTGGATTAGCTCAA...TAG'), id='AT1G03060.3', name='AT1G03060.3', description='AT1G03060.3 | Symbols: BCHA1, SPI | SPIRRIG, Beach-Domain Homolog A1 | chr1:712971-726891 REVERSE LENGTH=10716', dbxrefs=[]),\n",
       " SeqRecord(seq=Seq('ATGAAATGGGCAACATTGCTTAAGGACATCAAGGAGAAGGTTGGATTAGCTCAA...TAG'), id='AT1G03060.4', name='AT1G03060.4', description='AT1G03060.4 | Symbols: BCHA1, SPI | SPIRRIG, Beach-Domain Homolog A1 | chr1:712971-726891 REVERSE LENGTH=10719', dbxrefs=[]),\n",
       " SeqRecord(seq=Seq('ATGTATAAGTGGAATCTTCCTTACCGAAAAGATGACGTGGAGACCGGCCGTGAA...TGA'), id='AT1G03070.1', name='AT1G03070.1', description='AT1G03070.1 | Symbols: AtLFG4, LFG4 | LIFEGUARD 4 | chr1:730148-731379 FORWARD LENGTH=744', dbxrefs=[]),\n",
       " SeqRecord(seq=Seq('ATGTATAAGTGGAATCTTCCTTACCGAAAAGATGACGTGGAGACCGGCCGTGAA...TGA'), id='AT1G03070.2', name='AT1G03070.2', description='AT1G03070.2 | Symbols: AtLFG4, LFG4 | LIFEGUARD 4 | chr1:730148-731379 FORWARD LENGTH=744', dbxrefs=[]),\n",
       " SeqRecord(seq=Seq('ATGTATAAGTGGAATCTTCCTTACCGAAAAGATGACGTGGAGACCGGCCGTGAA...TGA'), id='AT1G03070.3', name='AT1G03070.3', description='AT1G03070.3 | Symbols: AtLFG4, LFG4 | LIFEGUARD 4 | chr1:730148-731379 FORWARD LENGTH=744', dbxrefs=[]),\n",
       " SeqRecord(seq=Seq('ATGACTGCTGTTGTGAATGGTAACTCTAAACGCTATTCTTGGTGGTGGGATAGT...TGA'), id='AT1G03080.1', name='AT1G03080.1', description='AT1G03080.1 | Symbols: NET1D | Networked 1D | chr1:731794-737332 REVERSE LENGTH=5202', dbxrefs=[]),\n",
       " SeqRecord(seq=Seq('ATGACTGCTGTTGTGAATGGTAACTCTAAACGCTATTCTTGGTGGTGGGATAGT...TGA'), id='AT1G03080.2', name='AT1G03080.2', description='AT1G03080.2 | Symbols: NET1D | Networked 1D | chr1:731794-737332 REVERSE LENGTH=5202', dbxrefs=[]),\n",
       " SeqRecord(seq=Seq('ATGACTGCTGTTGTGAATGGTAACTCTAAACGCTATTCTTGGTGGTGGGATAGT...TGA'), id='AT1G03080.3', name='AT1G03080.3', description='AT1G03080.3 | Symbols: NET1D | Networked 1D | chr1:731794-737332 REVERSE LENGTH=5202', dbxrefs=[]),\n",
       " SeqRecord(seq=Seq('ATGTCGATGATGACGGTGTGGGCACTTCGACGGAATGTTCGTCGGAAAAATCAC...TAA'), id='AT1G03090.1', name='AT1G03090.1', description='AT1G03090.1 | Symbols: MCCA |  | chr1:739715-743819 FORWARD LENGTH=2145', dbxrefs=[]),\n",
       " SeqRecord(seq=Seq('ATGTCGATGATGACGGTGTGGGCACTTCGACGGAATGTTCGTCGGAAAAATCAC...TAA'), id='AT1G03090.2', name='AT1G03090.2', description='AT1G03090.2 | Symbols: MCCA |  | chr1:739715-743819 FORWARD LENGTH=2205', dbxrefs=[]),\n",
       " SeqRecord(seq=Seq('ATGTTTTCATTGAGGAAAACTAAGCTTCAGCCTGTTTCACTCCACCAGTGTCGT...TGA'), id='AT1G03100.1', name='AT1G03100.1', description='AT1G03100.1 | Symbols: no symbol available | no full name available | chr1:744026-746407 REVERSE LENGTH=2382', dbxrefs=[]),\n",
       " SeqRecord(seq=Seq('ATGATTCTTGCAATATTAGCCCTTGTAATAGCCACCTTTCTATACGGTGGAGCC...TGA'), id='AT1G03103.1', name='AT1G03103.1', description='AT1G03103.1 | Symbols: LTPG19 | glycosylphosphatidylinositol-anchored lipid protein transfer 19 | chr1:747219-747955 FORWARD LENGTH=516', dbxrefs=[]),\n",
       " SeqRecord(seq=Seq('ATGTGTGGTTTTCACTTCCACACAAAAACGTTGGATCCATCGGATTTACGACAG...TGA'), id='AT1G03106.1', name='AT1G03106.1', description='AT1G03106.1 | Symbols: no symbol available | no full name available | chr1:748442-748639 REVERSE LENGTH=198', dbxrefs=[]),\n",
       " SeqRecord(seq=Seq('ATGCAGGAAGAATCTCACATCGAAGAAGTTGAAATCCAAAACAAACTCGAAGTT...TGA'), id='AT1G03110.1', name='AT1G03110.1', description='AT1G03110.1 | Symbols: TRM82, AtTRM82 | tRNA modification 82 | chr1:749359-751796 FORWARD LENGTH=1284', dbxrefs=[]),\n",
       " SeqRecord(seq=Seq('ATGGCACAGCATCAGCATTCTCCTCAAAGGCCAAGAGATCAGGACAACACACGG...TAG'), id='AT1G03120.1', name='AT1G03120.1', description='AT1G03120.1 | Symbols: RAB28 | responsive to abscisic acid 28 | chr1:752271-753140 FORWARD LENGTH=549', dbxrefs=[]),\n",
       " SeqRecord(seq=Seq('ATGGCACAGCATCAGCATTCTCCTCAAAGGCCAAGAGATCAGGACAACACACGG...TAA'), id='AT1G03120.2', name='AT1G03120.2', description='AT1G03120.2 | Symbols: RAB28 | responsive to abscisic acid 28 | chr1:752271-752678 FORWARD LENGTH=408', dbxrefs=[]),\n",
       " SeqRecord(seq=Seq('ATGGCAACTCAAGCCGCCGGAATCTTCAGCCCCGCCATAACAACCACTACTTCC...TAA'), id='AT1G03130.1', name='AT1G03130.1', description='AT1G03130.1 | Symbols: PSAD-2 | photosystem I subunit D-2 | chr1:753528-754142 REVERSE LENGTH=615', dbxrefs=[]),\n",
       " SeqRecord(seq=Seq('ATGGATCTGCTCAGGGAAGAGATTCTGAAGAAACGTAAGAGTCTAGCTGAGGAA...TAG'), id='AT1G03140.1', name='AT1G03140.1', description='AT1G03140.1 | Symbols: PRP18a | pre-mRNA processing  factor 18a | chr1:754471-756223 REVERSE LENGTH=1263', dbxrefs=[]),\n",
       " SeqRecord(seq=Seq('ATGACGACGATACGTAGATTCAGCTGCAATGACCTTCTCCGATTCACTTCCGTG...TAA'), id='AT1G03150.1', name='AT1G03150.1', description='AT1G03150.1 | Symbols: NAA20 | NatB catalytic subunit | chr1:756461-758441 FORWARD LENGTH=525', dbxrefs=[]),\n",
       " SeqRecord(seq=Seq('ATGAGAACTCTAATCTCTCACCGGCAATGTGTGACGTCACCGTTTCTTATCTCC...TAG'), id='AT1G03160.1', name='AT1G03160.1', description='AT1G03160.1 | Symbols: FZL | FZO-like | chr1:761321-766053 FORWARD LENGTH=2739', dbxrefs=[]),\n",
       " SeqRecord(seq=Seq('ATGAGAACTCTAATCTCTCACCGGCAATGTGTGACGTCACCGTTTCTTATCTCC...TGA'), id='AT1G03160.2', name='AT1G03160.2', description='AT1G03160.2 | Symbols: FZL | FZO-like | chr1:761321-765091 FORWARD LENGTH=2223', dbxrefs=[]),\n",
       " SeqRecord(seq=Seq('ATGAGAACTCTAATCTCTCACCGGCAATGTGTGACGTCACCGTTTCTTATCTCC...TGA'), id='AT1G03160.3', name='AT1G03160.3', description='AT1G03160.3 | Symbols: FZL | FZO-like | chr1:761321-765047 FORWARD LENGTH=2079', dbxrefs=[]),\n",
       " SeqRecord(seq=Seq('ATGAGAACTCTAATCTCTCACCGGCAATGTGTGACGTCACCGTTTCTTATCTCC...TAG'), id='AT1G03160.4', name='AT1G03160.4', description='AT1G03160.4 | Symbols: FZL | FZO-like | chr1:761321-766053 FORWARD LENGTH=2652', dbxrefs=[]),\n",
       " SeqRecord(seq=Seq('ATGTACCTCATATCACAGGTTTCTCTTGTTCTGATTGGTTTAGGCAAATCTAAA...TAA'), id='AT1G03165.1', name='AT1G03165.1', description='AT1G03165.1 | Symbols: no symbol available | no full name available | chr1:766363-767324 FORWARD LENGTH=201', dbxrefs=[]),\n",
       " SeqRecord(seq=Seq('ATGTCACTTGTTGTTTGTCAACCTCAAATAAACGAGAGTTTCTATCAAAAAGAT...TAA'), id='AT1G03170.1', name='AT1G03170.1', description='AT1G03170.1 | Symbols: FAF2, FTM5 | FLORAL TRANSITION AT THE MERISTEM5, FANTASTIC FOUR 2 | chr1:769805-770527 FORWARD LENGTH=723', dbxrefs=[]),\n",
       " SeqRecord(seq=Seq('ATGGAAATGGCGGAAGGGGAAGGAACTACAGAGGAGAACTACGACGTAGACATC...TAA'), id='AT1G03180.1', name='AT1G03180.1', description='AT1G03180.1 | Symbols: COMET |  | chr1:773543-775179 FORWARD LENGTH=798', dbxrefs=[]),\n",
       " SeqRecord(seq=Seq('ATGAGTGTTTTACTGAAAACCAGAAACTTCAATTTGCAGCTTTGGTTTTGGCTA...TAA'), id='AT1G03180.2', name='AT1G03180.2', description='AT1G03180.2 | Symbols: COMET |  | chr1:773989-775179 FORWARD LENGTH=756', dbxrefs=[]),\n",
       " SeqRecord(seq=Seq('ATGAGTAGAAAGAGAGAGGTGAAGAATGAGATTAAGAAACTGGAGAAACTGATG...TAA'), id='AT1G03180.3', name='AT1G03180.3', description='AT1G03180.3 | Symbols: COMET |  | chr1:774282-775179 FORWARD LENGTH=540', dbxrefs=[]),\n",
       " SeqRecord(seq=Seq('ATGAGTAGAAAGAGAGAGGTGAAGAATGAGATTAAGAAACTGGAGAAACTGATG...TAA'), id='AT1G03180.4', name='AT1G03180.4', description='AT1G03180.4 | Symbols: COMET |  | chr1:774282-775179 FORWARD LENGTH=540', dbxrefs=[]),\n",
       " SeqRecord(seq=Seq('ATGGAAATGGCGGAAGGGGAAGGAACTACAGAGGAGAACTACGACGTAGACATC...TAA'), id='AT1G03180.5', name='AT1G03180.5', description='AT1G03180.5 | Symbols: COMET |  | chr1:773543-775179 FORWARD LENGTH=798', dbxrefs=[]),\n",
       " SeqRecord(seq=Seq('ATGAGTAGAAAGAGAGAGGTGAAGAATGAGATTAAGAAACTGGAGAAACTGATG...TAA'), id='AT1G03180.6', name='AT1G03180.6', description='AT1G03180.6 | Symbols: COMET |  | chr1:774282-775179 FORWARD LENGTH=540', dbxrefs=[]),\n",
       " SeqRecord(seq=Seq('ATGATCTTTAAAATCGAAGACGTAACTGTCTACTTCCCTTATGACAACATATAT...TAG'), id='AT1G03190.1', name='AT1G03190.1', description='AT1G03190.1 | Symbols: UVH6, ATXPD | ULTRAVIOLET HYPERSENSITIVE 6, ARABIDOPSIS THALIANA XERODERMA PIGMENTOSUM GROUP D | chr1:775822-779863 FORWARD LENGTH=2277', dbxrefs=[]),\n",
       " SeqRecord(seq=Seq('ATGATCTTTAAAATCGAAGACGTAACTGTCTACTTCCCTTATGACAACATATAT...TAG'), id='AT1G03190.2', name='AT1G03190.2', description='AT1G03190.2 | Symbols: UVH6, ATXPD | ULTRAVIOLET HYPERSENSITIVE 6, ARABIDOPSIS THALIANA XERODERMA PIGMENTOSUM GROUP D | chr1:775822-779863 FORWARD LENGTH=2277', dbxrefs=[]),\n",
       " SeqRecord(seq=Seq('ATGAAGATCAGAAGCAAAAGCAAAGGCTATCGTCAAGAGATCAAATCAACTTGC...TAG'), id='AT1G03200.1', name='AT1G03200.1', description='AT1G03200.1 | Symbols: no symbol available | no full name available | chr1:780755-781124 FORWARD LENGTH=126', dbxrefs=[]),\n",
       " SeqRecord(seq=Seq('ATGGCGGAGAAAAAGAGAGTCAAGTACTTCATTGTTGATGCATTCGCTGAATCT...TGA'), id='AT1G03210.1', name='AT1G03210.1', description='AT1G03210.1 | Symbols: no symbol available | no full name available | chr1:782948-784240 FORWARD LENGTH=861', dbxrefs=[]),\n",
       " SeqRecord(seq=Seq('ATGGCGGAGAAAAAGAGAGTCAAGTACTTCATTGTTGATGCATTCGCTGAATCT...TGA'), id='AT1G03210.2', name='AT1G03210.2', description='AT1G03210.2 | Symbols: no symbol available | no full name available | chr1:782948-784240 FORWARD LENGTH=945', dbxrefs=[]),\n",
       " SeqRecord(seq=Seq('ATGGCGCCTTCTCCGATCATCTTCTCCGTTCTTCTTCTCTTCATCTTCTCACTC...TGA'), id='AT1G03220.1', name='AT1G03220.1', description='AT1G03220.1 | Symbols: SAP2 | secreted aspartic protease 2 | chr1:787143-788444 FORWARD LENGTH=1302', dbxrefs=[]),\n",
       " SeqRecord(seq=Seq('ATGGCGTCTTCTCGAATCATCATCTTCTCCGTTCTTCTTCTCTCCATCTTCTCA...TGA'), id='AT1G03230.1', name='AT1G03230.1', description='AT1G03230.1 | Symbols: SAP1 | secreted aspartic protease 1 | chr1:790110-791414 FORWARD LENGTH=1305', dbxrefs=[]),\n",
       " SeqRecord(seq=Seq('ATGACGATCAGAAGCAAAAAAAGCAAAGGCTATCGTCAAGAGATCAAATCAACT...TAG'), id='AT1G03240.1', name='AT1G03240.1', description='AT1G03240.1 | Symbols: no symbol available | no full name available | chr1:792418-792838 REVERSE LENGTH=129', dbxrefs=[]),\n",
       " SeqRecord(seq=Seq('ATGGCGGCTACCAATGTCATGCGGCGAGACGAGAGCCTTCTTATTGATCCCCAA...TAA'), id='AT1G03250.1', name='AT1G03250.1', description='AT1G03250.1 | Symbols: no symbol available | no full name available | chr1:793576-795159 REVERSE LENGTH=738', dbxrefs=[]),\n",
       " SeqRecord(seq=Seq('ATGGCGGCTACCAATGTCATGCGGCGAGACGAGAGCCTTCTTATTGATCCCCAA...TAA'), id='AT1G03250.2', name='AT1G03250.2', description='AT1G03250.2 | Symbols: no symbol available | no full name available | chr1:793576-795159 REVERSE LENGTH=756', dbxrefs=[]),\n",
       " SeqRecord(seq=Seq('ATGGAACTTGTTCCTCGTTTGGATGCCCAAGAAATCAGAGGCTTGTTTGCTCCA...TAA'), id='AT1G03250.3', name='AT1G03250.3', description='AT1G03250.3 | Symbols: no symbol available | no full name available | chr1:793576-794605 REVERSE LENGTH=564', dbxrefs=[]),\n",
       " SeqRecord(seq=Seq('ATGGCGGCTACCAATGTCATGCGGCGAGACGAGAGCCTTCTTATTGATCCCCAA...TGA'), id='AT1G03250.4', name='AT1G03250.4', description='AT1G03250.4 | Symbols: no symbol available | no full name available | chr1:793823-795159 REVERSE LENGTH=588', dbxrefs=[]),\n",
       " SeqRecord(seq=Seq('ATGGCAGCCATGTCCTTTACTCCGTCCACTTTTCGAATCGCTATCTCGTTGCTC...TGA'), id='AT1G03260.1', name='AT1G03260.1', description='AT1G03260.1 | Symbols: no symbol available | no full name available | chr1:795678-798102 REVERSE LENGTH=825', dbxrefs=[]),\n",
       " SeqRecord(seq=Seq('ATGGTTGTTCTGAGCACTTTGGCGTTGGTAAGAGCCGCTTACTCGCTCAACAGT...TAG'), id='AT1G03270.1', name='AT1G03270.1', description='AT1G03270.1 | Symbols: no symbol available | no full name available | chr1:799191-802436 FORWARD LENGTH=1500', dbxrefs=[]),\n",
       " SeqRecord(seq=Seq('ATGGAAAAATCAGGCCCGGTGCAGAAAGCCGTTGTTCTCCAGCCATTTGTCAAG...TGA'), id='AT1G03280.1', name='AT1G03280.1', description='AT1G03280.1 | Symbols: no symbol available | no full name available | chr1:803635-806758 FORWARD LENGTH=1440', dbxrefs=[]),\n",
       " SeqRecord(seq=Seq('ATGGAAAAATCAGGCCCGGTGCAGAAAGCCGTTGTTCTCCAGCCATTTGTCAAG...TGA'), id='AT1G03280.2', name='AT1G03280.2', description='AT1G03280.2 | Symbols: no symbol available | no full name available | chr1:803635-806758 FORWARD LENGTH=1440', dbxrefs=[]),\n",
       " SeqRecord(seq=Seq('ATGGAAAAATCAGGCCCGGTGCAGAAAGCCGTTGTTCTCCAGCCATTTGTCAAG...TGA'), id='AT1G03280.3', name='AT1G03280.3', description='AT1G03280.3 | Symbols: no symbol available | no full name available | chr1:803635-806758 FORWARD LENGTH=1440', dbxrefs=[]),\n",
       " SeqRecord(seq=Seq('ATGGGTTTCGGTTCTGTTTATCGATCTCTAACGGAAATATTTCCTCAGATTGAT...TGA'), id='AT1G03290.1', name='AT1G03290.1', description='AT1G03290.1 | Symbols: no symbol available | no full name available | chr1:807970-810680 FORWARD LENGTH=1716', dbxrefs=[]),\n",
       " SeqRecord(seq=Seq('ATGGGTTTCGGTTCTGTTTATCGATCTCTAACGGAAATATTTCCTCAGATTGAT...TGA'), id='AT1G03290.2', name='AT1G03290.2', description='AT1G03290.2 | Symbols: no symbol available | no full name available | chr1:807970-810680 FORWARD LENGTH=1716', dbxrefs=[]),\n",
       " SeqRecord(seq=Seq('ATGGGTTTCGGTTCTGTTTATCGATCTCTAACGGAAATATTTCCTCAGATTGAT...TGA'), id='AT1G03290.3', name='AT1G03290.3', description='AT1G03290.3 | Symbols: no symbol available | no full name available | chr1:807970-810680 FORWARD LENGTH=1716', dbxrefs=[]),\n",
       " SeqRecord(seq=Seq('ATGGGTTTCGGTTCTGTTTATCGATCTCTAACGGAAATATTTCCTCAGATTGAT...TGA'), id='AT1G03290.4', name='AT1G03290.4', description='AT1G03290.4 | Symbols: no symbol available | no full name available | chr1:807970-810680 FORWARD LENGTH=1716', dbxrefs=[]),\n",
       " SeqRecord(seq=Seq('ATGGGTTTCGGTTCTGTTTATCGATCTCTAACGGAAATATTTCCTCAGATTGAT...TGA'), id='AT1G03290.5', name='AT1G03290.5', description='AT1G03290.5 | Symbols: no symbol available | no full name available | chr1:807970-810680 FORWARD LENGTH=1626', dbxrefs=[]),\n",
       " SeqRecord(seq=Seq('ATGGGTTTCGGTTCTGTTTATCGATCTCTAACGGAAATATTTCCTCAGATTGAT...TGA'), id='AT1G03290.6', name='AT1G03290.6', description='AT1G03290.6 | Symbols: no symbol available | no full name available | chr1:807970-810680 FORWARD LENGTH=1560', dbxrefs=[]),\n",
       " SeqRecord(seq=Seq('ATGGCGATTTTCAAAGATTGTGAAGTAGAGATCTTCTCTGAAGAAGATGGGTTT...TAA'), id='AT1G03300.1', name='AT1G03300.1', description='AT1G03300.1 | Symbols: DUF1, ATDUF1 | DOMAIN OF UNKNOWN FUNCTION 724 1 | chr1:811033-813086 REVERSE LENGTH=2013', dbxrefs=[]),\n",
       " SeqRecord(seq=Seq('ATGGCTGCGTGGTCACCATCAGTTGGGATAGGATCTTGTTGTCTCAATAATGGC...TAG'), id='AT1G03310.1', name='AT1G03310.1', description='AT1G03310.1 | Symbols: ATISA2, BE2, DBE1, ISA2, AtBE2 | debranching enzyme 1, BRANCHING ENZYME 2, ARABIDOPSIS THALIANA ISOAMYLASE 2 | chr1:813975-816623 FORWARD LENGTH=2649', dbxrefs=[]),\n",
       " SeqRecord(seq=Seq('ATGGCTGCGTGGTCACCATCAGTTGGGATAGGATCTTGTTGTCTCAATAATGGC...TAG'), id='AT1G03310.2', name='AT1G03310.2', description='AT1G03310.2 | Symbols: ATISA2, BE2, DBE1, ISA2, AtBE2 | debranching enzyme 1, BRANCHING ENZYME 2, ARABIDOPSIS THALIANA ISOAMYLASE 2 | chr1:813975-816623 FORWARD LENGTH=2649', dbxrefs=[]),\n",
       " SeqRecord(seq=Seq('ATGAACGATGGTTGCTGCTCAAAGTGTCAGGTTAAAGCAACGAAGAAGAAGAAA...TGA'), id='AT1G03320.1', name='AT1G03320.1', description='AT1G03320.1 | Symbols: no symbol available | no full name available | chr1:817027-817767 FORWARD LENGTH=663', dbxrefs=[]),\n",
       " SeqRecord(seq=Seq('TCATCTGTGCATCATAAAGGCAAAAACTTTAAGATTTGTGAAGATAAAAGTAAG...TGA'), id='AT1G03325.1', name='AT1G03325.1', description='AT1G03325.1 | Symbols: no symbol available | no full name available | chr1:817053-817178 REVERSE LENGTH=126', dbxrefs=[]),\n",
       " SeqRecord(seq=Seq('ATGTTGTTCTTTTCTTACTTCAAGGATTTGGTTGGACAAGAAGTGACGGTTGAG...TGA'), id='AT1G03330.1', name='AT1G03330.1', description='AT1G03330.1 | Symbols: LSM2 | SM-like 2 | chr1:818161-819297 REVERSE LENGTH=282', dbxrefs=[]),\n",
       " SeqRecord(seq=Seq('ATGGCTTCTCATAGCTATTCAACACTTAGGTTTAGTCTCCTTCAAGAGCTAAGA...TGA'), id='AT1G03340.1', name='AT1G03340.1', description='AT1G03340.1 | Symbols: no symbol available | no full name available | chr1:819712-821227 FORWARD LENGTH=1158', dbxrefs=[]),\n",
       " SeqRecord(seq=Seq('ATGAATTTCTTCAAATCCGTCTTCACGGAAGACCTAGATCCTCCAGAAACCGAA...TAA'), id='AT1G03350.1', name='AT1G03350.1', description='AT1G03350.1 | Symbols: no symbol available | no full name available | chr1:822834-824246 REVERSE LENGTH=1413', dbxrefs=[]),\n",
       " SeqRecord(seq=Seq('ATGGTGATGAGAAAGCTACAGTTACCGTTGAGCCAGACGCAGAAGGTTAGGTTT...TGA'), id='AT1G03360.1', name='AT1G03360.1', description='AT1G03360.1 | Symbols: SOP2, RRP4, ATRRP4 | ribosomal RNA processing 4, SUPPRESSOR OF PAS2 2 | chr1:824653-826179 FORWARD LENGTH=969', dbxrefs=[]),\n",
       " SeqRecord(seq=Seq('ATGAGTATAGTTCAAAAGCAAGAAGAGATGAATGGATGTGGTCTCAATGTTGAC...TGA'), id='AT1G03365.1', name='AT1G03365.1', description='AT1G03365.1 | Symbols: no symbol available | no full name available | chr1:827182-830191 FORWARD LENGTH=2472', dbxrefs=[]),\n",
       " SeqRecord(seq=Seq('ATGAGTATAGTTCAAAAGCAAGAAGAGATGAATGGATGTGGTCTCAATGTTGAC...TGA'), id='AT1G03365.2', name='AT1G03365.2', description='AT1G03365.2 | Symbols: no symbol available | no full name available | chr1:827182-830191 FORWARD LENGTH=2472', dbxrefs=[]),\n",
       " SeqRecord(seq=Seq('ATGAAGCTTCAGGTCCGAGTCGTGGAAGCGAGGAATCTACCGGCTATGGATCTC...TAA'), id='AT1G03370.1', name='AT1G03370.1', description='AT1G03370.1 | Symbols: no symbol available | no full name available | chr1:830968-834996 FORWARD LENGTH=3063', dbxrefs=[]),\n",
       " SeqRecord(seq=Seq('ATGAAGCTTCAGGTCCGAGTCGTGGAAGCGAGGAATCTACCGGCTATGGATCTC...TAA'), id='AT1G03370.2', name='AT1G03370.2', description='AT1G03370.2 | Symbols: no symbol available | no full name available | chr1:830968-833960 FORWARD LENGTH=2418', dbxrefs=[]),\n",
       " SeqRecord(seq=Seq('ATGATGAAGAAGGGGAAAGGAAAGAACAGTGGCTTGTTACCGAATTCCTTTAAG...TAA'), id='AT1G03380.1', name='AT1G03380.1', description='AT1G03380.1 | Symbols: ATATG18G, ATG18G | homolog of yeast autophagy 18 (ATG18) G | chr1:836155-840362 FORWARD LENGTH=2880', dbxrefs=[]),\n",
       " SeqRecord(seq=Seq('ATGGCTTCTTGCATCCAAGAACTTCATTTCACTCACCTCCATATCCCAGTCACC...TAA'), id='AT1G03390.1', name='AT1G03390.1', description='AT1G03390.1 | Symbols: no symbol available | no full name available | chr1:841033-842418 REVERSE LENGTH=1386', dbxrefs=[]),\n",
       " SeqRecord(seq=Seq('ATGATGTGGATTAATGGTAACCAAGCTGGATTTGGAACTGTAAGATCTCCAAGA...TAA'), id='AT1G03395.1', name='AT1G03395.1', description='AT1G03395.1 | Symbols: no symbol available | no full name available | chr1:841738-842158 FORWARD LENGTH=168', dbxrefs=[]),\n",
       " SeqRecord(seq=Seq('ATGGAGTCAACTGATCGTTCAAGTCAAGCAAAAGCTTTCGACGAGGCCAAAATC...TAA'), id='AT1G03400.1', name='AT1G03400.1', description='AT1G03400.1 | Symbols: no symbol available | no full name available | chr1:842895-844158 REVERSE LENGTH=1056', dbxrefs=[]),\n",
       " SeqRecord(seq=Seq('ATGGAGTCAACTGATCGTTCAAGTCAAGCAAAAGCTTTCGACGAGGCCAAAATC...TAA'), id='AT1G03400.2', name='AT1G03400.2', description='AT1G03400.2 | Symbols: no symbol available | no full name available | chr1:842895-844158 REVERSE LENGTH=1140', dbxrefs=[]),\n",
       " SeqRecord(seq=Seq('ATGGGTCACGATTCCTTTTGTTATTTAATTGTATTAAGATGTGCATTAAGATGT...TGA'), id='AT1G03410.1', name='AT1G03410.1', description='AT1G03410.1 | Symbols: 2A6 |  | chr1:844782-846574 REVERSE LENGTH=1197', dbxrefs=[]),\n",
       " SeqRecord(seq=Seq('ATGGAGTCAAGTGATCGTTCAAGTCAAGCAAAAGCTTTCGACGAGACAAAAACC...TGA'), id='AT1G03410.2', name='AT1G03410.2', description='AT1G03410.2 | Symbols: 2A6 |  | chr1:844782-846463 REVERSE LENGTH=1086', dbxrefs=[]),\n",
       " SeqRecord(seq=Seq('ATGAACACCATCGTCGTTGCTCAGTTGCAGAGACAATTTCAAGACTACATCGTT...TAG'), id='AT1G03430.1', name='AT1G03430.1', description='AT1G03430.1 | Symbols: AHP5 | histidine-containing phosphotransfer factor 5 | chr1:848159-849235 FORWARD LENGTH=474', dbxrefs=[]),\n",
       " SeqRecord(seq=Seq('ATGAACACCATCGTCGTTGCTCAGTTGCAGAGACAATTTCAAGACTACATCGTT...TGA'), id='AT1G03430.2', name='AT1G03430.2', description='AT1G03430.2 | Symbols: AHP5 | histidine-containing phosphotransfer factor 5 | chr1:848159-849127 FORWARD LENGTH=474', dbxrefs=[]),\n",
       " SeqRecord(seq=Seq('ATGATGATGAGATTTACCAAGTTGGTTTGGTGTTTGATGTTCCTGCTTCGATTC...TAG'), id='AT1G03440.1', name='AT1G03440.1', description='AT1G03440.1 | Symbols: no symbol available | no full name available | chr1:852681-853874 FORWARD LENGTH=1194', dbxrefs=[]),\n",
       " SeqRecord(seq=Seq('ATGGCTCCTGATCAATCTTATCAATATCCATCTCCTTCGTATGAATCGATACAG...TAA'), id='AT1G03445.1', name='AT1G03445.1', description='AT1G03445.1 | Symbols: BSU1 | BRI1 SUPPRESSOR 1 | chr1:854653-859599 REVERSE LENGTH=2382', dbxrefs=[]),\n",
       " SeqRecord(seq=Seq('ATGGCTCCTGATCAATCTTATCAATATCCATCTCCTTCGTATGAATCGATACAG...TAG'), id='AT1G03445.2', name='AT1G03445.2', description='AT1G03445.2 | Symbols: BSU1 | BRI1 SUPPRESSOR 1 | chr1:854770-859599 REVERSE LENGTH=2361', dbxrefs=[]),\n",
       " SeqRecord(seq=Seq('ATGGCGGAGGAGACGATGGAGAACGAAGAGAGGGTGAAGCTGTTCGTCGGACAA...TAA'), id='AT1G03457.1', name='AT1G03457.1', description='AT1G03457.1 | Symbols: BRN2, AtBRN2 | Bruno-like 2 | chr1:861109-864019 REVERSE LENGTH=1290', dbxrefs=[]),\n",
       " SeqRecord(seq=Seq('ATGGCGGAGGAGACGATGGAGAACGAAGAGAGGGTGAAGCTGTTCGTCGGACAA...TAA'), id='AT1G03457.2', name='AT1G03457.2', description='AT1G03457.2 | Symbols: BRN2, AtBRN2 | Bruno-like 2 | chr1:861109-864019 REVERSE LENGTH=1317', dbxrefs=[]),\n",
       " SeqRecord(seq=Seq('ATGCTTCCAAAGAATGTCTCTGAAACTGAAGTCCAGTCCTTATTCTCTGAATAC...TAA'), id='AT1G03457.3', name='AT1G03457.3', description='AT1G03457.3 | Symbols: BRN2, AtBRN2 | Bruno-like 2 | chr1:861109-862593 REVERSE LENGTH=975', dbxrefs=[]),\n",
       " SeqRecord(seq=Seq('ATGGTGATGGACTCATCAAAATGGTGGTGGATTGGAAATCACAACACTACTAAT...TAG'), id='AT1G03470.1', name='AT1G03470.1', description='AT1G03470.1 | Symbols: NET3A | Networked 3A | chr1:866217-867493 REVERSE LENGTH=810', dbxrefs=[]),\n",
       " SeqRecord(seq=Seq('ATGGTGATGGACTCATCAAAATGGTGGTGGATTGGAAATCACAACACTACTAAT...TAG'), id='AT1G03470.2', name='AT1G03470.2', description='AT1G03470.2 | Symbols: NET3A | Networked 3A | chr1:866217-867493 REVERSE LENGTH=810', dbxrefs=[]),\n",
       " SeqRecord(seq=Seq('ATGGTGATGGACTCATCAAAATGGTGGTGGATTGGAAATCACAACACTACTAAT...TAG'), id='AT1G03470.3', name='AT1G03470.3', description='AT1G03470.3 | Symbols: NET3A | Networked 3A | chr1:866217-867493 REVERSE LENGTH=810', dbxrefs=[]),\n",
       " SeqRecord(seq=Seq('ATGGTGATGGACTCATCAAAATGGTGGTGGATTGGAAATCACAACACTACTAAT...TAG'), id='AT1G03470.4', name='AT1G03470.4', description='AT1G03470.4 | Symbols: NET3A | Networked 3A | chr1:866217-867493 REVERSE LENGTH=810', dbxrefs=[]),\n",
       " SeqRecord(seq=Seq('ATGGCTTCTCACTCGTCGACTCTCCTCTCTTCTCCTACTTTCGCTCCTTTCTCC...TAG'), id='AT1G03475.1', name='AT1G03475.1', description='AT1G03475.1 | Symbols: HEMF1, ATCPO-I, LIN2 | LESION INITIATION 2 | chr1:869302-871175 REVERSE LENGTH=1161', dbxrefs=[]),\n",
       " SeqRecord(seq=Seq('ATGAAGATTCTTCCGGTTGGATCACGGTTTTGTCCGACGGATCTAGGGTTGGTG...TGA'), id='AT1G03490.1', name='AT1G03490.1', description='AT1G03490.1 | Symbols: ANAC006, NAC006 | NAC domain containing protein 6 | chr1:871874-872906 FORWARD LENGTH=846', dbxrefs=[]),\n",
       " SeqRecord(seq=Seq('ATGGCGGCTCAACTTCAACCTTATAACATCATCGAGACCTGTCACATCTCTCCC...TAG'), id='AT1G03495.1', name='AT1G03495.1', description='AT1G03495.1 | Symbols: no symbol available | no full name available | chr1:873436-874476 FORWARD LENGTH=1041', dbxrefs=[]),\n",
       " SeqRecord(seq=Seq('ATGTCTTCTTCGTACGCGTCGAGCTGCACTAAATTGATCTCTCTCACCAAACAA...TGA'), id='AT1G03510.1', name='AT1G03510.1', description='AT1G03510.1 | Symbols: no symbol available | no full name available | chr1:876258-877547 REVERSE LENGTH=1290', dbxrefs=[]),\n",
       " SeqRecord(seq=Seq('ATGAGAAAATTGTATAGGAAGCTGGTTTCATTCAGAGACCCATTTGCTAGGGTC...TGA'), id='AT1G03520.1', name='AT1G03520.1', description='AT1G03520.1 | Symbols: no symbol available | no full name available | chr1:877948-879553 REVERSE LENGTH=1344', dbxrefs=[]),\n",
       " SeqRecord(seq=Seq('ATGAATTCGACGGCTGATGTTAATCCAGAGCCTCCTAGATTAGCTTATTTAATA...TGA'), id='AT1G03520.2', name='AT1G03520.2', description='AT1G03520.2 | Symbols: no symbol available | no full name available | chr1:877948-879286 REVERSE LENGTH=1077', dbxrefs=[]),\n",
       " SeqRecord(seq=Seq('ATGGTTGGATTTCCCGCTAATCAAGCAAAAACCGTTGAAGAAGAGCTACCTTTG...TGA'), id='AT1G03530.1', name='AT1G03530.1', description='AT1G03530.1 | Symbols: NAF1, ATNAF1 | nuclear assembly factor 1 | chr1:880638-883338 REVERSE LENGTH=2406', dbxrefs=[]),\n",
       " SeqRecord(seq=Seq('ATGAATCTCATCATCCTGAAGCGCCATTTCAGTCAACACGCCTCTTTATGTCTC...TAG'), id='AT1G03540.1', name='AT1G03540.1', description='AT1G03540.1 | Symbols: no symbol available | no full name available | chr1:883782-885611 FORWARD LENGTH=1830', dbxrefs=[]),\n",
       " SeqRecord(seq=Seq('ATGGCACGACACGATCCTAATCCATTTGCTGATGAAGAGATCAATCCTTTTGCG...TGA'), id='AT1G03550.1', name='AT1G03550.1', description='AT1G03550.1 | Symbols: SCAMP4, AtSCAMP4 | Secretory carrier membrane protein 4 | chr1:885851-887778 REVERSE LENGTH=852', dbxrefs=[]),\n",
       " SeqRecord(seq=Seq('ATGAGGACTGTATCTAACAGTCTTCTTCTTCTCATTGCAATACAGGAGCTTAAA...TGA'), id='AT1G03550.2', name='AT1G03550.2', description='AT1G03550.2 | Symbols: SCAMP4, AtSCAMP4 | Secretory carrier membrane protein 4 | chr1:885851-887303 REVERSE LENGTH=675', dbxrefs=[]),\n",
       " SeqRecord(seq=Seq('ATGGAACTCCAGGCCAAGGAGAACGAATTGAAGCGGAAAGAGCAGGAGCTTAAA...TGA'), id='AT1G03550.3', name='AT1G03550.3', description='AT1G03550.3 | Symbols: SCAMP4, AtSCAMP4 | Secretory carrier membrane protein 4 | chr1:885851-887412 REVERSE LENGTH=675', dbxrefs=[]),\n",
       " SeqRecord(seq=Seq('ATGGCACGACACGATCCTAATCCATTTGCTGATGAAGAGATCAATCCTTTTGCG...TAA'), id='AT1G03550.4', name='AT1G03550.4', description='AT1G03550.4 | Symbols: SCAMP4, AtSCAMP4 | Secretory carrier membrane protein 4 | chr1:885993-887778 REVERSE LENGTH=807', dbxrefs=[]),\n",
       " SeqRecord(seq=Seq('ATGGCACGACACGATCCTAATCCATTTGCTGATGAAGAGATCAATCCTTTTGCG...TGA'), id='AT1G03550.5', name='AT1G03550.5', description='AT1G03550.5 | Symbols: SCAMP4, AtSCAMP4 | Secretory carrier membrane protein 4 | chr1:886148-887778 REVERSE LENGTH=747', dbxrefs=[]),\n",
       " SeqRecord(seq=Seq('ATGGCACGACACGATCCTAATCCATTTGCTGATGAAGAGATCAATCCTTTTGCG...TAA'), id='AT1G03550.6', name='AT1G03550.6', description='AT1G03550.6 | Symbols: SCAMP4, AtSCAMP4 | Secretory carrier membrane protein 4 | chr1:886389-887778 REVERSE LENGTH=654', dbxrefs=[]),\n",
       " SeqRecord(seq=Seq('ATGGCACGACACGATCCTAATCCATTTGCTGATGAAGAGATCAATCCTTTTGCG...TAG'), id='AT1G03550.7', name='AT1G03550.7', description='AT1G03550.7 | Symbols: SCAMP4, AtSCAMP4 | Secretory carrier membrane protein 4 | chr1:886527-887778 REVERSE LENGTH=609', dbxrefs=[]),\n",
       " SeqRecord(seq=Seq('ATGCGAAGATTTTACCGGAAGCCCTTTTCTGTACCGCTTCTGAATCGTCCGCAT...TGA'), id='AT1G03560.1', name='AT1G03560.1', description='AT1G03560.1 | Symbols: no symbol available | no full name available | chr1:890428-892410 REVERSE LENGTH=1983', dbxrefs=[]),\n",
       " SeqRecord(seq=Seq('ATGGGAGGTTGTATCTCTAAGACTTCGTGGAGCAATGAAGAGCCTATGCATCGC...TGA'), id='AT1G03590.1', name='AT1G03590.1', description='AT1G03590.1 | Symbols: no symbol available | no full name available | chr1:894480-896257 REVERSE LENGTH=1389', dbxrefs=[]),\n",
       " SeqRecord(seq=Seq('ATGGCTTCAGCATCAGCGACAGCTACTCTTCTCAAACCCAATCTTCCGCCGCAT...TGA'), id='AT1G03600.1', name='AT1G03600.1', description='AT1G03600.1 | Symbols: PSB27 |  | chr1:898916-899440 FORWARD LENGTH=525', dbxrefs=[]),\n",
       " SeqRecord(seq=Seq('ATGGTGAATGTTAAAGGGTCAACCAAAAAATCGAATCTTGATCGATTCCTTCAT...TAA'), id='AT1G03610.1', name='AT1G03610.1', description='AT1G03610.1 | Symbols: no symbol available | no full name available | chr1:901304-902672 FORWARD LENGTH=927', dbxrefs=[]),\n",
       " SeqRecord(seq=Seq('ATGGTGAATGTTAAAGGGTCAACCAAAAAATCGAATCTTGATCGATTCCTTCAT...TAA'), id='AT1G03610.2', name='AT1G03610.2', description='AT1G03610.2 | Symbols: no symbol available | no full name available | chr1:901304-902406 FORWARD LENGTH=738', dbxrefs=[]),\n",
       " SeqRecord(seq=Seq('ATGAAGCGTGGGAAAGGCGAGAAAAAGGCAACAAAGAGCCGCGATGGCAGCGGT...TAG'), id='AT1G03620.1', name='AT1G03620.1', description='AT1G03620.1 | Symbols: ELMOD_F |  | chr1:904319-906013 REVERSE LENGTH=798', dbxrefs=[]),\n",
       " SeqRecord(seq=Seq('ATGAAGCGTGGGAAAGGCGAGAAAAAGGCAACAAAGAGCCGCGATGGCAGCGGT...TAG'), id='AT1G03620.10', name='AT1G03620.10', description='AT1G03620.10 | Symbols: ELMOD_F |  | chr1:904319-906013 REVERSE LENGTH=798', dbxrefs=[]),\n",
       " SeqRecord(seq=Seq('ATGAAGCGTGGGAAAGGCGAGAAAAAGGCAACAAAGAGCCGCGATGGCAGCGGT...TAG'), id='AT1G03620.11', name='AT1G03620.11', description='AT1G03620.11 | Symbols: ELMOD_F |  | chr1:904319-906013 REVERSE LENGTH=798', dbxrefs=[]),\n",
       " SeqRecord(seq=Seq('ATGAAGTTCAGGAAGCGTAGGCAATACTTTCCTGCTTGTTCGTCTCATCGCCAA...TAG'), id='AT1G03620.12', name='AT1G03620.12', description='AT1G03620.12 | Symbols: ELMOD_F |  | chr1:904319-906367 REVERSE LENGTH=894', dbxrefs=[]),\n",
       " SeqRecord(seq=Seq('ATGAAGCGTGGGAAAGGCGAGAAAAAGGCAACAAAGAGCCGCGATGGCAGCGGT...TAG'), id='AT1G03620.13', name='AT1G03620.13', description='AT1G03620.13 | Symbols: ELMOD_F |  | chr1:904319-906013 REVERSE LENGTH=798', dbxrefs=[]),\n",
       " SeqRecord(seq=Seq('ATGGTTGGAACAAGATCATGGATAGGAGGGCTCTTCACACGCTCCAATAGACGT...TAG'), id='AT1G03620.2', name='AT1G03620.2', description='AT1G03620.2 | Symbols: ELMOD_F |  | chr1:904319-905759 REVERSE LENGTH=702', dbxrefs=[]),\n",
       " SeqRecord(seq=Seq('ATGGTTGGAACAAGATCATGGATAGGAGGGCTCTTCACACGCTCCAATAGACGT...TAG'), id='AT1G03620.3', name='AT1G03620.3', description='AT1G03620.3 | Symbols: ELMOD_F |  | chr1:904319-905759 REVERSE LENGTH=702', dbxrefs=[]),\n",
       " SeqRecord(seq=Seq('ATGAAGCGTGGGAAAGGCGAGAAAAAGGCAACAAAGAGCCGCGATGGCAGCGGT...TAG'), id='AT1G03620.4', name='AT1G03620.4', description='AT1G03620.4 | Symbols: ELMOD_F |  | chr1:904319-906013 REVERSE LENGTH=798', dbxrefs=[]),\n",
       " SeqRecord(seq=Seq('ATGAAGCGTGGGAAAGGCGAGAAAAAGGCAACAAAGAGCCGCGATGGCAGCGGT...TAG'), id='AT1G03620.5', name='AT1G03620.5', description='AT1G03620.5 | Symbols: ELMOD_F |  | chr1:904319-906013 REVERSE LENGTH=798', dbxrefs=[]),\n",
       " SeqRecord(seq=Seq('ATGGTTGGAACAAGATCATGGATAGGAGGGCTCTTCACACGCTCCAATAGACGT...TAG'), id='AT1G03620.6', name='AT1G03620.6', description='AT1G03620.6 | Symbols: ELMOD_F |  | chr1:904319-905759 REVERSE LENGTH=702', dbxrefs=[]),\n",
       " SeqRecord(seq=Seq('ATGAAGCGTGGGAAAGGCGAGAAAAAGGCAACAAAGAGCCGCGATGGCAGCGGT...TAG'), id='AT1G03620.7', name='AT1G03620.7', description='AT1G03620.7 | Symbols: ELMOD_F |  | chr1:904319-906013 REVERSE LENGTH=798', dbxrefs=[]),\n",
       " SeqRecord(seq=Seq('ATGAAGCGTGGGAAAGGCGAGAAAAAGGCAACAAAGAGCCGCGATGGCAGCGGT...TAG'), id='AT1G03620.8', name='AT1G03620.8', description='AT1G03620.8 | Symbols: ELMOD_F |  | chr1:904319-906013 REVERSE LENGTH=798', dbxrefs=[]),\n",
       " SeqRecord(seq=Seq('ATGAAGCGTGGGAAAGGCGAGAAAAAGGCAACAAAGAGCCGCGATGGCAGCGGT...TAG'), id='AT1G03620.9', name='AT1G03620.9', description='AT1G03620.9 | Symbols: ELMOD_F |  | chr1:904319-906013 REVERSE LENGTH=798', dbxrefs=[]),\n",
       " SeqRecord(seq=Seq('ATGGCTCTCCAAGCTGCCTATTCTCTTCTTCCTTCTACCATTTCAATCCAAAAA...TGA'), id='AT1G03630.1', name='AT1G03630.1', description='AT1G03630.1 | Symbols: POR C, PORC | protochlorophyllide oxidoreductase C | chr1:907699-909245 FORWARD LENGTH=1206', dbxrefs=[]),\n",
       " SeqRecord(seq=Seq('ATGGCTCTCCAAGCTGCCTATTCTCTTCTTCCTTCTACCATTTCAATCCAAAAA...TGA'), id='AT1G03630.2', name='AT1G03630.2', description='AT1G03630.2 | Symbols: POR C, PORC | protochlorophyllide oxidoreductase C | chr1:907699-909245 FORWARD LENGTH=1200', dbxrefs=[]),\n",
       " SeqRecord(seq=Seq('ATGGACAAAGGAGTTGTGGTAGAGCTGATTAGAGGGTCGACCAGTTGGGCCAAA...TAG'), id='AT1G03650.1', name='AT1G03650.1', description='AT1G03650.1 | Symbols: no symbol available | no full name available | chr1:910249-911103 REVERSE LENGTH=477', dbxrefs=[]),\n",
       " SeqRecord(seq=Seq('ATGGGTTTCACATTTACAAAGATCTACACCAGTTCTGCTCCAGATTTAGGCATC...TGA'), id='AT1G03660.1', name='AT1G03660.1', description='AT1G03660.1 | Symbols: no symbol available | no full name available | chr1:911436-911759 REVERSE LENGTH=324', dbxrefs=[]),\n",
       " SeqRecord(seq=Seq('ATGGGTTTCACATTTACAAAGATCTACACCAGTTCTGCTCCAGATTTAGGCATC...TGA'), id='AT1G03660.2', name='AT1G03660.2', description='AT1G03660.2 | Symbols: no symbol available | no full name available | chr1:911436-911759 REVERSE LENGTH=324', dbxrefs=[]),\n",
       " SeqRecord(seq=Seq('ATGAAGTGTGACAGTAAATCTGAAACAGTAAGCTCCTCGTCCACATCTGGCTCC...TAA'), id='AT1G03670.1', name='AT1G03670.1', description='AT1G03670.1 | Symbols: no symbol available | no full name available | chr1:914222-916222 REVERSE LENGTH=1851', dbxrefs=[]),\n",
       " SeqRecord(seq=Seq('ATGGCTGCTTACACGTGTACTTCCCGTCCGCCGATTTCTATCCGGTCAGAGATG...TAA'), id='AT1G03680.1', name='AT1G03680.1', description='AT1G03680.1 | Symbols: ATHM1, TRX-M1, ATM1, THM1 | thioredoxin M-type 1, THIOREDOXIN M-TYPE 1, ARABIDOPSIS THIOREDOXIN M-TYPE 1 | chr1:916990-917865 REVERSE LENGTH=540', dbxrefs=[]),\n",
       " SeqRecord(seq=Seq('ATGCGTTGTATCGCTGGAGCATCCGTAGCCGATTTCTCTCCGTCGCTACTGTTT...TAA'), id='AT1G03687.1', name='AT1G03687.1', description='AT1G03687.1 | Symbols: no symbol available | no full name available | chr1:918308-920306 FORWARD LENGTH=1146', dbxrefs=[]),\n",
       " SeqRecord(seq=Seq('ATGCGTTGTATCGCTGGAGCATCCGTAGCCGATTTCTCTCCGTCGCTACTGTTT...TAA'), id='AT1G03687.2', name='AT1G03687.2', description='AT1G03687.2 | Symbols: no symbol available | no full name available | chr1:918308-919999 FORWARD LENGTH=930', dbxrefs=[]),\n",
       " SeqRecord(seq=Seq('ATGGTGAAGTTAACGCAGAGATTGGGTGGGTTGGTACTGCGATTTGCGGCATTT...TGA'), id='AT1G03700.1', name='AT1G03700.1', description='AT1G03700.1 | Symbols: CASPL1C2 | CASP-like protein 1C2 | chr1:921038-921844 FORWARD LENGTH=495', dbxrefs=[]),\n",
       " SeqRecord(seq=Seq('ATGGATCCCAAATCCAGTGATGTCGATACGGTTGAGCCCGAGGTGATGGACGCA...TGA'), id='AT1G03710.1', name='AT1G03710.1', description='AT1G03710.1 | Symbols: no symbol available | no full name available | chr1:923492-924287 FORWARD LENGTH=609', dbxrefs=[]),\n",
       " SeqRecord(seq=Seq('ATGGATCCCAAATCCAGTGATGTCGATACGGTTGAGCCCGAGGTGATGGACGCA...TGA'), id='AT1G03710.2', name='AT1G03710.2', description='AT1G03710.2 | Symbols: no symbol available | no full name available | chr1:923492-924287 FORWARD LENGTH=609', dbxrefs=[]),\n",
       " SeqRecord(seq=Seq('ATGGTTTTGGATTTCTTTTCTTTTGTAGGAAATGGGGAAAAACGAGCCATCCAT...TAA'), id='AT1G03720.1', name='AT1G03720.1', description='AT1G03720.1 | Symbols: no symbol available | no full name available | chr1:924996-926373 REVERSE LENGTH=825', dbxrefs=[]),\n",
       " SeqRecord(seq=Seq('ATGGTTTTGGATTTCTTTTCTTTTGTAGGAAATGGGGAAAAACGAGCCATCCAT...TAA'), id='AT1G03720.2', name='AT1G03720.2', description='AT1G03720.2 | Symbols: no symbol available | no full name available | chr1:924996-926373 REVERSE LENGTH=801', dbxrefs=[]),\n",
       " SeqRecord(seq=Seq('ATGATGGATCCAACAGGATCGCCAAGAACATCGAATGGCTCTCCTCCAAGATCG...TAG'), id='AT1G03730.1', name='AT1G03730.1', description='AT1G03730.1 | Symbols: no symbol available | no full name available | chr1:931017-931520 REVERSE LENGTH=504', dbxrefs=[]),\n",
       " SeqRecord(seq=Seq('ATGGGTTGTGTGAATTCTAGGCATAGGCCTTTTAGAAGAAAGTCAACAACACTG...TGA'), id='AT1G03740.1', name='AT1G03740.1', description='AT1G03740.1 | Symbols: no symbol available | no full name available | chr1:934055-936792 FORWARD LENGTH=2223', dbxrefs=[]),\n",
       " SeqRecord(seq=Seq('ATGGGTTGTGTGAATTCTAGGCATAGGCCTTTTAGAAGAAAGTCAACAACACTG...TAA'), id='AT1G03740.2', name='AT1G03740.2', description='AT1G03740.2 | Symbols: no symbol available | no full name available | chr1:934055-936581 FORWARD LENGTH=2094', dbxrefs=[]),\n",
       " SeqRecord(seq=Seq('ATGTCGTTGTTACACACTTTCAAAGAGACATTGAAGCCCTGTGGTAGTTTTCCG...TAA'), id='AT1G03750.1', name='AT1G03750.1', description='AT1G03750.1 | Symbols: CHR9 | CHROMATIN REMODELING 9 | chr1:937920-941068 FORWARD LENGTH=2589', dbxrefs=[]),\n",
       " SeqRecord(seq=Seq('ATGGAGCCGCCGGCGAAAGGAACGGTGACGCCGTTAGGATTTTCAGAGGAGGAT...TAG'), id='AT1G03760.1', name='AT1G03760.1', description='AT1G03760.1 | Symbols: no symbol available | no full name available | chr1:941211-943320 REVERSE LENGTH=1176', dbxrefs=[]),\n",
       " SeqRecord(seq=Seq('ATGCCTTCCTTGAAGAGCTTCTCCGCCGCCGAGGAAGAAGATGACCAACTGGGT...TAG'), id='AT1G03770.1', name='AT1G03770.1', description='AT1G03770.1 | Symbols: ATRING1B, RING1B | RING 1B, ARABIDOPSIS THALIANA RING 1B | chr1:944772-947431 FORWARD LENGTH=1383', dbxrefs=[]),\n",
       " SeqRecord(seq=Seq('ATGCCTTCCTTGAAGAGCTTCTCCGCCGCCGAGGAAGAAGATGACCAACTGGGT...TAG'), id='AT1G03770.2', name='AT1G03770.2', description='AT1G03770.2 | Symbols: ATRING1B, RING1B | RING 1B, ARABIDOPSIS THALIANA RING 1B | chr1:944772-947431 FORWARD LENGTH=1407', dbxrefs=[]),\n",
       " SeqRecord(seq=Seq('ATGCCTTCCTTGAAGAGCTTCTCCGCCGCCGAGGAAGAAGATGACCAACTGGGT...TAG'), id='AT1G03770.3', name='AT1G03770.3', description='AT1G03770.3 | Symbols: ATRING1B, RING1B | RING 1B, ARABIDOPSIS THALIANA RING 1B | chr1:944772-947431 FORWARD LENGTH=1389', dbxrefs=[]),\n",
       " SeqRecord(seq=Seq('ATGGTTGTTGATCTAGCGGATATCTGTAAGGACGTGCAATGCTCGATATGTTTA...TAG'), id='AT1G03770.4', name='AT1G03770.4', description='AT1G03770.4 | Symbols: ATRING1B, RING1B | RING 1B, ARABIDOPSIS THALIANA RING 1B | chr1:945476-947431 FORWARD LENGTH=1116', dbxrefs=[]),\n",
       " SeqRecord(seq=Seq('ATGGAATGTCTCCACCGGTTTTGCCGAGAGTGCATTGATAAGTCAATGAGATTG...TAG'), id='AT1G03770.5', name='AT1G03770.5', description='AT1G03770.5 | Symbols: ATRING1B, RING1B | RING 1B, ARABIDOPSIS THALIANA RING 1B | chr1:945806-947431 FORWARD LENGTH=1035', dbxrefs=[]),\n",
       " SeqRecord(seq=Seq('ATGGTTGTTGATCTAGCGGATATCTGTAAGGACGTGCAATGCTCGATATGTTTA...TAG'), id='AT1G03770.6', name='AT1G03770.6', description='AT1G03770.6 | Symbols: ATRING1B, RING1B | RING 1B, ARABIDOPSIS THALIANA RING 1B | chr1:945476-947431 FORWARD LENGTH=1116', dbxrefs=[]),\n",
       " SeqRecord(seq=Seq('ATGGAAGCAACGGCGGAGGAATCAGTTAGTACTCTTGTTACGACGATGGTTGAT...TAG'), id='AT1G03780.1', name='AT1G03780.1', description='AT1G03780.1 | Symbols: TPX2, AtTPX2 | targeting protein for XKLP2 | chr1:948064-951696 REVERSE LENGTH=2064', dbxrefs=[]),\n",
       " SeqRecord(seq=Seq('ATGGAAGCAACGGCGGAGGAATCAGTTAGTACTCTTGTTACGACGATGGTTGAT...TAG'), id='AT1G03780.2', name='AT1G03780.2', description='AT1G03780.2 | Symbols: TPX2, AtTPX2 | targeting protein for XKLP2 | chr1:947785-951696 REVERSE LENGTH=2277', dbxrefs=[]),\n",
       " SeqRecord(seq=Seq('ATGGAAGCAACGGCGGAGGAATCAGTTAGTACTCTTGTTACGACGATGGTTGAT...TGA'), id='AT1G03780.3', name='AT1G03780.3', description='AT1G03780.3 | Symbols: TPX2, AtTPX2 | targeting protein for XKLP2 | chr1:947555-951696 REVERSE LENGTH=2373', dbxrefs=[]),\n",
       " SeqRecord(seq=Seq('ATGGATGTCGTTTGTACGGAACATCAAATGAGGAAGCCAACGGTGGAGATTCCT...TGA'), id='AT1G03790.1', name='AT1G03790.1', description='AT1G03790.1 | Symbols: TZF4, SOM, AtTZF4 | SOMNUS, Tandem CCCH Zinc Finger protein 4 | chr1:954589-955770 FORWARD LENGTH=1182', dbxrefs=[]),\n",
       " SeqRecord(seq=Seq('ATGACCACAGAAAAAGAGAATGTCACTACGGCCGTGGCCGTGAAAGACGGCGGA...TAA'), id='AT1G03800.1', name='AT1G03800.1', description='AT1G03800.1 | Symbols: ERF10, ATERF10 | ERF domain protein 10, ARABIDOPSIS THALIANA RF DOMAIN PROTEIN 10 | chr1:957261-957998 REVERSE LENGTH=738', dbxrefs=[]),\n",
       " SeqRecord(seq=Seq('ATGTCGACGACGGCGAATACTAACGCGACGACTGCGCCGAAGCGTAAACCAGTG...TAA'), id='AT1G03810.1', name='AT1G03810.1', description='AT1G03810.1 | Symbols: no symbol available | no full name available | chr1:958759-959609 FORWARD LENGTH=432', dbxrefs=[]),\n",
       " SeqRecord(seq=Seq('ATGGCTTCTTTTGCTCTGAAACCCATTTTTTGTTTCATTGCTGTTTTTTGCTTC...TAG'), id='AT1G03820.1', name='AT1G03820.1', description='AT1G03820.1 | Symbols: no symbol available | no full name available | chr1:960008-960676 REVERSE LENGTH=669', dbxrefs=[]),\n",
       " SeqRecord(seq=Seq('ATGAGAAATCCAACGGACGAGTCGGGTCGGGCCGTCCAATTGGTTTACGTTGAT...TGA'), id='AT1G03830.1', name='AT1G03830.1', description='AT1G03830.1 | Symbols: GBPL1 | GUANYLATE-BINDING PROTEIN-LIKE 1 | chr1:962128-966622 REVERSE LENGTH=2976', dbxrefs=[]),\n",
       " SeqRecord(seq=Seq('ATGAGAAATCCAACGGACGAGTCGGGTCGGGCCGTCCAATTGGTTTACGTTGAT...TGA'), id='AT1G03830.2', name='AT1G03830.2', description='AT1G03830.2 | Symbols: GBPL1 | GUANYLATE-BINDING PROTEIN-LIKE 1 | chr1:962128-966622 REVERSE LENGTH=3042', dbxrefs=[]),\n",
       " SeqRecord(seq=Seq('ATGACAACTGAAGATCAGACAATTTCAAGTAGTGGAGGATATGTCCAAAGCTCA...TGA'), id='AT1G03840.1', name='AT1G03840.1', description='AT1G03840.1 | Symbols: MGP, IDD3 | INDETERMINATE DOMAIN 3, Magpie | chr1:967596-970058 REVERSE LENGTH=1521', dbxrefs=[]),\n",
       " SeqRecord(seq=Seq('ATGACAACTGAAGATCAGACAATTTCAAGTAGTGGAGGATATGTCCAAAGCTCA...TGA'), id='AT1G03840.2', name='AT1G03840.2', description='AT1G03840.2 | Symbols: MGP, IDD3 | INDETERMINATE DOMAIN 3, Magpie | chr1:967596-970058 REVERSE LENGTH=1515', dbxrefs=[]),\n",
       " SeqRecord(seq=Seq('ATGCAAAAAGCAATTCGACCATACGAGTCACCGTGGACGAAGACCGTGCCGGGC...TGA'), id='AT1G03850.1', name='AT1G03850.1', description='AT1G03850.1 | Symbols: GRXS13, ROXY18, ATGRXS13 | glutaredoxin 13 | chr1:976428-977685 REVERSE LENGTH=480', dbxrefs=[]),\n",
       " SeqRecord(seq=Seq('ATGCAAAAAGCAATTCGACCATACGAGTCACCGTGGACGAAGACCGTGCCGGGC...TGA'), id='AT1G03850.2', name='AT1G03850.2', description='AT1G03850.2 | Symbols: GRXS13, ROXY18, ATGRXS13 | glutaredoxin 13 | chr1:977233-977685 REVERSE LENGTH=453', dbxrefs=[]),\n",
       " SeqRecord(seq=Seq('ATGCAAAAAGCAATTCGACCATACGAGTCACCGTGGACGAAGACCGTGCCGGGC...TAA'), id='AT1G03850.3', name='AT1G03850.3', description='AT1G03850.3 | Symbols: GRXS13, ROXY18, ATGRXS13 | glutaredoxin 13 | chr1:976349-977685 REVERSE LENGTH=471', dbxrefs=[]),\n",
       " SeqRecord(seq=Seq('ATGAGTTTCAACAAAGTTCCCAACATTCCTGGAGCTCCTGCTCTCTCTGCCCTT...TAA'), id='AT1G03860.1', name='AT1G03860.1', description='AT1G03860.1 | Symbols: PHB2, ATPHB2 | prohibitin 2 | chr1:979611-981157 REVERSE LENGTH=861', dbxrefs=[]),\n",
       " SeqRecord(seq=Seq('ATGGTGCCATGGTTTGAAAGGCCAATCATCTATGACGTTCGTGCACGACCTTAC...TAA'), id='AT1G03860.2', name='AT1G03860.2', description='AT1G03860.2 | Symbols: PHB2, ATPHB2 | prohibitin 2 | chr1:979611-980870 REVERSE LENGTH=666', dbxrefs=[]),\n",
       " SeqRecord(seq=Seq('ATGAGTTTCAACAAAGTTCCCAACATTCCTGGAGCTCCTGCTCTCTCTGCCCTT...TAA'), id='AT1G03860.3', name='AT1G03860.3', description='AT1G03860.3 | Symbols: PHB2, ATPHB2 | prohibitin 2 | chr1:979611-981157 REVERSE LENGTH=861', dbxrefs=[]),\n",
       " SeqRecord(seq=Seq('ATGGCTACCACTCGTCTAACTCTAGCTCCTCTCCTCCTCATCGCAGCCGTACTA...TGA'), id='AT1G03870.1', name='AT1G03870.1', description='AT1G03870.1 | Symbols: FLA9 | FASCICLIN-like arabinoogalactan 9 | chr1:982625-983368 REVERSE LENGTH=744', dbxrefs=[]),\n",
       " SeqRecord(seq=Seq('ATGGGTCGAGTCTCATCTATTATCTCTTTCTCTTTGACACTCTTGATCCTCTTC...TGA'), id='AT1G03880.1', name='AT1G03880.1', description='AT1G03880.1 | Symbols: CRB, CRU2 | CRUCIFERIN B, cruciferin 2 | chr1:985786-987916 FORWARD LENGTH=1368', dbxrefs=[]),\n",
       " SeqRecord(seq=Seq('ATGCATAAGCTTTTGTTTTCTCTTCTCTCCGTCGTCTCACTCTCATTTCTCCTC...TAA'), id='AT1G03890.1', name='AT1G03890.1', description='AT1G03890.1 | Symbols: no symbol available | no full name available | chr1:989250-990908 FORWARD LENGTH=1356', dbxrefs=[]),\n",
       " SeqRecord(seq=Seq('ATGTCGTTCGAGGAAGAAGAAGAGGAGGAAACATTCGAGCATACACTTCTCGTG...TGA'), id='AT1G03900.1', name='AT1G03900.1', description='AT1G03900.1 | Symbols: ABCI18, ATNAP4, NAP4 | ATP-binding cassette I18, non-intrinsic ABC protein 4 | chr1:991252-992852 FORWARD LENGTH=819', dbxrefs=[]),\n",
       " SeqRecord(seq=Seq('ATGGCGGAGAAAGATGCGACGGCGAGTGGCGATGACGCCATTAGAGTTAGCGGT...TGA'), id='AT1G03905.1', name='AT1G03905.1', description='AT1G03905.1 | Symbols: ABCI19, ATNAP4 | ATP-binding cassette I19, non-intrinsic ABC protein 4 | chr1:993478-995594 FORWARD LENGTH=873', dbxrefs=[]),\n",
       " SeqRecord(seq=Seq('ATGGTGGGAGGAAAGAACGTTGTACAAGTTCTTAGCCGCTCGGCTTTCCATGAT...TGA'), id='AT1G03905.2', name='AT1G03905.2', description='AT1G03905.2 | Symbols: ABCI19, ATNAP4 | ATP-binding cassette I19, non-intrinsic ABC protein 4 | chr1:994084-995594 FORWARD LENGTH=681', dbxrefs=[]),\n",
       " SeqRecord(seq=Seq('ATGGTGGGAGGAAAGAACGTTGTACAAGTTCTTAGCCGCTCGGCTTTCCATGAT...TGA'), id='AT1G03905.3', name='AT1G03905.3', description='AT1G03905.3 | Symbols: ABCI19, ATNAP4 | ATP-binding cassette I19, non-intrinsic ABC protein 4 | chr1:994084-995594 FORWARD LENGTH=681', dbxrefs=[]),\n",
       " SeqRecord(seq=Seq('ATGGTGGGAGGAAAGAACGTTGTACAAGTTCTTAGCCGCTCGGCTTTCCATGAT...TGA'), id='AT1G03905.4', name='AT1G03905.4', description='AT1G03905.4 | Symbols: ABCI19, ATNAP4 | ATP-binding cassette I19, non-intrinsic ABC protein 4 | chr1:994084-995594 FORWARD LENGTH=681', dbxrefs=[]),\n",
       " SeqRecord(seq=Seq('ATGGGTTCTCATGGTAAGGGTAAGAGAGATAGAAGTGGAAGGCAGAAGAAGCGG...TAA'), id='AT1G03910.1', name='AT1G03910.1', description='AT1G03910.1 | Symbols: CTN | CACTIN | chr1:996432-1000231 FORWARD LENGTH=2019', dbxrefs=[]),\n",
       " SeqRecord(seq=Seq('ATGGGTTCTCATGGTAAGGGTAAGAGAGATAGAAGTGGAAGGCAGAAGAAGCGG...TAA'), id='AT1G03910.2', name='AT1G03910.2', description='AT1G03910.2 | Symbols: CTN | CACTIN | chr1:996432-1000231 FORWARD LENGTH=2151', dbxrefs=[]),\n",
       " SeqRecord(seq=Seq('ATGGATTCTGCAAGAAGTTGGTTTCACAAGTTTCAACCACGAGATAAGCCTCGG...TAG'), id='AT1G03920.1', name='AT1G03920.1', description='AT1G03920.1 | Symbols: NDR2 | nuclear Dbf2-related 2 | chr1:1001473-1004240 FORWARD LENGTH=1710', dbxrefs=[]),\n",
       " SeqRecord(seq=Seq('ATGAAGTTTCTTGAGAAGAAAGAAACAGAGTACATGAGACTCCAAAGGCATAAA...TAG'), id='AT1G03920.2', name='AT1G03920.2', description='AT1G03920.2 | Symbols: NDR2 | nuclear Dbf2-related 2 | chr1:1001873-1004240 FORWARD LENGTH=1371', dbxrefs=[]),\n",
       " SeqRecord(seq=Seq('ATGGATTCTGCAAGAAGTTGGTTTCACAAGTTTCAACCACGAGATAAGCCTCGG...TAG'), id='AT1G03920.3', name='AT1G03920.3', description='AT1G03920.3 | Symbols: NDR2 | nuclear Dbf2-related 2 | chr1:1001473-1004240 FORWARD LENGTH=1710', dbxrefs=[]),\n",
       " SeqRecord(seq=Seq('ATGGATCTTGTGATTGGTGGAAAATTTAAGCTTGGGAGGAAAATTGGTAGTGGT...TGA'), id='AT1G03930.1', name='AT1G03930.1', description='AT1G03930.1 | Symbols: CKL9ALPHA, CKL9BETA, ADK1 | dual specificity kinase 1, CASEIN KINASE I-LIKE 9 ALPHA, CASEIN KINASE I-LIKE 9 BETA | chr1:1005439-1008118 FORWARD LENGTH=1416', dbxrefs=[]),\n",
       " SeqRecord(seq=Seq('ATGGTGGCTCATCTTCAACCTCCTAAGATCATCGAGACCTGTCACATCTCTCCC...TAG'), id='AT1G03940.1', name='AT1G03940.1', description='AT1G03940.1 | Symbols: no symbol available | no full name available | chr1:1009542-1010951 REVERSE LENGTH=1410', dbxrefs=[]),\n",
       " SeqRecord(seq=Seq('ATGAACATCTTCACTAAGAAACCTAATCCCAGAGAAGTGCTTCGGGAGAGTAAG...TAG'), id='AT1G03950.1', name='AT1G03950.1', description='AT1G03950.1 | Symbols: VPS2.3 | vacuolar protein sorting-associated protein 2.3 | chr1:1011388-1013212 REVERSE LENGTH=633', dbxrefs=[]),\n",
       " SeqRecord(seq=Seq('ATGGATATTGACGGAGTAGACGACGATCTTCATATTTTAGATCCTGAGCTCTTG...TAG'), id='AT1G03960.1', name='AT1G03960.1', description='AT1G03960.1 | Symbols: no symbol available | no full name available | chr1:1014085-1017472 FORWARD LENGTH=1590', dbxrefs=[]),\n",
       " SeqRecord(seq=Seq('ATGGTTGATCAAGTTTTTAGTAACTATATTGATGGACTACATGTAGATGAATTC...TAG'), id='AT1G03960.2', name='AT1G03960.2', description='AT1G03960.2 | Symbols: no symbol available | no full name available | chr1:1014824-1017472 FORWARD LENGTH=1170', dbxrefs=[]),\n",
       " SeqRecord(seq=Seq('ATGGTTGATCAAGTTTTTAGTAACTATATTGATGGACTACATGTAGATGAATTC...TAG'), id='AT1G03960.3', name='AT1G03960.3', description='AT1G03960.3 | Symbols: no symbol available | no full name available | chr1:1014824-1017472 FORWARD LENGTH=1170', dbxrefs=[]),\n",
       " SeqRecord(seq=Seq('ATGGTTGATCAAGTTTTTAGTAACTATATTGATGGACTACATGTAGATGAATTC...TAG'), id='AT1G03960.4', name='AT1G03960.4', description='AT1G03960.4 | Symbols: no symbol available | no full name available | chr1:1014824-1017472 FORWARD LENGTH=1170', dbxrefs=[]),\n",
       " SeqRecord(seq=Seq('ATGGATATTGACGGAGTAGACGACGATCTTCATATTTTAGATCCTGAGCTCTTG...TAA'), id='AT1G03960.5', name='AT1G03960.5', description='AT1G03960.5 | Symbols: no symbol available | no full name available | chr1:1014085-1017237 FORWARD LENGTH=1503', dbxrefs=[]),\n",
       " SeqRecord(seq=Seq('ATGACCTCTTCTCTCAGTGGCTCTCACTCCCTGAAACTGCCACATTGCAGCACT...TAG'), id='AT1G03960.6', name='AT1G03960.6', description='AT1G03960.6 | Symbols: no symbol available | no full name available | chr1:1014191-1017472 FORWARD LENGTH=1404', dbxrefs=[]),\n",
       " SeqRecord(seq=Seq('ATGTTAACTATGGACACAGCCTCCCAGATATATAATATACTAAGGCAGCAGGGC...TAG'), id='AT1G03960.7', name='AT1G03960.7', description='AT1G03960.7 | Symbols: no symbol available | no full name available | chr1:1015233-1017472 FORWARD LENGTH=987', dbxrefs=[]),\n",
       " SeqRecord(seq=Seq('ATGGCGTCCTTCAAGTTGATGTCTTCTTCCAATTCCGACTTGTCTCGCCGTAAT...TGA'), id='AT1G03970.1', name='AT1G03970.1', description='AT1G03970.1 | Symbols: GBF4 | G-box binding factor 4 | chr1:1018237-1019049 FORWARD LENGTH=813', dbxrefs=[]),\n",
       " SeqRecord(seq=Seq('ATGCTGGAATGTTGCGAGCCGCTTGAAATAGTGAAGGATAAAGGCATTTCATTT...TAA'), id='AT1G03980.1', name='AT1G03980.1', description='AT1G03980.1 | Symbols: PCS2, ATPCS2 | phytochelatin synthase 2 | chr1:1019311-1021194 REVERSE LENGTH=1104', dbxrefs=[]),\n",
       " SeqRecord(seq=Seq('ATGTCTATGGCGAGTTTGTATCGGCGGTCTCTTTCCCCTCCGGCGATAGATTTC...TAA'), id='AT1G03980.2', name='AT1G03980.2', description='AT1G03980.2 | Symbols: PCS2, ATPCS2 | phytochelatin synthase 2 | chr1:1019311-1021871 REVERSE LENGTH=1425', dbxrefs=[]),\n",
       " SeqRecord(seq=Seq('ATGTCTATGGCGAGTTTGTATCGGCGGTCTCTTTCCCCTCCGGCGATAGATTTC...TAA'), id='AT1G03980.3', name='AT1G03980.3', description='AT1G03980.3 | Symbols: PCS2, ATPCS2 | phytochelatin synthase 2 | chr1:1019311-1021871 REVERSE LENGTH=1359', dbxrefs=[]),\n",
       " SeqRecord(seq=Seq('ATGTCTATGGCGAGTTTGTATCGGCGGTCTCTTTCCCCTCCGGCGATAGATTTC...TAA'), id='AT1G03980.4', name='AT1G03980.4', description='AT1G03980.4 | Symbols: PCS2, ATPCS2 | phytochelatin synthase 2 | chr1:1019871-1021871 REVERSE LENGTH=1134', dbxrefs=[]),\n",
       " SeqRecord(seq=Seq('ATGATCAATTTGCATAACGCAGAAAACGAGAAAGAGGCAGAGATGCAAATTGGA...TAA'), id='AT1G03982.1', name='AT1G03982.1', description='AT1G03982.1 | Symbols: no symbol available | no full name available | chr1:1022424-1023136 REVERSE LENGTH=534', dbxrefs=[]),\n",
       " SeqRecord(seq=Seq('ATGGTAGGAGGAAGAAGATTAGGGAAGAGAGGAAGCCCTTTGTTGAGATGGAGT...TGA'), id='AT1G03990.1', name='AT1G03990.1', description='AT1G03990.1 | Symbols: no symbol available | no full name available | chr1:1024847-1027616 FORWARD LENGTH=2277', dbxrefs=[]),\n",
       " SeqRecord(seq=Seq('ATGAACACCAAAACGATGCGTCTTCCCCCACGTCGCGTTCTAACGGCGGATAAG...TGA'), id='AT1G04000.1', name='AT1G04000.1', description='AT1G04000.1 | Symbols: no symbol available | no full name available | chr1:1028415-1028873 REVERSE LENGTH=459', dbxrefs=[]),\n",
       " SeqRecord(seq=Seq('ATGGGAGCGAATTCGAAATCAGTAACGGCTTCCTTCACCGTCATCGCCGTTTTT...TAA'), id='AT1G04010.1', name='AT1G04010.1', description='AT1G04010.1 | Symbols: ERP1, PSAT1, ATPSAT1 | enhanced response to Phytophthora 1, phospholipid sterol acyl transferase 1 | chr1:1031703-1036128 REVERSE LENGTH=1902', dbxrefs=[]),\n",
       " SeqRecord(seq=Seq('ATGGCGGAATTTACTAACATGCTAATGAATCCATGGGTTCTTCATCTCCAGAAG...TAA'), id='AT1G04020.1', name='AT1G04020.1', description='AT1G04020.1 | Symbols: ROW1, ATBARD1, BARD1 | REPRESSOR OF WUSCHEL1, breast cancer associated RING 1 | chr1:1036610-1040045 FORWARD LENGTH=2142', dbxrefs=[]),\n",
       " SeqRecord(seq=Seq('ATGGCGGAATTTACTAACATGCTAATGAATCCATGGGTTCTTCATCTCCAGAAG...TAA'), id='AT1G04020.2', name='AT1G04020.2', description='AT1G04020.2 | Symbols: ROW1, ATBARD1, BARD1 | REPRESSOR OF WUSCHEL1, breast cancer associated RING 1 | chr1:1036610-1040045 FORWARD LENGTH=2142', dbxrefs=[]),\n",
       " SeqRecord(seq=Seq('ATGGGTTGCTTTTCGGGTTGCTTCGGTGGACGGAAGAATCGCCGGCGTCAGAGA...TAA'), id='AT1G04030.1', name='AT1G04030.1', description='AT1G04030.1 | Symbols: no symbol available | no full name available | chr1:1040597-1042313 FORWARD LENGTH=1305', dbxrefs=[]),\n",
       " SeqRecord(seq=Seq('ATGGGTTGCTTTTCGGGTTGCTTCGGTGGACGGAAGAATCGCCGGCGTCAGAGA...TAA'), id='AT1G04030.2', name='AT1G04030.2', description='AT1G04030.2 | Symbols: no symbol available | no full name available | chr1:1040597-1042313 FORWARD LENGTH=1305', dbxrefs=[]),\n",
       " SeqRecord(seq=Seq('ATGGACCGAACCATGTTTCTTTCCCTGACAATAGCCTCACTCTTGGTCGGAGTC...TGA'), id='AT1G04040.1', name='AT1G04040.1', description='AT1G04040.1 | Symbols: no symbol available | no full name available | chr1:1042564-1043819 REVERSE LENGTH=816', dbxrefs=[]),\n",
       " SeqRecord(seq=Seq('ATGGCACCGAATCTTAGGATTAAGAAAGCCTGTGACGCGATGAAGCTTTTAGGA...TGA'), id='AT1G04050.1', name='AT1G04050.1', description='AT1G04050.1 | Symbols: SUVR1, SDG13 | homolog of SU(var)3-9 1, SET DOMAIN PROTEIN 13 | chr1:1045967-1049196 REVERSE LENGTH=2205', dbxrefs=[]),\n",
       " SeqRecord(seq=Seq('ATGGCACCGAATCTTAGGATTAAGAAAGCCTGTGACGCGATGAAGCTTTTAGGA...TGA'), id='AT1G04050.2', name='AT1G04050.2', description='AT1G04050.2 | Symbols: SUVR1, SDG13 | homolog of SU(var)3-9 1, SET DOMAIN PROTEIN 13 | chr1:1045967-1049196 REVERSE LENGTH=2205', dbxrefs=[]),\n",
       " SeqRecord(seq=Seq('ATGGATGAAGATGAATTTCCATTGAAAAGGAGGTTGCGCAGTAGACGTGGAAGA...TGA'), id='AT1G04050.3', name='AT1G04050.3', description='AT1G04050.3 | Symbols: SUVR1, SDG13 | homolog of SU(var)3-9 1, SET DOMAIN PROTEIN 13 | chr1:1045967-1048603 REVERSE LENGTH=1893', dbxrefs=[]),\n",
       " SeqRecord(seq=Seq('ATGGCGCCTAAGAAAATCGGAGCCGGCAAAGGCGATTCGAGCATCTTGGCGAAG...TAA'), id='AT1G04070.1', name='AT1G04070.1', description='AT1G04070.1 | Symbols: TOM22-I, ATTOM22-I | translocase of outer membrane 22-I | chr1:1050832-1051116 REVERSE LENGTH=285', dbxrefs=[]),\n",
       " SeqRecord(seq=Seq('ATGGGTGACAGCGAGGCCATGGTTTCCGAGGGTTATACTTCTGCTCCATATGGA...TGA'), id='AT1G04080.1', name='AT1G04080.1', description='AT1G04080.1 | Symbols: PRP39a, PRP39 |  | chr1:1051803-1056550 FORWARD LENGTH=2307', dbxrefs=[]),\n",
       " SeqRecord(seq=Seq('ATGCTTTTACTAGGAAGGCTTTTTGAACGAGCTTTGGTTTACGTTGGAACTGAT...TGA'), id='AT1G04080.2', name='AT1G04080.2', description='AT1G04080.2 | Symbols: PRP39a, PRP39 |  | chr1:1053171-1056550 FORWARD LENGTH=1749', dbxrefs=[]),\n",
       " SeqRecord(seq=Seq('ATGGGTGACAGCGAGGCCATGGTTTCCGAGGGTTATACTTCTGCTCCATATGGA...TGA'), id='AT1G04080.3', name='AT1G04080.3', description='AT1G04080.3 | Symbols: PRP39a, PRP39 |  | chr1:1051803-1056550 FORWARD LENGTH=2472', dbxrefs=[]),\n",
       " SeqRecord(seq=Seq('ATGGGTGACAGCGAGGCCATGGTTTCCGAGGGTTATACTTCTGCTCCATATGGA...TGA'), id='AT1G04080.4', name='AT1G04080.4', description='AT1G04080.4 | Symbols: PRP39a, PRP39 |  | chr1:1051803-1056550 FORWARD LENGTH=2307', dbxrefs=[]),\n",
       " SeqRecord(seq=Seq('ATGCAGCAGGACTGGAGCCGAGTTGCCTTGATTTACACCAGAATATTGGAGAAT...TGA'), id='AT1G04080.5', name='AT1G04080.5', description='AT1G04080.5 | Symbols: PRP39a, PRP39 |  | chr1:1053409-1056550 FORWARD LENGTH=1650', dbxrefs=[]),\n",
       " SeqRecord(seq=Seq('ATGTTGGGTTACAAATGTCTCCACTGGAACAATCTTATAGATTTACCGCCATTA...TGA'), id='AT1G04090.1', name='AT1G04090.1', description='AT1G04090.1 | Symbols: no symbol available | no full name available | chr1:1057225-1059247 FORWARD LENGTH=1719', dbxrefs=[]),\n",
       " SeqRecord(seq=Seq('ATGAATGGTTTGCAAGAAGTTTGTTCGTCAAGTGGGTCGGTGATGATCGGACTA...TAG'), id='AT1G04100.1', name='AT1G04100.1', description='AT1G04100.1 | Symbols: IAA10 | indoleacetic acid-induced protein 10 | chr1:1059809-1061026 FORWARD LENGTH=786', dbxrefs=[]),\n",
       " SeqRecord(seq=Seq('AGGCGGCCAACCTACAGCAACTTGTCTGCTCCATTACCAAAAGATATTAAATCA...TGA'), id='AT1G04105.1', name='AT1G04105.1', description='AT1G04105.1 | Symbols: no symbol available | no full name available | chr1:1059730-1060348 REVERSE LENGTH=402', dbxrefs=[]),\n",
       " SeqRecord(seq=Seq('ATGGAACCCAAACCTTTCTTTCTCTGCATTATCTTTCTTCTATTTTGTTCTTCT...TGA'), id='AT1G04110.1', name='AT1G04110.1', description='AT1G04110.1 | Symbols: SDD1, AtSDD1 | STOMATAL DENSITY AND DISTRIBUTION 1 | chr1:1061457-1063784 REVERSE LENGTH=2328', dbxrefs=[]),\n",
       " SeqRecord(seq=Seq('ATGGATTTTATTGAGATCTCGTTGATCTTTCGAGAGCATTTGCCACTACTGGAA...TGA'), id='AT1G04120.1', name='AT1G04120.1', description='AT1G04120.1 | Symbols: ABCC5, ATABCC5, MRP5, ATMRP5 | Arabidopsis thaliana ATP-binding cassette C5, multidrug resistance-associated protein 5, MULTIDRUG RESISTANCE PROTEIN 5, ATP-binding cassette C5 | chr1:1064848-1070396 REVERSE LENGTH=4545', dbxrefs=[]),\n",
       " SeqRecord(seq=Seq('ATGGATTTTATTGAGATCTCGTTGATCTTTCGAGAGCATTTGCCACTACTGGAA...TGA'), id='AT1G04120.2', name='AT1G04120.2', description='AT1G04120.2 | Symbols: ABCC5, ATABCC5, MRP5, ATMRP5 | Arabidopsis thaliana ATP-binding cassette C5, multidrug resistance-associated protein 5, MULTIDRUG RESISTANCE PROTEIN 5, ATP-binding cassette C5 | chr1:1064848-1070396 REVERSE LENGTH=4530', dbxrefs=[]),\n",
       " SeqRecord(seq=Seq('ATGGATTTTATTGAGATCTCGTTGATCTTTCGAGAGCATTTGCCACTACTGGAA...TGA'), id='AT1G04120.3', name='AT1G04120.3', description='AT1G04120.3 | Symbols: ABCC5, ATABCC5, MRP5, ATMRP5 | Arabidopsis thaliana ATP-binding cassette C5, multidrug resistance-associated protein 5, MULTIDRUG RESISTANCE PROTEIN 5, ATP-binding cassette C5 | chr1:1064848-1070396 REVERSE LENGTH=4440', dbxrefs=[]),\n",
       " SeqRecord(seq=Seq('ATGGCGCTATGGATGGACGCTGGAGCGACGCCGACCACGGAGAAGGAAAAGGCT...TAA'), id='AT1G04130.1', name='AT1G04130.1', description='AT1G04130.1 | Symbols: TPR2, AtTPR2 | tetratricopeptide repeat 2 | chr1:1073465-1075374 FORWARD LENGTH=1083', dbxrefs=[]),\n",
       " SeqRecord(seq=Seq('ATGAGGTTATCTCCTCATAACGTTAAGGCGGTGTATCGAGCTGCTAAGGCATCC...TAA'), id='AT1G04130.2', name='AT1G04130.2', description='AT1G04130.2 | Symbols: TPR2, AtTPR2 | tetratricopeptide repeat 2 | chr1:1073835-1075374 FORWARD LENGTH=792', dbxrefs=[]),\n",
       " SeqRecord(seq=Seq('ATGACGGAATCTATCTGGTTAAACGATCAATCTTCTCCTCGGTCGATGATACCT...TAG'), id='AT1G04140.1', name='AT1G04140.1', description='AT1G04140.1 | Symbols: no symbol available | no full name available | chr1:1075984-1080321 REVERSE LENGTH=2373', dbxrefs=[]),\n",
       " SeqRecord(seq=Seq('ATGACGGAATCTATCTGGTTAAACGATCAATCTTCTCCTCGGTCGATGATACCT...TAG'), id='AT1G04140.2', name='AT1G04140.2', description='AT1G04140.2 | Symbols: no symbol available | no full name available | chr1:1075992-1080321 REVERSE LENGTH=2382', dbxrefs=[]),\n",
       " SeqRecord(seq=Seq('ATGACTGAAGCTAAAACCGGCACTGGCAATGAGAGGCTCGTGGTGGAGATAGTA...TAG'), id='AT1G04150.1', name='AT1G04150.1', description='AT1G04150.1 | Symbols: MCTP10 | multiple C2 domain and transmembrane region protein 10 | chr1:1081208-1084246 REVERSE LENGTH=3039', dbxrefs=[]),\n",
       " SeqRecord(seq=Seq('ATGGTTGCTACCTTCAACCCTGCAGTTGGGTCCCATGTGTGGGTGGAGGACCCC...TAG'), id='AT1G04160.1', name='AT1G04160.1', description='AT1G04160.1 | Symbols: XIB, XI-B, ATXIB, XI-8 | myosin XI B, ARABIDOPSIS THALIANA MYOSIN XI B, MYOSIN XI-8, MYOSIN XI B | chr1:1086495-1096146 FORWARD LENGTH=4503', dbxrefs=[]),\n",
       " SeqRecord(seq=Seq('ATGGTTGCTACCTTCAACCCTGCAGTTGGGTCCCATGTGTGGGTGGAGGACCCC...TAA'), id='AT1G04160.2', name='AT1G04160.2', description='AT1G04160.2 | Symbols: XIB, XI-B, ATXIB, XI-8 | myosin XI B, ARABIDOPSIS THALIANA MYOSIN XI B, MYOSIN XI-8, MYOSIN XI B | chr1:1086495-1095595 FORWARD LENGTH=4191', dbxrefs=[]),\n",
       " SeqRecord(seq=Seq('ATGTCGAGGAACAAGGGTTTGGCTGAGCAAGATCTTAAAAAATTGGATGTAACT...TAA'), id='AT1G04170.1', name='AT1G04170.1', description='AT1G04170.1 | Symbols: EIF2 GAMMA | eukaryotic translation initiation factor 2 gamma subunit | chr1:1097423-1099702 FORWARD LENGTH=1398', dbxrefs=[]),\n",
       " SeqRecord(seq=Seq('ATGTCGAGGAACAAGGGTTTGGCTGAGCAAGATCTTAAAAAATTGGATGTAACT...TAA'), id='AT1G04170.2', name='AT1G04170.2', description='AT1G04170.2 | Symbols: EIF2 GAMMA | eukaryotic translation initiation factor 2 gamma subunit | chr1:1097423-1099702 FORWARD LENGTH=1398', dbxrefs=[]),\n",
       " SeqRecord(seq=Seq('ATGGAGAATATGTTTAGACTCATGGCAAGTGAAGAATATTTCTCAGAGCGGCGA...TAA'), id='AT1G04180.1', name='AT1G04180.1', description='AT1G04180.1 | Symbols: YUC9 | YUCCA 9 | chr1:1104623-1105988 FORWARD LENGTH=1266', dbxrefs=[]),\n",
       " SeqRecord(seq=Seq('ATGGCCGAGAAAGCAGGCAAGGCAACGAATGGTGGAGAAGCAGAGAAATCTCTA...TAG'), id='AT1G04190.1', name='AT1G04190.1', description='AT1G04190.1 | Symbols: TPR3 | tetratricopeptide repeat 3 | chr1:1106617-1108557 REVERSE LENGTH=987', dbxrefs=[]),\n",
       " SeqRecord(seq=Seq('ATGGGAGGTGTGCCTTCAACGCCGCGAAAAACCGGTGGTGATGATGTTTCGGTG...TAA'), id='AT1G04200.1', name='AT1G04200.1', description='AT1G04200.1 | Symbols: no symbol available | no full name available | chr1:1109676-1113875 FORWARD LENGTH=2199', dbxrefs=[]),\n",
       " SeqRecord(seq=Seq('ATGGGAGGTGTGCCTTCAACGCCGCGAAAAACCGGTGGTGATGATGTTTCGGTG...TAA'), id='AT1G04200.2', name='AT1G04200.2', description='AT1G04200.2 | Symbols: no symbol available | no full name available | chr1:1109676-1113004 FORWARD LENGTH=1893', dbxrefs=[]),\n",
       " SeqRecord(seq=Seq('ATGGGAGGTGTGCCTTCAACGCCGCGAAAAACCGGTGGTGATGATGTTTCGGTG...TAA'), id='AT1G04200.3', name='AT1G04200.3', description='AT1G04200.3 | Symbols: no symbol available | no full name available | chr1:1109676-1113576 FORWARD LENGTH=2121', dbxrefs=[]),\n",
       " SeqRecord(seq=Seq('ATGGATTCGAAGATCAAAAAGCCTGCTAATTTAATCGAAGACGCAGACATTGAT...TAA'), id='AT1G04210.1', name='AT1G04210.1', description='AT1G04210.1 | Symbols: no symbol available | no full name available | chr1:1114696-1119383 FORWARD LENGTH=3339', dbxrefs=[]),\n",
       " SeqRecord(seq=Seq('ATGAATGAGAATCACATTCAAAGTGATCACATGAACAACACCATTCATGTAACA...TAG'), id='AT1G04220.1', name='AT1G04220.1', description='AT1G04220.1 | Symbols: KCS2, DAISY | 3-ketoacyl-CoA synthase 2, DAISY | chr1:1119853-1122483 REVERSE LENGTH=1587', dbxrefs=[]),\n",
       " SeqRecord(seq=Seq('ATGGCGCACGGCGGATATGCGAGGCGGAGAGTTGCAGAGCGGAAGACGACGGCA...TGA'), id='AT1G04230.1', name='AT1G04230.1', description='AT1G04230.1 | Symbols: no symbol available | no full name available | chr1:1125576-1127828 FORWARD LENGTH=978', dbxrefs=[]),\n",
       " SeqRecord(seq=Seq('ATGGCGCACGGCGGATATGCGAGGCGGAGAGTTGCAGAGCGGAAGACGACGGCA...TGA'), id='AT1G04230.2', name='AT1G04230.2', description='AT1G04230.2 | Symbols: no symbol available | no full name available | chr1:1125576-1127828 FORWARD LENGTH=975', dbxrefs=[]),\n",
       " SeqRecord(seq=Seq('ATGGATGAGTTTGTTAACCTCAAGGAAACAGAGCTGAGGCTGGGATTACCGGGA...TGA'), id='AT1G04240.1', name='AT1G04240.1', description='AT1G04240.1 | Symbols: SHY2, IAA3 | SHORT HYPOCOTYL 2, indole-3-acetic acid inducible 3 | chr1:1128564-1129319 REVERSE LENGTH=570', dbxrefs=[]),\n",
       " SeqRecord(seq=Seq('ATGGGAGAAAAAGAAAGTGTCCCCACAAATGTCCCCAAGAAGATGGGACACACT...TGA'), id='AT1G04240.2', name='AT1G04240.2', description='AT1G04240.2 | Symbols: SHY2, IAA3 | SHORT HYPOCOTYL 2, indole-3-acetic acid inducible 3 | chr1:1128564-1129619 REVERSE LENGTH=870', dbxrefs=[]),\n",
       " SeqRecord(seq=Seq('ATGATGGGCAGTGTCGAGCTGAATCTGAGGGAGACTGAGCTGTGTCTTGGTCTT...TGA'), id='AT1G04250.1', name='AT1G04250.1', description='AT1G04250.1 | Symbols: AtIAA17, IAA17, AXR3 | indole-3-acetic acid inducible 17, AUXIN RESISTANT 3 | chr1:1136382-1138340 FORWARD LENGTH=690', dbxrefs=[]),\n",
       " SeqRecord(seq=Seq('ATGGCGAATCAAGTGATCACCGGAATCAAAGAAACAGCTCAGTCAATTACTGGA...TGA'), id='AT1G04260.1', name='AT1G04260.1', description='AT1G04260.1 | Symbols: MPIP1, MPI1, PRA1.D, MPIP7, MPI7 | CAMV movement protein interacting protein 7, CAMV MOVEMENT PROTEIN INTERACTING PROTEIN 7, PRENYLATED RAB ACCEPTOR 1.D, MP-INTERACTING 1 | chr1:1140749-1141297 REVERSE LENGTH=549', dbxrefs=[]),\n",
       " SeqRecord(seq=Seq('ATGGCGGATGTTGAACCAGAGGTTGCTGCTGCTGGAGTTCCCAAGAAGAGGACG...TGA'), id='AT1G04270.1', name='AT1G04270.1', description='AT1G04270.1 | Symbols: RPS15 | cytosolic ribosomal protein S15 | chr1:1141852-1142960 REVERSE LENGTH=459', dbxrefs=[]),\n",
       " SeqRecord(seq=Seq('ATGGCGGATGTTGAACCAGAGGTTGCTGCTGCTGGAGTTCCCAAGAAGAGGACG...TGA'), id='AT1G04270.2', name='AT1G04270.2', description='AT1G04270.2 | Symbols: RPS15 | cytosolic ribosomal protein S15 | chr1:1141852-1142960 REVERSE LENGTH=456', dbxrefs=[]),\n",
       " SeqRecord(seq=Seq('ATGGTGAAACCCTTAGGAGAAGGAACAAGAGATGTCTCTAATGTTGGTTGTAAA...TGA'), id='AT1G04280.1', name='AT1G04280.1', description='AT1G04280.1 | Symbols: NADKc | NAD kinase-CaM dependent | chr1:1143643-1146541 REVERSE LENGTH=1605', dbxrefs=[]),\n",
       " SeqRecord(seq=Seq('ATGGGGTATAAAGATGTCAAAATCGCCCCTTTGATTGAGAGGAAAGACTCAGGT...TGA'), id='AT1G04280.2', name='AT1G04280.2', description='AT1G04280.2 | Symbols: NADKc | NAD kinase-CaM dependent | chr1:1143643-1146231 REVERSE LENGTH=1443', dbxrefs=[]),\n",
       " SeqRecord(seq=Seq('ATGGATCTAGAATCGGTGAAAAAGTATCTGGAAGGAGATGAAGACGAAAAGGCC...TGA'), id='AT1G04290.1', name='AT1G04290.1', description='AT1G04290.1 | Symbols: no symbol available | no full name available | chr1:1147721-1148352 REVERSE LENGTH=468', dbxrefs=[]),\n",
       " SeqRecord(seq=Seq('ATGGATCTAGAATCGGTGAAAAAGTATCTGGAAGGAGATGAAGACGAAAAGGCC...TGA'), id='AT1G04290.2', name='AT1G04290.2', description='AT1G04290.2 | Symbols: no symbol available | no full name available | chr1:1147888-1148352 REVERSE LENGTH=384', dbxrefs=[]),\n",
       " SeqRecord(seq=Seq('ATGGCAGAGGCTGTTGATGAAGATTCTGGGGTTGGACGATCTCTAGAGGAGAGT...TGA'), id='AT1G04300.1', name='AT1G04300.1', description='AT1G04300.1 | Symbols: MUSE13, TRAF1b | Tumor necrosis factor Receptor-Associated Factor 1b | chr1:1148818-1153895 REVERSE LENGTH=3225', dbxrefs=[]),\n",
       " SeqRecord(seq=Seq('ATGTTTGTAATCATCTCTCCTTGTTTCTCTGTGTTGCAAATTATGATAAACTTC...TGA'), id='AT1G04300.2', name='AT1G04300.2', description='AT1G04300.2 | Symbols: MUSE13, TRAF1b | Tumor necrosis factor Receptor-Associated Factor 1b | chr1:1148818-1153095 REVERSE LENGTH=2994', dbxrefs=[]),\n",
       " SeqRecord(seq=Seq('ATGGCAGAGGCTGTTGATGAAGATTCTGGGGTTGGACGATCTCTAGAGGAGAGT...TGA'), id='AT1G04300.3', name='AT1G04300.3', description='AT1G04300.3 | Symbols: MUSE13, TRAF1b | Tumor necrosis factor Receptor-Associated Factor 1b | chr1:1148818-1153895 REVERSE LENGTH=3249', dbxrefs=[]),\n",
       " SeqRecord(seq=Seq('ATGGCAGAGGCTGTTGATGAAGATTCTGGGGTTGGACGATCTCTAGAGGAGAGT...TGA'), id='AT1G04300.4', name='AT1G04300.4', description='AT1G04300.4 | Symbols: MUSE13, TRAF1b | Tumor necrosis factor Receptor-Associated Factor 1b | chr1:1148818-1153895 REVERSE LENGTH=3168', dbxrefs=[]),\n",
       " SeqRecord(seq=Seq('ATGGACAGTATACTTGGAAGATTCCGAAATTTTCAGAAATCACTAAAAGGGAGC...TGA'), id='AT1G04300.5', name='AT1G04300.5', description='AT1G04300.5 | Symbols: MUSE13, TRAF1b | Tumor necrosis factor Receptor-Associated Factor 1b | chr1:1148818-1153324 REVERSE LENGTH=3135', dbxrefs=[]),\n",
       " SeqRecord(seq=Seq('ATGGACCAAAACTCTAGGCGTCGGATGTGTAGAGAGAAAGTGGACGTAATCCTA...TGA'), id='AT1G04300.6', name='AT1G04300.6', description='AT1G04300.6 | Symbols: MUSE13, TRAF1b | Tumor necrosis factor Receptor-Associated Factor 1b | chr1:1148818-1151829 REVERSE LENGTH=2463', dbxrefs=[]),\n",
       " SeqRecord(seq=Seq('ATGTTAAAGACATTGTTAGTCCAATGGCTTGTCTTCTTCTTCTTCTTCTTAATC...TGA'), id='AT1G04310.1', name='AT1G04310.1', description='AT1G04310.1 | Symbols: ERS2 | ethylene response sensor 2 | chr1:1155116-1157125 REVERSE LENGTH=1938', dbxrefs=[]),\n",
       " SeqRecord(seq=Seq('ATGTTAAAGACATTGTTAGTCCAATGGCTTGTCTTCTTCTTCTTCTTCTTAATC...TGA'), id='AT1G04310.2', name='AT1G04310.2', description='AT1G04310.2 | Symbols: ERS2 | ethylene response sensor 2 | chr1:1155116-1157125 REVERSE LENGTH=1938', dbxrefs=[]),\n",
       " SeqRecord(seq=Seq('ATGTCGTCCACGGCGAGAAATATTTCTGGCAGCGGGAACCGAAAGTCGAGTAGG...TAA'), id='AT1G04330.1', name='AT1G04330.1', description='AT1G04330.1 | Symbols: PH2 |  | chr1:1161584-1161886 REVERSE LENGTH=303', dbxrefs=[]),\n",
       " SeqRecord(seq=Seq('ATGGGTTTCTTCTCTTTTCTTGGAAGAGTTCTCTTCGCTTCTTTATTCATCCTC...TAG'), id='AT1G04340.1', name='AT1G04340.1', description='AT1G04340.1 | Symbols: no symbol available | no full name available | chr1:1163345-1164737 REVERSE LENGTH=480', dbxrefs=[]),\n",
       " SeqRecord(seq=Seq('ATGGAGACCAAAGAATTCGACTCTTACAGTGAGCGCAAAGCTTTCGACGAGACG...TGA'), id='AT1G04350.1', name='AT1G04350.1', description='AT1G04350.1 | Symbols: no symbol available | no full name available | chr1:1165296-1166538 FORWARD LENGTH=1083', dbxrefs=[]),\n",
       " SeqRecord(seq=Seq('ATGGATCTAACAGACCGTCGTAACCCTTTTAACAATCTTGTTTTTCCGCCGCCG...TAA'), id='AT1G04360.1', name='AT1G04360.1', description='AT1G04360.1 | Symbols: ATL1 | ARABIDOPSIS TOXICOS EN LEVADURA 1 | chr1:1167507-1168652 REVERSE LENGTH=1146', dbxrefs=[]),\n",
       " SeqRecord(seq=Seq('ATGGATCAAGGAGGTCGTAGCAGTGGTAGTGGAGGAGGAGGAGCCGAGCAAGGG...TAA'), id='AT1G04370.1', name='AT1G04370.1', description='AT1G04370.1 | Symbols: ATERF14, ERF97, ERF14 | Ethylene-responsive element binding factor 14 | chr1:1175177-1175578 FORWARD LENGTH=402', dbxrefs=[]),\n",
       " SeqRecord(seq=Seq('ATGGTGGTGAAAAACTCGATCAAATTCAACTCTCAGAGTGAGCGCAAGTCTTTG...TGA'), id='AT1G04380.1', name='AT1G04380.1', description='AT1G04380.1 | Symbols: no symbol available | no full name available | chr1:1177142-1178384 REVERSE LENGTH=1038', dbxrefs=[]),\n",
       " SeqRecord(seq=Seq('ATGGTGGTGAAAAACTCGATCAAATTCAACTCTCAGAGTGAGCGCAAGTCTTTG...TAA'), id='AT1G04380.2', name='AT1G04380.2', description='AT1G04380.2 | Symbols: no symbol available | no full name available | chr1:1177496-1178384 REVERSE LENGTH=816', dbxrefs=[]),\n",
       " SeqRecord(seq=Seq('ATGGCGTCGTCAAAGGGAGGAAACACCACTGCCCACATCAATACTCTTCACCAC...TAA'), id='AT1G04390.1', name='AT1G04390.1', description='AT1G04390.1 | Symbols: no symbol available | no full name available | chr1:1179678-1183615 REVERSE LENGTH=3009', dbxrefs=[]),\n",
       " SeqRecord(seq=Seq('ATGAAGATGGACAAAAAGACTATAGTTTGGTTTAGAAGAGACCTAAGGATTGAG...TGA'), id='AT1G04400.1', name='AT1G04400.1', description='AT1G04400.1 | Symbols: PHH1, FHA, CRY2, AT-PHH1, ATCRY2 | cryptochrome 2 | chr1:1185719-1187901 REVERSE LENGTH=1839', dbxrefs=[]),\n",
       " SeqRecord(seq=Seq('ATGAAGATGGACAAAAAGACTATAGTTTGGTTTAGAAGAGACCTAAGGATTGAG...TGA'), id='AT1G04400.2', name='AT1G04400.2', description='AT1G04400.2 | Symbols: PHH1, FHA, CRY2, AT-PHH1, ATCRY2 | cryptochrome 2 | chr1:1185719-1187901 REVERSE LENGTH=1839', dbxrefs=[]),\n",
       " SeqRecord(seq=Seq('ATGGCGAAAGAACCAGTTCGTGTGCTCGTTACTGGAGCTGCAGGACAAATCGGA...TAA'), id='AT1G04410.1', name='AT1G04410.1', description='AT1G04410.1 | Symbols: c-NAD-MDH1 | cytosolic-NAD-dependent malate dehydrogenase 1 | chr1:1189418-1191267 REVERSE LENGTH=999', dbxrefs=[]),\n",
       " SeqRecord(seq=Seq('ATGGCGTCATCTTACGTCACCTACTCAACGGTCACTCCGGTGGTCAGCAGCAGT...TGA'), id='AT1G04420.1', name='AT1G04420.1', description='AT1G04420.1 | Symbols: no symbol available | no full name available | chr1:1191634-1193699 FORWARD LENGTH=1239', dbxrefs=[]),\n",
       " SeqRecord(seq=Seq('ATGATGAGAGGGAGATCTGATGGAGGCCTAAAGAAGCGGCTTATTGCTTCGGTC...TAA'), id='AT1G04430.1', name='AT1G04430.1', description='AT1G04430.1 | Symbols: no symbol available | no full name available | chr1:1198860-1201301 FORWARD LENGTH=1872', dbxrefs=[]),\n",
       " SeqRecord(seq=Seq('ATGATGAGAGGGAGATCTGATGGAGGCCTAAAGAAGCGGCTTATTGCTTCGGTC...TAA'), id='AT1G04430.2', name='AT1G04430.2', description='AT1G04430.2 | Symbols: no symbol available | no full name available | chr1:1198860-1201301 FORWARD LENGTH=1872', dbxrefs=[]),\n",
       " SeqRecord(seq=Seq('ATGATGAGAGGGAGATCTGATGGAGGCCTAAAGAAGCGGCTTATTGCTTCGGTC...TAA'), id='AT1G04430.3', name='AT1G04430.3', description='AT1G04430.3 | Symbols: no symbol available | no full name available | chr1:1198860-1201301 FORWARD LENGTH=1872', dbxrefs=[]),\n",
       " SeqRecord(seq=Seq('ATGGATCGTGTGGTTGGTGGTAAGTTCAAGCTCGGACGAAAGCTTGGAAGTGGC...TGA'), id='AT1G04440.1', name='AT1G04440.1', description='AT1G04440.1 | Symbols: CKL13 | casein kinase like 13 | chr1:1202815-1205664 FORWARD LENGTH=1407', dbxrefs=[]),\n",
       " SeqRecord(seq=Seq('ATGCCATTTTCAGAACCCCAAGAATGTGCGGTTTGTAAGAGAGTCTTCTTATCA...TGA'), id='AT1G04445.1', name='AT1G04445.1', description='AT1G04445.1 | Symbols: no symbol available | no full name available | chr1:1207344-1207862 FORWARD LENGTH=519', dbxrefs=[]),\n",
       " SeqRecord(seq=Seq('ATGATCATGCCATTTTCAGAACCCCAAGAATGTGCGGTTTGTAAGAGAGTCTTC...TGA'), id='AT1G04445.2', name='AT1G04445.2', description='AT1G04445.2 | Symbols: no symbol available | no full name available | chr1:1207338-1207862 FORWARD LENGTH=525', dbxrefs=[]),\n",
       " SeqRecord(seq=Seq('ATGGCGACCGTGAAAGGCCTTCTTAAAGGCCTTCGCTACATTACTCAGATTTTC...TAA'), id='AT1G04450.1', name='AT1G04450.1', description='AT1G04450.1 | Symbols: RIC3 | ROP-interactive CRIB motif-containing protein 3 | chr1:1209006-1209853 FORWARD LENGTH=663', dbxrefs=[]),\n",
       " SeqRecord(seq=Seq('ATGACTAGTACCAAAAAGACGACTACATACCAGATAAATCTAAACAATATCTAC...TAA'), id='AT1G04455.1', name='AT1G04455.1', description='AT1G04455.1 | Symbols: no symbol available | no full name available | chr1:1210269-1210622 FORWARD LENGTH=354', dbxrefs=[]),\n",
       " SeqRecord(seq=Seq('ATGGTTCGTCATTCTCGGAGGGAGTCCTTTTTCGACATGGTTGGCTTTGAGGTT...TGA'), id='AT1G04470.1', name='AT1G04470.1', description='AT1G04470.1 | Symbols: no symbol available | no full name available | chr1:1211177-1214591 REVERSE LENGTH=3108', dbxrefs=[]),\n",
       " SeqRecord(seq=Seq('ATGTCGAAGCGAGGGCGTGGAGGTACCTCTGGTAACAAATTCAGGATGTCACTG...TAA'), id='AT1G04480.1', name='AT1G04480.1', description='AT1G04480.1 | Symbols: no symbol available | no full name available | chr1:1216110-1217257 FORWARD LENGTH=423', dbxrefs=[]),\n",
       " SeqRecord(seq=Seq('ATGGAAGGTCAAACTCATGATGCTCAAAACAATGTTCCTGAGCATGACAATCCA...TAA'), id='AT1G04490.1', name='AT1G04490.1', description='AT1G04490.1 | Symbols: no symbol available | no full name available | chr1:1218020-1219325 REVERSE LENGTH=1206', dbxrefs=[]),\n",
       " SeqRecord(seq=Seq('ATGGAAGGTCAAACTCATGATGCTCAAAACAATGTTCCTGAGCATGACAATCCA...TAA'), id='AT1G04490.2', name='AT1G04490.2', description='AT1G04490.2 | Symbols: no symbol available | no full name available | chr1:1218020-1219325 REVERSE LENGTH=1206', dbxrefs=[]),\n",
       " SeqRecord(seq=Seq('ATGGAAGGTCAAACTCATGATGCTCAAAACAATGTTCCTGAGCATGACAATCCA...TAA'), id='AT1G04490.3', name='AT1G04490.3', description='AT1G04490.3 | Symbols: no symbol available | no full name available | chr1:1218020-1219325 REVERSE LENGTH=1206', dbxrefs=[]),\n",
       " SeqRecord(seq=Seq('ATGGAAGGTCAAACTCATGATGCTCAAAACAATGTTCCTGAGCATGACAATCCA...TAG'), id='AT1G04490.4', name='AT1G04490.4', description='AT1G04490.4 | Symbols: no symbol available | no full name available | chr1:1218240-1219325 REVERSE LENGTH=1086', dbxrefs=[]),\n",
       " SeqRecord(seq=Seq('ATGGAAGGTCAAACTCATGATGCTCAAAACAATGTTCCTGAGCATGACAATCCA...TAA'), id='AT1G04490.5', name='AT1G04490.5', description='AT1G04490.5 | Symbols: no symbol available | no full name available | chr1:1218020-1219325 REVERSE LENGTH=1206', dbxrefs=[]),\n",
       " SeqRecord(seq=Seq('ATGGAAGGTCAAACTCATGATGCTCAAAACAATGTTCCTGAGCATGACAATCCA...TAA'), id='AT1G04490.6', name='AT1G04490.6', description='AT1G04490.6 | Symbols: no symbol available | no full name available | chr1:1218020-1219325 REVERSE LENGTH=1206', dbxrefs=[]),\n",
       " SeqRecord(seq=Seq('ATGGAAGGTCAAACTCATGATGCTCAAAACAATGTTCCTGAGCATGACAATCCA...TAA'), id='AT1G04490.7', name='AT1G04490.7', description='AT1G04490.7 | Symbols: no symbol available | no full name available | chr1:1218020-1219325 REVERSE LENGTH=1206', dbxrefs=[]),\n",
       " SeqRecord(seq=Seq('ATGGAAGGTCAAACTCATGATGCTCAAAACAATGTTCCTGAGCATGACAATCCA...TAA'), id='AT1G04490.8', name='AT1G04490.8', description='AT1G04490.8 | Symbols: no symbol available | no full name available | chr1:1218020-1219325 REVERSE LENGTH=1206', dbxrefs=[]),\n",
       " SeqRecord(seq=Seq('ATGGAAGGTCAAACTCATGATGCTCAAAACAATGTTCCTGAGCATGACAATCCA...TAA'), id='AT1G04490.9', name='AT1G04490.9', description='AT1G04490.9 | Symbols: no symbol available | no full name available | chr1:1218020-1219325 REVERSE LENGTH=1206', dbxrefs=[]),\n",
       " SeqRecord(seq=Seq('ATGTCGCAGGACGTAATTTCGTCTCATGAGCAGCTCTCCATGGATGAGATCACA...TGA'), id='AT1G04500.1', name='AT1G04500.1', description='AT1G04500.1 | Symbols: no symbol available | no full name available | chr1:1221757-1224235 REVERSE LENGTH=1161', dbxrefs=[]),\n",
       " SeqRecord(seq=Seq('ATGTCGCAGGACGTAATTTCGTCTCATGAGCAGCTCTCCATGGATGAGATCACA...TAA'), id='AT1G04500.2', name='AT1G04500.2', description='AT1G04500.2 | Symbols: no symbol available | no full name available | chr1:1221855-1224235 REVERSE LENGTH=1155', dbxrefs=[]),\n",
       " SeqRecord(seq=Seq('ATGCAAGCCTTCAACGATGAGATCACAAGTCCTCTCACCGCACAGATCTTCGAT...TGA'), id='AT1G04500.3', name='AT1G04500.3', description='AT1G04500.3 | Symbols: no symbol available | no full name available | chr1:1221757-1223286 REVERSE LENGTH=1134', dbxrefs=[]),\n",
       " SeqRecord(seq=Seq('ATGTCGCAGGACGTAATTTCGTCTCATGAGCAGCTCTCCATGGATGAGATCACA...TGA'), id='AT1G04500.4', name='AT1G04500.4', description='AT1G04500.4 | Symbols: no symbol available | no full name available | chr1:1221757-1224235 REVERSE LENGTH=1161', dbxrefs=[]),\n",
       " SeqRecord(seq=Seq('ATGAATTGTGCAATTTCCGGCGAAGTTCCGGAGGAGCCTGTGGTTTCTAAGAAG...TGA'), id='AT1G04510.1', name='AT1G04510.1', description='AT1G04510.1 | Symbols: PUB59, MAC3A | Plant U-box 59, MOS4-associated  complex 3A | chr1:1226749-1230592 FORWARD LENGTH=1572', dbxrefs=[]),\n",
       " SeqRecord(seq=Seq('ATGAATTGTGCAATTTCCGGCGAAGTTCCGGAGGAGCCTGTGGTTTCTAAGAAG...TGA'), id='AT1G04510.2', name='AT1G04510.2', description='AT1G04510.2 | Symbols: PUB59, MAC3A | Plant U-box 59, MOS4-associated  complex 3A | chr1:1226749-1230592 FORWARD LENGTH=1572', dbxrefs=[]),\n",
       " SeqRecord(seq=Seq('ATGGGTCTTTCAATCTCATTCCTCAGCATCATCATGATGATGTGTCTACTGTTT...TGA'), id='AT1G04520.1', name='AT1G04520.1', description='AT1G04520.1 | Symbols: PDLP2 | plasmodesmata-located protein 2 | chr1:1231852-1233787 FORWARD LENGTH=924', dbxrefs=[]),\n",
       " SeqRecord(seq=Seq('ATGCTGAAGAGCGAGGCATCTCTCTCGATTTACTGCGACTCTGGAGATGGGTTC...TGA'), id='AT1G04530.1', name='AT1G04530.1', description='AT1G04530.1 | Symbols: TPR4 | tetratricopeptide repeat 4 | chr1:1234456-1235895 REVERSE LENGTH=933', dbxrefs=[]),\n",
       " SeqRecord(seq=Seq('ATGTCGATGATGTTCCCATCGTTTCAGTTGCTAGAACTTAACATAATATCAGCT...TGA'), id='AT1G04540.1', name='AT1G04540.1', description='AT1G04540.1 | Symbols: no symbol available | no full name available | chr1:1237256-1239061 FORWARD LENGTH=1806', dbxrefs=[]),\n",
       " SeqRecord(seq=Seq('ATGCGTGGTGTGTCAGAATTGGAGGTGGGGAAGAGTAATCTTCCGGCGGAGAGT...TAA'), id='AT1G04550.1', name='AT1G04550.1', description='AT1G04550.1 | Symbols: BDL, IAA12 | BODENLOS, indole-3-acetic acid inducible 12 | chr1:1240582-1241375 FORWARD LENGTH=522', dbxrefs=[]),\n",
       " SeqRecord(seq=Seq('ATGCGTGGTGTGTCAGAATTGGAGGTGGGGAAGAGTAATCTTCCGGCGGAGAGT...TAG'), id='AT1G04550.2', name='AT1G04550.2', description='AT1G04550.2 | Symbols: BDL, IAA12 | BODENLOS, indole-3-acetic acid inducible 12 | chr1:1240582-1241810 FORWARD LENGTH=720', dbxrefs=[]),\n",
       " SeqRecord(seq=Seq('ATGGATCATCAATGGCGCATGAGGTTTTCGTTCAAGAACGCAACAATTGCTCTC...TAA'), id='AT1G04555.1', name='AT1G04555.1', description='AT1G04555.1 | Symbols: no symbol available | no full name available | chr1:1242743-1243949 FORWARD LENGTH=459', dbxrefs=[]),\n",
       " SeqRecord(seq=Seq('ATGGCGACGACAGTGGGAAGAAACATAGCAGCACCATTGCTGTTCTTGAATCTT...TGA'), id='AT1G04560.1', name='AT1G04560.1', description='AT1G04560.1 | Symbols: no symbol available | no full name available | chr1:1245070-1245888 FORWARD LENGTH=561', dbxrefs=[]),\n",
       " SeqRecord(seq=Seq('ATGGAAAGAATTATGATAAATCCATTGTTATCAATTCAAAACTCCCCAACCAAG...TAG'), id='AT1G04570.1', name='AT1G04570.1', description='AT1G04570.1 | Symbols: no symbol available | no full name available | chr1:1246859-1248600 REVERSE LENGTH=1629', dbxrefs=[]),\n",
       " SeqRecord(seq=Seq('ATGTTCTTTACATTGGAAGTGGTCGTAGAGTTCCTTACATCGCCATTGGAGGTT...TAG'), id='AT1G04570.2', name='AT1G04570.2', description='AT1G04570.2 | Symbols: no symbol available | no full name available | chr1:1246859-1248167 REVERSE LENGTH=1185', dbxrefs=[]),\n",
       " SeqRecord(seq=Seq('ATGGCGGGTGACGATTTGGTGTTTGCTGTTAATGGAGAGAAATTTGAAGTCTTG...TAA'), id='AT1G04580.1', name='AT1G04580.1', description='AT1G04580.1 | Symbols: AO4, AAO4, ATAO2, ATAO-4 | ALDEHYDE OXIDASE 2, arabdopsis thaliana aldehyde oxidase 4, aldehyde oxidase 4 | chr1:1252212-1257510 REVERSE LENGTH=4014', dbxrefs=[]),\n",
       " SeqRecord(seq=Seq('ATGGCGGGTTTCAGTTCTCTAATTCCTAGAACGCTTCTGAAACGCGCCGTTAGT...TAA'), id='AT1G04590.1', name='AT1G04590.1', description='AT1G04590.1 | Symbols: no symbol available | no full name available | chr1:1258760-1261411 REVERSE LENGTH=1146', dbxrefs=[]),\n",
       " SeqRecord(seq=Seq('ATGGCGGGTTTCAGTTCTCTAATTCCTAGAACGCTTCTGAAACGCGCCGTTAGT...TAA'), id='AT1G04590.2', name='AT1G04590.2', description='AT1G04590.2 | Symbols: no symbol available | no full name available | chr1:1258760-1261411 REVERSE LENGTH=1155', dbxrefs=[]),\n",
       " SeqRecord(seq=Seq('ATGGCTGCTTCAGCCAAAGTAACGGTAGGGTCTCATGTCTGGGTGGAGGATCCA...TGA'), id='AT1G04600.1', name='AT1G04600.1', description='AT1G04600.1 | Symbols: XIA, ATXIA | myosin XI A | chr1:1262123-1272376 FORWARD LENGTH=5193', dbxrefs=[]),\n",
       " SeqRecord(seq=Seq('ATGTATGGAAATAATAACAAGAAGTCTATCAACATCACGAGTATGTTTCAAAAC...TAA'), id='AT1G04610.1', name='AT1G04610.1', description='AT1G04610.1 | Symbols: YUC3 | YUCCA 3 | chr1:1279524-1281331 FORWARD LENGTH=1314', dbxrefs=[]),\n",
       " SeqRecord(seq=Seq('ATGATTACTGTCGTCACCTCCAGGCTCTCTCTCCTTCCTCCAGTCTTCTCCGTC...TGA'), id='AT1G04620.1', name='AT1G04620.1', description='AT1G04620.1 | Symbols: HCAR | 7-hydroxymethyl chlorophyll a (HMChl) reductase | chr1:1282869-1286492 REVERSE LENGTH=1389', dbxrefs=[]),\n",
       " SeqRecord(seq=Seq('ATGATTCAACAGACAGTATTCTTCTTGTATTGGTTTTCTCTTAAGTGTTTCAAT...TGA'), id='AT1G04625.1', name='AT1G04625.1', description='AT1G04625.1 | Symbols: no symbol available | no full name available | chr1:1287831-1289820 REVERSE LENGTH=774', dbxrefs=[]),\n",
       " SeqRecord(seq=Seq('ATGACGGAGGCGATGATAAGAAATAAGCCAGGAATGGCGAGTGTGAAGGATATG...TGA'), id='AT1G04630.1', name='AT1G04630.1', description='AT1G04630.1 | Symbols: MEE4 | maternal effect embryo arrest 4 | chr1:1289921-1290986 REVERSE LENGTH=432', dbxrefs=[]),\n",
       " SeqRecord(seq=Seq('ATGGTGGGATTTAAGAACAGATACATGTTAATGGAAGTTTTTCTGGATCCGGAC...TGA'), id='AT1G04635.1', name='AT1G04635.1', description='AT1G04635.1 | Symbols: EMB1687, AtPOP5, POP5 | A. thaliana homolog of yeast POP5, EMBRYO DEFECTIVE 1687 | chr1:1291350-1291805 FORWARD LENGTH=456', dbxrefs=[]),\n",
       " SeqRecord(seq=Seq('ATGAGATCCCCTAGAACCTTGGAGGTTTGGAAGCTAGGCACTGTCAACTATTTG...TAA'), id='AT1G04640.1', name='AT1G04640.1', description='AT1G04640.1 | Symbols: LIP2 | lipoyltransferase 2 | chr1:1292541-1293248 FORWARD LENGTH=708', dbxrefs=[]),\n",
       " SeqRecord(seq=Seq('ATGAGATCCCCTAGAACCTTGGAGGTTTGGAAGCTAGGCACTGTCAACTATTTG...TAA'), id='AT1G04640.2', name='AT1G04640.2', description='AT1G04640.2 | Symbols: LIP2 | lipoyltransferase 2 | chr1:1292541-1293248 FORWARD LENGTH=708', dbxrefs=[]),\n",
       " SeqRecord(seq=Seq('ATGGAAAAAGTTTCTATTGTTTGCTTCTTCTTCTTTCTTTTATTTGGTTCGGGT...TAA'), id='AT1G04645.1', name='AT1G04645.1', description='AT1G04645.1 | Symbols: no symbol available | no full name available | chr1:1293853-1294239 REVERSE LENGTH=387', dbxrefs=[]),\n",
       " SeqRecord(seq=Seq('ATGGAGAAGAATGCGATGAAGTTACTCGAAGAGATCAAATCTTCTGATCTTATC...TAA'), id='AT1G04650.1', name='AT1G04650.1', description='AT1G04650.1 | Symbols: FLIP | FIDGETIN-LIKE-1 INTERACTING PROTEIN | chr1:1294893-1298903 REVERSE LENGTH=2994', dbxrefs=[]),\n",
       " SeqRecord(seq=Seq('ATGTCTGTTATGTCCATGGAGGAGTCTCAAGAGGAAGAGCATTCCAACATTTTC...TAA'), id='AT1G04650.2', name='AT1G04650.2', description='AT1G04650.2 | Symbols: FLIP | FIDGETIN-LIKE-1 INTERACTING PROTEIN | chr1:1294893-1298004 REVERSE LENGTH=2688', dbxrefs=[]),\n",
       " SeqRecord(seq=Seq('ATGTCGAGAGCTTTGTCAGTCGTTTGTGTCTTGCTCGCCATATCCTTCGTCTGT...TAA'), id='AT1G04660.1', name='AT1G04660.1', description='AT1G04660.1 | Symbols: no symbol available | no full name available | chr1:1300668-1301306 REVERSE LENGTH=639', dbxrefs=[]),\n",
       " SeqRecord(seq=Seq('ATGTATGCATCAAAACTGGGTAAAGTTCTGATCTCTAATGGTAAAACGGCAAGG...TAG'), id='AT1G04670.1', name='AT1G04670.1', description='AT1G04670.1 | Symbols: no symbol available | no full name available | chr1:1301985-1302532 FORWARD LENGTH=381', dbxrefs=[]),\n",
       " SeqRecord(seq=Seq('ATGGCGGTTCTTCCGACATGGCTTTTAGCAATGATGTGTTTACTCTTCTTCGTC...TAG'), id='AT1G04680.1', name='AT1G04680.1', description='AT1G04680.1 | Symbols: no symbol available | no full name available | chr1:1304052-1307780 REVERSE LENGTH=1296', dbxrefs=[]),\n",
       " SeqRecord(seq=Seq('ATGCAGTACAAGAATCTGGGGAAATCGGGTTTAAAAGTGAGCACGCTCTCGTTC...TAA'), id='AT1G04690.1', name='AT1G04690.1', description='AT1G04690.1 | Symbols: KV-BETA1, KAB1 | potassium channel beta subunit 1 | chr1:1313662-1315420 FORWARD LENGTH=987', dbxrefs=[]),\n",
       " SeqRecord(seq=Seq('ATGAGAATGGAGTTTCCTGGCAGCTCCAATCAGCATTTAGGTAGGGATAGGTTC...TAA'), id='AT1G04700.1', name='AT1G04700.1', description='AT1G04700.1 | Symbols: no symbol available | no full name available | chr1:1316919-1320653 FORWARD LENGTH=3129', dbxrefs=[]),\n",
       " SeqRecord(seq=Seq('ATGAGAATGGAGTTTCCTGGCAGCTCCAATCAGCATTTAGGTAGGGATAGGTTC...TAA'), id='AT1G04700.2', name='AT1G04700.2', description='AT1G04700.2 | Symbols: no symbol available | no full name available | chr1:1316919-1320653 FORWARD LENGTH=3129', dbxrefs=[]),\n",
       " SeqRecord(seq=Seq('ATGAGAATGGAGTTTCCTGGCAGCTCCAATCAGCATTTAGGTAGGGATAGGTTC...TAA'), id='AT1G04700.3', name='AT1G04700.3', description='AT1G04700.3 | Symbols: no symbol available | no full name available | chr1:1316919-1320026 FORWARD LENGTH=2769', dbxrefs=[]),\n",
       " SeqRecord(seq=Seq('ATGGAAAAAGCAACGGAGAGACAAAGGATACTGCTTCGTCATCTTCAACCTTCG...TAA'), id='AT1G04710.1', name='AT1G04710.1', description='AT1G04710.1 | Symbols: KAT1, PKT4 | 3-KETO-ACYL-COA THIOLASE 1, peroxisomal 3-ketoacyl-CoA thiolase  4 | chr1:1321941-1324556 FORWARD LENGTH=1332', dbxrefs=[]),\n",
       " SeqRecord(seq=Seq('ATGGAATTCGATATCCCATTGCCGGAGGAGCTTGAGCTTCTAGAAGCCAATTCT...TGA'), id='AT1G04730.1', name='AT1G04730.1', description='AT1G04730.1 | Symbols: CTF18 | CHROMOSOME TRANSMISSION FIDELITY 18 | chr1:1325385-1331086 REVERSE LENGTH=2832', dbxrefs=[]),\n",
       " SeqRecord(seq=Seq('ATGCATGAGAAACTCTGGGTGGACAAATATTCTCCGAGCTCCTTCACTGAGCTT...TGA'), id='AT1G04730.2', name='AT1G04730.2', description='AT1G04730.2 | Symbols: CTF18 | CHROMOSOME TRANSMISSION FIDELITY 18 | chr1:1325385-1330227 REVERSE LENGTH=2172', dbxrefs=[]),\n",
       " SeqRecord(seq=Seq('ATGCATGAGAAACTCTGGGTGGACAAATATTCTCCGAGCTCCTTCACTGAGCTT...TGA'), id='AT1G04730.3', name='AT1G04730.3', description='AT1G04730.3 | Symbols: CTF18 | CHROMOSOME TRANSMISSION FIDELITY 18 | chr1:1325385-1330227 REVERSE LENGTH=2172', dbxrefs=[]),\n",
       " SeqRecord(seq=Seq('ATGCATGAGAAACTCTGGGTGGACAAATATTCTCCGAGCTCCTTCACTGAGCTT...TGA'), id='AT1G04730.4', name='AT1G04730.4', description='AT1G04730.4 | Symbols: CTF18 | CHROMOSOME TRANSMISSION FIDELITY 18 | chr1:1325385-1330227 REVERSE LENGTH=2172', dbxrefs=[]),\n",
       " SeqRecord(seq=Seq('ATGGCGCAACAATCGTTGATCTACAGTTTCGTAGCTCGCGGCACGGTGATCCTC...TAA'), id='AT1G04750.1', name='AT1G04750.1', description='AT1G04750.1 | Symbols: VAMP721, ATVAMP721, VAMP7B, AT VAMP7B | VESICLE-ASSOCIATED MEMBRANE PROTEIN 7B, vesicle-associated membrane protein 721 | chr1:1331857-1333426 REVERSE LENGTH=660', dbxrefs=[]),\n",
       " SeqRecord(seq=Seq('ATGTCCTTTTTGGAAAGAGTAAAAGAAGATTTTAACAAGCGATATGGTGGTGGA...TAA'), id='AT1G04750.2', name='AT1G04750.2', description='AT1G04750.2 | Symbols: VAMP721, ATVAMP721, VAMP7B, AT VAMP7B | VESICLE-ASSOCIATED MEMBRANE PROTEIN 7B, vesicle-associated membrane protein 721 | chr1:1331857-1332686 REVERSE LENGTH=426', dbxrefs=[]),\n",
       " SeqRecord(seq=Seq('ATGTCCTTTTTGGAAAGAGTAAAAGAAGATTTTAACAAGCGATATGGTGGTGGA...TAA'), id='AT1G04750.3', name='AT1G04750.3', description='AT1G04750.3 | Symbols: VAMP721, ATVAMP721, VAMP7B, AT VAMP7B | VESICLE-ASSOCIATED MEMBRANE PROTEIN 7B, vesicle-associated membrane protein 721 | chr1:1331857-1332686 REVERSE LENGTH=426', dbxrefs=[]),\n",
       " SeqRecord(seq=Seq('ATGTCCTTTTTGGAAAGAGTAAAAGAAGATTTTAACAAGCGATATGGTGGTGGA...TAA'), id='AT1G04750.4', name='AT1G04750.4', description='AT1G04750.4 | Symbols: VAMP721, ATVAMP721, VAMP7B, AT VAMP7B | VESICLE-ASSOCIATED MEMBRANE PROTEIN 7B, vesicle-associated membrane protein 721 | chr1:1331857-1332686 REVERSE LENGTH=426', dbxrefs=[]),\n",
       " SeqRecord(seq=Seq('ATGGGACAACAATCGTTGATCTACAGCTTCGTCGCTCGCGGTACGGTGATCCTC...TAA'), id='AT1G04760.1', name='AT1G04760.1', description='AT1G04760.1 | Symbols: VAMP726, ATVAMP726 | vesicle-associated membrane protein 726 | chr1:1334760-1336070 FORWARD LENGTH=663', dbxrefs=[]),\n",
       " SeqRecord(seq=Seq('ATGGGACAACAATCGTTGATCTACAGCTTCGTCGCTCGCGGTACGGTGATCCTC...TAA'), id='AT1G04760.2', name='AT1G04760.2', description='AT1G04760.2 | Symbols: VAMP726, ATVAMP726 | vesicle-associated membrane protein 726 | chr1:1334760-1336070 FORWARD LENGTH=663', dbxrefs=[]),\n",
       " SeqRecord(seq=Seq('ATGATGATGATGATTCAGAGAAGAGGAGGTGAGAGACAAGACTCGTCGGCGGCG...TGA'), id='AT1G04770.1', name='AT1G04770.1', description='AT1G04770.1 | Symbols: SDI2 | Sulfur Deficiency Induced 2 | chr1:1336564-1337767 REVERSE LENGTH=912', dbxrefs=[]),\n",
       " SeqRecord(seq=Seq('ATGGTCAACTTGGCTTCCGAGGAGGAGGAGGAAGACGGCGGCGACAACATCAAC...TAA'), id='AT1G04778.1', name='AT1G04778.1', description='AT1G04778.1 | Symbols: no symbol available | no full name available | chr1:1339947-1340117 FORWARD LENGTH=171', dbxrefs=[]),\n",
       " SeqRecord(seq=Seq('ATGGCAAGCAGCACCATTGATGTTACCAAGTATGGTCACAGTCCTGTTCATCAC...TGA'), id='AT1G04780.1', name='AT1G04780.1', description='AT1G04780.1 | Symbols: no symbol available | no full name available | chr1:1340891-1342965 REVERSE LENGTH=1995', dbxrefs=[]),\n",
       " SeqRecord(seq=Seq('ATGGAGAATTCTGATATTGACATGGTAATCATACCTGATACTCCAGATAGATCG...TGA'), id='AT1G04790.1', name='AT1G04790.1', description='AT1G04790.1 | Symbols: no symbol available | no full name available | chr1:1345469-1348143 FORWARD LENGTH=1905', dbxrefs=[]),\n",
       " SeqRecord(seq=Seq('ATGGGTCTAATCGCCGGTAAAGTGCGTGTGTTTGTTTTGGTGTTTGCTTTGGTC...TGA'), id='AT1G04800.1', name='AT1G04800.1', description='AT1G04800.1 | Symbols: no symbol available | no full name available | chr1:1348635-1349237 REVERSE LENGTH=603', dbxrefs=[]),\n",
       " SeqRecord(seq=Seq('ATGGCCGCCGCCATGGTTAGTTCCGCCGGTGGGTTACTGGCAATGCTCAACGAA...TGA'), id='AT1G04810.1', name='AT1G04810.1', description='AT1G04810.1 | Symbols: no symbol available | no full name available | chr1:1350304-1355261 FORWARD LENGTH=3006', dbxrefs=[]),\n",
       " SeqRecord(seq=Seq('ATGAGAGAGTGCATTTCGATCCACATTGGTCAGGCTGGTATCCAGGTCGGAAAT...TAA'), id='AT1G04820.1', name='AT1G04820.1', description='AT1G04820.1 | Symbols: TUA4, TOR2 | TORTIFOLIA 2, tubulin alpha-4 chain | chr1:1356421-1358266 REVERSE LENGTH=1353', dbxrefs=[]),\n",
       " SeqRecord(seq=Seq('ATGGTGAGGAAAAAGGTACCGGAATGGCTTAATAGCACCATGTGGTCTACTCCT...TAA'), id='AT1G04830.1', name='AT1G04830.1', description='AT1G04830.1 | Symbols: no symbol available | no full name available | chr1:1359087-1361844 REVERSE LENGTH=1347', dbxrefs=[]),\n",
       " SeqRecord(seq=Seq('ATGGTGAGGAAAAAGGTACCGGAATGGCTTAATAGCACCATGTGGTCTACTCCT...TAA'), id='AT1G04830.2', name='AT1G04830.2', description='AT1G04830.2 | Symbols: no symbol available | no full name available | chr1:1358782-1361844 REVERSE LENGTH=1380', dbxrefs=[]),\n",
       " SeqRecord(seq=Seq('ATGGTGAGGAAAAAGGTACCGGAATGGCTTAATAGCACCATGTGGTCTACTCCT...TAA'), id='AT1G04830.3', name='AT1G04830.3', description='AT1G04830.3 | Symbols: no symbol available | no full name available | chr1:1359087-1361844 REVERSE LENGTH=1218', dbxrefs=[]),\n",
       " SeqRecord(seq=Seq('ATGAAATCGCTTTCTGTTATTTTTAAACCGAAATCTTCTCCCGCTAAAATCTAT...TGA'), id='AT1G04840.1', name='AT1G04840.1', description='AT1G04840.1 | Symbols: no symbol available | no full name available | chr1:1362867-1364962 REVERSE LENGTH=1998', dbxrefs=[]),\n",
       " SeqRecord(seq=Seq('ATGGCAGGAGTATCGCTCAAGTGTGGCGATTGTGGGACGCTGCTGAAGTCCGTG...TAA'), id='AT1G04850.1', name='AT1G04850.1', description='AT1G04850.1 | Symbols: no symbol available | no full name available | chr1:1365311-1368706 REVERSE LENGTH=1242', dbxrefs=[]),\n",
       " SeqRecord(seq=Seq('ATGGAGATTGATGATAATGCTAGTGGTAGTGGAGAGGCTGCAGAAGAGATGGTT...TAA'), id='AT1G04850.2', name='AT1G04850.2', description='AT1G04850.2 | Symbols: no symbol available | no full name available | chr1:1365311-1367835 REVERSE LENGTH=975', dbxrefs=[]),\n",
       " SeqRecord(seq=Seq('ATGGGGAAGAAAGCGAAGAAGAAGGCCCGAGCTCCAACAAAGGAGATTCAGACC...TGA'), id='AT1G04860.1', name='AT1G04860.1', description='AT1G04860.1 | Symbols: UBP2, ATUBP2 | ubiquitin-specific protease 2 | chr1:1369306-1372290 REVERSE LENGTH=2886', dbxrefs=[]),\n",
       " SeqRecord(seq=Seq('ATGGCTGATCATGCTCGTGCCCTTGTCAAAGCCAATAACCTTGACCATATTGTA...TGA'), id='AT1G04870.1', name='AT1G04870.1', description='AT1G04870.1 | Symbols: PRMT10, ATPRMT10 | protein arginine methyltransferase 10 | chr1:1373485-1375128 REVERSE LENGTH=843', dbxrefs=[]),\n",
       " SeqRecord(seq=Seq('ATGAGGAGCTCCCAAAACGGCGGCGCAATGGGTGGACGAGCTGCCGGAACCGGC...TGA'), id='AT1G04870.2', name='AT1G04870.2', description='AT1G04870.2 | Symbols: PRMT10, ATPRMT10 | protein arginine methyltransferase 10 | chr1:1373485-1375598 REVERSE LENGTH=1152', dbxrefs=[]),\n",
       " SeqRecord(seq=Seq('ATGGCATCAAGCTCTTGTCTCAAGCAAGGGTCAGTGCCAATGAACAATGTTTGT...TGA'), id='AT1G04880.1', name='AT1G04880.1', description='AT1G04880.1 | Symbols: AtHMGB15, HMGBD15 | ARID-HMG DNA-binding protein 15 | chr1:1376106-1378264 REVERSE LENGTH=1347', dbxrefs=[]),\n",
       " SeqRecord(seq=Seq('ATGACCGTTCAGGGCATGAAAGGCAAACGTTTTGTTACAAGAAGATCAAGAAAC...TGA'), id='AT1G04890.1', name='AT1G04890.1', description='AT1G04890.1 | Symbols: MyoB15 |  | chr1:1381116-1382546 REVERSE LENGTH=1236', dbxrefs=[]),\n",
       " SeqRecord(seq=Seq('ATGTGTATAAGATTGCCATGGCAGAGGTGTTGTGTTCCTCGAAGCATCTCTGAC...TAG'), id='AT1G04895.1', name='AT1G04895.1', description='AT1G04895.1 | Symbols: no symbol available | no full name available | chr1:1383008-1383422 REVERSE LENGTH=246', dbxrefs=[]),\n",
       " SeqRecord(seq=Seq('ATGGCTTTCGTTCGATATATCCCTTGTCGGAAGATTCCACGAAATGTTGATCAA...TAG'), id='AT1G04900.1', name='AT1G04900.1', description='AT1G04900.1 | Symbols: no symbol available | no full name available | chr1:1383912-1387561 FORWARD LENGTH=1329', dbxrefs=[]),\n",
       " SeqRecord(seq=Seq('ATGCGAAGGTTAGGTCACCACCGACTTCATGGGAAGACGGGAGGAGTTGGAACA...TAA'), id='AT1G04910.1', name='AT1G04910.1', description='AT1G04910.1 | Symbols: no symbol available | no full name available | chr1:1388101-1391074 REVERSE LENGTH=1560', dbxrefs=[]),\n",
       " SeqRecord(seq=Seq('ATGGCGGGGAACGAGTGGATAAATGGGTATTTGGAGGCGATTCTTGACAGCCAA...TGA'), id='AT1G04920.1', name='AT1G04920.1', description='AT1G04920.1 | Symbols: SPS3F, AtSPSB, ATSPS3F, SPSB | sucrose phosphate synthase 3F, sucrose phosphate synthase B | chr1:1391674-1395756 REVERSE LENGTH=3189', dbxrefs=[]),\n",
       " SeqRecord(seq=Seq('ATGTCAATTCCCGATCCCAACTCCTCCGCATCTCTAACGGTGTCTCCGTCTCTA...TGA'), id='AT1G04930.1', name='AT1G04930.1', description='AT1G04930.1 | Symbols: LIN37A | LIN37 homolog A | chr1:1396546-1398988 REVERSE LENGTH=999', dbxrefs=[]),\n",
       " SeqRecord(seq=Seq('ATGTCAATTCCCGATCCCAACTCCTCCGCATCTCTAACGGTGTCTCCGTCTCTA...TGA'), id='AT1G04930.2', name='AT1G04930.2', description='AT1G04930.2 | Symbols: LIN37A | LIN37 homolog A | chr1:1396546-1398988 REVERSE LENGTH=1089', dbxrefs=[]),\n",
       " SeqRecord(seq=Seq('ATGTCAATTCCCGATCCCAACTCCTCCGCATCTCTAACGGTGTCTCCGTCTCTA...TGA'), id='AT1G04930.3', name='AT1G04930.3', description='AT1G04930.3 | Symbols: LIN37A | LIN37 homolog A | chr1:1397128-1398988 REVERSE LENGTH=735', dbxrefs=[]),\n",
       " SeqRecord(seq=Seq('ATGATAACTGGATACAGCACGCCAAGTGCACATGTTCTAATGAGCTCTCGGGCA...TAA'), id='AT1G04940.1', name='AT1G04940.1', description='AT1G04940.1 | Symbols: atTIC20, AtTic20-I, Tic20-I, TIC20 | translocon at the inner envelope membrane of chloroplasts 20, translocon at the inner envelope membrane of chloroplasts 20-I | chr1:1399588-1400616 FORWARD LENGTH=825', dbxrefs=[]),\n",
       " SeqRecord(seq=Seq('ATGAAAGATTCGGTCTGCGAAGAGTGCAAACAAAATCCATGGAAGTACAAATGT...TGA'), id='AT1G04945.1', name='AT1G04945.1', description='AT1G04945.1 | Symbols: no symbol available | no full name available | chr1:1400969-1402651 FORWARD LENGTH=1104', dbxrefs=[]),\n",
       " SeqRecord(seq=Seq('ATGAAAGATTCGGTCTGCGAAGAGTGCAAACAAAATCCATGGAAGTACAAATGT...TGA'), id='AT1G04945.2', name='AT1G04945.2', description='AT1G04945.2 | Symbols: no symbol available | no full name available | chr1:1400969-1402651 FORWARD LENGTH=1179', dbxrefs=[]),\n",
       " SeqRecord(seq=Seq('ATGATAACTGGATACAGCACGCCAAGTGCACATGTTCTAATGAGCTCTCGGGCA...TGA'), id='AT1G04945.3', name='AT1G04945.3', description='AT1G04945.3 | Symbols: no symbol available | no full name available | chr1:1399588-1402651 FORWARD LENGTH=1935', dbxrefs=[]),\n",
       " SeqRecord(seq=Seq('ATGAAAGATTCGGTCTGCGAAGAGTGCAAACAAAATCCATGGAAGTACAAATGT...TGA'), id='AT1G04945.4', name='AT1G04945.4', description='AT1G04945.4 | Symbols: no symbol available | no full name available | chr1:1400969-1402651 FORWARD LENGTH=1077', dbxrefs=[]),\n",
       " SeqRecord(seq=Seq('ATGAGCATTGTACCTAAGGAAACGGTTGAGGTAATAGCTCAAAGTATTGGGATT...TAA'), id='AT1G04950.1', name='AT1G04950.1', description='AT1G04950.1 | Symbols: ATTAF6, TAF6, EMB2781, TAFII59 | TATA BOX ASSOCIATED FACTOR II 59, EMBRYO DEFECTIVE 2781, TBP-associated factor 6 | chr1:1403606-1407184 REVERSE LENGTH=1650', dbxrefs=[]),\n",
       " SeqRecord(seq=Seq('ATGAGCATTGTACCTAAGGAAACGGTTGAGGTAATAGCTCAAAGTATTGGGATT...TAA'), id='AT1G04950.2', name='AT1G04950.2', description='AT1G04950.2 | Symbols: ATTAF6, TAF6, EMB2781, TAFII59 | TATA BOX ASSOCIATED FACTOR II 59, EMBRYO DEFECTIVE 2781, TBP-associated factor 6 | chr1:1403606-1407184 REVERSE LENGTH=1650', dbxrefs=[]),\n",
       " SeqRecord(seq=Seq('ATGAGCATTGTACCTAAGGAAACGGTTGAGGTAATAGCTCAAAGTATTGGGATT...TAA'), id='AT1G04950.3', name='AT1G04950.3', description='AT1G04950.3 | Symbols: ATTAF6, TAF6, EMB2781, TAFII59 | TATA BOX ASSOCIATED FACTOR II 59, EMBRYO DEFECTIVE 2781, TBP-associated factor 6 | chr1:1403606-1407184 REVERSE LENGTH=1650', dbxrefs=[]),\n",
       " SeqRecord(seq=Seq('ATGGCGATGCAAGCCGGTGTTCAGACCTCTAAGGTCCTTATCCTACTCGGCGCA...TAA'), id='AT1G04960.1', name='AT1G04960.1', description='AT1G04960.1 | Symbols: no symbol available | no full name available | chr1:1408021-1410673 REVERSE LENGTH=954', dbxrefs=[]),\n",
       " SeqRecord(seq=Seq('ATGGTAATACAGCTTGGATGTAGCAAGAATGATTTAGTTATTCTAGCTTGGATG...TAA'), id='AT1G04960.2', name='AT1G04960.2', description='AT1G04960.2 | Symbols: no symbol available | no full name available | chr1:1408021-1410424 REVERSE LENGTH=1005', dbxrefs=[]),\n",
       " SeqRecord(seq=Seq('ATGGATGTTGGACGATGCTTTCTCTTTCTTCTATTACCAAGTTTCTTCTTCTTG...TGA'), id='AT1G04970.1', name='AT1G04970.1', description='AT1G04970.1 | Symbols: LBR-1 |  | chr1:1411216-1413431 FORWARD LENGTH=1467', dbxrefs=[]),\n",
       " SeqRecord(seq=Seq('ATGAGTGCTGATTCTCGCCTTCTCGGTAAGGTTCAAGGCATGGAAATCGGGCTC...TGA'), id='AT1G04970.2', name='AT1G04970.2', description='AT1G04970.2 | Symbols: LBR-1 |  | chr1:1411885-1413431 FORWARD LENGTH=1089', dbxrefs=[]),\n",
       " SeqRecord(seq=Seq('ATGAGTGCTGATTCTCGCCTTCTCGGTAAGGTTCAAGGCATGGAAATCGGGCTC...TGA'), id='AT1G04970.3', name='AT1G04970.3', description='AT1G04970.3 | Symbols: LBR-1 |  | chr1:1411885-1413431 FORWARD LENGTH=1089', dbxrefs=[]),\n",
       " SeqRecord(seq=Seq('ATGGAAAGAAAAATGTACAAATCAACGGTGTTCCCAATTTGCTGTCTGTTGTTT...TGA'), id='AT1G04980.1', name='AT1G04980.1', description='AT1G04980.1 | Symbols: PDIL2-2, ATPDI10, ATPDIL2-2, PDI10 | PDI-like 2-2, ARABIDOPSIS THALIANA PROTEIN DISULFIDE ISOMERASE 10, PROTEIN DISULFIDE ISOMERASE | chr1:1413869-1416120 REVERSE LENGTH=1344', dbxrefs=[]),\n",
       " SeqRecord(seq=Seq('ATGAATCGGCTGAGAGGCCGAGGTACACCGATTCTGGGTTCCGCACTCGTGCCT...TGA'), id='AT1G04985.1', name='AT1G04985.1', description='AT1G04985.1 | Symbols: no symbol available | no full name available | chr1:1416563-1418291 REVERSE LENGTH=582', dbxrefs=[]),\n",
       " SeqRecord(seq=Seq('ATGAATGATTGTGCAGGTTACTCATTACGACATTACAATGAAACTAGAATTAAT...TGA'), id='AT1G04985.2', name='AT1G04985.2', description='AT1G04985.2 | Symbols: no symbol available | no full name available | chr1:1416563-1417406 REVERSE LENGTH=408', dbxrefs=[]),\n",
       " SeqRecord(seq=Seq('ATGCGAACCCCCATGTCAGACACTCAGCATGTACAGAGCTCTTTGGTGTCGATT...TGA'), id='AT1G04990.1', name='AT1G04990.1', description='AT1G04990.1 | Symbols: no symbol available | no full name available | chr1:1419368-1421454 REVERSE LENGTH=1215', dbxrefs=[]),\n",
       " SeqRecord(seq=Seq('ATGCGAACCCCCATGTCAGACACTCAGCATGTACAGAGCTCTTTGGTGTCGATT...TGA'), id='AT1G04990.2', name='AT1G04990.2', description='AT1G04990.2 | Symbols: no symbol available | no full name available | chr1:1419368-1421454 REVERSE LENGTH=1215', dbxrefs=[]),\n",
       " SeqRecord(seq=Seq('ATGTTTTCCACAAACAACTTTTTCTTCTACATGCAATTTTCGCTGCAGTATTTT...TGA'), id='AT1G04990.3', name='AT1G04990.3', description='AT1G04990.3 | Symbols: no symbol available | no full name available | chr1:1419368-1420612 REVERSE LENGTH=972', dbxrefs=[]),\n",
       " SeqRecord(seq=Seq('ATGTTTTCCACAAACAACTTTTTCTTCTACATGCAATTTTCGCTGCAGTATTTT...TGA'), id='AT1G04990.4', name='AT1G04990.4', description='AT1G04990.4 | Symbols: no symbol available | no full name available | chr1:1419368-1420612 REVERSE LENGTH=912', dbxrefs=[]),\n",
       " SeqRecord(seq=Seq('ATGCGAACCCCCATGTCAGACACTCAGCATGTACAGAGCTCTTTGGTGTCGATT...TGA'), id='AT1G04990.5', name='AT1G04990.5', description='AT1G04990.5 | Symbols: no symbol available | no full name available | chr1:1419368-1421454 REVERSE LENGTH=1155', dbxrefs=[]),\n",
       " SeqRecord(seq=Seq('ATGCGAACCCCCATGTCAGACACTCAGCATGTACAGAGCTCTTTGGTGTCGATT...TGA'), id='AT1G04990.6', name='AT1G04990.6', description='AT1G04990.6 | Symbols: no symbol available | no full name available | chr1:1419368-1421454 REVERSE LENGTH=1215', dbxrefs=[]),\n",
       " SeqRecord(seq=Seq('ATGAAGCTTGTGGAGAAGACGACTACTACAGAGCAGGACAATGGAGAAGATTTC...TAA'), id='AT1G05000.1', name='AT1G05000.1', description='AT1G05000.1 | Symbols: PFA-DSP1, AtPFA-DSP1 | plant and fungi atypical dual-speci&#64257;city phosphatase 1 | chr1:1425660-1428393 FORWARD LENGTH=648', dbxrefs=[]),\n",
       " SeqRecord(seq=Seq('ATGAAGCTTGTGGAGAAGACGACTACTACAGAGCAGGACAATGGAGAAGATTTC...TAA'), id='AT1G05000.2', name='AT1G05000.2', description='AT1G05000.2 | Symbols: PFA-DSP1, AtPFA-DSP1 | plant and fungi atypical dual-speci&#64257;city phosphatase 1 | chr1:1425660-1428393 FORWARD LENGTH=744', dbxrefs=[]),\n",
       " SeqRecord(seq=Seq('ATGAAGCTTGTGGAGAAGACGACTACTACAGAGCAGGACAATGGAGAAGATTTC...TGA'), id='AT1G05000.3', name='AT1G05000.3', description='AT1G05000.3 | Symbols: PFA-DSP1, AtPFA-DSP1 | plant and fungi atypical dual-speci&#64257;city phosphatase 1 | chr1:1425660-1426399 FORWARD LENGTH=525', dbxrefs=[]),\n",
       " SeqRecord(seq=Seq('ATGACACCGATTCTTCAACAACATGCAAAGCGCATTCTTGCTTGCGGCTACAAG...TAA'), id='AT1G05005.1', name='AT1G05005.1', description='AT1G05005.1 | Symbols: no symbol available | no full name available | chr1:1429048-1430056 FORWARD LENGTH=684', dbxrefs=[]),\n",
       " SeqRecord(seq=Seq('ATGGAGAGTTTCCCGATCATCAATCTCGAGAAGCTTAATGGAGAAGAGAGAGCA...TGA'), id='AT1G05010.1', name='AT1G05010.1', description='AT1G05010.1 | Symbols: EFE, ACO4, EAT1 | ethylene forming enzyme, ethylene-forming enzyme | chr1:1431419-1432695 REVERSE LENGTH=972', dbxrefs=[]),\n",
       " SeqRecord(seq=Seq('ATGCCGAGCAAGCTTAAAAAAGCGATTGGTGCGGTTAAAGATCAGACAAGCATT...TGA'), id='AT1G05020.1', name='AT1G05020.1', description='AT1G05020.1 | Symbols: PICALM6, AP180 | ANTH protein 180 | chr1:1435384-1437345 REVERSE LENGTH=1962', dbxrefs=[]),\n",
       " SeqRecord(seq=Seq('ATGTGGGTGACGAATACCGTACTTCTATATCGACCCAATTCTATGAACCGATTA...TAA'), id='AT1G05030.1', name='AT1G05030.1', description='AT1G05030.1 | Symbols: no symbol available | no full name available | chr1:1438324-1441385 REVERSE LENGTH=1575', dbxrefs=[]),\n",
       " SeqRecord(seq=Seq('ATGACGATCACGAGATATCGCCAGTTCCGCCGGAGAAATTCTCCGCTGATTTGG...TAA'), id='AT1G05030.2', name='AT1G05030.2', description='AT1G05030.2 | Symbols: no symbol available | no full name available | chr1:1438324-1441126 REVERSE LENGTH=1419', dbxrefs=[]),\n",
       " SeqRecord(seq=Seq('ATGGAGGAATTTTCTTCGTCGGAGATTATTTATGATGATGTCATACAACGGTTA...TAA'), id='AT1G05035.1', name='AT1G05035.1', description='AT1G05035.1 | Symbols: no symbol available | no full name available | chr1:1444983-1446116 FORWARD LENGTH=363', dbxrefs=[]),\n",
       " SeqRecord(seq=Seq('ATGAAGGAAGAAGATACTAACGTCACTAGGTTCTGCAAGGCAACGTCTGCGTGT...TAA'), id='AT1G05040.1', name='AT1G05040.1', description='AT1G05040.1 | Symbols: no symbol available | no full name available | chr1:1447758-1448448 REVERSE LENGTH=501', dbxrefs=[]),\n",
       " SeqRecord(seq=Seq('ATGAAGGAAGAAGATACTAACGTCACTAGGTTCTGCAAGGCAACGTCTGCGTGT...TAA'), id='AT1G05040.2', name='AT1G05040.2', description='AT1G05040.2 | Symbols: no symbol available | no full name available | chr1:1447891-1448448 REVERSE LENGTH=474', dbxrefs=[]),\n",
       " SeqRecord(seq=Seq('ATGAGTAATCAAAGAAAGAGATCAAACGATGAAAGAGAAGAAGAGGACGACGAA...TGA'), id='AT1G05055.1', name='AT1G05055.1', description='AT1G05055.1 | Symbols: ATGTF2H2, GTF2H2 | general transcription factor II H2 | chr1:1448913-1450852 REVERSE LENGTH=1266', dbxrefs=[]),\n",
       " SeqRecord(seq=Seq('ATGAGTTTTCTTGGAGCAGGGAGACTCGCGGGAAAAGAAGCTGCCTACTTTTTC...TAA'), id='AT1G05060.1', name='AT1G05060.1', description='AT1G05060.1 | Symbols: no symbol available | no full name available | chr1:1451255-1452858 REVERSE LENGTH=762', dbxrefs=[]),\n",
       " SeqRecord(seq=Seq('ATGAAAAATAAAAATATGAATCCGAGTCGTCCTCGTCTTCTCTGTCTCATTGTT...TGA'), id='AT1G05065.1', name='AT1G05065.1', description='AT1G05065.1 | Symbols: CLE20 | CLAVATA3/ESR-RELATED 20 | chr1:1454969-1455220 REVERSE LENGTH=252', dbxrefs=[]),\n",
       " SeqRecord(seq=Seq('ATGGCGAGACACACGGCGGCGCTGAAGATCGGGCTAGCTTTACTGGGGCTGAGC...TAG'), id='AT1G05070.1', name='AT1G05070.1', description='AT1G05070.1 | Symbols: ELMO2 |  | chr1:1457172-1458531 REVERSE LENGTH=555', dbxrefs=[]),\n",
       " SeqRecord(seq=Seq('ATGGCGGAAGCCAAAATTGAAGAGATCGGTTGTGAAGACAGGATCAGTGTTTTA...TGA'), id='AT1G05080.1', name='AT1G05080.1', description='AT1G05080.1 | Symbols: no symbol available | no full name available | chr1:1459091-1460579 FORWARD LENGTH=1320', dbxrefs=[]),\n",
       " SeqRecord(seq=Seq('ATGGTCAAGCCTCGTTGGACAGCTGATGTGAGGAATATCGAAACATGTAAATGG...TGA'), id='AT1G05085.1', name='AT1G05085.1', description='AT1G05085.1 | Symbols: no symbol available | no full name available | chr1:1460988-1461670 FORWARD LENGTH=375', dbxrefs=[]),\n",
       " SeqRecord(seq=Seq('ATGGCGATGGAGATCTCGGTAGATCTGATAAACCAACTCAAGGTCTCGCTTCGA...TAG'), id='AT1G05087.1', name='AT1G05087.1', description='AT1G05087.1 | Symbols: no symbol available | no full name available | chr1:1463202-1464119 FORWARD LENGTH=798', dbxrefs=[]),\n",
       " SeqRecord(seq=Seq('ATGGTAGAGCCACTAAAGGAAACGGATGGGTCAAGCAGAGGAGCTACTAAGGCA...TAG'), id='AT1G05087.2', name='AT1G05087.2', description='AT1G05087.2 | Symbols: no symbol available | no full name available | chr1:1463652-1464119 FORWARD LENGTH=468', dbxrefs=[]),\n",
       " SeqRecord(seq=Seq('ATGTTTGAAGGTAAAAAAGATGCTCAGAGAAATAGTTCTTCTAAAGAGGATGAG...TAA'), id='AT1G05090.1', name='AT1G05090.1', description='AT1G05090.1 | Symbols: no symbol available | no full name available | chr1:1464288-1465622 FORWARD LENGTH=1212', dbxrefs=[]),\n",
       " SeqRecord(seq=Seq('ATGAATTGGACTAGAGGAAAAACTTTAGGCCGTGGCTCAACGGCCACCGTTTCC...TAG'), id='AT1G05100.1', name='AT1G05100.1', description='AT1G05100.1 | Symbols: MAPKKK18 | mitogen-activated protein kinase kinase kinase 18 | chr1:1469679-1470698 FORWARD LENGTH=1020', dbxrefs=[]),\n",
       " SeqRecord(seq=Seq('ATGGAGCTTCGGTCCCGCAATAAGGCGATTCGTCCATCGACTGAAGTTGTGGAT...TAA'), id='AT1G05120.1', name='AT1G05120.1', description='AT1G05120.1 | Symbols: no symbol available | no full name available | chr1:1471624-1476067 REVERSE LENGTH=2502', dbxrefs=[]),\n",
       " SeqRecord(seq=Seq('ATGTCGTGTTTCCCGCCGTTCTGGACAATCAACAAAAAATGGAAAAATAGAACC...TAA'), id='AT1G05120.2', name='AT1G05120.2', description='AT1G05120.2 | Symbols: no symbol available | no full name available | chr1:1471624-1476196 REVERSE LENGTH=2631', dbxrefs=[]),\n",
       " SeqRecord(seq=Seq('ATGAAACCTCCAAAGTCGAAAGAAATAAGCAAGTGGGATGAAGAAGCCATTAAT...TAA'), id='AT1G05136.1', name='AT1G05136.1', description='AT1G05136.1 | Symbols: no symbol available | no full name available | chr1:1478923-1479063 FORWARD LENGTH=141', dbxrefs=[]),\n",
       " SeqRecord(seq=Seq('ATGCTTTTAAACATTTCTTCTTCTCCAATTTCTCATCGAATTCCTCATTTCCTC...TAA'), id='AT1G05140.1', name='AT1G05140.1', description='AT1G05140.1 | Symbols: no symbol available | no full name available | chr1:1482681-1484006 FORWARD LENGTH=1326', dbxrefs=[]),\n",
       " SeqRecord(seq=Seq('ATGGCGACTAGAGGAAGCAGATCGGAGAAAGTTAAGAGAATTTTCCAGCAATTC...TGA'), id='AT1G05150.1', name='AT1G05150.1', description='AT1G05150.1 | Symbols: no symbol available | no full name available | chr1:1484280-1486706 REVERSE LENGTH=2427', dbxrefs=[]),\n",
       " SeqRecord(seq=Seq('ATGGCGGAGACAACGAGTTGGATCCCAGTATGGTTTCCTCTGATGGTGTTGGGA...TAA'), id='AT1G05160.1', name='AT1G05160.1', description='AT1G05160.1 | Symbols: KAO1, ATKAO1, CYP88A3 | ENT-KAURENOIC ACID OXYDASE 1, \"cytochrome P450, family 88, subfamily A, polypeptide 3\" | chr1:1487640-1489828 REVERSE LENGTH=1473', dbxrefs=[]),\n",
       " SeqRecord(seq=Seq('ATGGCGGAGACAACGAGTTGGATCCCAGTATGGTTTCCTCTGATGGTGTTGGGA...TAA'), id='AT1G05160.2', name='AT1G05160.2', description='AT1G05160.2 | Symbols: KAO1, ATKAO1, CYP88A3 | ENT-KAURENOIC ACID OXYDASE 1, \"cytochrome P450, family 88, subfamily A, polypeptide 3\" | chr1:1487640-1489828 REVERSE LENGTH=1473', dbxrefs=[]),\n",
       " SeqRecord(seq=Seq('ATGTCTGCGAAGATCAAAGGAGAGTATTCTTCTAGAAGCTTCGTATCGAGAAAA...TAA'), id='AT1G05170.1', name='AT1G05170.1', description='AT1G05170.1 | Symbols: no symbol available | no full name available | chr1:1491929-1493931 REVERSE LENGTH=1086', dbxrefs=[]),\n",
       " SeqRecord(seq=Seq('ATGTCTGCGAAGATCAAAGGAGAGTATTCTTCTAGAAGCTTCGTATCGAGAAAA...TGA'), id='AT1G05170.2', name='AT1G05170.2', description='AT1G05170.2 | Symbols: no symbol available | no full name available | chr1:1491460-1493931 REVERSE LENGTH=1224', dbxrefs=[]),\n",
       " SeqRecord(seq=Seq('ATGCAAGCAGTAAAAAGATCCAGGAGACATGTTGAAGAAGAGCCAACAATGGTA...TAG'), id='AT1G05180.1', name='AT1G05180.1', description='AT1G05180.1 | Symbols: AXR1 | AUXIN RESISTANT 1 | chr1:1498357-1501775 REVERSE LENGTH=1623', dbxrefs=[]),\n",
       " SeqRecord(seq=Seq('ATGGATCTAAGGTTCAATTTGGTGACCTTGGGAACAATTTCATGGTCGATGCGA...TAG'), id='AT1G05180.2', name='AT1G05180.2', description='AT1G05180.2 | Symbols: AXR1 | AUXIN RESISTANT 1 | chr1:1498357-1501469 REVERSE LENGTH=1311', dbxrefs=[]),\n",
       " SeqRecord(seq=Seq('ATGGATCTAAGGTTCAATTTGGTGACCTTGGGAACAATTTCATGGTCGATGCGA...TAG'), id='AT1G05180.3', name='AT1G05180.3', description='AT1G05180.3 | Symbols: AXR1 | AUXIN RESISTANT 1 | chr1:1498524-1501469 REVERSE LENGTH=1269', dbxrefs=[]),\n",
       " SeqRecord(seq=Seq('ATGGCTTCCTCACTCGTCTCATCTTTTCAACCCAGGTCAGCATTTTTGGGAGAT...TGA'), id='AT1G05190.1', name='AT1G05190.1', description='AT1G05190.1 | Symbols: RPL6, EMB2394 | embryo defective 2394 | chr1:1502515-1503738 REVERSE LENGTH=672', dbxrefs=[]),\n",
       " SeqRecord(seq=Seq('ATGGGATTTTTGGTGATGATAAGAGAAGTTTCCATGGCGAAAGCAATCAGAGTT...TAA'), id='AT1G05200.1', name='AT1G05200.1', description='AT1G05200.1 | Symbols: GLR3.4, ATGLR3.4, GLUR3 | glutamate receptor 3.4 | chr1:1505642-1509002 FORWARD LENGTH=2880', dbxrefs=[]),\n",
       " SeqRecord(seq=Seq('ATGGGATTTTTGGTGATGATAAGAGAAGTTTCCATGGCGAAAGCAATCAGAGTT...TAA'), id='AT1G05200.2', name='AT1G05200.2', description='AT1G05200.2 | Symbols: GLR3.4, ATGLR3.4, GLUR3 | glutamate receptor 3.4 | chr1:1505642-1509002 FORWARD LENGTH=2880', dbxrefs=[]),\n",
       " SeqRecord(seq=Seq('ATGGGATTTTTGGTGATGATAAGAGAAGTTTCCATGGCGAAAGCAATCAGAGTT...TGA'), id='AT1G05200.3', name='AT1G05200.3', description='AT1G05200.3 | Symbols: GLR3.4, ATGLR3.4, GLUR3 | glutamate receptor 3.4 | chr1:1505642-1508514 FORWARD LENGTH=2487', dbxrefs=[]),\n",
       " SeqRecord(seq=Seq('ATGGGATTTTTGGTGATGATAAGAGAAGTTTCCATGGCGAAAGCAATCAGAGTT...TAG'), id='AT1G05200.4', name='AT1G05200.4', description='AT1G05200.4 | Symbols: GLR3.4, ATGLR3.4, GLUR3 | glutamate receptor 3.4 | chr1:1505642-1507949 FORWARD LENGTH=2028', dbxrefs=[]),\n",
       " SeqRecord(seq=Seq('ATGGGATTTTTGGTGATGATAAGAGAAGTTTCCATGGCGAAAGCAATCAGAGTT...TAA'), id='AT1G05200.5', name='AT1G05200.5', description='AT1G05200.5 | Symbols: GLR3.4, ATGLR3.4, GLUR3 | glutamate receptor 3.4 | chr1:1505642-1507852 FORWARD LENGTH=2010', dbxrefs=[]),\n",
       " SeqRecord(seq=Seq('ATGGGATTTTTGGTGATGATAAGAGAAGTTTCCATGGCGAAAGCAATCAGAGTT...TAA'), id='AT1G05200.6', name='AT1G05200.6', description='AT1G05200.6 | Symbols: GLR3.4, ATGLR3.4, GLUR3 | glutamate receptor 3.4 | chr1:1505642-1509002 FORWARD LENGTH=2880', dbxrefs=[]),\n",
       " SeqRecord(seq=Seq('ATGGGATTTTTGGTGATGATAAGAGAAGTTTCCATGGCGAAAGCAATCAGAGTT...TGA'), id='AT1G05200.7', name='AT1G05200.7', description='AT1G05200.7 | Symbols: GLR3.4, ATGLR3.4, GLUR3 | glutamate receptor 3.4 | chr1:1505642-1508514 FORWARD LENGTH=2487', dbxrefs=[]),\n",
       " SeqRecord(seq=Seq('ATGAGCGAGACGAGACCAGTGCCGAGGAGAGAGAGTCCATGGGGTTTACCGGAA...TAA'), id='AT1G05205.1', name='AT1G05205.1', description='AT1G05205.1 | Symbols: no symbol available | no full name available | chr1:1509352-1510249 REVERSE LENGTH=276', dbxrefs=[]),\n",
       " SeqRecord(seq=Seq('ATGGGAGCTTTAGGGAAGCTAATCGACGTAGCTCTCTTCGTATACTTTGTTTCA...TGA'), id='AT1G05210.1', name='AT1G05210.1', description='AT1G05210.1 | Symbols: no symbol available | no full name available | chr1:1510469-1511485 FORWARD LENGTH=507', dbxrefs=[]),\n",
       " SeqRecord(seq=Seq('ATGGGAGCTTTGGGGAAGCTGATCAACATCTCTCTGTTTTTCTTCTTCGCACTG...TGA'), id='AT1G05220.1', name='AT1G05220.1', description='AT1G05220.1 | Symbols: no symbol available | no full name available | chr1:1511943-1512656 FORWARD LENGTH=483', dbxrefs=[]),\n",
       " SeqRecord(seq=Seq('ATGTTCGAGCCAAATATGCTGCTTGCGGCTATGAACAACGCAGACAGCAATAAC...TGA'), id='AT1G05230.1', name='AT1G05230.1', description='AT1G05230.1 | Symbols: HDG2 | homeodomain GLABROUS 2 | chr1:1513388-1517024 REVERSE LENGTH=2166', dbxrefs=[]),\n",
       " SeqRecord(seq=Seq('ATGTTCGAGCCAAATATGCTGCTTGCGGCTATGAACAACGCAGACAGCAATAAC...TGA'), id='AT1G05230.10', name='AT1G05230.10', description='AT1G05230.10 | Symbols: HDG2 | homeodomain GLABROUS 2 | chr1:1513388-1517024 REVERSE LENGTH=2166', dbxrefs=[]),\n",
       " SeqRecord(seq=Seq('ATGTTCGAGCCAAATATGCTGCTTGCGGCTATGAACAACGCAGACAGCAATAAC...TGA'), id='AT1G05230.11', name='AT1G05230.11', description='AT1G05230.11 | Symbols: HDG2 | homeodomain GLABROUS 2 | chr1:1513388-1517024 REVERSE LENGTH=2166', dbxrefs=[]),\n",
       " SeqRecord(seq=Seq('ATGTTCGAGCCAAATATGCTGCTTGCGGCTATGAACAACGCAGACAGCAATAAC...TGA'), id='AT1G05230.12', name='AT1G05230.12', description='AT1G05230.12 | Symbols: HDG2 | homeodomain GLABROUS 2 | chr1:1513804-1517024 REVERSE LENGTH=1830', dbxrefs=[]),\n",
       " SeqRecord(seq=Seq('ATGTTCGAGCCAAATATGCTGCTTGCGGCTATGAACAACGCAGACAGCAATAAC...TGA'), id='AT1G05230.2', name='AT1G05230.2', description='AT1G05230.2 | Symbols: HDG2 | homeodomain GLABROUS 2 | chr1:1513388-1517024 REVERSE LENGTH=2166', dbxrefs=[]),\n",
       " SeqRecord(seq=Seq('ATGTTCGAGCCAAATATGCTGCTTGCGGCTATGAACAACGCAGACAGCAATAAC...TGA'), id='AT1G05230.3', name='AT1G05230.3', description='AT1G05230.3 | Symbols: HDG2 | homeodomain GLABROUS 2 | chr1:1513388-1517024 REVERSE LENGTH=2160', dbxrefs=[]),\n",
       " SeqRecord(seq=Seq('ATGTTCGAGCCAAATATGCTGCTTGCGGCTATGAACAACGCAGACAGCAATAAC...TGA'), id='AT1G05230.4', name='AT1G05230.4', description='AT1G05230.4 | Symbols: HDG2 | homeodomain GLABROUS 2 | chr1:1513388-1517024 REVERSE LENGTH=2166', dbxrefs=[]),\n",
       " SeqRecord(seq=Seq('ATGTTCGAGCCAAATATGCTGCTTGCGGCTATGAACAACGCAGACAGCAATAAC...TGA'), id='AT1G05230.5', name='AT1G05230.5', description='AT1G05230.5 | Symbols: HDG2 | homeodomain GLABROUS 2 | chr1:1513388-1517024 REVERSE LENGTH=2166', dbxrefs=[]),\n",
       " SeqRecord(seq=Seq('ATGTTCGAGCCAAATATGCTGCTTGCGGCTATGAACAACGCAGACAGCAATAAC...TGA'), id='AT1G05230.6', name='AT1G05230.6', description='AT1G05230.6 | Symbols: HDG2 | homeodomain GLABROUS 2 | chr1:1513388-1517024 REVERSE LENGTH=2166', dbxrefs=[]),\n",
       " SeqRecord(seq=Seq('ATGTTCGAGCCAAATATGCTGCTTGCGGCTATGAACAACGCAGACAGCAATAAC...TGA'), id='AT1G05230.7', name='AT1G05230.7', description='AT1G05230.7 | Symbols: HDG2 | homeodomain GLABROUS 2 | chr1:1513388-1517024 REVERSE LENGTH=2166', dbxrefs=[]),\n",
       " SeqRecord(seq=Seq('ATGTTCGAGCCAAATATGCTGCTTGCGGCTATGAACAACGCAGACAGCAATAAC...TGA'), id='AT1G05230.8', name='AT1G05230.8', description='AT1G05230.8 | Symbols: HDG2 | homeodomain GLABROUS 2 | chr1:1513388-1517024 REVERSE LENGTH=2166', dbxrefs=[]),\n",
       " SeqRecord(seq=Seq('ATGTTCGAGCCAAATATGCTGCTTGCGGCTATGAACAACGCAGACAGCAATAAC...TGA'), id='AT1G05230.9', name='AT1G05230.9', description='AT1G05230.9 | Symbols: HDG2 | homeodomain GLABROUS 2 | chr1:1513388-1517024 REVERSE LENGTH=2166', dbxrefs=[]),\n",
       " SeqRecord(seq=Seq('ATGGCGATCAAGAACATTCTCGCCCTTGTGGTTCTTCTTAGCGTGGTTGGAGTT...TAA'), id='AT1G05240.1', name='AT1G05240.1', description='AT1G05240.1 | Symbols: PR9 | Pathogenesis related 9 | chr1:1521202-1522447 FORWARD LENGTH=978', dbxrefs=[]),\n",
       " SeqRecord(seq=Seq('ATGGCGATCAAGAACATTCTCGCCCTTGTGGTTCTTCTTAGCGTGGTTGGAGTT...TAA'), id='AT1G05250.1', name='AT1G05250.1', description='AT1G05250.1 | Symbols: AtPRX1, PRX2 | peroxidase 2 | chr1:1525924-1527169 REVERSE LENGTH=978', dbxrefs=[]),\n",
       " SeqRecord(seq=Seq('ATGAATTGCTTGATAGCTATAGCTCTTTCAGTCTCTTTCTTTCTTGTGGGAATT...TAA'), id='AT1G05260.1', name='AT1G05260.1', description='AT1G05260.1 | Symbols: PER3, RCI3, RCI3A | RARE COLD INDUCIBLE GENE 3, PEROXIDASE 3 | chr1:1529827-1531271 FORWARD LENGTH=981', dbxrefs=[]),\n",
       " SeqRecord(seq=Seq('ATGACGATAGAGCCGACGCAATCGCCGTCTTCGGAGCCGGAGGTTCACTCTGGA...TGA'), id='AT1G05270.1', name='AT1G05270.1', description='AT1G05270.1 | Symbols: no symbol available | no full name available | chr1:1531806-1534305 REVERSE LENGTH=1116', dbxrefs=[]),\n",
       " SeqRecord(seq=Seq('ATGTGTCTTCCATTTCGACCCGTCTCGAAAACATATTATTCGTCTTCTTCTTCG...TAA'), id='AT1G05280.1', name='AT1G05280.1', description='AT1G05280.1 | Symbols: no symbol available | no full name available | chr1:1535079-1537414 REVERSE LENGTH=1476', dbxrefs=[]),\n",
       " SeqRecord(seq=Seq('ATGTGTCTTCCATTTCGACCCGTCTCGAAAACATATTATTCGTCTTCTTCTTCG...TAA'), id='AT1G05280.2', name='AT1G05280.2', description='AT1G05280.2 | Symbols: no symbol available | no full name available | chr1:1535540-1537414 REVERSE LENGTH=1401', dbxrefs=[]),\n",
       " SeqRecord(seq=Seq('ATGGGATCACCATTGTGCGAGCATTTGGCTAGGCTTTGTCTTCAATGTGATTTG...TGA'), id='AT1G05290.1', name='AT1G05290.1', description='AT1G05290.1 | Symbols: OMG1 | Orbitally Manifested Gene 1 | chr1:1539152-1540546 REVERSE LENGTH=1110', dbxrefs=[]),\n",
       " SeqRecord(seq=Seq('ATGGAAGAGGGGAAAGGAACGGAGAAGAAAGGATGCATAATTACCGTCATCATT...TAA'), id='AT1G05291.1', name='AT1G05291.1', description='AT1G05291.1 | Symbols: no symbol available | no full name available | chr1:1541348-1542323 REVERSE LENGTH=615', dbxrefs=[]),\n",
       " SeqRecord(seq=Seq('ATGAGAATCACACAAAACGTCAAGCTCTTACTCTTCTTCTTCTTCTTCATCTCC...TAA'), id='AT1G05300.1', name='AT1G05300.1', description='AT1G05300.1 | Symbols: ZIP5 | zinc transporter 5 precursor | chr1:1545258-1547709 REVERSE LENGTH=1083', dbxrefs=[]),\n",
       " SeqRecord(seq=Seq('ATGAGAATCACACAAAACGTCAAGCTCTTACTCTTCTTCTTCTTCTTCATCTCC...TAA'), id='AT1G05300.2', name='AT1G05300.2', description='AT1G05300.2 | Symbols: ZIP5 | zinc transporter 5 precursor | chr1:1546161-1547709 REVERSE LENGTH=804', dbxrefs=[]),\n",
       " SeqRecord(seq=Seq('ATGAAAATAATCTCATTATCCATATCCATAGGTATCGCAATAATTGCCGTTCTG...TAA'), id='AT1G05310.1', name='AT1G05310.1', description='AT1G05310.1 | Symbols: no symbol available | no full name available | chr1:1550615-1552434 REVERSE LENGTH=1182', dbxrefs=[]),\n",
       " SeqRecord(seq=Seq('ATGGAAGAAGCAACAAAAGTGAGTTCAGACGTCCCTCAAGCTAAGGAAGTGACA...TGA'), id='AT1G05320.1', name='AT1G05320.1', description='AT1G05320.1 | Symbols: PICL | PICC-LIKE | chr1:1554856-1557658 FORWARD LENGTH=2373', dbxrefs=[]),\n",
       " SeqRecord(seq=Seq('ATGGAAGAAGCAACAAAAGTGAGTTCAGACGTCCCTCAAGCTAAGGAAGTGACA...TGA'), id='AT1G05320.2', name='AT1G05320.2', description='AT1G05320.2 | Symbols: PICL | PICC-LIKE | chr1:1554856-1557658 FORWARD LENGTH=2373', dbxrefs=[]),\n",
       " SeqRecord(seq=Seq('ATGGAAGAAGCAACAAAAGTGAGTTCAGACGTCCCTCAAGCTAAGGAAGTGACA...TGA'), id='AT1G05320.3', name='AT1G05320.3', description='AT1G05320.3 | Symbols: PICL | PICC-LIKE | chr1:1554856-1557658 FORWARD LENGTH=2373', dbxrefs=[]),\n",
       " SeqRecord(seq=Seq('ATGGAAGAAGCAACAAAAGTGAGTTCAGACGTCCCTCAAGCTAAGGAAGTGACA...TGA'), id='AT1G05320.4', name='AT1G05320.4', description='AT1G05320.4 | Symbols: PICL | PICC-LIKE | chr1:1554856-1557658 FORWARD LENGTH=2373', dbxrefs=[]),\n",
       " SeqRecord(seq=Seq('ATGGAAGAAGCAACAAAAGTGAGTTCAGACGTCCCTCAAGCTAAGGAAGTGACA...TAA'), id='AT1G05320.5', name='AT1G05320.5', description='AT1G05320.5 | Symbols: PICL | PICC-LIKE | chr1:1554856-1557109 FORWARD LENGTH=2016', dbxrefs=[]),\n",
       " SeqRecord(seq=Seq('ATGGAAGAAGCAACAAAAGTGAGTTCAGACGTCCCTCAAGCTAAGGAAGTGACA...TAA'), id='AT1G05320.6', name='AT1G05320.6', description='AT1G05320.6 | Symbols: PICL | PICC-LIKE | chr1:1554856-1557109 FORWARD LENGTH=2016', dbxrefs=[]),\n",
       " SeqRecord(seq=Seq('ATGGAAGAAGCAACAAAAGTGAGTTCAGACGTCCCTCAAGCTAAGGAAGTGACA...TGA'), id='AT1G05320.7', name='AT1G05320.7', description='AT1G05320.7 | Symbols: PICL | PICC-LIKE | chr1:1554856-1557658 FORWARD LENGTH=2373', dbxrefs=[]),\n",
       " SeqRecord(seq=Seq('ATGGAAGAAGCAACAAAAGTGAGTTCAGACGTCCCTCAAGCTAAGGAAGTGACA...TGA'), id='AT1G05320.8', name='AT1G05320.8', description='AT1G05320.8 | Symbols: PICL | PICC-LIKE | chr1:1554856-1557658 FORWARD LENGTH=2373', dbxrefs=[]),\n",
       " SeqRecord(seq=Seq('ATGGAAGAAGCAACAAAAGTGAGTTCAGACGTCCCTCAAGCTAAGGAAGTGACA...TGA'), id='AT1G05320.9', name='AT1G05320.9', description='AT1G05320.9 | Symbols: PICL | PICC-LIKE | chr1:1554856-1557658 FORWARD LENGTH=2373', dbxrefs=[]),\n",
       " SeqRecord(seq=Seq('ATGGCTGATCACAACAACACTCCTCCCTTTGACCTAACGAAACTCGACCATTAC...TAG'), id='AT1G05330.1', name='AT1G05330.1', description='AT1G05330.1 | Symbols: no symbol available | no full name available | chr1:1558170-1558583 FORWARD LENGTH=414', dbxrefs=[]),\n",
       " SeqRecord(seq=Seq('ATGAGCCAGTACGATCACAACCAGTCTGCAGGAGCTAACCCACCGCCACCGATG...TAA'), id='AT1G05340.1', name='AT1G05340.1', description='AT1G05340.1 | Symbols: AthCYSTM1 | Cysteine-Rich Transmembrane Module 1 | chr1:1559079-1559646 REVERSE LENGTH=219', dbxrefs=[]),\n",
       " SeqRecord(seq=Seq('ATGGAGGTTGGATTCAAGGCATTGCTCGATGATCTTGACGTTCTCGAGAAATCT...TGA'), id='AT1G05350.1', name='AT1G05350.1', description='AT1G05350.1 | Symbols: no symbol available | no full name available | chr1:1560891-1564005 REVERSE LENGTH=1296', dbxrefs=[]),\n",
       " SeqRecord(seq=Seq('ATGGGTTATGGAAATCGAGCTTCTTCTAAAACTCCTGCGATCTCAGGTTTGCGT...TAG'), id='AT1G05360.1', name='AT1G05360.1', description='AT1G05360.1 | Symbols: KMS2 | Killing Me Slowly 2 | chr1:1564816-1567278 FORWARD LENGTH=1251', dbxrefs=[]),\n",
       " SeqRecord(seq=Seq('ATGAAGAAAACGGTAAAATTTTCTAATTTTCTCCTCGTGCAGCATGTTGAAGAA...TAG'), id='AT1G05360.2', name='AT1G05360.2', description='AT1G05360.2 | Symbols: KMS2 | Killing Me Slowly 2 | chr1:1565580-1567278 FORWARD LENGTH=1035', dbxrefs=[]),\n",
       " SeqRecord(seq=Seq('ATGAAGAAAACGGTAAAATTTTCTAATTTTCTCCTCGTGCAGCATGTTGAAGAA...TAG'), id='AT1G05360.3', name='AT1G05360.3', description='AT1G05360.3 | Symbols: KMS2 | Killing Me Slowly 2 | chr1:1565580-1567278 FORWARD LENGTH=1035', dbxrefs=[]),\n",
       " SeqRecord(seq=Seq('ATGGGAAAGAAAGAGCAGAAGGATCATCATTCAGTAGTAGAGAGCGACGACAAA...TAA'), id='AT1G05370.1', name='AT1G05370.1', description='AT1G05370.1 | Symbols: no symbol available | no full name available | chr1:1569418-1572280 REVERSE LENGTH=1254', dbxrefs=[]),\n",
       " SeqRecord(seq=Seq('ATGGAAGGAGGTGGTGGTTCTGGTGAGCGTTCACGGATTGCTTCGAATACTCCT...TGA'), id='AT1G05380.1', name='AT1G05380.1', description='AT1G05380.1 | Symbols: no symbol available | no full name available | chr1:1577231-1582190 FORWARD LENGTH=3417', dbxrefs=[]),\n",
       " SeqRecord(seq=Seq('ATGGAAGGAGGTGGTGGTTCTGGTGAGCGTTCACGGATTGCTTCGAATACTCCT...TGA'), id='AT1G05380.2', name='AT1G05380.2', description='AT1G05380.2 | Symbols: no symbol available | no full name available | chr1:1577231-1582190 FORWARD LENGTH=3417', dbxrefs=[]),\n",
       " SeqRecord(seq=Seq('ATGGAAGGAGGTGGTGGTTCTGGTGAGCGTTCACGGATTGCTTCGAATACTCCT...TGA'), id='AT1G05380.3', name='AT1G05380.3', description='AT1G05380.3 | Symbols: no symbol available | no full name available | chr1:1577231-1582190 FORWARD LENGTH=3417', dbxrefs=[]),\n",
       " SeqRecord(seq=Seq('ATGGGTTTCCTTGTAGCCGTCATGAACTTTTCTCCTACTTTGGTGCATCACCAT...TGA'), id='AT1G05385.1', name='AT1G05385.1', description='AT1G05385.1 | Symbols: Psb27-H1, LPA19 | LOW PSII ACCUMULATION 19 | chr1:1582747-1583648 REVERSE LENGTH=600', dbxrefs=[]),\n",
       " SeqRecord(seq=Seq('ATGGCCACAATTGAGTTTTCTGGATTACAAGCTCAGGCGTCAGAGGAAAAGTTA...TGA'), id='AT1G05385.2', name='AT1G05385.2', description='AT1G05385.2 | Symbols: Psb27-H1, LPA19 | LOW PSII ACCUMULATION 19 | chr1:1582747-1583264 REVERSE LENGTH=438', dbxrefs=[]),\n",
       " SeqRecord(seq=Seq('ATGTTCATATCCCGTCCACCACTGTGGATTCCTCCAGGCTTCTATTCTAATATT...TGA'), id='AT1G05400.1', name='AT1G05400.1', description='AT1G05400.1 | Symbols: no symbol available | no full name available | chr1:1584746-1585244 FORWARD LENGTH=399', dbxrefs=[]),\n",
       " SeqRecord(seq=Seq('ATGTTCATATCCCGTCCACCACTGTGGATTCCTCCAGGCTTCTATTCTAATATT...TGA'), id='AT1G05400.2', name='AT1G05400.2', description='AT1G05400.2 | Symbols: no symbol available | no full name available | chr1:1584746-1585244 FORWARD LENGTH=399', dbxrefs=[]),\n",
       " SeqRecord(seq=Seq('ATGGACTCCATGGATATTGATCAAAGTAACATAGGTGAATCGCCTCACCTTCTG...TAA'), id='AT1G05410.1', name='AT1G05410.1', description='AT1G05410.1 | Symbols: no symbol available | no full name available | chr1:1585504-1587268 REVERSE LENGTH=1416', dbxrefs=[]),\n",
       " SeqRecord(seq=Seq('ATGGACTCCATGGATATTGATCAAAGTAACATAGGTGAATCGCCTCACCTTCTG...TAA'), id='AT1G05410.2', name='AT1G05410.2', description='AT1G05410.2 | Symbols: no symbol available | no full name available | chr1:1585504-1587268 REVERSE LENGTH=1335', dbxrefs=[]),\n",
       " SeqRecord(seq=Seq('ATGCCAAGAGTCATGTGGAAAAACTTCCATCTTTGCTTCCCATCAAATCTCACC...TGA'), id='AT1G05420.1', name='AT1G05420.1', description='AT1G05420.1 | Symbols: OFP12, ATOFP12 | ovate family protein 12, ARABIDOPSIS THALIANA OVATE FAMILY PROTEIN 12 | chr1:1590073-1590753 FORWARD LENGTH=681', dbxrefs=[]),\n",
       " SeqRecord(seq=Seq('ATGCTCAATACATATTCTCTCACTCTCTTTCTCACAAAAACAAAAACAATGCCA...TGA'), id='AT1G05420.2', name='AT1G05420.2', description='AT1G05420.2 | Symbols: OFP12, ATOFP12 | ovate family protein 12, ARABIDOPSIS THALIANA OVATE FAMILY PROTEIN 12 | chr1:1590025-1590753 FORWARD LENGTH=729', dbxrefs=[]),\n",
       " SeqRecord(seq=Seq('ATGGCTATGGCCGCTTTAAATCAGCTTTTTGTTGTCCTAGCCTCAAAACCCGAG...TAG'), id='AT1G05430.1', name='AT1G05430.1', description='AT1G05430.1 | Symbols: no symbol available | no full name available | chr1:1594227-1595731 REVERSE LENGTH=810', dbxrefs=[]),\n",
       " SeqRecord(seq=Seq('ATGAAATCTAGGGCCAACGAAAATCAGATGATAAACAGAGAAACCATGAAAGGA...TAG'), id='AT1G05440.1', name='AT1G05440.1', description='AT1G05440.1 | Symbols: no symbol available | no full name available | chr1:1596374-1597870 REVERSE LENGTH=1182', dbxrefs=[]),\n",
       " SeqRecord(seq=Seq('ATGACAAGGATCTCAGCGGATCGGGCAACGGAGGAGATCCAATGGGGTTTGCTC...TAA'), id='AT1G05450.1', name='AT1G05450.1', description='AT1G05450.1 | Symbols: no symbol available | no full name available | chr1:1600860-1601090 FORWARD LENGTH=153', dbxrefs=[]),\n",
       " SeqRecord(seq=Seq('ATGAACTCCAATAGTTTCTTAATCTCAGCAGCCTTAATCTTCTCTCTACTATCA...TAA'), id='AT1G05450.2', name='AT1G05450.2', description='AT1G05450.2 | Symbols: no symbol available | no full name available | chr1:1600004-1601086 FORWARD LENGTH=618', dbxrefs=[]),\n",
       " SeqRecord(seq=Seq('ATGAGTGTGAGTGGATACAAATCGGATGACGAATATTCTGTAATCGCAGACAAG...TAA'), id='AT1G05460.1', name='AT1G05460.1', description='AT1G05460.1 | Symbols: SDE3 | SILENCING DEFECTIVE | chr1:1601357-1604658 REVERSE LENGTH=3009', dbxrefs=[]),\n",
       " SeqRecord(seq=Seq('ATGAGTGTGAGTGGATACAAATCGGATGACGAATATTCTGTAATCGCAGACAAG...TAA'), id='AT1G05460.2', name='AT1G05460.2', description='AT1G05460.2 | Symbols: SDE3 | SILENCING DEFECTIVE | chr1:1601357-1604658 REVERSE LENGTH=2769', dbxrefs=[]),\n",
       " SeqRecord(seq=Seq('ATGAGAGAAGAGAAATCCAAGACTAATAAGCTGGCATGGTCCAAGAAGATGGTA...TAG'), id='AT1G05470.1', name='AT1G05470.1', description='AT1G05470.1 | Symbols: CVP2 | COTYLEDON VASCULAR PATTERN 2 | chr1:1608558-1611291 REVERSE LENGTH=1854', dbxrefs=[]),\n",
       " SeqRecord(seq=Seq('ATGAGAGAAGAGAAATCCAAGACTAATAAGCTGGCATGGTCCAAGAAGATGGTA...TAG'), id='AT1G05470.2', name='AT1G05470.2', description='AT1G05470.2 | Symbols: CVP2 | COTYLEDON VASCULAR PATTERN 2 | chr1:1608558-1611291 REVERSE LENGTH=1854', dbxrefs=[]),\n",
       " SeqRecord(seq=Seq('ATGGAGTGTATTGGGAAGAGAGTGAAGTCCCGGAGCTGGCAGCGTCTTCAGGCT...TGA'), id='AT1G05490.1', name='AT1G05490.1', description='AT1G05490.1 | Symbols: CLSY3, chr31 | chromatin remodeling 31, CLASSY3 | chr1:1618795-1623195 REVERSE LENGTH=4233', dbxrefs=[]),\n",
       " SeqRecord(seq=Seq('ATGGGTTTCATAGTCGGCGTTGTAATCGGACTCCTCGTCGGAATCGCAATCATC...TAA'), id='AT1G05500.1', name='AT1G05500.1', description='AT1G05500.1 | Symbols: SYTE, NTMC2T2.1, ATSYTE, NTMC2TYPE2.1, SYT5 | SYNAPTOTAGMIN HOMOLOG E, synaptotagmin 5, ARABIDOPSIS THALIANA SYNAPTOTAGMIN HOMOLOG E | chr1:1625098-1628940 FORWARD LENGTH=1683', dbxrefs=[]),\n",
       " SeqRecord(seq=Seq('ATGCAATGGGATGGAAACCCAAATATAGTACTTGGCGTCAAGACCTTAGTTGGT...TAA'), id='AT1G05500.2', name='AT1G05500.2', description='AT1G05500.2 | Symbols: SYTE, NTMC2T2.1, ATSYTE, NTMC2TYPE2.1, SYT5 | SYNAPTOTAGMIN HOMOLOG E, synaptotagmin 5, ARABIDOPSIS THALIANA SYNAPTOTAGMIN HOMOLOG E | chr1:1626281-1628940 FORWARD LENGTH=1251', dbxrefs=[]),\n",
       " SeqRecord(seq=Seq('ATGGAGAAGGCAGTTCATTTATCCACCAAAAATGGACCCAAGGTTCCAGGAGAG...TAA'), id='AT1G05510.1', name='AT1G05510.1', description='AT1G05510.1 | Symbols: OBAP1a | Oil Body-Associated Protein 1a | chr1:1629527-1630690 FORWARD LENGTH=726', dbxrefs=[]),\n",
       " SeqRecord(seq=Seq('ATGTCAGAGATGGCGAGTATGGATCCAGAAGGAATCGATGGAGTTCGTATGACG...TGA'), id='AT1G05520.1', name='AT1G05520.1', description='AT1G05520.1 | Symbols: AtSEC23B |  | chr1:1631126-1635703 REVERSE LENGTH=2352', dbxrefs=[]),\n",
       " SeqRecord(seq=Seq('ATGGCGCAACCGCATTTTCTACTGGTAACGTTTCCGGCGCAAGGTCACGTGAAC...TGA'), id='AT1G05530.1', name='AT1G05530.1', description='AT1G05530.1 | Symbols: UGT2, UGT75B2 | UDP-GLUCOSYL TRANSFERASE 2, UDP-glucosyl transferase 75B2 | chr1:1636496-1637863 REVERSE LENGTH=1368', dbxrefs=[]),\n",
       " SeqRecord(seq=Seq('ATGTCTCAGCTTCTCTTCCGTCTCTCAAAACTCTCTTCCCGGAATAATGAGCTT...TAG'), id='AT1G05540.1', name='AT1G05540.1', description='AT1G05540.1 | Symbols: AtDOA1 | DUF295 Organellar A 1 | chr1:1639348-1640707 FORWARD LENGTH=1104', dbxrefs=[]),\n",
       " SeqRecord(seq=Seq('ATGTCTCAGCTTCTCTTCCGTCTCTCAAAACTCTCTTCCCGGAATAATGAGCTT...TAA'), id='AT1G05540.2', name='AT1G05540.2', description='AT1G05540.2 | Symbols: AtDOA1 | DUF295 Organellar A 1 | chr1:1639348-1640318 FORWARD LENGTH=786', dbxrefs=[]),\n",
       " SeqRecord(seq=Seq('ATGTCTCAATTTCTCTTTGGTCTCTCCAAACTCTCTCCCCGGAACGATGTGCTT...TGA'), id='AT1G05550.1', name='AT1G05550.1', description='AT1G05550.1 | Symbols: AtDOA2 | DUF295 Organellar A 2 | chr1:1641717-1642639 REVERSE LENGTH=711', dbxrefs=[]),\n",
       " SeqRecord(seq=Seq('ATGTGCTTGTATATACAGAAGAGCATTCGTTTGTTTTCAACCAGCCCTTATTTG...TGA'), id='AT1G05550.2', name='AT1G05550.2', description='AT1G05550.2 | Symbols: AtDOA2 | DUF295 Organellar A 2 | chr1:1641717-1642593 REVERSE LENGTH=669', dbxrefs=[]),\n",
       " SeqRecord(seq=Seq('ATGGCGGAGGTGGAGCCAGCAGCTCCAAGTCAACCAAAAAATAGAAAACTAGCT...TAG'), id='AT1G05550.3', name='AT1G05550.3', description='AT1G05550.3 | Symbols: AtDOA2 | DUF295 Organellar A 2 | chr1:1641229-1643748 REVERSE LENGTH=1158', dbxrefs=[]),\n",
       " SeqRecord(seq=Seq('ATGTCTCAATTTCTCTTTGGTCTCTCCAAACTCTCTCCCCGGAACGATGTGCTT...TGA'), id='AT1G05550.4', name='AT1G05550.4', description='AT1G05550.4 | Symbols: AtDOA2 | DUF295 Organellar A 2 | chr1:1641717-1642639 REVERSE LENGTH=711', dbxrefs=[]),\n",
       " SeqRecord(seq=Seq('ATGGCGCCACCGCATTTTCTACTGGTAACGTTTCCGGCGCAAGGTCACGTGAAC...TAA'), id='AT1G05560.1', name='AT1G05560.1', description='AT1G05560.1 | Symbols: UGT1, UGT75B1 | UDP-GLUCOSE TRANSFERASE 1, UDP-glucosyltransferase 75B1 | chr1:1645674-1647083 REVERSE LENGTH=1410', dbxrefs=[]),\n",
       " SeqRecord(seq=Seq('ATGCATGTGCAGACATCAAAATCCAATTCCTCATCTATATTTATATATATGTAT...TAA'), id='AT1G05560.2', name='AT1G05560.2', description='AT1G05560.2 | Symbols: UGT1, UGT75B1 | UDP-GLUCOSE TRANSFERASE 1, UDP-glucosyltransferase 75B1 | chr1:1645674-1647233 REVERSE LENGTH=1560', dbxrefs=[]),\n",
       " SeqRecord(seq=Seq('ATGGCTCAAAGAAGGGAACCTGATCCGCCTCCACCGCAGAGGCGGATTCTGCGG...TGA'), id='AT1G05570.1', name='AT1G05570.1', description='AT1G05570.1 | Symbols: GSL6, ATGSL6, ATGSL06, GSL06, CALS1 | GLUCAN SYNTHASE-LIKE 6, callose synthase 1 | chr1:1647880-1658677 REVERSE LENGTH=5853', dbxrefs=[]),\n",
       " SeqRecord(seq=Seq('ATGGCTCAAAGAAGGGAACCTGATCCGCCTCCACCGCAGAGGCGGATTCTGCGG...TGA'), id='AT1G05570.2', name='AT1G05570.2', description='AT1G05570.2 | Symbols: GSL6, ATGSL6, ATGSL06, GSL06, CALS1 | GLUCAN SYNTHASE-LIKE 6, callose synthase 1 | chr1:1647880-1658677 REVERSE LENGTH=5730', dbxrefs=[]),\n",
       " SeqRecord(seq=Seq('ATGGCTCAAAGAAGGGAACCTGATCCGCCTCCACCGCAGAGGCGGATTCTGCGG...TGA'), id='AT1G05570.3', name='AT1G05570.3', description='AT1G05570.3 | Symbols: GSL6, ATGSL6, ATGSL06, GSL06, CALS1 | GLUCAN SYNTHASE-LIKE 6, callose synthase 1 | chr1:1647880-1658677 REVERSE LENGTH=5853', dbxrefs=[]),\n",
       " SeqRecord(seq=Seq('ATGGCTCAAAGAAGGGAACCTGATCCGCCTCCACCGCAGAGGCGGATTCTGCGG...TGA'), id='AT1G05570.4', name='AT1G05570.4', description='AT1G05570.4 | Symbols: GSL6, ATGSL6, ATGSL06, GSL06, CALS1 | GLUCAN SYNTHASE-LIKE 6, callose synthase 1 | chr1:1647880-1658677 REVERSE LENGTH=5853', dbxrefs=[]),\n",
       " SeqRecord(seq=Seq('ATGGAAGGAAGCTTTGAAGGCATGTTAATGAAAGTGAGCATTTTTGCTCTGATT...TGA'), id='AT1G05575.1', name='AT1G05575.1', description='AT1G05575.1 | Symbols: HUP17 | HYPOXIA  RESPONSE UNKNOWN PROTEIN 17 | chr1:1661829-1662098 REVERSE LENGTH=270', dbxrefs=[]),\n",
       " SeqRecord(seq=Seq('ATGGAAAGTAATGGTGGAGGAGGAGAAGTAAGAAGAGTGAATTTAGTTTATTTC...TGA'), id='AT1G05577.1', name='AT1G05577.1', description='AT1G05577.1 | Symbols: SOK1 | SOSEKI1 | chr1:1662643-1664288 REVERSE LENGTH=1119', dbxrefs=[]),\n",
       " SeqRecord(seq=Seq('ATGTCTTCCGGAGCCCCCCTTAATGTGACAAATCCTAACTATGATATTGAAGAA...TAA'), id='AT1G05580.1', name='AT1G05580.1', description='AT1G05580.1 | Symbols: ATCHX23, CHX23 | cation/H+ exchanger 23 | chr1:1665594-1668794 REVERSE LENGTH=2604', dbxrefs=[]),\n",
       " SeqRecord(seq=Seq('ATGGTTCTTGAGACATTCGCTAACTTAGCTCTCGTCTACAACATCTTCCTCCTT...TAA'), id='AT1G05580.2', name='AT1G05580.2', description='AT1G05580.2 | Symbols: ATCHX23, CHX23 | cation/H+ exchanger 23 | chr1:1665594-1668377 REVERSE LENGTH=2271', dbxrefs=[]),\n",
       " SeqRecord(seq=Seq('ATGCTAACTCTTTCCAAGTTTCATGTGATACTAATCCCAATACTCTTCTTCATT...TAA'), id='AT1G05590.1', name='AT1G05590.1', description='AT1G05590.1 | Symbols: HEXO2, ATHEX3 | beta-hexosaminidase 2, BETA-HEXOSAMINIDASE 3 | chr1:1669871-1671686 FORWARD LENGTH=1743', dbxrefs=[]),\n",
       " SeqRecord(seq=Seq('ATGCTAACTCTTTCCAAGTTTCATGTGATACTAATCCCAATACTCTTCTTCATT...TAA'), id='AT1G05590.2', name='AT1G05590.2', description='AT1G05590.2 | Symbols: HEXO2, ATHEX3 | beta-hexosaminidase 2, BETA-HEXOSAMINIDASE 3 | chr1:1669871-1671686 FORWARD LENGTH=1743', dbxrefs=[]),\n",
       " SeqRecord(seq=Seq('ATGCTAACTCTTTCCAAGTTTCATGTGATACTAATCCCAATACTCTTCTTCATT...TAA'), id='AT1G05590.3', name='AT1G05590.3', description='AT1G05590.3 | Symbols: HEXO2, ATHEX3 | beta-hexosaminidase 2, BETA-HEXOSAMINIDASE 3 | chr1:1669871-1671686 FORWARD LENGTH=1743', dbxrefs=[]),\n",
       " SeqRecord(seq=Seq('ATGAGTGTTGTTAGATGGCCAAGAGTTCTAACGCCAAGTCTTCTTTCTCAAATC...TAA'), id='AT1G05600.1', name='AT1G05600.1', description='AT1G05600.1 | Symbols: EMB3101 | EMBRYO DEFECTIVE 3101 | chr1:1672161-1673675 FORWARD LENGTH=1515', dbxrefs=[]),\n",
       " SeqRecord(seq=Seq('ATGAGTGTTGTTAGATGGCCAAGAGTTCTAACGCCAAGTCTTCTTTCTCAAATC...TAA'), id='AT1G05600.2', name='AT1G05600.2', description='AT1G05600.2 | Symbols: EMB3101 | EMBRYO DEFECTIVE 3101 | chr1:1672161-1673675 FORWARD LENGTH=1515', dbxrefs=[]),\n",
       " SeqRecord(seq=Seq('ATGAGTGTTGTTAGATGGCCAAGAGTTCTAACGCCAAGTCTTCTTTCTCAAATC...TAA'), id='AT1G05600.3', name='AT1G05600.3', description='AT1G05600.3 | Symbols: EMB3101 | EMBRYO DEFECTIVE 3101 | chr1:1672161-1673675 FORWARD LENGTH=1515', dbxrefs=[]),\n",
       " SeqRecord(seq=Seq('ATGCAGATTTCTTCTTCTTCTTTTATTACCAAATTTACCAATCTCCATATGGTA...TGA'), id='AT1G05610.1', name='AT1G05610.1', description='AT1G05610.1 | Symbols: APS2 | ADP-glucose pyrophosphorylase small subunit 2 | chr1:1673895-1675934 REVERSE LENGTH=1431', dbxrefs=[]),\n",
       " SeqRecord(seq=Seq('ATGCAGATTTCTTCTTCTTCTTTTATTACCAAATTTACCAATCTCCATATGGTA...TGA'), id='AT1G05610.2', name='AT1G05610.2', description='AT1G05610.2 | Symbols: APS2 | ADP-glucose pyrophosphorylase small subunit 2 | chr1:1673895-1675934 REVERSE LENGTH=1449', dbxrefs=[]),\n",
       " SeqRecord(seq=Seq('ATGGGTGCTATTCATGATGAGCCATTCACTGCCTGTGGAGACGAAACAGAGTGT...TAA'), id='AT1G05615.1', name='AT1G05615.1', description='AT1G05615.1 | Symbols: no symbol available | no full name available | chr1:1677507-1678270 REVERSE LENGTH=519', dbxrefs=[]),\n",
       " SeqRecord(seq=Seq('ATGGCGATAGGAGACCGCAAGAAGATTATCATCGATACTGATCCTGGAATCGAT...TAA'), id='AT1G05620.1', name='AT1G05620.1', description='AT1G05620.1 | Symbols: URH2, NSH2 | uridine-ribohydrolase  2, nucleoside hydrolase 2 | chr1:1679286-1681527 FORWARD LENGTH=969', dbxrefs=[]),\n",
       " SeqRecord(seq=Seq('ATGGCGATATTCGTAGCTTTAAATTCACCTGAAGTTGATGTCATTGGCCTCACT...TAA'), id='AT1G05620.2', name='AT1G05620.2', description='AT1G05620.2 | Symbols: URH2, NSH2 | uridine-ribohydrolase  2, nucleoside hydrolase 2 | chr1:1679609-1681527 FORWARD LENGTH=909', dbxrefs=[]),\n",
       " SeqRecord(seq=Seq('ATGGATTCGCTAATTATCGAAGAAGAAGACGAAGAGGCGTTGGCCACGCTCGTC...TGA'), id='AT1G05630.1', name='AT1G05630.1', description='AT1G05630.1 | Symbols: 5PTASE13, AT5PTASE13 | inositol-polyphosphate 5-phosphatase 13, Arabidopsis thaliana inositol-polyphosphate 5-phosphatase 13 | chr1:1682483-1687153 FORWARD LENGTH=3513', dbxrefs=[]),\n",
       " SeqRecord(seq=Seq('ATGGATTCGCTAATTATCGAAGAAGAAGACGAAGAGGCGTTGGCCACGCTCGTC...TGA'), id='AT1G05630.2', name='AT1G05630.2', description='AT1G05630.2 | Symbols: 5PTASE13, AT5PTASE13 | inositol-polyphosphate 5-phosphatase 13, Arabidopsis thaliana inositol-polyphosphate 5-phosphatase 13 | chr1:1682483-1687153 FORWARD LENGTH=3411', dbxrefs=[]),\n",
       " SeqRecord(seq=Seq('ATGGATTCGCTAATTATCGAAGAAGAAGACGAAGAGGCGTTGGCCACGCTCGTC...TAA'), id='AT1G05630.3', name='AT1G05630.3', description='AT1G05630.3 | Symbols: 5PTASE13, AT5PTASE13 | inositol-polyphosphate 5-phosphatase 13, Arabidopsis thaliana inositol-polyphosphate 5-phosphatase 13 | chr1:1682483-1686323 FORWARD LENGTH=2760', dbxrefs=[]),\n",
       " SeqRecord(seq=Seq('ATGAGTTCTCTGGTTCCTGTTATGGAGAAGCAAGAGAGCGTTCGAGGTAACTCT...TGA'), id='AT1G05640.1', name='AT1G05640.1', description='AT1G05640.1 | Symbols: no symbol available | no full name available | chr1:1687436-1689501 REVERSE LENGTH=1884', dbxrefs=[]),\n",
       " SeqRecord(seq=Seq('ATGACAAAATCAGCTATAACATTTCCACTTATCTTCACACTTCTCACCTTCATC...TGA'), id='AT1G05650.1', name='AT1G05650.1', description='AT1G05650.1 | Symbols: no symbol available | no full name available | chr1:1690264-1692126 REVERSE LENGTH=1185', dbxrefs=[]),\n",
       " SeqRecord(seq=Seq('ATGACAAAATCAGTTATAAGATTTTCCCTTCTCTTCACACTTCTCACCTTCATT...TGA'), id='AT1G05660.1', name='AT1G05660.1', description='AT1G05660.1 | Symbols: no symbol available | no full name available | chr1:1694286-1696058 REVERSE LENGTH=1185', dbxrefs=[]),\n",
       " SeqRecord(seq=Seq('ATGAAGAAGCCATTCACTGGCTTGTTGATGAAGAGAGGTACTCTTTCTAGCTTC...TAG'), id='AT1G05670.1', name='AT1G05670.1', description='AT1G05670.1 | Symbols: no symbol available | no full name available | chr1:1698574-1700799 REVERSE LENGTH=2226', dbxrefs=[]),\n",
       " SeqRecord(seq=Seq('ATGAAGAAGCCATTCACTGGCTTGTTGATGAAGAGAGGTACTCTTTCTAGCTTC...TAG'), id='AT1G05670.2', name='AT1G05670.2', description='AT1G05670.2 | Symbols: no symbol available | no full name available | chr1:1698574-1700799 REVERSE LENGTH=2226', dbxrefs=[]),\n",
       " SeqRecord(seq=Seq('ATGAAGAAGCCATTCACTGGCTTGTTGATGAAGAGAGGTACTCTTTCTAGCTTC...TAG'), id='AT1G05670.3', name='AT1G05670.3', description='AT1G05670.3 | Symbols: no symbol available | no full name available | chr1:1698574-1700799 REVERSE LENGTH=2226', dbxrefs=[]),\n",
       " SeqRecord(seq=Seq('ATGAGAGAAGGATCTCATGTTATTGTTTTGCCTTTCCCAGCACAAGGCCACATA...TGA'), id='AT1G05675.1', name='AT1G05675.1', description='AT1G05675.1 | Symbols: no symbol available | no full name available | chr1:1701213-1702715 REVERSE LENGTH=1362', dbxrefs=[]),\n",
       " SeqRecord(seq=Seq('ATGAGAGAAGGATCTCATCTTATCGTCTTGCCTTTCCCAGGACAAGGCCACATA...TGA'), id='AT1G05680.1', name='AT1G05680.1', description='AT1G05680.1 | Symbols: UGT74E2 | Uridine diphosphate glycosyltransferase 74E2 | chr1:1703196-1704639 REVERSE LENGTH=1362', dbxrefs=[]),\n",
       " SeqRecord(seq=Seq('ATGTCTAGTAGTACCAAGAACATTCCAAAACCTCCTCCTCTTCCTTGTATTACC...TAG'), id='AT1G05690.1', name='AT1G05690.1', description='AT1G05690.1 | Symbols: BT3 | BTB and TAZ domain protein 3 | chr1:1707809-1709132 FORWARD LENGTH=1095', dbxrefs=[]),\n",
       " SeqRecord(seq=Seq('ATGGAAGAGTTTCGTTTTCTCTATTTGATATATTCAGCAGCATTTGCATTGTGT...TGA'), id='AT1G05700.1', name='AT1G05700.1', description='AT1G05700.1 | Symbols: no symbol available | no full name available | chr1:1709796-1713245 FORWARD LENGTH=2559', dbxrefs=[]),\n",
       " SeqRecord(seq=Seq('ATGGAAGAGTTTCGTTTTCTCTATTTGATATATTCAGCAGCATTTGCATTGTGT...TGA'), id='AT1G05700.2', name='AT1G05700.2', description='AT1G05700.2 | Symbols: no symbol available | no full name available | chr1:1709796-1713245 FORWARD LENGTH=2652', dbxrefs=[]),\n",
       " SeqRecord(seq=Seq('ATGGAATTCTCTAGAGACGCTGGAATGATGATGGAGAATAAGCGGAATGTCTGC...TGA'), id='AT1G05710.1', name='AT1G05710.1', description='AT1G05710.1 | Symbols: no symbol available | no full name available | chr1:1716198-1717023 FORWARD LENGTH=450', dbxrefs=[]),\n",
       " SeqRecord(seq=Seq('ATGGAATTCTCTAGAGACGCTGGAATGATGATGGAGAATAAGCGGAATGTCTGC...TGA'), id='AT1G05710.10', name='AT1G05710.10', description='AT1G05710.10 | Symbols: no symbol available | no full name available | chr1:1716198-1717023 FORWARD LENGTH=516', dbxrefs=[]),\n",
       " SeqRecord(seq=Seq('ATGGAATTCTCTAGAGACGCTGGAATGATGATGGAGAATAAGCGGAATGTCTGC...TGA'), id='AT1G05710.11', name='AT1G05710.11', description='AT1G05710.11 | Symbols: no symbol available | no full name available | chr1:1716198-1717023 FORWARD LENGTH=450', dbxrefs=[]),\n",
       " SeqRecord(seq=Seq('ATGGAATTCTCTAGAGACGCTGGAATGATGATGGAGAATAAGCGGAATGTCTGC...TGA'), id='AT1G05710.12', name='AT1G05710.12', description='AT1G05710.12 | Symbols: no symbol available | no full name available | chr1:1716198-1717023 FORWARD LENGTH=450', dbxrefs=[]),\n",
       " SeqRecord(seq=Seq('ATGGAATTCTCTAGAGACGCTGGAATGATGATGGAGAATAAGCGGAATGTCTGC...TGA'), id='AT1G05710.13', name='AT1G05710.13', description='AT1G05710.13 | Symbols: no symbol available | no full name available | chr1:1716198-1717023 FORWARD LENGTH=516', dbxrefs=[]),\n",
       " SeqRecord(seq=Seq('ATGGAATTCTCTAGAGACGCTGGAATGATGATGGAGAATAAGCGGAATGTCTGC...TGA'), id='AT1G05710.14', name='AT1G05710.14', description='AT1G05710.14 | Symbols: no symbol available | no full name available | chr1:1716198-1717023 FORWARD LENGTH=450', dbxrefs=[]),\n",
       " SeqRecord(seq=Seq('ATGGAATTCTCTAGAGACGCTGGAATGATGATGGAGAATAAGCGGAATGTCTGC...TGA'), id='AT1G05710.2', name='AT1G05710.2', description='AT1G05710.2 | Symbols: no symbol available | no full name available | chr1:1716198-1717023 FORWARD LENGTH=516', dbxrefs=[]),\n",
       " SeqRecord(seq=Seq('ATGGAATTCTCTAGAGACGCTGGAATGATGATGGAGAATAAGCGGAATGTCTGC...TGA'), id='AT1G05710.3', name='AT1G05710.3', description='AT1G05710.3 | Symbols: no symbol available | no full name available | chr1:1716198-1717023 FORWARD LENGTH=450', dbxrefs=[]),\n",
       " SeqRecord(seq=Seq('ATGGAATTCTCTAGAGACGCTGGAATGATGATGGAGAATAAGCGGAATGTCTGC...TGA'), id='AT1G05710.4', name='AT1G05710.4', description='AT1G05710.4 | Symbols: no symbol available | no full name available | chr1:1716198-1717023 FORWARD LENGTH=450', dbxrefs=[]),\n",
       " SeqRecord(seq=Seq('ATGGAATTCTCTAGAGACGCTGGAATGATGATGGAGAATAAGCGGAATGTCTGC...TGA'), id='AT1G05710.5', name='AT1G05710.5', description='AT1G05710.5 | Symbols: no symbol available | no full name available | chr1:1716198-1717023 FORWARD LENGTH=450', dbxrefs=[]),\n",
       " SeqRecord(seq=Seq('ATGATGATGGAGAATAAGCGGAATGTCTGCTCTCTCGGAGAAAGCAGTATCAAA...TGA'), id='AT1G05710.6', name='AT1G05710.6', description='AT1G05710.6 | Symbols: no symbol available | no full name available | chr1:1716222-1717023 FORWARD LENGTH=426', dbxrefs=[]),\n",
       " SeqRecord(seq=Seq('ATGGAATTCTCTAGAGACGCTGGAATGATGATGGAGAATAAGCGGAATGTCTGC...TGA'), id='AT1G05710.7', name='AT1G05710.7', description='AT1G05710.7 | Symbols: no symbol available | no full name available | chr1:1716198-1717023 FORWARD LENGTH=516', dbxrefs=[]),\n",
       " SeqRecord(seq=Seq('ATGATGATGGAGAATAAGCGGAATGTCTGCTCTCTCGGAGAAAGCAGTATCAAA...TGA'), id='AT1G05710.8', name='AT1G05710.8', description='AT1G05710.8 | Symbols: no symbol available | no full name available | chr1:1716222-1717023 FORWARD LENGTH=492', dbxrefs=[]),\n",
       " SeqRecord(seq=Seq('ATGATGATGGAGAATAAGCGGAATGTCTGCTCTCTCGGAGAAAGCAGTATCAAA...TGA'), id='AT1G05710.9', name='AT1G05710.9', description='AT1G05710.9 | Symbols: no symbol available | no full name available | chr1:1716222-1717023 FORWARD LENGTH=492', dbxrefs=[]),\n",
       " SeqRecord(seq=Seq('ATGAAACAGAGAGAGATGGCGAAGATGGTTGTTTTATCAGCGATGATGATTTTG...TAG'), id='AT1G05720.1', name='AT1G05720.1', description='AT1G05720.1 | Symbols: no symbol available | no full name available | chr1:1717677-1718849 REVERSE LENGTH=492', dbxrefs=[]),\n",
       " SeqRecord(seq=Seq('ATGGATCACATAGCGGCAGCGGAGGAGCAAATTGTAACGGAGAGGATTAGAAGA...TAA'), id='AT1G05730.1', name='AT1G05730.1', description='AT1G05730.1 | Symbols: no symbol available | no full name available | chr1:1719107-1720159 FORWARD LENGTH=450', dbxrefs=[]),\n",
       " SeqRecord(seq=Seq('ATGAATCAAACCCGGAAAATTGATCAATTGCAGCAAGCCTATTTCAAATGTGCA...TAA'), id='AT1G05730.2', name='AT1G05730.2', description='AT1G05730.2 | Symbols: no symbol available | no full name available | chr1:1719727-1720159 FORWARD LENGTH=354', dbxrefs=[]),\n",
       " SeqRecord(seq=Seq('ATGGATCGCATGGCAGTTGCGGAAGAGCAAATCCTATTGGAGAGGGTTAGGAGA...TAA'), id='AT1G05740.1', name='AT1G05740.1', description='AT1G05740.1 | Symbols: no symbol available | no full name available | chr1:1720674-1721309 FORWARD LENGTH=438', dbxrefs=[]),\n",
       " SeqRecord(seq=Seq('ATGGGTCTCCTTCCCGTCGTCGGAATTACTTCGCCGGCGCTCATCACCCACAAA...TGA'), id='AT1G05750.1', name='AT1G05750.1', description='AT1G05750.1 | Symbols: PDE247, CLB19 | pigment defective 247, CHLOROPLAST BIOGENESIS 19 | chr1:1721523-1723025 FORWARD LENGTH=1503', dbxrefs=[]),\n",
       " SeqRecord(seq=Seq('ATGGGTCTCCTTCCCGTCGTCGGAATTACTTCGCCGGCGCTCATCACCCACAAA...TGA'), id='AT1G05750.2', name='AT1G05750.2', description='AT1G05750.2 | Symbols: PDE247, CLB19 | pigment defective 247, CHLOROPLAST BIOGENESIS 19 | chr1:1721523-1723025 FORWARD LENGTH=1503', dbxrefs=[]),\n",
       " SeqRecord(seq=Seq('ATGAAGATAGGACCTGTAGGGAAGCATGATGCTAGAAGCACTACAATTGTAAAC...TGA'), id='AT1G05760.1', name='AT1G05760.1', description='AT1G05760.1 | Symbols: RTM1 | restricted tev movement 1 | chr1:1723797-1724440 REVERSE LENGTH=525', dbxrefs=[]),\n",
       " SeqRecord(seq=Seq('ATGCTATTTTCGTTATGTAACCAAACAAAAGAGCTTTTGAGTTTTGGTCGTACA...TGA'), id='AT1G05760.2', name='AT1G05760.2', description='AT1G05760.2 | Symbols: RTM1 | restricted tev movement 1 | chr1:1723797-1724512 REVERSE LENGTH=597', dbxrefs=[]),\n",
       " SeqRecord(seq=Seq('ATGGAAGGGAAAATCAAGATAGGACCAGTGGGAACGGATTATTCAGGTAAGAAA...TAA'), id='AT1G05770.1', name='AT1G05770.1', description='AT1G05770.1 | Symbols: no symbol available | no full name available | chr1:1725547-1726250 REVERSE LENGTH=555', dbxrefs=[]),\n",
       " SeqRecord(seq=Seq('ATGGCTGGAGTTATGCACAAGTTCCTTATTGCGTCAATGTTCATGTGGATTCTT...TGA'), id='AT1G05780.1', name='AT1G05780.1', description='AT1G05780.1 | Symbols: no symbol available | no full name available | chr1:1726761-1728180 FORWARD LENGTH=321', dbxrefs=[]),\n",
       " SeqRecord(seq=Seq('ATGGCTTCGTCGGAGATTATTTGTGATGATGTCACACAACGGCTCTTTTGGATG...TAG'), id='AT1G05783.1', name='AT1G05783.1', description='AT1G05783.1 | Symbols: no symbol available | no full name available | chr1:1728658-1729575 REVERSE LENGTH=336', dbxrefs=[]),\n",
       " SeqRecord(seq=Seq('ATGGTGTACGAAATAACTGAGCAAAAAAAAGTTGGGTTGGGCCTCATTGGTTTT...TGA'), id='AT1G05785.1', name='AT1G05785.1', description='AT1G05785.1 | Symbols: no symbol available | no full name available | chr1:1730981-1732406 FORWARD LENGTH=408', dbxrefs=[]),\n",
       " SeqRecord(seq=Seq('ATGGTGTACGAAATAACTGAGCAAAAAAAAGTTGGGTTGGGCCTCATTGGTTTT...TGA'), id='AT1G05785.2', name='AT1G05785.2', description='AT1G05785.2 | Symbols: no symbol available | no full name available | chr1:1730981-1732406 FORWARD LENGTH=408', dbxrefs=[]),\n",
       " SeqRecord(seq=Seq('ATGTTTGCAGAAGTTGGGTTGGGCCTCATTGGTTTTGGTTTATCCTTTACGTTT...TGA'), id='AT1G05785.3', name='AT1G05785.3', description='AT1G05785.3 | Symbols: no symbol available | no full name available | chr1:1731284-1732406 FORWARD LENGTH=390', dbxrefs=[]),\n",
       " SeqRecord(seq=Seq('ATGGTGTACGAAATAACTGAGCAAAAAAAAGTTGGGTTGGGCCTCATTGGTTTT...TGA'), id='AT1G05785.4', name='AT1G05785.4', description='AT1G05785.4 | Symbols: no symbol available | no full name available | chr1:1730981-1732184 FORWARD LENGTH=402', dbxrefs=[]),\n",
       " SeqRecord(seq=Seq('ATGGTGTACGAAATAACTGAGCAAAAAAAAGTTGGGTTGGGCCTCATTGGTTTT...TGA'), id='AT1G05785.5', name='AT1G05785.5', description='AT1G05785.5 | Symbols: no symbol available | no full name available | chr1:1730981-1732406 FORWARD LENGTH=408', dbxrefs=[]),\n",
       " SeqRecord(seq=Seq('ATGGTGTACGAAATAACTGAGCAAAAAAAAGTTGGGTTGGGCCTCATTGGTTTT...TAA'), id='AT1G05785.6', name='AT1G05785.6', description='AT1G05785.6 | Symbols: no symbol available | no full name available | chr1:1730981-1732236 FORWARD LENGTH=522', dbxrefs=[]),\n",
       " SeqRecord(seq=Seq('ATGGTGTACGAAATAACTGAGCAAAAAAAAGTTGGGTTGGGCCTCATTGGTTTT...TAA'), id='AT1G05785.7', name='AT1G05785.7', description='AT1G05785.7 | Symbols: no symbol available | no full name available | chr1:1730981-1732236 FORWARD LENGTH=522', dbxrefs=[]),\n",
       " SeqRecord(seq=Seq('ATGTGGATTTCGAGGTTGAAGAGAGTTAGGAGAACGATTATGGTTCTGGGCGTT...TAA'), id='AT1G05790.1', name='AT1G05790.1', description='AT1G05790.1 | Symbols: no symbol available | no full name available | chr1:1733039-1737365 FORWARD LENGTH=2064', dbxrefs=[]),\n",
       " SeqRecord(seq=Seq('ATGGGTGTTATTGAGGAAGACGAAGTGTGTTCAGTTGCAAGACTCTTAGGTGAT...TAA'), id='AT1G05790.2', name='AT1G05790.2', description='AT1G05790.2 | Symbols: no symbol available | no full name available | chr1:1733996-1737365 FORWARD LENGTH=1551', dbxrefs=[]),\n",
       " SeqRecord(seq=Seq('ATGTGGATTTCGAGGTTGAAGAGAGTTAGGAGAACGATTATGGTTCTGGGCGTT...TAA'), id='AT1G05790.3', name='AT1G05790.3', description='AT1G05790.3 | Symbols: no symbol available | no full name available | chr1:1733039-1737365 FORWARD LENGTH=2169', dbxrefs=[]),\n",
       " SeqRecord(seq=Seq('ATGTGGATTTCGAGGTTGAAGAGAGTTAGGAGAACGATTATGGTTCTGGGCGTT...TAG'), id='AT1G05790.4', name='AT1G05790.4', description='AT1G05790.4 | Symbols: no symbol available | no full name available | chr1:1733039-1736596 FORWARD LENGTH=1530', dbxrefs=[]),\n",
       " SeqRecord(seq=Seq('ATGGCGGCCAAAGTCTTCACTCAGAACCCTATCTATTCTCAATCTCTAGTTAGA...TAG'), id='AT1G05800.1', name='AT1G05800.1', description='AT1G05800.1 | Symbols: DGL | DONGLE | chr1:1741204-1742619 FORWARD LENGTH=1416', dbxrefs=[]),\n",
       " SeqRecord(seq=Seq('ATGTACCAATCATCATCCTCCACGTCATCATCATCGCAGAGATCATCGCTTCCC...TAG'), id='AT1G05805.1', name='AT1G05805.1', description='AT1G05805.1 | Symbols: AKS2 | ABA-responsive kinase substrate 2 | chr1:1744843-1747427 FORWARD LENGTH=1089', dbxrefs=[]),\n",
       " SeqRecord(seq=Seq('ATGTCTTCGGACGACGAAGGAAGAGAGGAGTATCTCTTCAAGATTGTTGTTATC...TGA'), id='AT1G05810.1', name='AT1G05810.1', description='AT1G05810.1 | Symbols: RABA5E, ARA, ATRAB11D, ARA-1, ATRABA5E | ARABIDOPSIS THALIANA RAB GTPASE HOMOLOG A5E, RAB GTPase homolog A5E | chr1:1748443-1749350 FORWARD LENGTH=657', dbxrefs=[]),\n",
       " SeqRecord(seq=Seq('ATGCGCAGTATGTCCTCTTGTGCCAGCTTGTTGCACCGTCTTCCGTCTCCTCCT...TGA'), id='AT1G05810.2', name='AT1G05810.2', description='AT1G05810.2 | Symbols: RABA5E, ARA, ATRAB11D, ARA-1, ATRABA5E | ARABIDOPSIS THALIANA RAB GTPASE HOMOLOG A5E, RAB GTPase homolog A5E | chr1:1748305-1749350 FORWARD LENGTH=795', dbxrefs=[]),\n",
       " SeqRecord(seq=Seq('ATGTCTTTACCTCCGTTTACTTGCCGCCTTCTCGCGGCGGCGGCGGCTCTCTAT...TAA'), id='AT1G05820.1', name='AT1G05820.1', description='AT1G05820.1 | Symbols: ATSPPL5, SPPL5 | SIGNAL PEPTIDE PEPTIDASE-LIKE 5, ARABIDOPSIS THALIANA SIGNAL PEPTIDE PEPTIDASE-LIKE 5 | chr1:1749776-1753767 FORWARD LENGTH=1611', dbxrefs=[]),\n",
       " ...]"
      ]
     },
     "execution_count": 60,
     "metadata": {},
     "output_type": "execute_result"
    }
   ],
   "source": [
    "arabidopsis_cds"
   ]
  },
  {
   "cell_type": "markdown",
   "metadata": {},
   "source": []
  },
  {
   "cell_type": "markdown",
   "metadata": {},
   "source": []
  },
  {
   "cell_type": "code",
   "execution_count": 47,
   "metadata": {},
   "outputs": [],
   "source": [
    "class Person:\n",
    "    def __init__(self, name, age, gender):\n",
    "        self.name = name\n",
    "        self.age = age\n",
    "        self.gender = gender\n",
    "\n",
    "    def greet(self):\n",
    "        print(f\"Hello, my name is {self.name}.\")\n",
    "\n",
    "    def eat(self, food):\n",
    "        print(f\"{self.name} is eating {food}.\")\n",
    "\n",
    "    def sleep(self):\n",
    "        print(f\"{self.name} is sleeping.\")"
   ]
  },
  {
   "cell_type": "code",
   "execution_count": 48,
   "metadata": {},
   "outputs": [],
   "source": [
    "person2 = Person(\"Bob\", 25, \"male\")"
   ]
  },
  {
   "cell_type": "code",
   "execution_count": 50,
   "metadata": {},
   "outputs": [
    {
     "name": "stdout",
     "output_type": "stream",
     "text": [
      "Hello, my name is Bob.\n"
     ]
    }
   ],
   "source": [
    "person2.greet()"
   ]
  },
  {
   "cell_type": "code",
   "execution_count": null,
   "metadata": {},
   "outputs": [],
   "source": []
  },
  {
   "cell_type": "code",
   "execution_count": null,
   "metadata": {},
   "outputs": [],
   "source": []
  },
  {
   "cell_type": "code",
   "execution_count": null,
   "metadata": {},
   "outputs": [],
   "source": []
  },
  {
   "cell_type": "code",
   "execution_count": null,
   "metadata": {},
   "outputs": [],
   "source": []
  },
  {
   "cell_type": "code",
   "execution_count": null,
   "metadata": {},
   "outputs": [],
   "source": []
  },
  {
   "cell_type": "code",
   "execution_count": null,
   "metadata": {},
   "outputs": [],
   "source": []
  },
  {
   "cell_type": "markdown",
   "metadata": {},
   "source": []
  },
  {
   "cell_type": "code",
   "execution_count": 3,
   "metadata": {},
   "outputs": [],
   "source": []
  },
  {
   "cell_type": "code",
   "execution_count": null,
   "metadata": {},
   "outputs": [],
   "source": []
  },
  {
   "cell_type": "code",
   "execution_count": 12,
   "metadata": {},
   "outputs": [],
   "source": []
  },
  {
   "cell_type": "code",
   "execution_count": 5,
   "metadata": {},
   "outputs": [],
   "source": []
  },
  {
   "cell_type": "code",
   "execution_count": 18,
   "metadata": {},
   "outputs": [],
   "source": []
  },
  {
   "cell_type": "code",
   "execution_count": 19,
   "metadata": {},
   "outputs": [
    {
     "data": {
      "text/plain": [
       "SeqRecord(seq=Seq('ATGGAGGATCAAGTTGGGTTTGGGTTCCGTCCGAACGACGAGGAGCTCGTTGGT...TAA'), id='AT1G01010.1', name='AT1G01010.1', description='AT1G01010.1 | Symbols: NAC001, NTL10, ANAC001 | NAC domain containing protein 1 | chr1:3760-5630 FORWARD LENGTH=1290', dbxrefs=[])"
      ]
     },
     "execution_count": 19,
     "metadata": {},
     "output_type": "execute_result"
    }
   ],
   "source": []
  },
  {
   "cell_type": "markdown",
   "metadata": {},
   "source": [
    "### Exercise II\n",
    "\n",
    "* Store the 3 sequence in a variable with the name third_cds"
   ]
  },
  {
   "cell_type": "code",
   "execution_count": 21,
   "metadata": {},
   "outputs": [],
   "source": [
    "third_cds = arabidopsis_cds[2]"
   ]
  },
  {
   "cell_type": "code",
   "execution_count": 22,
   "metadata": {},
   "outputs": [
    {
     "data": {
      "text/plain": [
       "SeqRecord(seq=Seq('ATGGCGGCGAGTGAACACAGATGCGTGGGATGTGGTTTTAGGGTAAAGTCATTG...TAA'), id='AT1G01020.2', name='AT1G01020.2', description='AT1G01020.2 | Symbols: ARV1 |  | chr1:7315-8666 REVERSE LENGTH=576', dbxrefs=[])"
      ]
     },
     "execution_count": 22,
     "metadata": {},
     "output_type": "execute_result"
    }
   ],
   "source": [
    "third_cds"
   ]
  },
  {
   "cell_type": "markdown",
   "metadata": {},
   "source": [
    "### ...it's like a sequence dog....\n",
    "\n",
    "A SeqRecord has several attributes such as\n",
    "\n",
    "* a sequence -> access with .seq\n",
    "* an id -> access with .id\n",
    "* a name -> access with .name\n",
    "* a description -> access with .description\n",
    "\n",
    "... and many more as described here [SeqRecord](https://biopython.org/wiki/SeqRecord)"
   ]
  },
  {
   "cell_type": "code",
   "execution_count": 23,
   "metadata": {},
   "outputs": [
    {
     "data": {
      "text/plain": [
       "SeqRecord(seq=Seq('ATGGCGGCGAGTGAACACAGATGCGTGGGATGTGGTTTTAGGGTAAAGTCATTG...TAA'), id='AT1G01020.2', name='AT1G01020.2', description='AT1G01020.2 | Symbols: ARV1 |  | chr1:7315-8666 REVERSE LENGTH=576', dbxrefs=[])"
      ]
     },
     "execution_count": 23,
     "metadata": {},
     "output_type": "execute_result"
    }
   ],
   "source": [
    "third_cds"
   ]
  },
  {
   "cell_type": "code",
   "execution_count": 24,
   "metadata": {},
   "outputs": [
    {
     "name": "stdout",
     "output_type": "stream",
     "text": [
      "ID: AT1G01020.2\n",
      "Name: AT1G01020.2\n",
      "Description: AT1G01020.2 | Symbols: ARV1 |  | chr1:7315-8666 REVERSE LENGTH=576\n",
      "Number of features: 0\n",
      "Seq('ATGGCGGCGAGTGAACACAGATGCGTGGGATGTGGTTTTAGGGTAAAGTCATTG...TAA')\n"
     ]
    }
   ],
   "source": [
    "print(third_cds)"
   ]
  },
  {
   "cell_type": "code",
   "execution_count": 25,
   "metadata": {},
   "outputs": [
    {
     "data": {
      "text/plain": [
       "['__add__',\n",
       " '__bool__',\n",
       " '__class__',\n",
       " '__contains__',\n",
       " '__delattr__',\n",
       " '__dict__',\n",
       " '__dir__',\n",
       " '__doc__',\n",
       " '__eq__',\n",
       " '__format__',\n",
       " '__ge__',\n",
       " '__getattribute__',\n",
       " '__getitem__',\n",
       " '__gt__',\n",
       " '__hash__',\n",
       " '__init__',\n",
       " '__init_subclass__',\n",
       " '__iter__',\n",
       " '__le__',\n",
       " '__le___',\n",
       " '__len__',\n",
       " '__lt__',\n",
       " '__module__',\n",
       " '__ne__',\n",
       " '__new__',\n",
       " '__radd__',\n",
       " '__reduce__',\n",
       " '__reduce_ex__',\n",
       " '__repr__',\n",
       " '__setattr__',\n",
       " '__sizeof__',\n",
       " '__str__',\n",
       " '__subclasshook__',\n",
       " '__weakref__',\n",
       " '_per_letter_annotations',\n",
       " '_seq',\n",
       " '_set_per_letter_annotations',\n",
       " '_set_seq',\n",
       " 'annotations',\n",
       " 'dbxrefs',\n",
       " 'description',\n",
       " 'features',\n",
       " 'format',\n",
       " 'id',\n",
       " 'letter_annotations',\n",
       " 'lower',\n",
       " 'name',\n",
       " 'reverse_complement',\n",
       " 'seq',\n",
       " 'translate',\n",
       " 'upper']"
      ]
     },
     "execution_count": 25,
     "metadata": {},
     "output_type": "execute_result"
    }
   ],
   "source": [
    "dir(third_cds)"
   ]
  },
  {
   "cell_type": "markdown",
   "metadata": {},
   "source": [
    "### Let's access the different 'characteristics' (called attributes) of our SeqRecord"
   ]
  },
  {
   "cell_type": "code",
   "execution_count": 26,
   "metadata": {},
   "outputs": [
    {
     "data": {
      "text/plain": [
       "Seq('ATGGCGGCGAGTGAACACAGATGCGTGGGATGTGGTTTTAGGGTAAAGTCATTG...TAA')"
      ]
     },
     "execution_count": 26,
     "metadata": {},
     "output_type": "execute_result"
    }
   ],
   "source": [
    "###the sequence\n",
    "third_cds.seq"
   ]
  },
  {
   "cell_type": "code",
   "execution_count": 27,
   "metadata": {},
   "outputs": [
    {
     "name": "stdout",
     "output_type": "stream",
     "text": [
      "ATGGCGGCGAGTGAACACAGATGCGTGGGATGTGGTTTTAGGGTAAAGTCATTGTTCATTCAATACTCTCCGGGTAACATTCGTCTCATGAAATGCGGAAATTGCAAGGAAGTAGCAGATGAGTACATCGAGTGTGAACGCATGATTATTTTCATCGATTTAATCCTTCACAGACCAAAGGTATATAGACACGTCCTCTACAATGCAATTAATCCAGCAACTGTCAATATTCAGCATCTGTTGTGGAAGTTGGTCTTCGCCTATCTTCTTCTAGACTGTTATAGAAGCTTGCTACTGAGAAAAAGTGATGAAGAATCGAGCTTTTCTGATAGCCCTGTTCTTCTATCTATAAAGGTTCTGATTGGTGTCTTATCTGCAAACGCTGCATTTATCATCTCTTTTGCCATTGCGACTAAGGGTTTGCTAAATGAAGTTTCCAGAAGAAGAGAGATTATGTTGGGGATATTCATCTCTAGTTACTTCAAGATATTTCTGCTTGCGATGTTGGTATGTTGTAGCTTTACCTCTCACTTAATTCCTAATATTGAAGTTCCAAACTTCTTAAGCATTCCATAA\n"
     ]
    }
   ],
   "source": [
    "print(third_cds.seq)"
   ]
  },
  {
   "cell_type": "code",
   "execution_count": null,
   "metadata": {},
   "outputs": [],
   "source": [
    "###the id\n",
    "third_cds.id"
   ]
  },
  {
   "cell_type": "code",
   "execution_count": null,
   "metadata": {},
   "outputs": [],
   "source": [
    "###the description\n",
    "third_cds.description"
   ]
  },
  {
   "cell_type": "code",
   "execution_count": null,
   "metadata": {},
   "outputs": [],
   "source": [
    "####reverse complement\n",
    "third_cds.reverse_complement()"
   ]
  },
  {
   "cell_type": "markdown",
   "metadata": {},
   "source": [
    "...it's like a sequnce dog..."
   ]
  },
  {
   "cell_type": "markdown",
   "metadata": {},
   "source": [
    "### Exercise III\n",
    "\n",
    "* How long is the sequence of the third_cds"
   ]
  },
  {
   "cell_type": "code",
   "execution_count": null,
   "metadata": {},
   "outputs": [],
   "source": [
    "print('The lengths of the third cds is ', len(third_cds.seq), '.', sep='')"
   ]
  },
  {
   "cell_type": "markdown",
   "metadata": {},
   "source": [
    "### Exercise  IV\n",
    "\n",
    "* now let's make a length dictionary stores the length of all CDS in a dictionary.\n",
    "* The keys of the dictionary will be the sequence ids and the vaules the lengths.\n",
    "* BONUS. Print the name of the longest cds sequence."
   ]
  },
  {
   "cell_type": "code",
   "execution_count": null,
   "metadata": {},
   "outputs": [],
   "source": [
    "###Faded example\n",
    "cds_length_dict = {}\n",
    "for seq in arabidopsis_cds:\n",
    "    cds_length_dict[seq.id] = len(seq.seq)"
   ]
  },
  {
   "cell_type": "code",
   "execution_count": null,
   "metadata": {},
   "outputs": [],
   "source": [
    "max_length = max(cds_length_dict.values())"
   ]
  },
  {
   "cell_type": "code",
   "execution_count": null,
   "metadata": {},
   "outputs": [],
   "source": [
    "for _id, length in cds_length_dict.items():\n",
    "    if length == max_length:\n",
    "        print(\"This is one of the longest Arabidopsis CDS sequences:\", _id)\n",
    "        print(\"It is this many bases long:\", length)"
   ]
  },
  {
   "cell_type": "markdown",
   "metadata": {},
   "source": [
    "### Exercise  V\n",
    "\n",
    "* now let's make a list that stores the length of all CDS in order (sic!).\n"
   ]
  },
  {
   "cell_type": "code",
   "execution_count": null,
   "metadata": {},
   "outputs": [],
   "source": [
    "###Let's make a cds lenght list as well for later.\n",
    "###Faded example\n",
    "cds_length = []\n",
    "for seq in arabidopsis_cds:\n",
    "    cds_length.append(len(seq.seq))"
   ]
  },
  {
   "cell_type": "markdown",
   "metadata": {},
   "source": [
    "### Let's translate all the sequences and store them as protein sequences\n",
    "\n",
    "We will use the [Seq](https://biopython.org/wiki/Seq) and [SeqRecord](https://biopython.org/wiki/SeqRecord) objects as a container to store these protein sequences.\n",
    "\n",
    "...it's like a protein sequence dog..."
   ]
  },
  {
   "cell_type": "code",
   "execution_count": null,
   "metadata": {},
   "outputs": [],
   "source": [
    "from Bio import SeqRecord, Seq"
   ]
  },
  {
   "cell_type": "code",
   "execution_count": null,
   "metadata": {},
   "outputs": [],
   "source": [
    "third_cds.seq"
   ]
  },
  {
   "cell_type": "markdown",
   "metadata": {},
   "source": [
    "Because we know that the third_cds sequence is a DNA sequence we know we can translate it."
   ]
  },
  {
   "cell_type": "code",
   "execution_count": null,
   "metadata": {},
   "outputs": [],
   "source": [
    "####translate\n",
    "third_cds.seq.translate()"
   ]
  },
  {
   "cell_type": "code",
   "execution_count": null,
   "metadata": {},
   "outputs": [],
   "source": [
    "###let's make a protein record for the third cds\n",
    "third_protein = SeqRecord.SeqRecord(seq=third_cds.seq.translate())"
   ]
  },
  {
   "cell_type": "code",
   "execution_count": null,
   "metadata": {},
   "outputs": [],
   "source": [
    "print(third_protein)"
   ]
  },
  {
   "cell_type": "code",
   "execution_count": null,
   "metadata": {},
   "outputs": [],
   "source": [
    "third_protein.id = third_cds.id\n",
    "third_protein.name = third_cds.name\n",
    "third_protein.description = third_cds.description"
   ]
  },
  {
   "cell_type": "code",
   "execution_count": null,
   "metadata": {},
   "outputs": [],
   "source": [
    "print(third_protein)"
   ]
  },
  {
   "cell_type": "markdown",
   "metadata": {},
   "source": [
    "### Exercise IV\n",
    "\n",
    "Let's make a list of all Arabidopsis protein sequences"
   ]
  },
  {
   "cell_type": "code",
   "execution_count": null,
   "metadata": {},
   "outputs": [],
   "source": [
    "#### Faded example\n",
    "arabidopsis_proteins = []\n",
    "protein_length = []\n",
    "\n",
    "for cds in arabidopsis_cds:\n",
    "    tmp_protein = SeqRecord.SeqRecord(cds.seq.translate())\n",
    "    tmp_protein.id = cds.id\n",
    "    tmp_protein.name = cds.name\n",
    "    tmp_protein.description = cds.description\n",
    "    arabidopsis_proteins.append(tmp_protein)\n",
    "    protein_length.append(len(tmp_protein.seq))"
   ]
  },
  {
   "cell_type": "code",
   "execution_count": null,
   "metadata": {},
   "outputs": [],
   "source": [
    "###Quick checks are good\n",
    "len(arabidopsis_proteins) == len(arabidopsis_cds)"
   ]
  },
  {
   "cell_type": "markdown",
   "metadata": {},
   "source": [
    "### Let's see if there is a correlation between \n",
    "\n",
    "Some people find python plotting a bit awkward and it is still good to know the basics.\n",
    "\n",
    "The basic python plotting is [Matplotlib](https://matplotlib.org/) and [Seaborn](https://seaborn.pydata.org/). More advanced for interactive figures and such is [Altair](https://altair-viz.github.io/) which is up and coming."
   ]
  },
  {
   "cell_type": "markdown",
   "metadata": {},
   "source": [
    "For now some starting plots in matplotlib"
   ]
  },
  {
   "cell_type": "code",
   "execution_count": null,
   "metadata": {},
   "outputs": [],
   "source": [
    "import matplotlib.pyplot as plt"
   ]
  },
  {
   "cell_type": "code",
   "execution_count": null,
   "metadata": {},
   "outputs": [],
   "source": [
    "?plt.scatter"
   ]
  },
  {
   "cell_type": "code",
   "execution_count": null,
   "metadata": {},
   "outputs": [],
   "source": [
    "plt.scatter(protein_length, cds_length)"
   ]
  },
  {
   "cell_type": "code",
   "execution_count": null,
   "metadata": {},
   "outputs": [],
   "source": [
    "plt.scatter(protein_length, cds_length)\n",
    "plt.ylabel('CDS Length [bp]')\n",
    "plt.xlabel('Protein Length [aa]')"
   ]
  },
  {
   "cell_type": "code",
   "execution_count": null,
   "metadata": {},
   "outputs": [],
   "source": [
    "plt.hist(protein_length)"
   ]
  },
  {
   "cell_type": "code",
   "execution_count": null,
   "metadata": {},
   "outputs": [],
   "source": [
    "plt.hist(protein_length, bins=500)"
   ]
  },
  {
   "cell_type": "markdown",
   "metadata": {},
   "source": [
    "### Let's caclulate the [Isoelectric Point](https://en.wikipedia.org/wiki/Isoelectric_point) for all proteins \n",
    "\n",
    "The isoelectric point is the pH at which a peptide sequence has no charge.\n",
    "\n",
    "We will makes use of the [SeqUtils](https://biopython.org/DIST/docs/api/Bio.SeqUtils-module.html) using a specific dog idea (aka Class) called [IsoelectricPoint](https://biopython.org/DIST/docs/api/Bio.SeqUtils.IsoelectricPoint.IsoelectricPoint-class.html) to make these computations easier."
   ]
  },
  {
   "cell_type": "code",
   "execution_count": null,
   "metadata": {},
   "outputs": [],
   "source": [
    "from Bio.SeqUtils import IsoelectricPoint as IP"
   ]
  },
  {
   "cell_type": "code",
   "execution_count": null,
   "metadata": {},
   "outputs": [],
   "source": [
    "?IP"
   ]
  },
  {
   "cell_type": "code",
   "execution_count": null,
   "metadata": {},
   "outputs": [],
   "source": [
    "#### third_protein\n",
    "third_protein.seq"
   ]
  },
  {
   "cell_type": "code",
   "execution_count": null,
   "metadata": {},
   "outputs": [],
   "source": [
    "protein = IP.IsoelectricPoint(third_protein.seq)"
   ]
  },
  {
   "cell_type": "code",
   "execution_count": null,
   "metadata": {},
   "outputs": [],
   "source": []
  },
  {
   "cell_type": "markdown",
   "metadata": {},
   "source": [
    "...it's like a sequnce dog..."
   ]
  },
  {
   "cell_type": "code",
   "execution_count": null,
   "metadata": {},
   "outputs": [],
   "source": [
    "###calculate the pi\n",
    "protein.pi()"
   ]
  },
  {
   "cell_type": "code",
   "execution_count": null,
   "metadata": {},
   "outputs": [],
   "source": [
    "####calculate the charge at a certain \n",
    "protein.charge_at_pH(10)"
   ]
  },
  {
   "cell_type": "markdown",
   "metadata": {},
   "source": [
    "### Exercise VII\n",
    "\n",
    "* Let's make a list of all the pi values of all proteins.\n",
    "* Plot the pi distribution of all proteins in Arabidopsis.\n",
    "* Explain the observed distribution"
   ]
  },
  {
   "cell_type": "code",
   "execution_count": null,
   "metadata": {},
   "outputs": [],
   "source": [
    "#### Faded example\n",
    "protein_pi_values = []\n",
    "for protein in arabidopsis_proteins:\n",
    "    tmp_protein = IP.IsoelectricPoint(protein.seq)\n",
    "    tmp_protein_pi = tmp_protein.pi()\n",
    "    protein_pi_values.append(tmp_protein_pi)"
   ]
  },
  {
   "cell_type": "code",
   "execution_count": null,
   "metadata": {},
   "outputs": [],
   "source": [
    "#### Plot the distribution of pi values of all arabidopsis proteins\n",
    "plt.hist(protein_pi_values, bins = 100)\n",
    "plt.xlabel('pi [pH]')"
   ]
  },
  {
   "cell_type": "markdown",
   "metadata": {},
   "source": [
    "### Exercise VIII\n",
    "\n",
    "* look at the relationship between protein length and pI values\n",
    "\n"
   ]
  },
  {
   "cell_type": "code",
   "execution_count": null,
   "metadata": {},
   "outputs": [],
   "source": [
    "plt.scatter(protein_length, protein_pi_values, alpha=0.2)"
   ]
  },
  {
   "cell_type": "markdown",
   "metadata": {},
   "source": [
    "The problem here is that too many points are overlapping and we would need to do some summary statistics while plotting."
   ]
  },
  {
   "cell_type": "markdown",
   "metadata": {},
   "source": [
    "### Seaborn to the rescue!\n",
    "\n",
    "Let's do some density plots looking at both [distributions](https://seaborn.pydata.org/tutorial/distributions.html) at once."
   ]
  },
  {
   "cell_type": "code",
   "execution_count": null,
   "metadata": {},
   "outputs": [],
   "source": [
    "import seaborn as sns"
   ]
  },
  {
   "cell_type": "code",
   "execution_count": null,
   "metadata": {},
   "outputs": [],
   "source": [
    "sns.kdeplot(protein_length, protein_pi_values)"
   ]
  },
  {
   "cell_type": "code",
   "execution_count": null,
   "metadata": {},
   "outputs": [],
   "source": [
    "sns.jointplot(protein_length, protein_pi_values, kind='hex', color = 'g')"
   ]
  },
  {
   "cell_type": "code",
   "execution_count": null,
   "metadata": {},
   "outputs": [],
   "source": []
  },
  {
   "cell_type": "code",
   "execution_count": null,
   "metadata": {},
   "outputs": [],
   "source": []
  },
  {
   "cell_type": "code",
   "execution_count": null,
   "metadata": {},
   "outputs": [],
   "source": []
  },
  {
   "cell_type": "code",
   "execution_count": null,
   "metadata": {},
   "outputs": [],
   "source": []
  },
  {
   "cell_type": "code",
   "execution_count": null,
   "metadata": {},
   "outputs": [],
   "source": [
    "%matplotlib inline\n",
    "from IPython.display import Image"
   ]
  }
 ],
 "metadata": {
  "kernelspec": {
   "display_name": "Python 3 (ipykernel)",
   "language": "python",
   "name": "python3"
  },
  "language_info": {
   "codemirror_mode": {
    "name": "ipython",
    "version": 3
   },
   "file_extension": ".py",
   "mimetype": "text/x-python",
   "name": "python",
   "nbconvert_exporter": "python",
   "pygments_lexer": "ipython3",
   "version": "3.10.9"
  }
 },
 "nbformat": 4,
 "nbformat_minor": 4
}
