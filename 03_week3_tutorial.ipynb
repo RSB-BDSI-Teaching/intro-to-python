{
 "cells": [
  {
   "cell_type": "markdown",
   "metadata": {},
   "source": [
    "# Week 3 Tutorial - Python Modules \n",
    "\n",
    "In this week, we will cover the following topics:\n",
    "\n",
    "* Python Modules\n",
    "    * What is a Python module?\n",
    "    * How to use a Python module?\n",
    "* Biopython \n",
    "\n"
   ]
  },
  {
   "cell_type": "markdown",
   "metadata": {},
   "source": [
    "## Python Modules\n",
    "\n",
    "### What is a Python module?\n",
    "\n",
    "In Python, a module is a file containing Python code that can be imported and used in other Python code. A module can define functions, classes, and variables that can be used in other programs. Modules provide a way to organise code into separate files, making it easier to manage and reuse code across multiple programs. \n",
    "\n",
    "Python comes with a large number of built-in modules that provide a wide range of functionality, such as file I/O, networking, math operations, and more. You can also create your own modules by writing Python code in a file with a `.py` extension and importing it into your other Python programs. \n",
    "\n",
    "### How to use a Python module?\n",
    "\n",
    "If we are using a built-in Python module, we can load the module by use the `import` command with the module name. If we are using an external Python module, we have to download the module first and then use `import` to load. \n",
    "\n",
    "A module can provide a range of functions and constants, we need to put the function name after the module name with a dot to call the function. \n",
    "\n",
    "Here's an example of importing a built-in module in Python:"
   ]
  },
  {
   "cell_type": "code",
   "execution_count": 15,
   "metadata": {},
   "outputs": [
    {
     "name": "stdout",
     "output_type": "stream",
     "text": [
      "Pi is 3.141592653589793\n",
      "The sine value of 2*pi is -2.4492935982947064e-16\n",
      "The square root value of 2 is 1.4142135623730951\n"
     ]
    }
   ],
   "source": [
    "import math\n",
    "\n",
    "print(\"Pi is\", math.pi)\n",
    "\n",
    "x = math.sin(2*math.pi)\n",
    "print(\"The sine value of 2*pi is\", x)\n",
    "\n",
    "y = math.sqrt(2) \n",
    "print(\"The square root value of 2 is\", y)"
   ]
  },
  {
   "cell_type": "markdown",
   "metadata": {},
   "source": [
    "In this example, we used the `import` command to load the \"math\" module. `math.pi` means to call the \"pi\" value that stored in the module \"math\".\n",
    "\n",
    "Then we also used `math.sin` to calculate the sine value of `2*pi` and `math.sqrt` to calculate the square root of 2.\n",
    "\n",
    "__We can also import specific functions or variables from a module.__\n",
    "\n",
    "In this way, we can only use the function name to call the function, we don't need to put the module name before. \n",
    "\n",
    "Here's an example:"
   ]
  },
  {
   "cell_type": "code",
   "execution_count": 16,
   "metadata": {},
   "outputs": [
    {
     "name": "stdout",
     "output_type": "stream",
     "text": [
      "Pi is 3.141592653589793\n",
      "The sine value of 2*pi is -2.4492935982947064e-16\n"
     ]
    }
   ],
   "source": [
    "from math import sin, pi\n",
    "\n",
    "print(\"Pi is\", pi)\n",
    "\n",
    "x = sin(2 * pi)\n",
    "print(\"The sine value of 2*Pi is\", x)"
   ]
  },
  {
   "cell_type": "markdown",
   "metadata": {},
   "source": [
    "__We can also give a module a different name.__\n",
    "\n",
    "Some modules can have really long names and it can be difficult for us to type every time. So, it is easier if we make the module name short. \n",
    "\n",
    "Here's an example about how to do so:"
   ]
  },
  {
   "cell_type": "code",
   "execution_count": 18,
   "metadata": {
    "scrolled": true
   },
   "outputs": [
    {
     "name": "stdout",
     "output_type": "stream",
     "text": [
      "Pi is 3.141592653589793\n",
      "The sine value of 2*Pi is -2.4492935982947064e-16\n"
     ]
    }
   ],
   "source": [
    "import math as m\n",
    "\n",
    "print(\"Pi is\", m.pi)\n",
    "print(\"The sine value of 2*Pi is\", m.sin(2 * m.pi))"
   ]
  },
  {
   "cell_type": "markdown",
   "metadata": {},
   "source": [
    "__We can also import a specific function or variable from a module and give it a different name.__\n",
    "\n",
    "For example:"
   ]
  },
  {
   "cell_type": "code",
   "execution_count": 19,
   "metadata": {},
   "outputs": [
    {
     "name": "stdout",
     "output_type": "stream",
     "text": [
      "Pi is 3.141592653589793\n",
      "The sine value of 2*Pi is -2.4492935982947064e-16\n"
     ]
    }
   ],
   "source": [
    "from math import sin as s \n",
    "from math import pi \n",
    "\n",
    "print(\"Pi is\", pi)\n",
    "print(\"The sine value of 2*Pi is\", s(2*pi))"
   ]
  },
  {
   "cell_type": "code",
   "execution_count": 1,
   "metadata": {},
   "outputs": [
    {
     "name": "stdout",
     "output_type": "stream",
     "text": [
      "/home/jiajia/intro-to-python\r\n"
     ]
    }
   ],
   "source": []
  },
  {
   "cell_type": "code",
   "execution_count": 2,
   "metadata": {},
   "outputs": [
    {
     "name": "stdout",
     "output_type": "stream",
     "text": [
      "00_setup.ipynb\t\t 03_week3_tutorial.ipynb  figures\r\n",
      "01_week1_tutorial.ipynb  04_week4_tutorial.ipynb  jupyter_intro.ipynb\r\n",
      "02_week2_tutorial.ipynb  README.md\r\n"
     ]
    }
   ],
   "source": []
  },
  {
   "cell_type": "code",
   "execution_count": null,
   "metadata": {},
   "outputs": [],
   "source": []
  },
  {
   "cell_type": "code",
   "execution_count": null,
   "metadata": {},
   "outputs": [],
   "source": []
  },
  {
   "cell_type": "code",
   "execution_count": null,
   "metadata": {},
   "outputs": [],
   "source": []
  },
  {
   "cell_type": "markdown",
   "metadata": {},
   "source": [
    "## following to be deleted ???\n",
    "\n",
    "### Objectives\n",
    "\n",
    "* Understand what python object is\n",
    "\n",
    "* Build your DNA/Protein sequencing object\n",
    "* Apply biopython to the Arabidopsis genome\n",
    "* Apply certain biopython functions on the Arabpidosis genome to learn something about biology"
   ]
  },
  {
   "cell_type": "markdown",
   "metadata": {},
   "source": []
  },
  {
   "cell_type": "markdown",
   "metadata": {},
   "source": []
  },
  {
   "cell_type": "code",
   "execution_count": 1,
   "metadata": {},
   "outputs": [],
   "source": [
    "%matplotlib inline\n",
    "from IPython.display import Image"
   ]
  },
  {
   "cell_type": "code",
   "execution_count": null,
   "metadata": {},
   "outputs": [],
   "source": []
  },
  {
   "cell_type": "markdown",
   "metadata": {},
   "source": [
    "### Intro to [Biopython](https://biopython.org/wiki/Documentation)\n",
    "\n",
    "* We will download the complete [Arabidopsis](https://www.arabidopsis.org/index.jsp) coding sequences.\n",
    "* We will read them all in at once.\n",
    "* We will translate them all into protein sequences.\n",
    "* We will calcualte their pi values.\n",
    "* We will do some basic plotting."
   ]
  },
  {
   "cell_type": "markdown",
   "metadata": {},
   "source": [
    "#### Let's download sequences from [here](https://www.arabidopsis.org/download/index-auto.jsp?dir=%2Fdownload_files%2FGenes%2FAraport11_genome_release%2FAraport11_blastsets)"
   ]
  },
  {
   "cell_type": "code",
   "execution_count": null,
   "metadata": {},
   "outputs": [],
   "source": [
    "!wget https://www.arabidopsis.org/download_files/Genes/Araport11_genome_release/Araport11_blastsets/Araport11_genes.201606.cds.fasta.gz"
   ]
  },
  {
   "cell_type": "code",
   "execution_count": null,
   "metadata": {},
   "outputs": [],
   "source": [
    "!gunzip Araport11_genes.201606.cds.fasta.gz"
   ]
  },
  {
   "cell_type": "code",
   "execution_count": null,
   "metadata": {},
   "outputs": [],
   "source": [
    "!head Araport11_genes.201606.cds.fasta"
   ]
  },
  {
   "cell_type": "markdown",
   "metadata": {},
   "source": [
    "#### Let's load a tool set from the Biopython toolkit starting with [SeqIO](https://biopython.org/wiki/SeqRecord)\n",
    "\n",
    "We will use this to store all CDS sequences into a list and to explore the sequence object abit more."
   ]
  },
  {
   "cell_type": "code",
   "execution_count": 2,
   "metadata": {},
   "outputs": [],
   "source": [
    "from Bio import SeqIO"
   ]
  },
  {
   "cell_type": "code",
   "execution_count": 3,
   "metadata": {},
   "outputs": [],
   "source": [
    "?SeqIO"
   ]
  },
  {
   "cell_type": "code",
   "execution_count": 5,
   "metadata": {},
   "outputs": [],
   "source": [
    "filename = 'Araport11_genes.201606.cds.fasta'"
   ]
  },
  {
   "cell_type": "code",
   "execution_count": 6,
   "metadata": {},
   "outputs": [
    {
     "ename": "FileNotFoundError",
     "evalue": "[Errno 2] No such file or directory: 'Araport11_genes.201606.cds.fasta'",
     "output_type": "error",
     "traceback": [
      "\u001b[1;31m---------------------------------------------------------------------------\u001b[0m",
      "\u001b[1;31mFileNotFoundError\u001b[0m                         Traceback (most recent call last)",
      "Cell \u001b[1;32mIn[6], line 2\u001b[0m\n\u001b[0;32m      1\u001b[0m arabidopsis_cds \u001b[38;5;241m=\u001b[39m []\n\u001b[1;32m----> 2\u001b[0m \u001b[38;5;28;01mfor\u001b[39;00m seq \u001b[38;5;129;01min\u001b[39;00m SeqIO\u001b[38;5;241m.\u001b[39mparse(filename, \u001b[38;5;124m'\u001b[39m\u001b[38;5;124mfasta\u001b[39m\u001b[38;5;124m'\u001b[39m):\n\u001b[0;32m      3\u001b[0m     arabidopsis_cds\u001b[38;5;241m.\u001b[39mappend(seq)\n",
      "File \u001b[1;32m~\\AppData\\Local\\anaconda3\\envs\\python\\Lib\\site-packages\\Bio\\SeqIO\\__init__.py:607\u001b[0m, in \u001b[0;36mparse\u001b[1;34m(handle, format, alphabet)\u001b[0m\n\u001b[0;32m    605\u001b[0m iterator_generator \u001b[38;5;241m=\u001b[39m _FormatToIterator\u001b[38;5;241m.\u001b[39mget(\u001b[38;5;28mformat\u001b[39m)\n\u001b[0;32m    606\u001b[0m \u001b[38;5;28;01mif\u001b[39;00m iterator_generator:\n\u001b[1;32m--> 607\u001b[0m     \u001b[38;5;28;01mreturn\u001b[39;00m iterator_generator(handle)\n\u001b[0;32m    608\u001b[0m \u001b[38;5;28;01mif\u001b[39;00m \u001b[38;5;28mformat\u001b[39m \u001b[38;5;129;01min\u001b[39;00m AlignIO\u001b[38;5;241m.\u001b[39m_FormatToIterator:\n\u001b[0;32m    609\u001b[0m     \u001b[38;5;66;03m# Use Bio.AlignIO to read in the alignments\u001b[39;00m\n\u001b[0;32m    610\u001b[0m     \u001b[38;5;28;01mreturn\u001b[39;00m (r \u001b[38;5;28;01mfor\u001b[39;00m alignment \u001b[38;5;129;01min\u001b[39;00m AlignIO\u001b[38;5;241m.\u001b[39mparse(handle, \u001b[38;5;28mformat\u001b[39m) \u001b[38;5;28;01mfor\u001b[39;00m r \u001b[38;5;129;01min\u001b[39;00m alignment)\n",
      "File \u001b[1;32m~\\AppData\\Local\\anaconda3\\envs\\python\\Lib\\site-packages\\Bio\\SeqIO\\FastaIO.py:183\u001b[0m, in \u001b[0;36mFastaIterator.__init__\u001b[1;34m(self, source, alphabet, title2ids)\u001b[0m\n\u001b[0;32m    181\u001b[0m     \u001b[38;5;28;01mraise\u001b[39;00m \u001b[38;5;167;01mValueError\u001b[39;00m(\u001b[38;5;124m\"\u001b[39m\u001b[38;5;124mThe alphabet argument is no longer supported\u001b[39m\u001b[38;5;124m\"\u001b[39m)\n\u001b[0;32m    182\u001b[0m \u001b[38;5;28mself\u001b[39m\u001b[38;5;241m.\u001b[39mtitle2ids \u001b[38;5;241m=\u001b[39m title2ids\n\u001b[1;32m--> 183\u001b[0m \u001b[38;5;28msuper\u001b[39m()\u001b[38;5;241m.\u001b[39m\u001b[38;5;21m__init__\u001b[39m(source, mode\u001b[38;5;241m=\u001b[39m\u001b[38;5;124m\"\u001b[39m\u001b[38;5;124mt\u001b[39m\u001b[38;5;124m\"\u001b[39m, fmt\u001b[38;5;241m=\u001b[39m\u001b[38;5;124m\"\u001b[39m\u001b[38;5;124mFasta\u001b[39m\u001b[38;5;124m\"\u001b[39m)\n",
      "File \u001b[1;32m~\\AppData\\Local\\anaconda3\\envs\\python\\Lib\\site-packages\\Bio\\SeqIO\\Interfaces.py:47\u001b[0m, in \u001b[0;36mSequenceIterator.__init__\u001b[1;34m(self, source, alphabet, mode, fmt)\u001b[0m\n\u001b[0;32m     45\u001b[0m     \u001b[38;5;28;01mraise\u001b[39;00m \u001b[38;5;167;01mValueError\u001b[39;00m(\u001b[38;5;124m\"\u001b[39m\u001b[38;5;124mThe alphabet argument is no longer supported\u001b[39m\u001b[38;5;124m\"\u001b[39m)\n\u001b[0;32m     46\u001b[0m \u001b[38;5;28;01mtry\u001b[39;00m:\n\u001b[1;32m---> 47\u001b[0m     \u001b[38;5;28mself\u001b[39m\u001b[38;5;241m.\u001b[39mstream \u001b[38;5;241m=\u001b[39m \u001b[38;5;28mopen\u001b[39m(source, \u001b[38;5;124m\"\u001b[39m\u001b[38;5;124mr\u001b[39m\u001b[38;5;124m\"\u001b[39m \u001b[38;5;241m+\u001b[39m mode)\n\u001b[0;32m     48\u001b[0m     \u001b[38;5;28mself\u001b[39m\u001b[38;5;241m.\u001b[39mshould_close_stream \u001b[38;5;241m=\u001b[39m \u001b[38;5;28;01mTrue\u001b[39;00m\n\u001b[0;32m     49\u001b[0m \u001b[38;5;28;01mexcept\u001b[39;00m \u001b[38;5;167;01mTypeError\u001b[39;00m:  \u001b[38;5;66;03m# not a path, assume we received a stream\u001b[39;00m\n",
      "\u001b[1;31mFileNotFoundError\u001b[0m: [Errno 2] No such file or directory: 'Araport11_genes.201606.cds.fasta'"
     ]
    }
   ],
   "source": [
    "arabidopsis_cds = []\n",
    "for seq in SeqIO.parse(filename, 'fasta'):\n",
    "    arabidopsis_cds.append(seq)"
   ]
  },
  {
   "cell_type": "code",
   "execution_count": null,
   "metadata": {},
   "outputs": [],
   "source": [
    "arabidopsis_cds"
   ]
  },
  {
   "cell_type": "markdown",
   "metadata": {},
   "source": [
    "### Exercise II\n",
    "\n",
    "* Store the 3 sequence in a variable with the name third_cds"
   ]
  },
  {
   "cell_type": "code",
   "execution_count": null,
   "metadata": {},
   "outputs": [],
   "source": [
    "third_cds = arabidopsis_cds[2]"
   ]
  },
  {
   "cell_type": "code",
   "execution_count": null,
   "metadata": {},
   "outputs": [],
   "source": [
    "third_cds"
   ]
  },
  {
   "cell_type": "markdown",
   "metadata": {},
   "source": [
    "### ...it's like a sequence dog....\n",
    "\n",
    "A SeqRecord has several attributes such as\n",
    "\n",
    "* a sequence -> access with .seq\n",
    "* an id -> access with .id\n",
    "* a name -> access with .name\n",
    "* a description -> access with .description\n",
    "\n",
    "... and many more as described here [SeqRecord](https://biopython.org/wiki/SeqRecord)"
   ]
  },
  {
   "cell_type": "code",
   "execution_count": null,
   "metadata": {},
   "outputs": [],
   "source": [
    "third_cds"
   ]
  },
  {
   "cell_type": "code",
   "execution_count": null,
   "metadata": {},
   "outputs": [],
   "source": [
    "print(third_cds)"
   ]
  },
  {
   "cell_type": "code",
   "execution_count": null,
   "metadata": {},
   "outputs": [],
   "source": [
    "dir(third_cds)"
   ]
  },
  {
   "cell_type": "markdown",
   "metadata": {},
   "source": [
    "### Let's access the different 'characteristics' (called attributes) of our SeqRecord"
   ]
  },
  {
   "cell_type": "code",
   "execution_count": null,
   "metadata": {},
   "outputs": [],
   "source": [
    "###the sequence\n",
    "third_cds.seq"
   ]
  },
  {
   "cell_type": "code",
   "execution_count": null,
   "metadata": {},
   "outputs": [],
   "source": [
    "print(third_cds.seq)"
   ]
  },
  {
   "cell_type": "code",
   "execution_count": null,
   "metadata": {},
   "outputs": [],
   "source": [
    "###the id\n",
    "third_cds.id"
   ]
  },
  {
   "cell_type": "code",
   "execution_count": null,
   "metadata": {},
   "outputs": [],
   "source": [
    "###the description\n",
    "third_cds.description"
   ]
  },
  {
   "cell_type": "code",
   "execution_count": null,
   "metadata": {},
   "outputs": [],
   "source": [
    "####reverse complement\n",
    "third_cds.reverse_complement()"
   ]
  },
  {
   "cell_type": "markdown",
   "metadata": {},
   "source": [
    "...it's like a sequnce dog..."
   ]
  },
  {
   "cell_type": "markdown",
   "metadata": {},
   "source": [
    "### Exercise III\n",
    "\n",
    "* How long is the sequence of the third_cds"
   ]
  },
  {
   "cell_type": "code",
   "execution_count": null,
   "metadata": {},
   "outputs": [],
   "source": [
    "print('The lengths of the third cds is ', len(third_cds.seq), '.', sep='')"
   ]
  },
  {
   "cell_type": "markdown",
   "metadata": {},
   "source": [
    "### Exercise  IV\n",
    "\n",
    "* now let's make a length dictionary stores the length of all CDS in a dictionary.\n",
    "* The keys of the dictionary will be the sequence ids and the vaules the lengths.\n",
    "* BONUS. Print the name of the longest cds sequence."
   ]
  },
  {
   "cell_type": "code",
   "execution_count": null,
   "metadata": {},
   "outputs": [],
   "source": [
    "###Faded example\n",
    "cds_length_dict = {}\n",
    "for seq in arabidopsis_cds:\n",
    "    cds_length_dict[seq.id] = len(seq.seq)"
   ]
  },
  {
   "cell_type": "code",
   "execution_count": null,
   "metadata": {},
   "outputs": [],
   "source": [
    "max_length = max(cds_length_dict.values())"
   ]
  },
  {
   "cell_type": "code",
   "execution_count": null,
   "metadata": {},
   "outputs": [],
   "source": [
    "for _id, length in cds_length_dict.items():\n",
    "    if length == max_length:\n",
    "        print(\"This is one of the longest Arabidopsis CDS sequences:\", _id)\n",
    "        print(\"It is this many bases long:\", length)"
   ]
  },
  {
   "cell_type": "markdown",
   "metadata": {},
   "source": [
    "### Exercise  V\n",
    "\n",
    "* now let's make a list that stores the length of all CDS in order (sic!).\n"
   ]
  },
  {
   "cell_type": "code",
   "execution_count": null,
   "metadata": {},
   "outputs": [],
   "source": [
    "###Let's make a cds lenght list as well for later.\n",
    "###Faded example\n",
    "cds_length = []\n",
    "for seq in arabidopsis_cds:\n",
    "    cds_length.append(len(seq.seq))"
   ]
  },
  {
   "cell_type": "markdown",
   "metadata": {},
   "source": [
    "### Let's translate all the sequences and store them as protein sequences\n",
    "\n",
    "We will use the [Seq](https://biopython.org/wiki/Seq) and [SeqRecord](https://biopython.org/wiki/SeqRecord) objects as a container to store these protein sequences.\n",
    "\n",
    "...it's like a protein sequence dog..."
   ]
  },
  {
   "cell_type": "code",
   "execution_count": null,
   "metadata": {},
   "outputs": [],
   "source": [
    "from Bio import SeqRecord, Seq"
   ]
  },
  {
   "cell_type": "code",
   "execution_count": null,
   "metadata": {},
   "outputs": [],
   "source": [
    "third_cds.seq"
   ]
  },
  {
   "cell_type": "markdown",
   "metadata": {},
   "source": [
    "Because we know that the third_cds sequence is a DNA sequence we know we can translate it."
   ]
  },
  {
   "cell_type": "code",
   "execution_count": null,
   "metadata": {},
   "outputs": [],
   "source": [
    "####translate\n",
    "third_cds.seq.translate()"
   ]
  },
  {
   "cell_type": "code",
   "execution_count": null,
   "metadata": {},
   "outputs": [],
   "source": [
    "###let's make a protein record for the third cds\n",
    "third_protein = SeqRecord.SeqRecord(seq=third_cds.seq.translate())"
   ]
  },
  {
   "cell_type": "code",
   "execution_count": null,
   "metadata": {},
   "outputs": [],
   "source": [
    "print(third_protein)"
   ]
  },
  {
   "cell_type": "code",
   "execution_count": null,
   "metadata": {},
   "outputs": [],
   "source": [
    "third_protein.id = third_cds.id\n",
    "third_protein.name = third_cds.name\n",
    "third_protein.description = third_cds.description"
   ]
  },
  {
   "cell_type": "code",
   "execution_count": null,
   "metadata": {},
   "outputs": [],
   "source": [
    "print(third_protein)"
   ]
  },
  {
   "cell_type": "markdown",
   "metadata": {},
   "source": [
    "### Exercise IV\n",
    "\n",
    "Let's make a list of all Arabidopsis protein sequences"
   ]
  },
  {
   "cell_type": "code",
   "execution_count": null,
   "metadata": {},
   "outputs": [],
   "source": [
    "#### Faded example\n",
    "arabidopsis_proteins = []\n",
    "protein_length = []\n",
    "\n",
    "for cds in arabidopsis_cds:\n",
    "    tmp_protein = SeqRecord.SeqRecord(cds.seq.translate())\n",
    "    tmp_protein.id = cds.id\n",
    "    tmp_protein.name = cds.name\n",
    "    tmp_protein.description = cds.description\n",
    "    arabidopsis_proteins.append(tmp_protein)\n",
    "    protein_length.append(len(tmp_protein.seq))"
   ]
  },
  {
   "cell_type": "code",
   "execution_count": null,
   "metadata": {},
   "outputs": [],
   "source": [
    "###Quick checks are good\n",
    "len(arabidopsis_proteins) == len(arabidopsis_cds)"
   ]
  },
  {
   "cell_type": "markdown",
   "metadata": {},
   "source": [
    "### Let's see if there is a correlation between \n",
    "\n",
    "Some people find python plotting a bit awkward and it is still good to know the basics.\n",
    "\n",
    "The basic python plotting is [Matplotlib](https://matplotlib.org/) and [Seaborn](https://seaborn.pydata.org/). More advanced for interactive figures and such is [Altair](https://altair-viz.github.io/) which is up and coming."
   ]
  },
  {
   "cell_type": "markdown",
   "metadata": {},
   "source": [
    "For now some starting plots in matplotlib"
   ]
  },
  {
   "cell_type": "code",
   "execution_count": null,
   "metadata": {},
   "outputs": [],
   "source": [
    "import matplotlib.pyplot as plt"
   ]
  },
  {
   "cell_type": "code",
   "execution_count": null,
   "metadata": {},
   "outputs": [],
   "source": [
    "?plt.scatter"
   ]
  },
  {
   "cell_type": "code",
   "execution_count": null,
   "metadata": {},
   "outputs": [],
   "source": [
    "plt.scatter(protein_length, cds_length)"
   ]
  },
  {
   "cell_type": "code",
   "execution_count": null,
   "metadata": {},
   "outputs": [],
   "source": [
    "plt.scatter(protein_length, cds_length)\n",
    "plt.ylabel('CDS Length [bp]')\n",
    "plt.xlabel('Protein Length [aa]')"
   ]
  },
  {
   "cell_type": "code",
   "execution_count": null,
   "metadata": {},
   "outputs": [],
   "source": [
    "plt.hist(protein_length)"
   ]
  },
  {
   "cell_type": "code",
   "execution_count": null,
   "metadata": {},
   "outputs": [],
   "source": [
    "plt.hist(protein_length, bins=500)"
   ]
  },
  {
   "cell_type": "markdown",
   "metadata": {},
   "source": [
    "### Let's caclulate the [Isoelectric Point](https://en.wikipedia.org/wiki/Isoelectric_point) for all proteins \n",
    "\n",
    "The isoelectric point is the pH at which a peptide sequence has no charge.\n",
    "\n",
    "We will makes use of the [SeqUtils](https://biopython.org/DIST/docs/api/Bio.SeqUtils-module.html) using a specific dog idea (aka Class) called [IsoelectricPoint](https://biopython.org/DIST/docs/api/Bio.SeqUtils.IsoelectricPoint.IsoelectricPoint-class.html) to make these computations easier."
   ]
  },
  {
   "cell_type": "code",
   "execution_count": null,
   "metadata": {},
   "outputs": [],
   "source": [
    "from Bio.SeqUtils import IsoelectricPoint as IP"
   ]
  },
  {
   "cell_type": "code",
   "execution_count": null,
   "metadata": {},
   "outputs": [],
   "source": [
    "?IP"
   ]
  },
  {
   "cell_type": "code",
   "execution_count": null,
   "metadata": {},
   "outputs": [],
   "source": [
    "#### third_protein\n",
    "third_protein.seq"
   ]
  },
  {
   "cell_type": "code",
   "execution_count": null,
   "metadata": {},
   "outputs": [],
   "source": [
    "protein = IP.IsoelectricPoint(third_protein.seq)"
   ]
  },
  {
   "cell_type": "code",
   "execution_count": null,
   "metadata": {},
   "outputs": [],
   "source": []
  },
  {
   "cell_type": "markdown",
   "metadata": {},
   "source": [
    "...it's like a sequnce dog..."
   ]
  },
  {
   "cell_type": "code",
   "execution_count": null,
   "metadata": {},
   "outputs": [],
   "source": [
    "###calculate the pi\n",
    "protein.pi()"
   ]
  },
  {
   "cell_type": "code",
   "execution_count": null,
   "metadata": {},
   "outputs": [],
   "source": [
    "####calculate the charge at a certain \n",
    "protein.charge_at_pH(10)"
   ]
  },
  {
   "cell_type": "markdown",
   "metadata": {},
   "source": [
    "### Exercise VII\n",
    "\n",
    "* Let's make a list of all the pi values of all proteins.\n",
    "* Plot the pi distribution of all proteins in Arabidopsis.\n",
    "* Explain the observed distribution"
   ]
  },
  {
   "cell_type": "code",
   "execution_count": null,
   "metadata": {},
   "outputs": [],
   "source": [
    "#### Faded example\n",
    "protein_pi_values = []\n",
    "for protein in arabidopsis_proteins:\n",
    "    tmp_protein = IP.IsoelectricPoint(protein.seq)\n",
    "    tmp_protein_pi = tmp_protein.pi()\n",
    "    protein_pi_values.append(tmp_protein_pi)"
   ]
  },
  {
   "cell_type": "code",
   "execution_count": null,
   "metadata": {},
   "outputs": [],
   "source": [
    "#### Plot the distribution of pi values of all arabidopsis proteins\n",
    "plt.hist(protein_pi_values, bins = 100)\n",
    "plt.xlabel('pi [pH]')"
   ]
  },
  {
   "cell_type": "markdown",
   "metadata": {},
   "source": [
    "### Exercise VIII\n",
    "\n",
    "* look at the relationship between protein length and pI values\n",
    "\n"
   ]
  },
  {
   "cell_type": "code",
   "execution_count": null,
   "metadata": {},
   "outputs": [],
   "source": [
    "plt.scatter(protein_length, protein_pi_values, alpha=0.2)"
   ]
  },
  {
   "cell_type": "markdown",
   "metadata": {},
   "source": [
    "The problem here is that too many points are overlapping and we would need to do some summary statistics while plotting."
   ]
  },
  {
   "cell_type": "markdown",
   "metadata": {},
   "source": [
    "### Seaborn to the rescue!\n",
    "\n",
    "Let's do some density plots looking at both [distributions](https://seaborn.pydata.org/tutorial/distributions.html) at once."
   ]
  },
  {
   "cell_type": "code",
   "execution_count": null,
   "metadata": {},
   "outputs": [],
   "source": [
    "import seaborn as sns"
   ]
  },
  {
   "cell_type": "code",
   "execution_count": null,
   "metadata": {},
   "outputs": [],
   "source": [
    "sns.kdeplot(protein_length, protein_pi_values)"
   ]
  },
  {
   "cell_type": "code",
   "execution_count": null,
   "metadata": {},
   "outputs": [],
   "source": [
    "sns.jointplot(protein_length, protein_pi_values, kind='hex', color = 'g')"
   ]
  },
  {
   "cell_type": "code",
   "execution_count": null,
   "metadata": {},
   "outputs": [],
   "source": []
  }
 ],
 "metadata": {
  "kernelspec": {
   "display_name": "Python 3 (ipykernel)",
   "language": "python",
   "name": "python3"
  },
  "language_info": {
   "codemirror_mode": {
    "name": "ipython",
    "version": 3
   },
   "file_extension": ".py",
   "mimetype": "text/x-python",
   "name": "python",
   "nbconvert_exporter": "python",
   "pygments_lexer": "ipython3",
   "version": "3.10.9"
  }
 },
 "nbformat": 4,
 "nbformat_minor": 4
}
