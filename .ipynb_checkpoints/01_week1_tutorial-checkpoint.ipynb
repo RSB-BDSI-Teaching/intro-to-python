{
 "cells": [
  {
   "cell_type": "markdown",
   "metadata": {},
   "source": [
    "# Week 1 Tutorial - Data Types, Data Structures, and Basic Operations\n",
    "\n",
    "For the first class, we will cover the following topics:\n",
    "\n",
    "1. Python Programming in Biology \n",
    "2. Using Jupyter Notebook\n",
    "3. Data Types and Basic Operations \n",
    "    * Integers, floating-point numbers, and arithmetic operations\n",
    "    * Strings and string operations\n",
    "    * Comparison operations\n",
    "    * Booleans and logical operations \n",
    "    * Lists, tuples, dictionaries, and sets \n",
    "    * Indexing and slicing of sequence data types \n",
    "    * Subscriptable, mutable, and iterable data types \n",
    "6. Output and Input \n",
    "    * print()\n",
    "    * input()"
   ]
  },
  {
   "cell_type": "markdown",
   "metadata": {},
   "source": [
    "## Python Programming in Biology\n",
    "\n",
    "Python is a versatile and widely used programming language, it can be used in a wide range of applications in biology research. Some of the common uses of Python in biology research include:\n",
    "\n",
    "\n",
    "__NEED TO WRITE MORE OF THIS !!!__\n"
   ]
  },
  {
   "cell_type": "markdown",
   "metadata": {},
   "source": [
    "## Using Jupyter Notebook \n",
    "\n",
    "__About Jupyter Notebook:__\n",
    "\n",
    "Jupyter Notebook is an open-source web-based interactive computing environment that allows you to create, run, and share live code, equations, visualizations, and narrative text in a single document. It supports multiple programming languages, including Python, R, Julia, and many others. Jupyter Notebook is commonly used in data science, machine learning, scientific computing, and other domains for interactive data analysis, visualization, and exploration.\n",
    "\n",
    "Jupyter Notebook provides a browser-based interface where you can create \"notebooks\" that contain code cells, text cells, and other types of cells. Code cells allow you to write and execute code directly in the notebook, while text cells allow you to write narrative text, equations, and markdown for documentation and explanations. This combination of code and text cells makes Jupyter Notebook an excellent tool for creating reproducible research, documenting data analysis workflows, and sharing interactive notebooks with others.\n",
    "\n",
    "__Run your first code:__\n",
    "\n",
    "Put the cursor in the box below and click the \"run\" button (or press `shift+enter` on your keyboard) to see the result."
   ]
  },
  {
   "cell_type": "code",
   "execution_count": 6,
   "metadata": {},
   "outputs": [
    {
     "name": "stdout",
     "output_type": "stream",
     "text": [
      "Hello, world.\n"
     ]
    }
   ],
   "source": [
    "print(\"Hello, world.\")"
   ]
  },
  {
   "cell_type": "markdown",
   "metadata": {},
   "source": [
    "The above cell is a code cell. For all code cells, you can see a `In []` displaying before the cell. \n",
    "\n",
    "__Text cells:__\n",
    "\n",
    "You can double click to edit the text cells, and click the \"Run\" button or press `shift+enter` to display the text cells properly. We're not going to cover how to write formatted texts in Jupyter Notebook in this course, our main purpose is to practise coding. \n",
    "\n",
    "__The two status of cells:__\n",
    "\n",
    "* When you're in the edit mode of a cell, the cell will show a __green__ border. You can edit the contents of the cell.\n",
    "* When you're in the command mode of a cell, the cell will show a __blue__ border. You can perform various operations on the notebook, such as adding cells , deleting cells , and changing cell types. \n",
    "\n",
    "__Shortcuts:__\n",
    "\n",
    "When you're in the edit mode:\n",
    "* Press `shift+enter` to run the cell. \n",
    "* Press `esc` to go to the command mode.\n",
    "\n",
    "When you're in the command mode:\n",
    "* Press `b` to add a new cell.\n",
    "* Press `d` twice to delete the cell.\n",
    "* Press `y` to change the cell type to code.\n",
    "* Press `m` to change the cell type to text.\n",
    "* Press `enter` to go to the edit mode.\n",
    "\n",
    "__Exercise 01: play with the above shortcuts, create some new cells, delete some existing cells, and changing between cell types.__"
   ]
  },
  {
   "cell_type": "code",
   "execution_count": null,
   "metadata": {},
   "outputs": [],
   "source": []
  },
  {
   "cell_type": "code",
   "execution_count": null,
   "metadata": {},
   "outputs": [],
   "source": []
  },
  {
   "cell_type": "markdown",
   "metadata": {},
   "source": [
    "## Data Types and Basic Operations \n",
    "### Integers\n",
    "\n",
    "In Python, integers (int) are a built-in data type that represents whole numbers without any fractional or decimal parts. Integers can be positive, negative, or zero, and can have an unlimited range of values, limited only by the available system memory.\n",
    "\n",
    "You can define an integer variable in Python by assigning a whole number to a variable name. For example:"
   ]
  },
  {
   "cell_type": "code",
   "execution_count": 4,
   "metadata": {},
   "outputs": [],
   "source": [
    "x = 5\n",
    "y = -10"
   ]
  },
  {
   "cell_type": "markdown",
   "metadata": {},
   "source": [
    "### Floating-point numbers \n",
    "\n",
    "Floating-point numbers in Python are a type of numerical data that can represent real numbers with decimal values. They are implemented as a built-in data type called \"float\" in Python and are used for performing arithmetic operations with real numbers that require precision beyond what can be achieved with integers.\n",
    "\n",
    "In Python, you can create a floating-point number by simply including a decimal point in a numeric value. For example:"
   ]
  },
  {
   "cell_type": "code",
   "execution_count": 7,
   "metadata": {},
   "outputs": [],
   "source": [
    "a = 3.14 \n",
    "b = 2.0 "
   ]
  },
  {
   "cell_type": "markdown",
   "metadata": {},
   "source": [
    "### Arithmetic operations \n",
    "\n",
    "Arithmetic operations can be performed on integers and floating-point numbers in Python using the standard arithmetic operators.\n",
    "\n",
    "When perform on integers:"
   ]
  },
  {
   "cell_type": "code",
   "execution_count": 14,
   "metadata": {
    "scrolled": true
   },
   "outputs": [
    {
     "data": {
      "text/plain": [
       "-5"
      ]
     },
     "execution_count": 14,
     "metadata": {},
     "output_type": "execute_result"
    }
   ],
   "source": [
    "# addition \n",
    "x + y"
   ]
  },
  {
   "cell_type": "code",
   "execution_count": 15,
   "metadata": {},
   "outputs": [
    {
     "data": {
      "text/plain": [
       "15"
      ]
     },
     "execution_count": 15,
     "metadata": {},
     "output_type": "execute_result"
    }
   ],
   "source": [
    "# substraction \n",
    "x - y"
   ]
  },
  {
   "cell_type": "code",
   "execution_count": 16,
   "metadata": {},
   "outputs": [
    {
     "data": {
      "text/plain": [
       "-50"
      ]
     },
     "execution_count": 16,
     "metadata": {},
     "output_type": "execute_result"
    }
   ],
   "source": [
    "# multiplication\n",
    "x * y"
   ]
  },
  {
   "cell_type": "code",
   "execution_count": 17,
   "metadata": {
    "scrolled": true
   },
   "outputs": [
    {
     "data": {
      "text/plain": [
       "-0.5"
      ]
     },
     "execution_count": 17,
     "metadata": {},
     "output_type": "execute_result"
    }
   ],
   "source": [
    "# division \n",
    "x / y"
   ]
  },
  {
   "cell_type": "code",
   "execution_count": 18,
   "metadata": {},
   "outputs": [
    {
     "data": {
      "text/plain": [
       "1.024e-07"
      ]
     },
     "execution_count": 18,
     "metadata": {},
     "output_type": "execute_result"
    }
   ],
   "source": [
    "# exponentiation\n",
    "x ** y"
   ]
  },
  {
   "cell_type": "markdown",
   "metadata": {},
   "source": [
    "__HERE TO CONTINUE !!!__"
   ]
  },
  {
   "cell_type": "code",
   "execution_count": null,
   "metadata": {},
   "outputs": [],
   "source": [
    "\n",
    "x ** y\n",
    "x % y\n",
    "x // y"
   ]
  },
  {
   "cell_type": "code",
   "execution_count": 8,
   "metadata": {
    "scrolled": true
   },
   "outputs": [
    {
     "name": "stdout",
     "output_type": "stream",
     "text": [
      "5.140000000000001\n",
      "1.1400000000000001\n",
      "6.28\n",
      "1.57\n",
      "9.8596\n"
     ]
    }
   ],
   "source": [
    "# Addition\n",
    "sum = a + b\n",
    "print(sum)  # Output: 5.14\n",
    "\n",
    "# Subtraction\n",
    "difference = a - b\n",
    "print(difference)  # Output: 1.14\n",
    "\n",
    "# Multiplication\n",
    "product = a * b\n",
    "print(product)  # Output: 6.28\n",
    "\n",
    "# Division\n",
    "quotient = a / b\n",
    "print(quotient)  # Output: 1.57\n",
    "\n",
    "# Exponentiation\n",
    "power = a ** b\n",
    "print(power)  # Output: 9.8596"
   ]
  },
  {
   "cell_type": "code",
   "execution_count": 9,
   "metadata": {},
   "outputs": [
    {
     "data": {
      "text/plain": [
       "5.140000000000001"
      ]
     },
     "execution_count": 9,
     "metadata": {},
     "output_type": "execute_result"
    }
   ],
   "source": [
    "a + b"
   ]
  },
  {
   "cell_type": "code",
   "execution_count": null,
   "metadata": {},
   "outputs": [],
   "source": [
    "3+4-5.25"
   ]
  },
  {
   "cell_type": "code",
   "execution_count": null,
   "metadata": {},
   "outputs": [],
   "source": []
  },
  {
   "cell_type": "markdown",
   "metadata": {},
   "source": [
    "\\* for multiply, / for divide"
   ]
  },
  {
   "cell_type": "code",
   "execution_count": null,
   "metadata": {},
   "outputs": [],
   "source": [
    "7/2*5"
   ]
  },
  {
   "cell_type": "markdown",
   "metadata": {},
   "source": [
    "\\*\\* for exponentiation (raise to power)"
   ]
  },
  {
   "cell_type": "code",
   "execution_count": null,
   "metadata": {},
   "outputs": [],
   "source": [
    "2**5"
   ]
  },
  {
   "cell_type": "markdown",
   "metadata": {},
   "source": [
    "Try a few arithmetic expressions of your own below. You can add more cell by clicking on the \"+\" button or by pressing \"Escape\", followed by \"b\". \n",
    "\n",
    "When you are typing in the cell, the cell is green. When you press \"escape\", the cell turns blue, in this status, you can use shortcuts to add or delete cells and change cell types. "
   ]
  },
  {
   "cell_type": "code",
   "execution_count": null,
   "metadata": {},
   "outputs": [],
   "source": []
  },
  {
   "cell_type": "markdown",
   "metadata": {},
   "source": [
    "There are two types of numbers: **integers (whole numbers)** and **floating point numbers** (with a fractional part).\n",
    "\n",
    "- 1, 10 and 42 are integers\n",
    "- 1.02, 3.14 and 10.0 are floating point numbers\n",
    "\n",
    "Try multiplying two integer numbers together, and then a integer with a floating number. In each case notice the type of the result."
   ]
  },
  {
   "cell_type": "code",
   "execution_count": null,
   "metadata": {},
   "outputs": [],
   "source": [
    "2*1.5"
   ]
  },
  {
   "cell_type": "code",
   "execution_count": null,
   "metadata": {},
   "outputs": [],
   "source": [
    "2*4"
   ]
  },
  {
   "cell_type": "markdown",
   "metadata": {},
   "source": [
    "Multiplication and division have higher precedence than addition and substraction (they happens before addition & substraction)."
   ]
  },
  {
   "cell_type": "code",
   "execution_count": null,
   "metadata": {},
   "outputs": [],
   "source": [
    "2+3*5"
   ]
  },
  {
   "cell_type": "markdown",
   "metadata": {},
   "source": [
    "Maybe this isn't what you meant. You can use parentheses to give priority to specific operations."
   ]
  },
  {
   "cell_type": "code",
   "execution_count": null,
   "metadata": {},
   "outputs": [],
   "source": [
    "(2+3)*5"
   ]
  },
  {
   "cell_type": "markdown",
   "metadata": {},
   "source": [
    "Parentheses in expressions are not always necessary, but they can make expressions clearer.\n"
   ]
  },
  {
   "cell_type": "markdown",
   "metadata": {},
   "source": [
    "### **Python 3** has some special operators that get integer results. \n",
    "\n",
    "- `//` is integer divide (throw the fractional part away).\n",
    "\n",
    "- `%` is the modulo operator ... it finds the remainder, this will come in handy for codons later on in the course (think codons and dividing by 3)\n",
    "\n",
    "- `divmod()` finds both the quotient and the remainder as a pair of values."
   ]
  },
  {
   "cell_type": "markdown",
   "metadata": {},
   "source": [
    "For example this expression asks how many times does three fit into 7, throw away the remainder"
   ]
  },
  {
   "cell_type": "code",
   "execution_count": null,
   "metadata": {},
   "outputs": [],
   "source": [
    "7//3"
   ]
  },
  {
   "cell_type": "markdown",
   "metadata": {},
   "source": [
    "This expression ask ONLY for the remainder"
   ]
  },
  {
   "cell_type": "code",
   "execution_count": null,
   "metadata": {},
   "outputs": [],
   "source": [
    "9%2"
   ]
  },
  {
   "cell_type": "markdown",
   "metadata": {},
   "source": [
    "This expression gets both the quotient and the remainder"
   ]
  },
  {
   "cell_type": "code",
   "execution_count": null,
   "metadata": {},
   "outputs": [],
   "source": [
    "divmod(9, 2)"
   ]
  },
  {
   "cell_type": "markdown",
   "metadata": {},
   "source": [
    "You may be thinking, I am never going to use these functions, however...for DNA we often care about multiples of three..."
   ]
  },
  {
   "cell_type": "code",
   "execution_count": null,
   "metadata": {},
   "outputs": [],
   "source": [
    "divmod(1464, 3)"
   ]
  },
  {
   "cell_type": "markdown",
   "metadata": {},
   "source": [
    "### String expressions\n",
    "\n",
    "Computing isn't all about numbers. A \"value\" can be a string of characters. And some of Python's operators can be used to create new strings from old ones.\n",
    "\n",
    "Here are some examples of string expressions."
   ]
  },
  {
   "cell_type": "code",
   "execution_count": null,
   "metadata": {},
   "outputs": [],
   "source": [
    "\"abc\"+\"def\""
   ]
  },
  {
   "cell_type": "code",
   "execution_count": null,
   "metadata": {},
   "outputs": [],
   "source": [
    "\"abc\"*5"
   ]
  },
  {
   "cell_type": "markdown",
   "metadata": {},
   "source": [
    "Clearly, you can multiply a string by a number.\n",
    "\n",
    "What happens if you try to add a number to a string? Try it for yourself in the cell below."
   ]
  },
  {
   "cell_type": "code",
   "execution_count": null,
   "metadata": {},
   "outputs": [],
   "source": [
    "\"abc\"+5"
   ]
  },
  {
   "cell_type": "markdown",
   "metadata": {},
   "source": [
    "So, the \"+\" operator can only concatenate string with string. "
   ]
  },
  {
   "cell_type": "markdown",
   "metadata": {},
   "source": [
    "A string can start with either a single or a double quote ... but each string must end with same character as it started with. "
   ]
  },
  {
   "cell_type": "code",
   "execution_count": null,
   "metadata": {},
   "outputs": [],
   "source": [
    "'abc'"
   ]
  },
  {
   "cell_type": "code",
   "execution_count": null,
   "metadata": {},
   "outputs": [],
   "source": [
    "\"abc\" + 'def'"
   ]
  },
  {
   "cell_type": "markdown",
   "metadata": {},
   "source": [
    "This can be handy if you need a string like this ..."
   ]
  },
  {
   "cell_type": "code",
   "execution_count": null,
   "metadata": {},
   "outputs": [],
   "source": [
    "\"Fred's thingy.\""
   ]
  },
  {
   "cell_type": "markdown",
   "metadata": {},
   "source": [
    "There is a way to include both types of quotes in a string. The back-slash character sort-of hides the end-of-string meaning of quotes within a string."
   ]
  },
  {
   "cell_type": "code",
   "execution_count": null,
   "metadata": {},
   "outputs": [],
   "source": [
    "\"Fred's \\\"thingy\\\" (in double quotes)\""
   ]
  },
  {
   "cell_type": "markdown",
   "metadata": {},
   "source": [
    "There are also some special characters ... like the newline character (\\n) ... that you can put into a string."
   ]
  },
  {
   "cell_type": "code",
   "execution_count": null,
   "metadata": {},
   "outputs": [],
   "source": [
    "\"Line 1.\\nLine 2.\""
   ]
  },
  {
   "cell_type": "markdown",
   "metadata": {},
   "source": [
    "We can also represent tabs in this format"
   ]
  },
  {
   "cell_type": "code",
   "execution_count": null,
   "metadata": {},
   "outputs": [],
   "source": [
    "\"Column_1.\\tColumn_2.\""
   ]
  },
  {
   "cell_type": "markdown",
   "metadata": {},
   "source": [
    "... which doesn't show up properly here, but it will later when we talk about the BUILT-IN functions in Python"
   ]
  },
  {
   "cell_type": "markdown",
   "metadata": {},
   "source": [
    "## Some more special values\n",
    "\n",
    "Python has a few other special values: True, False and None.\n",
    "\n",
    "None is just an \"empty\" value. There's not much about it.\n",
    "\n",
    "**True and False are called Booleans.**\n",
    "\n",
    "There are some *relational opeators* that give either True or False as a result. These include:\n",
    "- less than: **<**\n",
    "- greater than: **>**\n",
    "- equal: **==**\n",
    "- not equal: **!=**\n",
    "- less than or equal: **<=**\n",
    "- greater than or equal: **>=**\n",
    "\n",
    "Check the results of all the following expressions. Do they all make sense to you?"
   ]
  },
  {
   "cell_type": "code",
   "execution_count": null,
   "metadata": {},
   "outputs": [],
   "source": [
    "2>3"
   ]
  },
  {
   "cell_type": "code",
   "execution_count": null,
   "metadata": {},
   "outputs": [],
   "source": [
    "3+2>=5"
   ]
  },
  {
   "cell_type": "code",
   "execution_count": null,
   "metadata": {},
   "outputs": [],
   "source": [
    "None"
   ]
  },
  {
   "cell_type": "code",
   "execution_count": null,
   "metadata": {},
   "outputs": [],
   "source": [
    "'abc'==\"abc\""
   ]
  },
  {
   "cell_type": "code",
   "execution_count": null,
   "metadata": {},
   "outputs": [],
   "source": [
    "not False"
   ]
  },
  {
   "cell_type": "code",
   "execution_count": null,
   "metadata": {},
   "outputs": [],
   "source": [
    "not not True"
   ]
  },
  {
   "cell_type": "code",
   "execution_count": null,
   "metadata": {},
   "outputs": [],
   "source": [
    "True!=True, True==None"
   ]
  },
  {
   "cell_type": "code",
   "execution_count": null,
   "metadata": {},
   "outputs": [],
   "source": [
    "\"abc\" == 'abc'"
   ]
  },
  {
   "cell_type": "markdown",
   "metadata": {},
   "source": [
    "### Numbers vs Strings\n",
    "\n",
    "Numbers and strings are different ... even if they look the same. Python has ways to convert between the types."
   ]
  },
  {
   "cell_type": "code",
   "execution_count": null,
   "metadata": {},
   "outputs": [],
   "source": [
    "str(100+1)"
   ]
  },
  {
   "cell_type": "markdown",
   "metadata": {},
   "source": [
    "Do you remember the error you had above when adding a number to a string? Now try this:"
   ]
  },
  {
   "cell_type": "code",
   "execution_count": null,
   "metadata": {},
   "outputs": [],
   "source": [
    "\"abc\" + str(123)"
   ]
  },
  {
   "cell_type": "code",
   "execution_count": null,
   "metadata": {},
   "outputs": [],
   "source": [
    "int('27')"
   ]
  },
  {
   "cell_type": "code",
   "execution_count": null,
   "metadata": {},
   "outputs": [],
   "source": [
    "float('27.3')"
   ]
  },
  {
   "cell_type": "code",
   "execution_count": null,
   "metadata": {},
   "outputs": [],
   "source": [
    "float('27')"
   ]
  },
  {
   "cell_type": "markdown",
   "metadata": {},
   "source": [
    "Write code to convert the string \"42.0\" to an integer."
   ]
  },
  {
   "cell_type": "code",
   "execution_count": null,
   "metadata": {},
   "outputs": [],
   "source": []
  },
  {
   "cell_type": "markdown",
   "metadata": {},
   "source": [
    "### Assigning values and strings to objects (variables)\n",
    "Python is similar to bash and we use the \"=\" to assign a value to a variable which we can manipulate further"
   ]
  },
  {
   "cell_type": "code",
   "execution_count": null,
   "metadata": {},
   "outputs": [],
   "source": [
    "x=5"
   ]
  },
  {
   "cell_type": "markdown",
   "metadata": {},
   "source": [
    "Typing the object name works but we can also use the function print"
   ]
  },
  {
   "cell_type": "code",
   "execution_count": null,
   "metadata": {},
   "outputs": [],
   "source": [
    "print(x)"
   ]
  },
  {
   "cell_type": "markdown",
   "metadata": {},
   "source": [
    "Print is a powerful function because we can very easily add text to our variable."
   ]
  },
  {
   "cell_type": "code",
   "execution_count": null,
   "metadata": {},
   "outputs": [],
   "source": [
    "print(\"Gene_X is\" + x + \"basepairs long\")"
   ]
  },
  {
   "cell_type": "markdown",
   "metadata": {},
   "source": [
    "But we got an error here, why? \n",
    "\n",
    "The error message says \"can only concatenate str (not int) to str\", because our variable x is an integer. We can check the data type of our variable by using the type() function."
   ]
  },
  {
   "cell_type": "code",
   "execution_count": null,
   "metadata": {},
   "outputs": [],
   "source": [
    "type(x)"
   ]
  },
  {
   "cell_type": "markdown",
   "metadata": {},
   "source": [
    "So, do we need to transform all of our data to the same data type before using the print() funtion?\n",
    "\n",
    "No. The print() is a powerful function and it has the ability to concatenate different types of data together.\n",
    "\n",
    "To do that, write the print function in this way (where we use comma to separate each variable):"
   ]
  },
  {
   "cell_type": "code",
   "execution_count": null,
   "metadata": {
    "scrolled": true
   },
   "outputs": [],
   "source": [
    "print(\"Gene_X is\", x, \"basepairs long.\")"
   ]
  },
  {
   "cell_type": "markdown",
   "metadata": {},
   "source": [
    "### Lets get back to the **\\n** (end of line) and **\\t** (tab)  \n",
    "\n",
    "We can get these to display correctly using our fuction print().\n",
    "\n",
    "Say we want to print three things, the length of our gene (x), the number of amino acids, and a BOOLEAN TRUE/FALSE to tell us if this gene is completely in-frame"
   ]
  },
  {
   "cell_type": "code",
   "execution_count": null,
   "metadata": {},
   "outputs": [],
   "source": [
    "GeneX=\"atgatcatcgatcgtagctgggctcttag\"\n",
    "len(GeneX)"
   ]
  },
  {
   "cell_type": "code",
   "execution_count": null,
   "metadata": {},
   "outputs": [],
   "source": [
    "x=len(GeneX)"
   ]
  },
  {
   "cell_type": "code",
   "execution_count": null,
   "metadata": {},
   "outputs": [],
   "source": [
    "print(x)"
   ]
  },
  {
   "cell_type": "markdown",
   "metadata": {},
   "source": [
    "OK, now I want to calculate how many Amino Acids my gene GeneX (represented here as string) has"
   ]
  },
  {
   "cell_type": "code",
   "execution_count": null,
   "metadata": {},
   "outputs": [],
   "source": [
    "len(GeneX)/3"
   ]
  },
  {
   "cell_type": "markdown",
   "metadata": {},
   "source": [
    "Next, I want to return TRUE if my GeneX has a perfect number of bases (i.e. I am in-frame) OR return FALSE if my gene is out of frame"
   ]
  },
  {
   "cell_type": "code",
   "execution_count": null,
   "metadata": {},
   "outputs": [],
   "source": [
    "len(GeneX)%3"
   ]
  },
  {
   "cell_type": "code",
   "execution_count": null,
   "metadata": {},
   "outputs": [],
   "source": [
    "len(GeneX)%3 == 0"
   ]
  },
  {
   "cell_type": "markdown",
   "metadata": {},
   "source": [
    "Now I want to put this all together and print it to a tab delimited file. \n",
    "\n",
    "I can use my variable x which I created above OR I can just evaluate the expression inside the print() function. Python doesn't really care."
   ]
  },
  {
   "cell_type": "code",
   "execution_count": null,
   "metadata": {},
   "outputs": [],
   "source": [
    "print(\"Gene_1\\t\", x, \"\\t\", x/3, \"\\t\", len(GeneX)%3==0)"
   ]
  },
  {
   "cell_type": "code",
   "execution_count": null,
   "metadata": {},
   "outputs": [],
   "source": [
    "print(\"Gene_1\\t\", x, \"\\t\", x//3, \"\\t\", len(GeneX)%3==0)"
   ]
  },
  {
   "cell_type": "markdown",
   "metadata": {},
   "source": [
    "Essentially the Print function is a very valuable tool that allows you to output data into nice tab delmited files, or alternatively print onto a new line"
   ]
  },
  {
   "cell_type": "code",
   "execution_count": null,
   "metadata": {},
   "outputs": [],
   "source": [
    "print(\"Gene_1\\n\", len(GeneX), \"\\n\", len(GeneX)//3, \"\\n\", len(GeneX)%3==0)"
   ]
  },
  {
   "cell_type": "markdown",
   "metadata": {},
   "source": [
    "Let's make a tab delimited header and add this to our print statement above"
   ]
  },
  {
   "cell_type": "code",
   "execution_count": null,
   "metadata": {},
   "outputs": [],
   "source": [
    "header=\"Gene_name\\tLength\\tAA_length\\tInFrame\\n\"\n",
    "print(header, \"Gene_1\\t\", x, \"\\t\", x//3, \"\\t\", len(GeneX)%3==0)"
   ]
  },
  {
   "cell_type": "code",
   "execution_count": null,
   "metadata": {},
   "outputs": [],
   "source": []
  }
 ],
 "metadata": {
  "kernelspec": {
   "display_name": "Python 3 (ipykernel)",
   "language": "python",
   "name": "python3"
  },
  "language_info": {
   "codemirror_mode": {
    "name": "ipython",
    "version": 3
   },
   "file_extension": ".py",
   "mimetype": "text/x-python",
   "name": "python",
   "nbconvert_exporter": "python",
   "pygments_lexer": "ipython3",
   "version": "3.10.9"
  }
 },
 "nbformat": 4,
 "nbformat_minor": 4
}
