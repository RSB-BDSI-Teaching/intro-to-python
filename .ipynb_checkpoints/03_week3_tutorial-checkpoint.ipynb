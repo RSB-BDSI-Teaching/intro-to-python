{
 "cells": [
  {
   "cell_type": "markdown",
   "metadata": {},
   "source": [
    "# Week 3 Tutorial - Handling DNA sequences and plotting \n",
    "\n",
    "In this week, we will cover the following topics:\n",
    "\n",
    "* Python Modules\n",
    "    * What is a Python module?\n",
    "    * What is a Python library?\n",
    "    * How to use a Python module?\n",
    "* Python Classes and Objects\n",
    "    * Python classes\n",
    "    * Python objects \n",
    "* Downloading the Sequence Data\n",
    "    * Using Linux command-line in Jupyter Notebook\n",
    "    * Downloading data from the web\n",
    "    * FASTA file \n",
    "* Introduction to Biopython\n",
    "    * What is Biopython?\n",
    "    * The Seq class\n",
    "    * The SeqRecord class \n",
    "    * Load sequence data from file\n",
    "* Plotting with Matplotlib and Seaborn \n",
    "    * Parts of a figure\n",
    "    * Histogram\n",
    "    * Scatter plot"
   ]
  },
  {
   "cell_type": "markdown",
   "metadata": {},
   "source": [
    "## Python Modules\n",
    "\n",
    "### What is a Python module?\n",
    "\n",
    "In Python, a module is a file containing Python code that can be imported and used in other Python code. A module can define functions, classes, and variables that can be used in other programs. Modules provide a way to organise code into separate files, making it easier to manage and reuse code across multiple programs. \n",
    "\n",
    "Python comes with a large number of built-in modules that provide a wide range of functionality, such as file I/O, networking, math operations, and more. You can also create your own modules by writing Python code in a file with a `.py` extension and importing it into your other Python programs. \n",
    "\n",
    "### What is a Python library?\n",
    "\n",
    "A library is a collection of pre-written code that can be imported and used in a Python program. A library typically contains a set of functions, classes, or modules that provide specific functionality. \n",
    "\n",
    "### How to use a Python module?\n",
    "\n",
    "If we are using a built-in Python module, we can load the module by use the `import` command with the module name. If we are using an external Python module, we have to download the module first and then use `import` to load. \n",
    "\n",
    "A module can provide a range of functions and constants, we need to put the function name after the module name with a dot to call the function. \n",
    "\n",
    "Here's an example of importing a built-in module in Python:"
   ]
  },
  {
   "cell_type": "code",
   "execution_count": null,
   "metadata": {},
   "outputs": [],
   "source": [
    "import math\n",
    "\n",
    "print(\"Pi is\", math.pi)\n",
    "\n",
    "x = math.sin(2*math.pi)\n",
    "print(\"The sine value of 2*pi is\", x)\n",
    "\n",
    "y = math.sqrt(2) \n",
    "print(\"The square root value of 2 is\", y)"
   ]
  },
  {
   "cell_type": "markdown",
   "metadata": {},
   "source": [
    "In this example, we used the `import` command to load the \"math\" module. `math.pi` means to call the \"pi\" value that stored in the module \"math\".\n",
    "\n",
    "Then we also used `math.sin` to calculate the sine value of `2*pi` and `math.sqrt` to calculate the square root of 2.\n",
    "\n",
    "__We can also import specific functions or variables from a module.__\n",
    "\n",
    "In this way, we can only use the function name to call the function, we don't need to put the module name before. "
   ]
  },
  {
   "cell_type": "code",
   "execution_count": null,
   "metadata": {},
   "outputs": [],
   "source": [
    "from math import sin, pi\n",
    "\n",
    "print(\"Pi is\", pi)\n",
    "\n",
    "x = sin(2 * pi)\n",
    "print(\"The sine value of 2*Pi is\", x)"
   ]
  },
  {
   "cell_type": "markdown",
   "metadata": {},
   "source": [
    "__We can also give a module a different name.__\n",
    "\n",
    "Some modules can have really long names and it can be difficult for us to type every time. So, it is easier if we make the module name short. "
   ]
  },
  {
   "cell_type": "code",
   "execution_count": null,
   "metadata": {
    "scrolled": true
   },
   "outputs": [],
   "source": [
    "import math as m\n",
    "\n",
    "print(\"Pi is\", m.pi)\n",
    "print(\"The sine value of 2*Pi is\", m.sin(2 * m.pi))"
   ]
  },
  {
   "cell_type": "markdown",
   "metadata": {},
   "source": [
    "__We can also import a specific function or variable from a module and give it a different name.__\n",
    "\n",
    "For example:"
   ]
  },
  {
   "cell_type": "code",
   "execution_count": null,
   "metadata": {},
   "outputs": [],
   "source": [
    "from math import sin as s \n",
    "from math import pi \n",
    "\n",
    "print(\"Pi is\", pi)\n",
    "print(\"The sine value of 2*Pi is\", s(2*pi))"
   ]
  },
  {
   "cell_type": "markdown",
   "metadata": {},
   "source": [
    "## Python Classes and Objects\n",
    "\n",
    "### What is a Python class?\n",
    "\n",
    "A class is a template for creating objects. A class defines a set of attributes and methods that are shared by all instances (objects) of that class. Attributes are variables that store data, while methods are functions that operate on that data. \n",
    "\n",
    "In Python, all data types are implemented as classes. Therefore, strings, integers, and lists etc. are implemented as classes, they all have their own attributes and methods. Classes provide a powerful and flexible way to organise and encapsulate data and behaviour in Python, making it easier to write reusable and maintainable code. \n",
    "\n",
    "### What is a Python object?\n",
    "\n",
    "A Python object is an instance of a class. When you create an object in Python, you are creating an instance of a class, which means that the object inherits all the attributes and methods defined in that class.\n",
    "\n",
    "You may be still confused at this stage, we will use a few examples to explain more in detail. \n",
    "\n",
    "### Defining a class\n",
    "\n",
    "Here's an example of defining a simple class:"
   ]
  },
  {
   "cell_type": "code",
   "execution_count": null,
   "metadata": {},
   "outputs": [],
   "source": [
    "class Car:\n",
    "    def __init__(self, make, model, year):\n",
    "        self.make = make\n",
    "        self.model = model\n",
    "        self.year = year\n",
    "        \n",
    "    def start(self):\n",
    "        print(\"Starting my\", self.make)\n",
    "        \n",
    "    def stop(self):\n",
    "        print(\"Stopping my\", self.make)\n",
    "        \n",
    "    def drive(self):\n",
    "        print(\"Driving my\", self.make, self.model, self.year)"
   ]
  },
  {
   "cell_type": "markdown",
   "metadata": {},
   "source": [
    "In this class, our class name is Car, and we can use `Car()` to create an instance of this class. We have 3 attributes which stored 3 different data of our car, they are \"make\", \"model\", and \"year\". And our class has 3 methods which can operate on that data. Let's try create an object of the class and use its attributes and methods. "
   ]
  },
  {
   "cell_type": "code",
   "execution_count": null,
   "metadata": {},
   "outputs": [],
   "source": [
    "# create a new Car object\n",
    "my_car = Car(\"Tesla\", \"Model Y\", 2022)"
   ]
  },
  {
   "cell_type": "code",
   "execution_count": null,
   "metadata": {},
   "outputs": [],
   "source": [
    "# access the attributes in my_car\n",
    "my_car.make"
   ]
  },
  {
   "cell_type": "code",
   "execution_count": null,
   "metadata": {},
   "outputs": [],
   "source": [
    "# access the model and year attributes in my_car"
   ]
  },
  {
   "cell_type": "code",
   "execution_count": null,
   "metadata": {},
   "outputs": [],
   "source": [
    "# call the methods of the car object \n",
    "my_car.start()"
   ]
  },
  {
   "cell_type": "code",
   "execution_count": null,
   "metadata": {},
   "outputs": [],
   "source": [
    "# call the drive and stop methods of my_car object "
   ]
  },
  {
   "cell_type": "markdown",
   "metadata": {},
   "source": [
    "In the above example, our class only has 3 attributes and 3 methods. What if we have a complicated class and forget all the names for calling the attributes and methods? Don't worry, there is a built-in function in Python for us to inspect all the attributes and methods of an object. \n",
    "\n",
    "__`dir()` function:__\n",
    "\n",
    "`dir()` is a built-in function that returns a list of all the attributes and methods of an object."
   ]
  },
  {
   "cell_type": "code",
   "execution_count": null,
   "metadata": {
    "scrolled": false
   },
   "outputs": [],
   "source": [
    "dir(my_car)"
   ]
  },
  {
   "cell_type": "markdown",
   "metadata": {},
   "source": [
    "As we mentioned before, all data types are implemented as classes. So, we can also use `dir()` to inspect the built-in data types' attributes and methods. "
   ]
  },
  {
   "cell_type": "code",
   "execution_count": null,
   "metadata": {
    "scrolled": false
   },
   "outputs": [],
   "source": [
    "dir(int)"
   ]
  },
  {
   "cell_type": "code",
   "execution_count": null,
   "metadata": {},
   "outputs": [],
   "source": [
    "# try look at the attributes and methods of another data type "
   ]
  },
  {
   "cell_type": "markdown",
   "metadata": {},
   "source": [
    "## Downloading the sequence data \n",
    "\n",
    "We are using the public released coding sequences of Arabidopsis. You can find the data [here](https://www.arabidopsis.org/download/index-auto.jsp?dir=%2Fdownload_files%2FGenes%2FAraport11_genome_release%2FAraport11_blastsets).\n",
    "\n",
    "### Using Linux command-line in Jupyter Notebook\n",
    "\n",
    "In Jupyter Notebook, we can run Linux command-line programs using the `!` character at the beginning of a cell. This character tells Jupyter Notebook to treat the cell contents as a shell command, rather than Python code. Here, we will use the Linux command-line to download the data. \n",
    "\n",
    "### Downloading data from the web\n",
    "\n",
    "In Linux, we use the `wget` command to download files from the web, it can download files from HTTP, HTTPS, and FTP servers. \n",
    "\n",
    "Run the following cell to download our data:"
   ]
  },
  {
   "cell_type": "code",
   "execution_count": null,
   "metadata": {},
   "outputs": [],
   "source": [
    "!wget https://www.arabidopsis.org/download_files/Genes/Araport11_genome_release/Araport11_blastsets/Araport11_cds_20220914.gz"
   ]
  },
  {
   "cell_type": "markdown",
   "metadata": {},
   "source": [
    "Run the following cell to decompress the file:"
   ]
  },
  {
   "cell_type": "code",
   "execution_count": null,
   "metadata": {},
   "outputs": [],
   "source": [
    "!gunzip Araport11_cds_20220914.gz"
   ]
  },
  {
   "cell_type": "markdown",
   "metadata": {},
   "source": [
    "Run the following cell to rename our CDS file to have a file extension, so we can know it is a FASTA file:"
   ]
  },
  {
   "cell_type": "code",
   "execution_count": null,
   "metadata": {},
   "outputs": [],
   "source": [
    "!mv Araport11_cds_20220914 Araport11_cds_20220914.fa"
   ]
  },
  {
   "cell_type": "markdown",
   "metadata": {},
   "source": [
    "Run the following cell to take a look of the CDS file:"
   ]
  },
  {
   "cell_type": "code",
   "execution_count": null,
   "metadata": {
    "scrolled": false
   },
   "outputs": [],
   "source": [
    "!head -n 50 Araport11_cds_20220914.fa"
   ]
  },
  {
   "cell_type": "markdown",
   "metadata": {},
   "source": [
    "To calculate how many coding sequences we have in the file:"
   ]
  },
  {
   "cell_type": "code",
   "execution_count": null,
   "metadata": {},
   "outputs": [],
   "source": [
    "!cat Araport11_cds_20220914.fa | grep \"^>\" | wc -l"
   ]
  },
  {
   "cell_type": "markdown",
   "metadata": {},
   "source": [
    "### What is a FASTA file?\n",
    "\n",
    "A FASTA file is a text file format used for representing nucleotide or protein sequences. It is named after the FASTA software package that was one of the first tools for aligning and comparing DNA sequences. \n",
    "\n",
    "A typical FASTA file consists of one or more sequences, each preceded by a header line that begins with a `>` character. The header line contains a description of the sequence, which can include the sequence name, gene name, organism, and other relevant information. \n",
    "\n",
    "The sequence itself follows the header line and consists of a series of letters representing the nucleotide or amino acids that make up the sequence. The letters can be in upper or lowercase and may include spaces, dashes, or other characters to represent gaps or other features of the sequence. \n",
    "\n",
    "FASTA files are widely used in bioinformatics for storing and sharing sequence data, and are compatible with many different software tools and databases."
   ]
  },
  {
   "cell_type": "markdown",
   "metadata": {},
   "source": [
    "## Introduction to [Biopython](https://biopython.org/)\n",
    "\n",
    "### What is Biopython?\n",
    "\n",
    "Biopython is a Python library that provides tools and modules for working with biological data, such as DNA, RNA, and protein sequences. It allows researchers to perform a wide range of tasks, such as sequence alignment, data parsing and conversion, statistical analysis, and more. Biopython is widely used in many areas of biological research, including genomics, proteomics, bioinformatics, and computational biology.\n",
    "\n",
    "In today's class, we will use the coding sequences of Arabidopsis as our DNA sequence data to perform some basic applications of Biopython. \n",
    "\n",
    "### The `Seq` class:\n",
    "\n",
    "In Biopython, sequences are usually held as `Seq` objects, which add various biological methods on top of string like behaviour. To create a `Seq` object, we can use the `Seq()` function from the Seq module of package Biopython."
   ]
  },
  {
   "cell_type": "code",
   "execution_count": null,
   "metadata": {},
   "outputs": [],
   "source": [
    "from Bio.Seq import Seq\n",
    "\n",
    "DNAseq = Seq(\"atgtataacattggccataccccgtatacccatgcgaaccatattggccattaa\")\n",
    "DNAseq "
   ]
  },
  {
   "cell_type": "markdown",
   "metadata": {},
   "source": [
    "To get the actual sequence rather than the `Seq` object, we can simply print the object:"
   ]
  },
  {
   "cell_type": "code",
   "execution_count": null,
   "metadata": {},
   "outputs": [],
   "source": [
    "print(DNAseq)"
   ]
  },
  {
   "cell_type": "code",
   "execution_count": null,
   "metadata": {
    "scrolled": true
   },
   "outputs": [],
   "source": [
    "# Check the attributes and methods of object DNAseq \n",
    "dir(DNAseq)"
   ]
  },
  {
   "cell_type": "markdown",
   "metadata": {},
   "source": [
    "From the above result we can see that there are a few methods we've programmed before, such as translate, transcribe, and complement. Now, let's try use these methods of the `Seq` object.\n",
    "\n",
    "To find the start codon of `DNAseq`:"
   ]
  },
  {
   "cell_type": "code",
   "execution_count": null,
   "metadata": {},
   "outputs": [],
   "source": [
    "DNAseq.find(\"atg\")"
   ]
  },
  {
   "cell_type": "markdown",
   "metadata": {},
   "source": [
    "__Exercise: build a `Seq` object for sequence AGGTCTGGTATGTTTCCGTTTCCAGTGACACACTG and name it `seq_1`, and find the start codon of sequence.__"
   ]
  },
  {
   "cell_type": "code",
   "execution_count": null,
   "metadata": {},
   "outputs": [],
   "source": []
  },
  {
   "cell_type": "markdown",
   "metadata": {},
   "source": [
    "To count the number of nucleotides of `DNAseq`:"
   ]
  },
  {
   "cell_type": "code",
   "execution_count": null,
   "metadata": {},
   "outputs": [],
   "source": [
    "DNAseq.count(\"a\")"
   ]
  },
  {
   "cell_type": "markdown",
   "metadata": {},
   "source": [
    "__Exercise: find the numbers of the other 3 nucleotides.__"
   ]
  },
  {
   "cell_type": "code",
   "execution_count": null,
   "metadata": {},
   "outputs": [],
   "source": []
  },
  {
   "cell_type": "markdown",
   "metadata": {},
   "source": [
    "To count the number of a specific sequences:"
   ]
  },
  {
   "cell_type": "code",
   "execution_count": null,
   "metadata": {},
   "outputs": [],
   "source": [
    "DNAseq.count(\"aa\") # the count is non-overlapping "
   ]
  },
  {
   "cell_type": "markdown",
   "metadata": {},
   "source": [
    "__Exercise: count the number of \"cc\" and \"tt\" in `DNAseq`.__"
   ]
  },
  {
   "cell_type": "code",
   "execution_count": null,
   "metadata": {},
   "outputs": [],
   "source": []
  },
  {
   "cell_type": "markdown",
   "metadata": {},
   "source": [
    "To complement and reverse complement of a sequence:"
   ]
  },
  {
   "cell_type": "code",
   "execution_count": null,
   "metadata": {},
   "outputs": [],
   "source": [
    "DNAseq.complement()"
   ]
  },
  {
   "cell_type": "code",
   "execution_count": null,
   "metadata": {},
   "outputs": [],
   "source": [
    "DNAseq.reverse_complement()"
   ]
  },
  {
   "cell_type": "markdown",
   "metadata": {},
   "source": [
    "__Exercise: reverse complement sequence `seq_1`.__"
   ]
  },
  {
   "cell_type": "code",
   "execution_count": null,
   "metadata": {},
   "outputs": [],
   "source": []
  },
  {
   "cell_type": "markdown",
   "metadata": {},
   "source": [
    "__Exercise: translate `DNAseq` and `seq_1`.__"
   ]
  },
  {
   "cell_type": "code",
   "execution_count": null,
   "metadata": {},
   "outputs": [],
   "source": []
  },
  {
   "cell_type": "markdown",
   "metadata": {},
   "source": [
    "### The `SeqRecord` class:\n",
    "\n",
    "`SeqRecord` can store a sequence with its identifiers (ID and name), description, optionally annotation, and sub-features. One `SeqRecord` object can store one sequence and its related information. To create a `SeqRecord` object, we can use the `SeqRecord` function from the SeqRecord module of the Biopython package. For example:"
   ]
  },
  {
   "cell_type": "code",
   "execution_count": 3,
   "metadata": {},
   "outputs": [
    {
     "name": "stdout",
     "output_type": "stream",
     "text": [
      "ID: YP_025292.1\n",
      "Name: HokC\n",
      "Description: toxic membrane protein, small\n",
      "Number of features: 0\n",
      "Seq('MKQHKAMIVALIVICITAVVAALVTRKDLCEVHIRTGQTEVAVF')\n"
     ]
    }
   ],
   "source": [
    "from Bio.Seq import Seq\n",
    "from Bio.SeqRecord import SeqRecord\n",
    "\n",
    "record = SeqRecord(\n",
    "    Seq(\"MKQHKAMIVALIVICITAVVAALVTRKDLCEVHIRTGQTEVAVF\"),\n",
    "    id=\"YP_025292.1\",\n",
    "    name=\"HokC\",\n",
    "    description=\"toxic membrane protein, small\",\n",
    ")\n",
    "\n",
    "print(record)"
   ]
  },
  {
   "cell_type": "markdown",
   "metadata": {},
   "source": [
    "__Exercise: get the sequence, id, and name from the SeqRecord object `record`.__"
   ]
  },
  {
   "cell_type": "code",
   "execution_count": null,
   "metadata": {},
   "outputs": [],
   "source": []
  },
  {
   "cell_type": "markdown",
   "metadata": {},
   "source": [
    "### Load sequence data from file \n",
    "\n",
    "Here we need to use the function `parse()` from the SeqIO module of Biopython, it can read many file formats such as FASTA, Fastq, GenBank etc. "
   ]
  },
  {
   "cell_type": "code",
   "execution_count": 1,
   "metadata": {},
   "outputs": [],
   "source": [
    "from Bio import SeqIO"
   ]
  },
  {
   "cell_type": "markdown",
   "metadata": {},
   "source": [
    "`SeqIO.parse()` function can turn a sequence file into an iterator returning SeqRecords. To load a sequence data file, we can simply write a for loop with `SeqIO.parse(\"filename\", \"file_format\")`, for example:"
   ]
  },
  {
   "cell_type": "code",
   "execution_count": 2,
   "metadata": {},
   "outputs": [],
   "source": [
    "filename = \"Araport11_cds_20220914.fa\"\n",
    "arabidopsis_cds = []\n",
    "\n",
    "for seq in SeqIO.parse(filename, 'fasta'):\n",
    "    arabidopsis_cds.append(seq)"
   ]
  },
  {
   "cell_type": "markdown",
   "metadata": {},
   "source": [
    "In each iteration, `SeqIO.parse()` converts a sequence in FASTA file into a `SeqRecord` object, and then we use `append()` to add the `SeqRecord` object into our list. Let's print out the first item in the list `arabidopsis_cds` to see what does it look like:"
   ]
  },
  {
   "cell_type": "code",
   "execution_count": null,
   "metadata": {},
   "outputs": [],
   "source": [
    "print(arabidopsis_cds[0])"
   ]
  },
  {
   "cell_type": "markdown",
   "metadata": {},
   "source": [
    "It is a SeqRecord object, and it should be the first sequence in the FASTA file as well. Now, let's check how many CDS we have:"
   ]
  },
  {
   "cell_type": "code",
   "execution_count": null,
   "metadata": {},
   "outputs": [],
   "source": [
    "len(arabidopsis_cds)"
   ]
  },
  {
   "cell_type": "markdown",
   "metadata": {},
   "source": [
    "The result should be the same as the one we used command line to get. \n",
    "\n",
    "Let's try to access the information stored in the list `arabidopsis_cds`. What's the sequence and length of the second CDS?"
   ]
  },
  {
   "cell_type": "code",
   "execution_count": null,
   "metadata": {},
   "outputs": [],
   "source": [
    "print(arabidopsis_cds[1].seq)\n",
    "print(\"The length of the second CDS is \", len(arabidopsis_cds[1].seq), \".\", sep=\"\")"
   ]
  },
  {
   "cell_type": "markdown",
   "metadata": {},
   "source": [
    "__Exercise: build a dictionary of CDS ID and its length__"
   ]
  },
  {
   "cell_type": "code",
   "execution_count": null,
   "metadata": {},
   "outputs": [],
   "source": []
  },
  {
   "cell_type": "markdown",
   "metadata": {},
   "source": [
    "Before we go to the next step, we need to learn the __attributes and methods of dictionary__. We have learned dictionary previously but we didn't mention the attributes and methods of dictionary. There are 3 very useful methods which return objects of all the keys, values, and key-value pairs of the dictionary."
   ]
  },
  {
   "cell_type": "code",
   "execution_count": null,
   "metadata": {},
   "outputs": [],
   "source": [
    "# return an object of all the keys \n",
    "cds_length_dict.keys()"
   ]
  },
  {
   "cell_type": "code",
   "execution_count": null,
   "metadata": {},
   "outputs": [],
   "source": [
    "# return an object of all the values\n",
    "cds_length_dict.values()"
   ]
  },
  {
   "cell_type": "code",
   "execution_count": null,
   "metadata": {},
   "outputs": [],
   "source": [
    "# return an object of all the key-value pairs \n",
    "cds_length_dict.items()"
   ]
  },
  {
   "cell_type": "markdown",
   "metadata": {},
   "source": [
    "We can use it with for loop to loop through dictionaries."
   ]
  },
  {
   "cell_type": "code",
   "execution_count": null,
   "metadata": {},
   "outputs": [],
   "source": [
    "for i in cds_length_dict.keys():\n",
    "    print(i, cds_length_dict[i])"
   ]
  },
  {
   "cell_type": "code",
   "execution_count": null,
   "metadata": {},
   "outputs": [],
   "source": [
    "for k,v in cds_length_dict.items():\n",
    "    print(k,v)"
   ]
  },
  {
   "cell_type": "markdown",
   "metadata": {},
   "source": [
    "__Exercise: find the longest CDS and print out its ID and length__"
   ]
  },
  {
   "cell_type": "code",
   "execution_count": null,
   "metadata": {},
   "outputs": [],
   "source": []
  },
  {
   "cell_type": "markdown",
   "metadata": {},
   "source": [
    "## Plotting with [Matplotlib](https://matplotlib.org/) and [Seaborn](https://seaborn.pydata.org/)\n",
    "\n",
    "Matplotlib???\n",
    "\n",
    "Seaborn???\n",
    "\n",
    "### Import Matplotlib and Seaborn "
   ]
  },
  {
   "cell_type": "code",
   "execution_count": 18,
   "metadata": {},
   "outputs": [],
   "source": [
    "import matplotlib.pyplot as plt \n",
    "import seaborn as sns "
   ]
  },
  {
   "cell_type": "markdown",
   "metadata": {},
   "source": [
    "For the commonly used libraries, there are standard ways to name the module you imported. You will see almost everyone `import matplotlib.pyplot as plt` and `import seaborn as sns`. It is because by doing this, the code you share with other people can be easily read and understand. It is better for us to do so as well to create a good community environment. Usually the standard way to name the imported module can be found in the documentation. "
   ]
  },
  {
   "cell_type": "markdown",
   "metadata": {},
   "source": [
    "### Parts of a figure \n",
    "\n",
    "Here are the components of a Matplotlib Figure.\n",
    "\n",
    "![matplotlib-figure](figures/anatomy.png)"
   ]
  },
  {
   "cell_type": "markdown",
   "metadata": {},
   "source": [
    "### Histogram\n",
    "\n",
    "Histogram is the most easy plot to make, it only takes one set of data in. We can use histogram to look at the distribution of our dataset. But histograms can only represent the distribution of numerical data. It provides a visual summary of the underlying frequency or probability distribution of a dataset and helps to identify patterns and outliers.\n",
    "\n",
    "The x-axis of a histogram represents the range of values in the dataset, divided into equal intervals called bins. The y-axis represents the frequency or count of data points falling within each bin. \n",
    "\n",
    "An example of how to create a histogram using Matplotlib:"
   ]
  },
  {
   "cell_type": "code",
   "execution_count": null,
   "metadata": {},
   "outputs": [],
   "source": [
    "# Sample data\n",
    "data = [1, 3, 3, 4, 5, 5, 5, 6, 6, 6, 6, 7, 8, 9]\n",
    "\n",
    "# Plotting the histogram\n",
    "plt.hist(data, bins=5, edgecolor='black')\n",
    "\n",
    "# Adding labels and title\n",
    "plt.xlabel('Values')\n",
    "plt.ylabel('Frequency')\n",
    "plt.title('Histogram of Data')\n",
    "\n",
    "# Displaying the plot\n",
    "plt.show()"
   ]
  },
  {
   "cell_type": "markdown",
   "metadata": {},
   "source": [
    "__Exercise: make a histogram to look at the distribution of our CDS lengths__"
   ]
  },
  {
   "cell_type": "code",
   "execution_count": null,
   "metadata": {},
   "outputs": [],
   "source": []
  },
  {
   "cell_type": "markdown",
   "metadata": {},
   "source": [
    "__Exercise: translate all the CDS to protein sequences (make them as `SeqRecord` objects as well, and store all the objects in a list), and make a histogram of the protein lengths__"
   ]
  },
  {
   "cell_type": "code",
   "execution_count": 11,
   "metadata": {
    "scrolled": true
   },
   "outputs": [
    {
     "name": "stderr",
     "output_type": "stream",
     "text": [
      "/home/jiajia/anaconda3/lib/python3.10/site-packages/Bio/Seq.py:2979: BiopythonWarning: Partial codon, len(sequence) not a multiple of three. Explicitly trim the sequence or add trailing N before translation. This may become an error in future.\n",
      "  warnings.warn(\n"
     ]
    }
   ],
   "source": [
    "protein_seqs = []\n",
    "protein_length = []\n",
    "\n",
    "for cds in arabidopsis_cds:\n",
    "    protein = SeqRecord(cds.seq.translate())\n",
    "    protein.id = cds.id\n",
    "    protein.name = cds.name\n",
    "    protein.description = cds.description\n",
    "    protein_seqs.append(protein)\n",
    "    protein_length.append(len(protein.seq))"
   ]
  },
  {
   "cell_type": "markdown",
   "metadata": {},
   "source": [
    "### Scatter Plot \n",
    "\n",
    "Scatter plot displays the relationship between two numerical variables. It represents individual data points as dots or markers on a two-dimensional coordinate system. Each dot on the plot represents the values of one data point from the dataset, with the x-coordinate representing the value of one variable and the y-coordinate representing the value of the other variable. \n",
    "\n",
    "Scatter plots are useful for visualising the distribution, pattern, and coorelation between two variables. They can reveal trends, clusters, outliers, or the absence of a relationship between the variables. \n",
    "\n",
    "An example of how to create scatter plots using Matplotlib:"
   ]
  },
  {
   "cell_type": "code",
   "execution_count": 30,
   "metadata": {
    "scrolled": false
   },
   "outputs": [
    {
     "data": {
      "image/png": "[encoded data removed]",
      "text/plain": [
       "<Figure size 640x480 with 1 Axes>"
      ]
     },
     "metadata": {},
     "output_type": "display_data"
    }
   ],
   "source": [
    "# Sample data\n",
    "x = [1, 2, 3, 4, 5, 6, 7, 8, 9, 10]\n",
    "y = [3, 5, 4, 6, 8, 7, 9, 10, 12, 11]\n",
    "\n",
    "# Plotting the scatter plot\n",
    "plt.scatter(x, y, color='blue', marker='o')\n",
    "\n",
    "# Adding labels and title\n",
    "plt.xlabel('X-axis')\n",
    "plt.ylabel('Y-axis')\n",
    "plt.title('Scatter Plot')\n",
    "\n",
    "# Displaying the plot\n",
    "plt.show()"
   ]
  },
  {
   "cell_type": "markdown",
   "metadata": {},
   "source": [
    "__Exercise: what is the correlation between CDS length and protein length? Show it with scatter plot__"
   ]
  },
  {
   "cell_type": "code",
   "execution_count": null,
   "metadata": {},
   "outputs": [],
   "source": []
  },
  {
   "cell_type": "markdown",
   "metadata": {},
   "source": [
    "### Density Plot \n",
    "\n",
    "We can use density plots to compare two distributions at once. \n",
    "\n",
    "\n",
    "\n",
    "### Let's caclulate the [Isoelectric Point](https://en.wikipedia.org/wiki/Isoelectric_point) for all proteins \n",
    "\n",
    "The isoelectric point is the pH at which a peptide sequence has no charge.\n",
    "\n",
    "We will makes use of the [SeqUtils](https://biopython.org/DIST/docs/api/Bio.SeqUtils-module.html) using a specific dog idea (aka Class) called [IsoelectricPoint](https://biopython.org/DIST/docs/api/Bio.SeqUtils.IsoelectricPoint.IsoelectricPoint-class.html) to make these computations easier."
   ]
  },
  {
   "cell_type": "code",
   "execution_count": 38,
   "metadata": {},
   "outputs": [
    {
     "data": {
      "image/png": "[encoded data removed]",
      "text/plain": [
       "<Figure size 640x480 with 1 Axes>"
      ]
     },
     "metadata": {},
     "output_type": "display_data"
    }
   ],
   "source": [
    "import seaborn as sns\n",
    "\n",
    "# Sample data\n",
    "data = [1, 2, 3, 3, 4, 5, 5, 5, 6, 6, 6, 6, 7, 8, 9]\n",
    "\n",
    "# Creating the density plot\n",
    "sns.kdeplot(data)\n",
    "\n",
    "# Adding labels and title\n",
    "plt.xlabel('Values')\n",
    "plt.ylabel('Density')\n",
    "plt.title('Density Plot')\n",
    "\n",
    "# Displaying the plot\n",
    "plt.show()\n"
   ]
  },
  {
   "cell_type": "code",
   "execution_count": null,
   "metadata": {},
   "outputs": [],
   "source": []
  },
  {
   "cell_type": "code",
   "execution_count": null,
   "metadata": {},
   "outputs": [],
   "source": [
    "from Bio.SeqUtils import IsoelectricPoint as IP"
   ]
  },
  {
   "cell_type": "code",
   "execution_count": null,
   "metadata": {},
   "outputs": [],
   "source": []
  },
  {
   "cell_type": "code",
   "execution_count": null,
   "metadata": {},
   "outputs": [],
   "source": []
  },
  {
   "cell_type": "code",
   "execution_count": null,
   "metadata": {},
   "outputs": [],
   "source": []
  },
  {
   "cell_type": "code",
   "execution_count": null,
   "metadata": {},
   "outputs": [],
   "source": [
    "?IP"
   ]
  },
  {
   "cell_type": "code",
   "execution_count": null,
   "metadata": {},
   "outputs": [],
   "source": [
    "#### third_protein\n",
    "third_protein.seq"
   ]
  },
  {
   "cell_type": "code",
   "execution_count": null,
   "metadata": {},
   "outputs": [],
   "source": [
    "protein = IP.IsoelectricPoint(third_protein.seq)"
   ]
  },
  {
   "cell_type": "code",
   "execution_count": null,
   "metadata": {},
   "outputs": [],
   "source": []
  },
  {
   "cell_type": "markdown",
   "metadata": {},
   "source": [
    "...it's like a sequnce dog..."
   ]
  },
  {
   "cell_type": "code",
   "execution_count": null,
   "metadata": {},
   "outputs": [],
   "source": [
    "# calculate the pi\n",
    "protein.pi()"
   ]
  },
  {
   "cell_type": "code",
   "execution_count": null,
   "metadata": {},
   "outputs": [],
   "source": [
    "# calculate the charge at a certain \n",
    "protein.charge_at_pH(10)"
   ]
  },
  {
   "cell_type": "markdown",
   "metadata": {},
   "source": [
    "### Exercise VII\n",
    "\n",
    "* Let's make a list of all the pi values of all proteins.\n",
    "* Plot the pi distribution of all proteins in Arabidopsis.\n",
    "* Explain the observed distribution"
   ]
  },
  {
   "cell_type": "code",
   "execution_count": null,
   "metadata": {},
   "outputs": [],
   "source": [
    "#### Faded example\n",
    "protein_pi_values = []\n",
    "for protein in arabidopsis_proteins:\n",
    "    tmp_protein = IP.IsoelectricPoint(protein.seq)\n",
    "    tmp_protein_pi = tmp_protein.pi()\n",
    "    protein_pi_values.append(tmp_protein_pi)"
   ]
  },
  {
   "cell_type": "code",
   "execution_count": null,
   "metadata": {},
   "outputs": [],
   "source": [
    "#### Plot the distribution of pi values of all arabidopsis proteins\n",
    "plt.hist(protein_pi_values, bins = 100)\n",
    "plt.xlabel('pi [pH]')"
   ]
  },
  {
   "cell_type": "markdown",
   "metadata": {},
   "source": [
    "### Exercise VIII\n",
    "\n",
    "* look at the relationship between protein length and pI values\n",
    "\n"
   ]
  },
  {
   "cell_type": "code",
   "execution_count": null,
   "metadata": {},
   "outputs": [],
   "source": [
    "plt.scatter(protein_length, protein_pi_values, alpha=0.2)"
   ]
  },
  {
   "cell_type": "markdown",
   "metadata": {},
   "source": [
    "The problem here is that too many points are overlapping and we would need to do some summary statistics while plotting."
   ]
  },
  {
   "cell_type": "markdown",
   "metadata": {},
   "source": [
    "### Seaborn to the rescue!\n",
    "\n",
    "Let's do some density plots looking at both [distributions](https://seaborn.pydata.org/tutorial/distributions.html) at once."
   ]
  },
  {
   "cell_type": "code",
   "execution_count": null,
   "metadata": {},
   "outputs": [],
   "source": [
    "import seaborn as sns"
   ]
  },
  {
   "cell_type": "code",
   "execution_count": null,
   "metadata": {},
   "outputs": [],
   "source": [
    "sns.kdeplot(protein_length, protein_pi_values)"
   ]
  },
  {
   "cell_type": "code",
   "execution_count": null,
   "metadata": {},
   "outputs": [],
   "source": [
    "sns.jointplot(protein_length, protein_pi_values, kind='hex', color = 'g')"
   ]
  },
  {
   "cell_type": "code",
   "execution_count": null,
   "metadata": {},
   "outputs": [],
   "source": []
  },
  {
   "cell_type": "code",
   "execution_count": null,
   "metadata": {},
   "outputs": [],
   "source": []
  },
  {
   "cell_type": "code",
   "execution_count": null,
   "metadata": {},
   "outputs": [],
   "source": []
  },
  {
   "cell_type": "code",
   "execution_count": null,
   "metadata": {},
   "outputs": [],
   "source": []
  },
  {
   "cell_type": "code",
   "execution_count": null,
   "metadata": {},
   "outputs": [],
   "source": []
  }
 ],
 "metadata": {
  "kernelspec": {
   "display_name": "Python 3 (ipykernel)",
   "language": "python",
   "name": "python3"
  },
  "language_info": {
   "codemirror_mode": {
    "name": "ipython",
    "version": 3
   },
   "file_extension": ".py",
   "mimetype": "text/x-python",
   "name": "python",
   "nbconvert_exporter": "python",
   "pygments_lexer": "ipython3",
   "version": "3.10.9"
  }
 },
 "nbformat": 4,
 "nbformat_minor": 4
}
