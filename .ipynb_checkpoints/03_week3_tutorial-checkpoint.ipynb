{
 "cells": [
  {
   "cell_type": "markdown",
   "metadata": {},
   "source": [
    "# Week 3 Tutorial - Handling DNA sequences and plotting \n",
    "\n",
    "In this week, we will cover the following topics:\n",
    "\n",
    "* Python Modules\n",
    "    * What is a Python module?\n",
    "    * What is a Python library?\n",
    "    * How to use a Python module?\n",
    "* Python Classes and Objects\n",
    "    * Python classes\n",
    "    * Python objects \n",
    "* Introduction to Biopython\n",
    "    * What is Biopython?\n",
    "    * Download the coding sequences of Arabidopsis\n",
    "    * Build a DNA sequence object \n",
    "    * Translate the DNA sequence to protein sequence \n",
    "    * Calculate the isoelectric point of our protein sequence\n",
    "* Plotting with seaborn\n",
    "    * Introduction to seaborn \n",
    "    * Plot a histogram of the isoelectric points data and look at the distribution "
   ]
  },
  {
   "cell_type": "markdown",
   "metadata": {},
   "source": [
    "## Python Modules\n",
    "\n",
    "### What is a Python module?\n",
    "\n",
    "In Python, a module is a file containing Python code that can be imported and used in other Python code. A module can define functions, classes, and variables that can be used in other programs. Modules provide a way to organise code into separate files, making it easier to manage and reuse code across multiple programs. \n",
    "\n",
    "Python comes with a large number of built-in modules that provide a wide range of functionality, such as file I/O, networking, math operations, and more. You can also create your own modules by writing Python code in a file with a `.py` extension and importing it into your other Python programs. \n",
    "\n",
    "### What is a Python library?\n",
    "\n",
    "A library is a collection of pre-written code that can be imported and used in a Python program. A library typically contains a set of functions, classes, or modules that provide specific functionality. \n",
    "\n",
    "### How to use a Python module?\n",
    "\n",
    "If we are using a built-in Python module, we can load the module by use the `import` command with the module name. If we are using an external Python module, we have to download the module first and then use `import` to load. \n",
    "\n",
    "A module can provide a range of functions and constants, we need to put the function name after the module name with a dot to call the function. \n",
    "\n",
    "Here's an example of importing a built-in module in Python:"
   ]
  },
  {
   "cell_type": "code",
   "execution_count": 15,
   "metadata": {},
   "outputs": [
    {
     "name": "stdout",
     "output_type": "stream",
     "text": [
      "Pi is 3.141592653589793\n",
      "The sine value of 2*pi is -2.4492935982947064e-16\n",
      "The square root value of 2 is 1.4142135623730951\n"
     ]
    }
   ],
   "source": [
    "import math\n",
    "\n",
    "print(\"Pi is\", math.pi)\n",
    "\n",
    "x = math.sin(2*math.pi)\n",
    "print(\"The sine value of 2*pi is\", x)\n",
    "\n",
    "y = math.sqrt(2) \n",
    "print(\"The square root value of 2 is\", y)"
   ]
  },
  {
   "cell_type": "markdown",
   "metadata": {},
   "source": [
    "In this example, we used the `import` command to load the \"math\" module. `math.pi` means to call the \"pi\" value that stored in the module \"math\".\n",
    "\n",
    "Then we also used `math.sin` to calculate the sine value of `2*pi` and `math.sqrt` to calculate the square root of 2.\n",
    "\n",
    "__We can also import specific functions or variables from a module.__\n",
    "\n",
    "In this way, we can only use the function name to call the function, we don't need to put the module name before. \n",
    "\n",
    "Here's an example:"
   ]
  },
  {
   "cell_type": "code",
   "execution_count": 16,
   "metadata": {},
   "outputs": [
    {
     "name": "stdout",
     "output_type": "stream",
     "text": [
      "Pi is 3.141592653589793\n",
      "The sine value of 2*pi is -2.4492935982947064e-16\n"
     ]
    }
   ],
   "source": [
    "from math import sin, pi\n",
    "\n",
    "print(\"Pi is\", pi)\n",
    "\n",
    "x = sin(2 * pi)\n",
    "print(\"The sine value of 2*Pi is\", x)"
   ]
  },
  {
   "cell_type": "markdown",
   "metadata": {},
   "source": [
    "__We can also give a module a different name.__\n",
    "\n",
    "Some modules can have really long names and it can be difficult for us to type every time. So, it is easier if we make the module name short. \n",
    "\n",
    "Here's an example about how to do so:"
   ]
  },
  {
   "cell_type": "code",
   "execution_count": 18,
   "metadata": {
    "scrolled": true
   },
   "outputs": [
    {
     "name": "stdout",
     "output_type": "stream",
     "text": [
      "Pi is 3.141592653589793\n",
      "The sine value of 2*Pi is -2.4492935982947064e-16\n"
     ]
    }
   ],
   "source": [
    "import math as m\n",
    "\n",
    "print(\"Pi is\", m.pi)\n",
    "print(\"The sine value of 2*Pi is\", m.sin(2 * m.pi))"
   ]
  },
  {
   "cell_type": "markdown",
   "metadata": {},
   "source": [
    "__We can also import a specific function or variable from a module and give it a different name.__\n",
    "\n",
    "For example:"
   ]
  },
  {
   "cell_type": "code",
   "execution_count": 19,
   "metadata": {},
   "outputs": [
    {
     "name": "stdout",
     "output_type": "stream",
     "text": [
      "Pi is 3.141592653589793\n",
      "The sine value of 2*Pi is -2.4492935982947064e-16\n"
     ]
    }
   ],
   "source": [
    "from math import sin as s \n",
    "from math import pi \n",
    "\n",
    "print(\"Pi is\", pi)\n",
    "print(\"The sine value of 2*Pi is\", s(2*pi))"
   ]
  },
  {
   "cell_type": "markdown",
   "metadata": {},
   "source": [
    "##"
   ]
  },
  {
   "cell_type": "code",
   "execution_count": null,
   "metadata": {},
   "outputs": [],
   "source": []
  },
  {
   "cell_type": "code",
   "execution_count": null,
   "metadata": {},
   "outputs": [],
   "source": []
  },
  {
   "cell_type": "code",
   "execution_count": null,
   "metadata": {},
   "outputs": [],
   "source": []
  },
  {
   "cell_type": "code",
   "execution_count": null,
   "metadata": {},
   "outputs": [],
   "source": []
  },
  {
   "cell_type": "markdown",
   "metadata": {},
   "source": [
    "## Introduction to [Biopython](https://biopython.org/)/[cogent3](https://cogent3.org/index.html)\n",
    "\n",
    "### What is Biopython/cogent3?\n",
    "\n",
    "Biopython and COGENT3 are Python libraries for computational biology, with a focus on different areas of biological research.\n",
    "\n",
    "Biopython is a popular open-source Python package for biological computing that provides a set of modules and tools for working with biological data, such as DNA, RNA, and protein sequences. Biopython allows researchers to perform a wide range of tasks, such as sequence alignment, data parsing and conversion, statistical analysis, and more. Biopython is widely used in many areas of biological research, including genomics, proteomics, bioinformatics, and computational biology. \n",
    "\n",
    "cogent3 is a Python library for computational genomics, phylogenetics, and evolutionary biology. cogent3 provides a range of tools and methods for working with biological data, such as DNA and protein sequences, phylogenetic trees, and genomic data. cogent3 includes modules for common bioinformatics tasks, such as reading and writing sequence data in various formats, performing sequence alignment using popular algorithms (e.g., ClustalW, MUSCLE), and constructing phylogenetic trees. It also provides advanced functionality for statistical inference, hypothesis testing, and simulation of evolutionary processes. \n",
    "\n",
    "cogent3 is developed and maintained by the Huttley group at RSB. \n",
    "\n",
    "In today's class, we are going to use the coding sequences of Arabidopsis as our DNA sequence data to perform some basic applications of Biopython/cogent3."
   ]
  },
  {
   "cell_type": "markdown",
   "metadata": {},
   "source": [
    "### Downloading the data \n",
    "\n",
    "We are using the public released coding sequences of Arabidopsis. You can find the data [here](https://www.arabidopsis.org/download/index-auto.jsp?dir=%2Fdownload_files%2FGenes%2FAraport11_genome_release%2FAraport11_blastsets).\n",
    "\n",
    "__Using Linux command-line in Jupyter Notebook.__\n",
    "\n",
    "In Jupyter Notebook, we can run Linux command-line programs using the `!` character at the beginning of a cell. This character tells Jupyter Notebook to treat the cell contents as a shell command, rather than Python code. Here, we will use the Linux command-line to download the data. \n",
    "\n",
    "__Downloading data from the web.__\n",
    "\n",
    "In Linux, we use the `wget` command to download files from the web, it can download files from HTTP, HTTPS, and FTP servers. \n",
    "\n",
    "Run the following cell to download our data:"
   ]
  },
  {
   "cell_type": "code",
   "execution_count": 7,
   "metadata": {},
   "outputs": [
    {
     "name": "stdout",
     "output_type": "stream",
     "text": [
      "--2023-05-03 17:09:53--  https://www.arabidopsis.org/download_files/Genes/Araport11_genome_release/Araport11_blastsets/Araport11_cds_20220914.gz\n",
      "Resolving www.arabidopsis.org (www.arabidopsis.org)... 52.88.10.157\n",
      "Connecting to www.arabidopsis.org (www.arabidopsis.org)|52.88.10.157|:443... connected.\n",
      "HTTP request sent, awaiting response... 200 OK\n",
      "Length: 13201113 (13M) [application/x-gzip]\n",
      "Saving to: ‘Araport11_cds_20220914.gz’\n",
      "\n",
      "Araport11_cds_20220 100%[===================>]  12.59M  4.90MB/s    in 2.6s    \n",
      "\n",
      "2023-05-03 17:09:57 (4.90 MB/s) - ‘Araport11_cds_20220914.gz’ saved [13201113/13201113]\n",
      "\n"
     ]
    }
   ],
   "source": [
    "!wget https://www.arabidopsis.org/download_files/Genes/Araport11_genome_release/Araport11_blastsets/Araport11_cds_20220914.gz"
   ]
  },
  {
   "cell_type": "markdown",
   "metadata": {},
   "source": [
    "Run the following cell to decompress the file:"
   ]
  },
  {
   "cell_type": "code",
   "execution_count": 8,
   "metadata": {},
   "outputs": [],
   "source": [
    "!gunzip Araport11_cds_20220914.gz"
   ]
  },
  {
   "cell_type": "markdown",
   "metadata": {},
   "source": [
    "Run the following cell to rename our CDS file to have a file extension, so we can know it is a FASTA file:"
   ]
  },
  {
   "cell_type": "code",
   "execution_count": 9,
   "metadata": {},
   "outputs": [],
   "source": [
    "!mv Araport11_cds_20220914 Araport11_cds_20220914.fa"
   ]
  },
  {
   "cell_type": "markdown",
   "metadata": {},
   "source": [
    "Run the following cell to take a look of the CDS file:"
   ]
  },
  {
   "cell_type": "code",
   "execution_count": 13,
   "metadata": {
    "scrolled": true
   },
   "outputs": [
    {
     "name": "stdout",
     "output_type": "stream",
     "text": [
      ">AT1G01010.1 | Symbols: NAC001, NTL10, ANAC001 | NAC domain containing protein 1 | chr1:3760-5630 FORWARD LENGTH=1290\r\n",
      "ATGGAGGATCAAGTTGGGTTTGGGTTCCGTCCGAACGACGAGGAGCTCGTTGGTCACTATCTCCGTAACAAAATCGAAGG\r\n",
      "AAACACTAGCCGCGACGTTGAAGTAGCCATCAGCGAGGTCAACATCTGTAGCTACGATCCTTGGAACTTGCGCTTCCAGT\r\n",
      "CAAAGTACAAATCGAGAGATGCTATGTGGTACTTCTTCTCTCGTAGAGAAAACAACAAAGGGAATCGACAGAGCAGGACA\r\n",
      "ACGGTTTCTGGTAAATGGAAGCTTACCGGAGAATCTGTTGAGGTCAAGGACCAGTGGGGATTTTGTAGTGAGGGCTTTCG\r\n",
      "TGGTAAGATTGGTCATAAAAGGGTTTTGGTGTTCCTCGATGGAAGATACCCTGACAAAACCAAATCTGATTGGGTTATCC\r\n",
      "ACGAGTTCCACTACGACCTCTTACCAGAACATCAGAGGACATATGTCATCTGCAGACTTGAGTACAAGGGTGATGATGCG\r\n",
      "GACATTCTATCTGCTTATGCAATAGATCCCACTCCCGCTTTTGTCCCCAATATGACTAGTAGTGCAGGTTCTGTGGTCAA\r\n",
      "CCAATCACGTCAACGAAATTCAGGATCTTACAACACTTACTCTGAGTATGATTCAGCAAATCATGGCCAGCAGTTTAATG\r\n",
      "AAAACTCTAACATTATGCAGCAGCAACCACTTCAAGGATCATTCAACCCTCTCCTTGAGTATGATTTTGCAAATCACGGC\r\n",
      "GGTCAGTGGCTGAGTGACTATATCGACCTGCAACAGCAAGTTCCTTACTTGGCACCTTATGAAAATGAGTCGGAGATGAT\r\n",
      "TTGGAAGCATGTGATTGAAGAAAATTTTGAGTTTTTGGTAGATGAAAGGACATCTATGCAACAGCATTACAGTGATCACC\r\n",
      "GGCCCAAAAAACCTGTGTCTGGGGTTTTGCCTGATGATAGCAGTGATACTGAAACTGGATCAATGATTTTCGAAGACACT\r\n",
      "TCGAGCTCCACTGATAGTGTTGGTAGTTCAGATGAACCGGGCCATACTCGTATAGATGATATTCCATCATTGAACATTAT\r\n",
      "TGAGCCTTTGCACAATTATAAGGCACAAGAGCAACCAAAGCAGCAGAGCAAAGAAAAGGTGATAAGTTCGCAGAAAAGCG\r\n",
      "AATGCGAGTGGAAAATGGCTGAAGACTCGATCAAGATACCTCCATCCACCAACACGGTGAAGCAGAGCTGGATTGTTTTG\r\n",
      "GAGAATGCACAGTGGAACTATCTCAAGAACATGATCATTGGTGTCTTGTTGTTCATCTCCGTCATTAGTTGGATCATTCT\r\n",
      "TGTTGGTTAA\r\n",
      ">AT1G01020.1 | Symbols: ARV1 |  | chr1:6915-8666 REVERSE LENGTH=738\r\n",
      "ATGGCGGCGAGTGAACACAGATGCGTGGGATGTGGTTTTAGGGTAAAGTCATTGTTCATTCAATACTCTCCGGGTAACAT\r\n",
      "TCGTCTCATGAAATGCGGAAATTGCAAGGAAGTAGCAGATGAGTACATCGAGTGTGAACGCATGATTATTTTCATCGATT\r\n",
      "TAATCCTTCACAGACCAAAGGTATATAGACACGTCCTCTACAATGCAATTAATCCAGCAACTGTCAATATTCAGCATCTG\r\n",
      "TTGTGGAAGTTGGTCTTCGCCTATCTTCTTCTAGACTGTTATAGAAGCTTGCTACTGAGAAAAAGTGATGAAGAATCGAG\r\n",
      "CTTTTCTGATAGCCCTGTTCTTCTATCTATAAAGGTTCTGATTGGTGTCTTATCTGCAAACGCTGCATTTATCATCTCTT\r\n",
      "TTGCCATTGCGACTAAGGGTTTGCTAAATGAAGTTTCCAGAAGAAGAGAGATTATGTTGGGGATATTCATCTCTAGTTAC\r\n",
      "TTCAAGATATTTCTGCTTGCGATGTTGGTATGGGAATTCCCAATGTCAGTGATTTTTTTTGTCGATATACTTCTCTTAAC\r\n",
      "ATCAAACTCCATGGCTCTTAAAGTGATGACTGAATCAACAATGACCAGATGCATAGCCGTATGCTTAATCGCGCACTTGA\r\n",
      "TTAGATTCTTGGTGGGTCAGATTTTTGAGCCGACAATATTTTTGATACAAATTGGATCTCTGTTGCAATATATGTCTTAT\r\n",
      "TTTTTCAGAATCGTATGA\r\n",
      ">AT1G01020.2 | Symbols: ARV1 |  | chr1:7315-8666 REVERSE LENGTH=576\r\n",
      "ATGGCGGCGAGTGAACACAGATGCGTGGGATGTGGTTTTAGGGTAAAGTCATTGTTCATTCAATACTCTCCGGGTAACAT\r\n",
      "TCGTCTCATGAAATGCGGAAATTGCAAGGAAGTAGCAGATGAGTACATCGAGTGTGAACGCATGATTATTTTCATCGATT\r\n",
      "TAATCCTTCACAGACCAAAGGTATATAGACACGTCCTCTACAATGCAATTAATCCAGCAACTGTCAATATTCAGCATCTG\r\n",
      "TTGTGGAAGTTGGTCTTCGCCTATCTTCTTCTAGACTGTTATAGAAGCTTGCTACTGAGAAAAAGTGATGAAGAATCGAG\r\n",
      "CTTTTCTGATAGCCCTGTTCTTCTATCTATAAAGGTTCTGATTGGTGTCTTATCTGCAAACGCTGCATTTATCATCTCTT\r\n",
      "TTGCCATTGCGACTAAGGGTTTGCTAAATGAAGTTTCCAGAAGAAGAGAGATTATGTTGGGGATATTCATCTCTAGTTAC\r\n",
      "TTCAAGATATTTCTGCTTGCGATGTTGGTATGTTGTAGCTTTACCTCTCACTTAATTCCTAATATTGAAGTTCCAAACTT\r\n",
      "CTTAAGCATTCCATAA\r\n",
      ">AT1G01020.3 | Symbols: ARV1 |  | chr1:6915-8442 REVERSE LENGTH=711\r\n",
      "ATGAGTACATCGAGTGTGAACGCATGGTCTGTTTTAATCACTTTCTTTCCCTTTTTGGGTGTTTCCCTATTTCTTTCCAA\r\n",
      "TTTTGGTTTTTGGTTCTTTAATTGTTTTCTTTGGCAGATTATTTTCATCGATTTAATCCTTCACAGACCAAAGGTATATA\r\n",
      "GACACGTCCTCTACAATGCAATTAATCCAGCAACTGTCAATATTCAGCATCTGTTGTGGAAGTTGGTCTTCGCCTATCTT\r\n",
      "CTTCTAGACTGTTATAGAAGCTTGCTACTGAGAAAAAGTGATGAAGAATCGAGCTTTTCTGATAGCCCTGTTCTTCTATC\r\n",
      "TATAAAGGTTCTGATTGGTGTCTTATCTGCAAACGCTGCATTTATCATCTCTTTTGCCATTGCGACTAAGGGTTTGCTAA\r\n",
      "ATGAAGTTTCCAGAAGAAGAGAGATTATGTTGGGGATATTCATCTCTAGTTACTTCAAGATATTTCTGCTTGCGATGTTG\r\n",
      "GTATGGGAATTCCCAATGTCAGTGATTTTTTTTGTCGATATACTTCTCTTAACATCAAACTCCATGGCTCTTAAAGTGAT\r\n",
      "GACTGAATCAACAATGACCAGATGCATAGCCGTATGCTTAATCGCGCACTTGATTAGATTCTTGGTGGGTCAGATTTTTG\r\n",
      "AGCCGACAATATTTTTGATACAAATTGGATCTCTGTTGCAATATATGTCTTATTTTTTCAGAATCGTATGA\r\n",
      ">AT1G01020.4 | Symbols: ARV1 |  | chr1:6915-8442 REVERSE LENGTH=711\r\n",
      "ATGAGTACATCGAGTGTGAACGCATGGTCTGTTTTAATCACTTTCTTTCCCTTTTTGGGTGTTTCCCTATTTCTTTCCAA\r\n"
     ]
    }
   ],
   "source": [
    "!head -n 50 Araport11_cds_20220914.fa"
   ]
  },
  {
   "cell_type": "markdown",
   "metadata": {},
   "source": [
    "To calculate how many coding sequences we have in the file:"
   ]
  },
  {
   "cell_type": "code",
   "execution_count": 59,
   "metadata": {},
   "outputs": [
    {
     "name": "stdout",
     "output_type": "stream",
     "text": [
      "48266\r\n"
     ]
    }
   ],
   "source": [
    "!cat Araport11_cds_20220914.fa | grep \"^>\" | wc -l"
   ]
  },
  {
   "cell_type": "markdown",
   "metadata": {},
   "source": [
    "__What is a FASTA file?__\n",
    "\n",
    "A FASTA file is a text file format used for representing nucleotide or protein sequences. It is named after the FASTA software package that was one of the first tools for aligning and comparing DNA sequences. \n",
    "\n",
    "A typical FASTA file consists of one or more sequences, each preceded by a header line that begins with a `>` character. The header line contains a description of the sequence, which can include the sequence name, gene name, organism, and other relevant information. \n",
    "\n",
    "The sequence itself follows the header line and consists of a series of letters representing the nucleotide or amino acids that make up the sequence. The letters can be in upper or lowercase and may include spaces, dashes, or other characters to represent gaps or other features of the sequence. \n",
    "\n",
    "FASTA files are widely used in bioinformatics for storing and sharing sequence data, and are compatible with many different software tools and databases."
   ]
  },
  {
   "cell_type": "code",
   "execution_count": null,
   "metadata": {},
   "outputs": [],
   "source": []
  },
  {
   "cell_type": "markdown",
   "metadata": {},
   "source": [
    "### Load the sequence data into Python\n",
    "\n",
    "__Use the [SeqIO](https://biopython.org/wiki/SeqIO) module from Biopython to input and output sequences.__\n",
    "\n",
    "\n",
    "\n",
    "We will use this to store all CDS sequences into a list and to explore the sequence object a bit more."
   ]
  },
  {
   "cell_type": "code",
   "execution_count": 35,
   "metadata": {},
   "outputs": [],
   "source": [
    "from Bio import SeqIO"
   ]
  },
  {
   "cell_type": "code",
   "execution_count": 39,
   "metadata": {},
   "outputs": [],
   "source": [
    "filename = \"Araport11_cds_20220914.fa\"\n",
    "arabidopsis_cds = []\n",
    "\n",
    "for seq in SeqIO.parse(filename, 'fasta'):\n",
    "    arabidopsis_cds.append(seq)"
   ]
  },
  {
   "cell_type": "code",
   "execution_count": 1,
   "metadata": {},
   "outputs": [
    {
     "ename": "NameError",
     "evalue": "name 'arabidopsis_cds' is not defined",
     "output_type": "error",
     "traceback": [
      "\u001b[0;31m---------------------------------------------------------------------------\u001b[0m",
      "\u001b[0;31mNameError\u001b[0m                                 Traceback (most recent call last)",
      "Cell \u001b[0;32mIn[1], line 1\u001b[0m\n\u001b[0;32m----> 1\u001b[0m \u001b[43marabidopsis_cds\u001b[49m[\u001b[38;5;241m0\u001b[39m]\n",
      "\u001b[0;31mNameError\u001b[0m: name 'arabidopsis_cds' is not defined"
     ]
    }
   ],
   "source": [
    "arabidopsis_cds"
   ]
  },
  {
   "cell_type": "code",
   "execution_count": null,
   "metadata": {},
   "outputs": [],
   "source": []
  },
  {
   "cell_type": "code",
   "execution_count": null,
   "metadata": {},
   "outputs": [],
   "source": []
  },
  {
   "cell_type": "code",
   "execution_count": null,
   "metadata": {},
   "outputs": [],
   "source": []
  },
  {
   "cell_type": "code",
   "execution_count": null,
   "metadata": {},
   "outputs": [],
   "source": []
  },
  {
   "cell_type": "code",
   "execution_count": null,
   "metadata": {},
   "outputs": [],
   "source": []
  },
  {
   "cell_type": "code",
   "execution_count": null,
   "metadata": {},
   "outputs": [],
   "source": []
  },
  {
   "cell_type": "code",
   "execution_count": null,
   "metadata": {},
   "outputs": [],
   "source": []
  },
  {
   "cell_type": "code",
   "execution_count": null,
   "metadata": {},
   "outputs": [],
   "source": []
  },
  {
   "cell_type": "code",
   "execution_count": null,
   "metadata": {},
   "outputs": [],
   "source": []
  },
  {
   "cell_type": "code",
   "execution_count": 47,
   "metadata": {},
   "outputs": [],
   "source": [
    "class Person:\n",
    "    def __init__(self, name, age, gender):\n",
    "        self.name = name\n",
    "        self.age = age\n",
    "        self.gender = gender\n",
    "\n",
    "    def greet(self):\n",
    "        print(f\"Hello, my name is {self.name}.\")\n",
    "\n",
    "    def eat(self, food):\n",
    "        print(f\"{self.name} is eating {food}.\")\n",
    "\n",
    "    def sleep(self):\n",
    "        print(f\"{self.name} is sleeping.\")"
   ]
  },
  {
   "cell_type": "code",
   "execution_count": 48,
   "metadata": {},
   "outputs": [],
   "source": [
    "person2 = Person(\"Bob\", 25, \"male\")"
   ]
  },
  {
   "cell_type": "code",
   "execution_count": 50,
   "metadata": {},
   "outputs": [
    {
     "name": "stdout",
     "output_type": "stream",
     "text": [
      "Hello, my name is Bob.\n"
     ]
    }
   ],
   "source": [
    "person2.greet()"
   ]
  },
  {
   "cell_type": "code",
   "execution_count": null,
   "metadata": {},
   "outputs": [],
   "source": []
  },
  {
   "cell_type": "code",
   "execution_count": null,
   "metadata": {},
   "outputs": [],
   "source": []
  },
  {
   "cell_type": "code",
   "execution_count": null,
   "metadata": {},
   "outputs": [],
   "source": []
  },
  {
   "cell_type": "code",
   "execution_count": null,
   "metadata": {},
   "outputs": [],
   "source": []
  },
  {
   "cell_type": "code",
   "execution_count": null,
   "metadata": {},
   "outputs": [],
   "source": []
  },
  {
   "cell_type": "code",
   "execution_count": null,
   "metadata": {},
   "outputs": [],
   "source": []
  },
  {
   "cell_type": "markdown",
   "metadata": {},
   "source": []
  },
  {
   "cell_type": "code",
   "execution_count": 3,
   "metadata": {},
   "outputs": [],
   "source": []
  },
  {
   "cell_type": "code",
   "execution_count": null,
   "metadata": {},
   "outputs": [],
   "source": []
  },
  {
   "cell_type": "code",
   "execution_count": 12,
   "metadata": {},
   "outputs": [],
   "source": []
  },
  {
   "cell_type": "code",
   "execution_count": 5,
   "metadata": {},
   "outputs": [],
   "source": []
  },
  {
   "cell_type": "code",
   "execution_count": 18,
   "metadata": {},
   "outputs": [],
   "source": []
  },
  {
   "cell_type": "code",
   "execution_count": 19,
   "metadata": {},
   "outputs": [
    {
     "data": {
      "text/plain": [
       "SeqRecord(seq=Seq('ATGGAGGATCAAGTTGGGTTTGGGTTCCGTCCGAACGACGAGGAGCTCGTTGGT...TAA'), id='AT1G01010.1', name='AT1G01010.1', description='AT1G01010.1 | Symbols: NAC001, NTL10, ANAC001 | NAC domain containing protein 1 | chr1:3760-5630 FORWARD LENGTH=1290', dbxrefs=[])"
      ]
     },
     "execution_count": 19,
     "metadata": {},
     "output_type": "execute_result"
    }
   ],
   "source": []
  },
  {
   "cell_type": "markdown",
   "metadata": {},
   "source": [
    "### Exercise II\n",
    "\n",
    "* Store the 3 sequence in a variable with the name third_cds"
   ]
  },
  {
   "cell_type": "code",
   "execution_count": 21,
   "metadata": {},
   "outputs": [],
   "source": [
    "third_cds = arabidopsis_cds[2]"
   ]
  },
  {
   "cell_type": "code",
   "execution_count": 22,
   "metadata": {},
   "outputs": [
    {
     "data": {
      "text/plain": [
       "SeqRecord(seq=Seq('ATGGCGGCGAGTGAACACAGATGCGTGGGATGTGGTTTTAGGGTAAAGTCATTG...TAA'), id='AT1G01020.2', name='AT1G01020.2', description='AT1G01020.2 | Symbols: ARV1 |  | chr1:7315-8666 REVERSE LENGTH=576', dbxrefs=[])"
      ]
     },
     "execution_count": 22,
     "metadata": {},
     "output_type": "execute_result"
    }
   ],
   "source": [
    "third_cds"
   ]
  },
  {
   "cell_type": "markdown",
   "metadata": {},
   "source": [
    "### ...it's like a sequence dog....\n",
    "\n",
    "A SeqRecord has several attributes such as\n",
    "\n",
    "* a sequence -> access with .seq\n",
    "* an id -> access with .id\n",
    "* a name -> access with .name\n",
    "* a description -> access with .description\n",
    "\n",
    "... and many more as described here [SeqRecord](https://biopython.org/wiki/SeqRecord)"
   ]
  },
  {
   "cell_type": "code",
   "execution_count": 23,
   "metadata": {},
   "outputs": [
    {
     "data": {
      "text/plain": [
       "SeqRecord(seq=Seq('ATGGCGGCGAGTGAACACAGATGCGTGGGATGTGGTTTTAGGGTAAAGTCATTG...TAA'), id='AT1G01020.2', name='AT1G01020.2', description='AT1G01020.2 | Symbols: ARV1 |  | chr1:7315-8666 REVERSE LENGTH=576', dbxrefs=[])"
      ]
     },
     "execution_count": 23,
     "metadata": {},
     "output_type": "execute_result"
    }
   ],
   "source": [
    "third_cds"
   ]
  },
  {
   "cell_type": "code",
   "execution_count": 24,
   "metadata": {},
   "outputs": [
    {
     "name": "stdout",
     "output_type": "stream",
     "text": [
      "ID: AT1G01020.2\n",
      "Name: AT1G01020.2\n",
      "Description: AT1G01020.2 | Symbols: ARV1 |  | chr1:7315-8666 REVERSE LENGTH=576\n",
      "Number of features: 0\n",
      "Seq('ATGGCGGCGAGTGAACACAGATGCGTGGGATGTGGTTTTAGGGTAAAGTCATTG...TAA')\n"
     ]
    }
   ],
   "source": [
    "print(third_cds)"
   ]
  },
  {
   "cell_type": "code",
   "execution_count": 25,
   "metadata": {},
   "outputs": [
    {
     "data": {
      "text/plain": [
       "['__add__',\n",
       " '__bool__',\n",
       " '__class__',\n",
       " '__contains__',\n",
       " '__delattr__',\n",
       " '__dict__',\n",
       " '__dir__',\n",
       " '__doc__',\n",
       " '__eq__',\n",
       " '__format__',\n",
       " '__ge__',\n",
       " '__getattribute__',\n",
       " '__getitem__',\n",
       " '__gt__',\n",
       " '__hash__',\n",
       " '__init__',\n",
       " '__init_subclass__',\n",
       " '__iter__',\n",
       " '__le__',\n",
       " '__le___',\n",
       " '__len__',\n",
       " '__lt__',\n",
       " '__module__',\n",
       " '__ne__',\n",
       " '__new__',\n",
       " '__radd__',\n",
       " '__reduce__',\n",
       " '__reduce_ex__',\n",
       " '__repr__',\n",
       " '__setattr__',\n",
       " '__sizeof__',\n",
       " '__str__',\n",
       " '__subclasshook__',\n",
       " '__weakref__',\n",
       " '_per_letter_annotations',\n",
       " '_seq',\n",
       " '_set_per_letter_annotations',\n",
       " '_set_seq',\n",
       " 'annotations',\n",
       " 'dbxrefs',\n",
       " 'description',\n",
       " 'features',\n",
       " 'format',\n",
       " 'id',\n",
       " 'letter_annotations',\n",
       " 'lower',\n",
       " 'name',\n",
       " 'reverse_complement',\n",
       " 'seq',\n",
       " 'translate',\n",
       " 'upper']"
      ]
     },
     "execution_count": 25,
     "metadata": {},
     "output_type": "execute_result"
    }
   ],
   "source": [
    "dir(third_cds)"
   ]
  },
  {
   "cell_type": "markdown",
   "metadata": {},
   "source": [
    "### Let's access the different 'characteristics' (called attributes) of our SeqRecord"
   ]
  },
  {
   "cell_type": "code",
   "execution_count": 26,
   "metadata": {},
   "outputs": [
    {
     "data": {
      "text/plain": [
       "Seq('ATGGCGGCGAGTGAACACAGATGCGTGGGATGTGGTTTTAGGGTAAAGTCATTG...TAA')"
      ]
     },
     "execution_count": 26,
     "metadata": {},
     "output_type": "execute_result"
    }
   ],
   "source": [
    "###the sequence\n",
    "third_cds.seq"
   ]
  },
  {
   "cell_type": "code",
   "execution_count": 27,
   "metadata": {},
   "outputs": [
    {
     "name": "stdout",
     "output_type": "stream",
     "text": [
      "ATGGCGGCGAGTGAACACAGATGCGTGGGATGTGGTTTTAGGGTAAAGTCATTGTTCATTCAATACTCTCCGGGTAACATTCGTCTCATGAAATGCGGAAATTGCAAGGAAGTAGCAGATGAGTACATCGAGTGTGAACGCATGATTATTTTCATCGATTTAATCCTTCACAGACCAAAGGTATATAGACACGTCCTCTACAATGCAATTAATCCAGCAACTGTCAATATTCAGCATCTGTTGTGGAAGTTGGTCTTCGCCTATCTTCTTCTAGACTGTTATAGAAGCTTGCTACTGAGAAAAAGTGATGAAGAATCGAGCTTTTCTGATAGCCCTGTTCTTCTATCTATAAAGGTTCTGATTGGTGTCTTATCTGCAAACGCTGCATTTATCATCTCTTTTGCCATTGCGACTAAGGGTTTGCTAAATGAAGTTTCCAGAAGAAGAGAGATTATGTTGGGGATATTCATCTCTAGTTACTTCAAGATATTTCTGCTTGCGATGTTGGTATGTTGTAGCTTTACCTCTCACTTAATTCCTAATATTGAAGTTCCAAACTTCTTAAGCATTCCATAA\n"
     ]
    }
   ],
   "source": [
    "print(third_cds.seq)"
   ]
  },
  {
   "cell_type": "code",
   "execution_count": null,
   "metadata": {},
   "outputs": [],
   "source": [
    "###the id\n",
    "third_cds.id"
   ]
  },
  {
   "cell_type": "code",
   "execution_count": null,
   "metadata": {},
   "outputs": [],
   "source": [
    "###the description\n",
    "third_cds.description"
   ]
  },
  {
   "cell_type": "code",
   "execution_count": null,
   "metadata": {},
   "outputs": [],
   "source": [
    "####reverse complement\n",
    "third_cds.reverse_complement()"
   ]
  },
  {
   "cell_type": "markdown",
   "metadata": {},
   "source": [
    "...it's like a sequnce dog..."
   ]
  },
  {
   "cell_type": "markdown",
   "metadata": {},
   "source": [
    "### Exercise III\n",
    "\n",
    "* How long is the sequence of the third_cds"
   ]
  },
  {
   "cell_type": "code",
   "execution_count": null,
   "metadata": {},
   "outputs": [],
   "source": [
    "print('The lengths of the third cds is ', len(third_cds.seq), '.', sep='')"
   ]
  },
  {
   "cell_type": "markdown",
   "metadata": {},
   "source": [
    "### Exercise  IV\n",
    "\n",
    "* now let's make a length dictionary stores the length of all CDS in a dictionary.\n",
    "* The keys of the dictionary will be the sequence ids and the vaules the lengths.\n",
    "* BONUS. Print the name of the longest cds sequence."
   ]
  },
  {
   "cell_type": "code",
   "execution_count": null,
   "metadata": {},
   "outputs": [],
   "source": [
    "###Faded example\n",
    "cds_length_dict = {}\n",
    "for seq in arabidopsis_cds:\n",
    "    cds_length_dict[seq.id] = len(seq.seq)"
   ]
  },
  {
   "cell_type": "code",
   "execution_count": null,
   "metadata": {},
   "outputs": [],
   "source": [
    "max_length = max(cds_length_dict.values())"
   ]
  },
  {
   "cell_type": "code",
   "execution_count": null,
   "metadata": {},
   "outputs": [],
   "source": [
    "for _id, length in cds_length_dict.items():\n",
    "    if length == max_length:\n",
    "        print(\"This is one of the longest Arabidopsis CDS sequences:\", _id)\n",
    "        print(\"It is this many bases long:\", length)"
   ]
  },
  {
   "cell_type": "markdown",
   "metadata": {},
   "source": [
    "### Exercise  V\n",
    "\n",
    "* now let's make a list that stores the length of all CDS in order (sic!).\n"
   ]
  },
  {
   "cell_type": "code",
   "execution_count": null,
   "metadata": {},
   "outputs": [],
   "source": [
    "###Let's make a cds lenght list as well for later.\n",
    "###Faded example\n",
    "cds_length = []\n",
    "for seq in arabidopsis_cds:\n",
    "    cds_length.append(len(seq.seq))"
   ]
  },
  {
   "cell_type": "markdown",
   "metadata": {},
   "source": [
    "### Let's translate all the sequences and store them as protein sequences\n",
    "\n",
    "We will use the [Seq](https://biopython.org/wiki/Seq) and [SeqRecord](https://biopython.org/wiki/SeqRecord) objects as a container to store these protein sequences.\n",
    "\n",
    "...it's like a protein sequence dog..."
   ]
  },
  {
   "cell_type": "code",
   "execution_count": null,
   "metadata": {},
   "outputs": [],
   "source": [
    "from Bio import SeqRecord, Seq"
   ]
  },
  {
   "cell_type": "code",
   "execution_count": null,
   "metadata": {},
   "outputs": [],
   "source": [
    "third_cds.seq"
   ]
  },
  {
   "cell_type": "markdown",
   "metadata": {},
   "source": [
    "Because we know that the third_cds sequence is a DNA sequence we know we can translate it."
   ]
  },
  {
   "cell_type": "code",
   "execution_count": null,
   "metadata": {},
   "outputs": [],
   "source": [
    "####translate\n",
    "third_cds.seq.translate()"
   ]
  },
  {
   "cell_type": "code",
   "execution_count": null,
   "metadata": {},
   "outputs": [],
   "source": [
    "###let's make a protein record for the third cds\n",
    "third_protein = SeqRecord.SeqRecord(seq=third_cds.seq.translate())"
   ]
  },
  {
   "cell_type": "code",
   "execution_count": null,
   "metadata": {},
   "outputs": [],
   "source": [
    "print(third_protein)"
   ]
  },
  {
   "cell_type": "code",
   "execution_count": null,
   "metadata": {},
   "outputs": [],
   "source": [
    "third_protein.id = third_cds.id\n",
    "third_protein.name = third_cds.name\n",
    "third_protein.description = third_cds.description"
   ]
  },
  {
   "cell_type": "code",
   "execution_count": null,
   "metadata": {},
   "outputs": [],
   "source": [
    "print(third_protein)"
   ]
  },
  {
   "cell_type": "markdown",
   "metadata": {},
   "source": [
    "### Exercise IV\n",
    "\n",
    "Let's make a list of all Arabidopsis protein sequences"
   ]
  },
  {
   "cell_type": "code",
   "execution_count": null,
   "metadata": {},
   "outputs": [],
   "source": [
    "#### Faded example\n",
    "arabidopsis_proteins = []\n",
    "protein_length = []\n",
    "\n",
    "for cds in arabidopsis_cds:\n",
    "    tmp_protein = SeqRecord.SeqRecord(cds.seq.translate())\n",
    "    tmp_protein.id = cds.id\n",
    "    tmp_protein.name = cds.name\n",
    "    tmp_protein.description = cds.description\n",
    "    arabidopsis_proteins.append(tmp_protein)\n",
    "    protein_length.append(len(tmp_protein.seq))"
   ]
  },
  {
   "cell_type": "code",
   "execution_count": null,
   "metadata": {},
   "outputs": [],
   "source": [
    "###Quick checks are good\n",
    "len(arabidopsis_proteins) == len(arabidopsis_cds)"
   ]
  },
  {
   "cell_type": "markdown",
   "metadata": {},
   "source": [
    "### Let's see if there is a correlation between \n",
    "\n",
    "Some people find python plotting a bit awkward and it is still good to know the basics.\n",
    "\n",
    "The basic python plotting is [Matplotlib](https://matplotlib.org/) and [Seaborn](https://seaborn.pydata.org/). More advanced for interactive figures and such is [Altair](https://altair-viz.github.io/) which is up and coming."
   ]
  },
  {
   "cell_type": "markdown",
   "metadata": {},
   "source": [
    "For now some starting plots in matplotlib"
   ]
  },
  {
   "cell_type": "code",
   "execution_count": null,
   "metadata": {},
   "outputs": [],
   "source": [
    "import matplotlib.pyplot as plt"
   ]
  },
  {
   "cell_type": "code",
   "execution_count": null,
   "metadata": {},
   "outputs": [],
   "source": [
    "?plt.scatter"
   ]
  },
  {
   "cell_type": "code",
   "execution_count": null,
   "metadata": {},
   "outputs": [],
   "source": [
    "plt.scatter(protein_length, cds_length)"
   ]
  },
  {
   "cell_type": "code",
   "execution_count": null,
   "metadata": {},
   "outputs": [],
   "source": [
    "plt.scatter(protein_length, cds_length)\n",
    "plt.ylabel('CDS Length [bp]')\n",
    "plt.xlabel('Protein Length [aa]')"
   ]
  },
  {
   "cell_type": "code",
   "execution_count": null,
   "metadata": {},
   "outputs": [],
   "source": [
    "plt.hist(protein_length)"
   ]
  },
  {
   "cell_type": "code",
   "execution_count": null,
   "metadata": {},
   "outputs": [],
   "source": [
    "plt.hist(protein_length, bins=500)"
   ]
  },
  {
   "cell_type": "markdown",
   "metadata": {},
   "source": [
    "### Let's caclulate the [Isoelectric Point](https://en.wikipedia.org/wiki/Isoelectric_point) for all proteins \n",
    "\n",
    "The isoelectric point is the pH at which a peptide sequence has no charge.\n",
    "\n",
    "We will makes use of the [SeqUtils](https://biopython.org/DIST/docs/api/Bio.SeqUtils-module.html) using a specific dog idea (aka Class) called [IsoelectricPoint](https://biopython.org/DIST/docs/api/Bio.SeqUtils.IsoelectricPoint.IsoelectricPoint-class.html) to make these computations easier."
   ]
  },
  {
   "cell_type": "code",
   "execution_count": null,
   "metadata": {},
   "outputs": [],
   "source": [
    "from Bio.SeqUtils import IsoelectricPoint as IP"
   ]
  },
  {
   "cell_type": "code",
   "execution_count": null,
   "metadata": {},
   "outputs": [],
   "source": [
    "?IP"
   ]
  },
  {
   "cell_type": "code",
   "execution_count": null,
   "metadata": {},
   "outputs": [],
   "source": [
    "#### third_protein\n",
    "third_protein.seq"
   ]
  },
  {
   "cell_type": "code",
   "execution_count": null,
   "metadata": {},
   "outputs": [],
   "source": [
    "protein = IP.IsoelectricPoint(third_protein.seq)"
   ]
  },
  {
   "cell_type": "code",
   "execution_count": null,
   "metadata": {},
   "outputs": [],
   "source": []
  },
  {
   "cell_type": "markdown",
   "metadata": {},
   "source": [
    "...it's like a sequnce dog..."
   ]
  },
  {
   "cell_type": "code",
   "execution_count": null,
   "metadata": {},
   "outputs": [],
   "source": [
    "###calculate the pi\n",
    "protein.pi()"
   ]
  },
  {
   "cell_type": "code",
   "execution_count": null,
   "metadata": {},
   "outputs": [],
   "source": [
    "####calculate the charge at a certain \n",
    "protein.charge_at_pH(10)"
   ]
  },
  {
   "cell_type": "markdown",
   "metadata": {},
   "source": [
    "### Exercise VII\n",
    "\n",
    "* Let's make a list of all the pi values of all proteins.\n",
    "* Plot the pi distribution of all proteins in Arabidopsis.\n",
    "* Explain the observed distribution"
   ]
  },
  {
   "cell_type": "code",
   "execution_count": null,
   "metadata": {},
   "outputs": [],
   "source": [
    "#### Faded example\n",
    "protein_pi_values = []\n",
    "for protein in arabidopsis_proteins:\n",
    "    tmp_protein = IP.IsoelectricPoint(protein.seq)\n",
    "    tmp_protein_pi = tmp_protein.pi()\n",
    "    protein_pi_values.append(tmp_protein_pi)"
   ]
  },
  {
   "cell_type": "code",
   "execution_count": null,
   "metadata": {},
   "outputs": [],
   "source": [
    "#### Plot the distribution of pi values of all arabidopsis proteins\n",
    "plt.hist(protein_pi_values, bins = 100)\n",
    "plt.xlabel('pi [pH]')"
   ]
  },
  {
   "cell_type": "markdown",
   "metadata": {},
   "source": [
    "### Exercise VIII\n",
    "\n",
    "* look at the relationship between protein length and pI values\n",
    "\n"
   ]
  },
  {
   "cell_type": "code",
   "execution_count": null,
   "metadata": {},
   "outputs": [],
   "source": [
    "plt.scatter(protein_length, protein_pi_values, alpha=0.2)"
   ]
  },
  {
   "cell_type": "markdown",
   "metadata": {},
   "source": [
    "The problem here is that too many points are overlapping and we would need to do some summary statistics while plotting."
   ]
  },
  {
   "cell_type": "markdown",
   "metadata": {},
   "source": [
    "### Seaborn to the rescue!\n",
    "\n",
    "Let's do some density plots looking at both [distributions](https://seaborn.pydata.org/tutorial/distributions.html) at once."
   ]
  },
  {
   "cell_type": "code",
   "execution_count": null,
   "metadata": {},
   "outputs": [],
   "source": [
    "import seaborn as sns"
   ]
  },
  {
   "cell_type": "code",
   "execution_count": null,
   "metadata": {},
   "outputs": [],
   "source": [
    "sns.kdeplot(protein_length, protein_pi_values)"
   ]
  },
  {
   "cell_type": "code",
   "execution_count": null,
   "metadata": {},
   "outputs": [],
   "source": [
    "sns.jointplot(protein_length, protein_pi_values, kind='hex', color = 'g')"
   ]
  },
  {
   "cell_type": "code",
   "execution_count": null,
   "metadata": {},
   "outputs": [],
   "source": []
  },
  {
   "cell_type": "code",
   "execution_count": null,
   "metadata": {},
   "outputs": [],
   "source": []
  },
  {
   "cell_type": "code",
   "execution_count": null,
   "metadata": {},
   "outputs": [],
   "source": []
  },
  {
   "cell_type": "code",
   "execution_count": null,
   "metadata": {},
   "outputs": [],
   "source": []
  },
  {
   "cell_type": "code",
   "execution_count": null,
   "metadata": {},
   "outputs": [],
   "source": [
    "%matplotlib inline\n",
    "from IPython.display import Image"
   ]
  }
 ],
 "metadata": {
  "kernelspec": {
   "display_name": "Python 3 (ipykernel)",
   "language": "python",
   "name": "python3"
  },
  "language_info": {
   "codemirror_mode": {
    "name": "ipython",
    "version": 3
   },
   "file_extension": ".py",
   "mimetype": "text/x-python",
   "name": "python",
   "nbconvert_exporter": "python",
   "pygments_lexer": "ipython3",
   "version": "3.10.9"
  }
 },
 "nbformat": 4,
 "nbformat_minor": 4
}
