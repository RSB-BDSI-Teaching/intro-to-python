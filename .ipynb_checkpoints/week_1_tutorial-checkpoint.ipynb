{
 "cells": [
  {
   "cell_type": "code",
   "execution_count": 3,
   "id": "f0a34cfc",
   "metadata": {},
   "outputs": [
    {
     "name": "stderr",
     "output_type": "stream",
     "text": [
      "'pwd' is not recognized as an internal or external command,\n",
      "operable program or batch file.\n"
     ]
    }
   ],
   "source": [
    "!pwd"
   ]
  },
  {
   "cell_type": "code",
   "execution_count": 4,
   "id": "4a41bcee",
   "metadata": {},
   "outputs": [
    {
     "name": "stdout",
     "output_type": "stream",
     "text": [
      " Volume in drive C is OSDisk\n",
      " Volume Serial Number is 9659-A140\n",
      "\n",
      " Directory of C:\\Users\\u1133824\\Desktop\\training\\intro-to-python\n",
      "\n",
      "23/03/2023  10:02 AM    <DIR>          .\n",
      "23/03/2023  10:02 AM    <DIR>          ..\n",
      "23/03/2023  10:02 AM    <DIR>          .ipynb_checkpoints\n",
      "21/12/2022  03:24 PM               476 course-overview.md\n",
      "22/12/2022  04:31 PM    <DIR>          data\n",
      "21/12/2022  03:37 PM               745 Untitled.ipynb\n",
      "23/03/2023  10:02 AM                72 Untitled1.ipynb\n",
      "22/12/2022  10:35 AM                 0 week1-tutorial.md\n",
      "               4 File(s)          1,293 bytes\n",
      "               4 Dir(s)  312,431,628,288 bytes free\n"
     ]
    }
   ],
   "source": [
    "!DIR"
   ]
  },
  {
   "cell_type": "code",
   "execution_count": null,
   "id": "44bb052f",
   "metadata": {},
   "outputs": [],
   "source": []
  }
 ],
 "metadata": {
  "kernelspec": {
   "display_name": "Python 3 (ipykernel)",
   "language": "python",
   "name": "python3"
  },
  "language_info": {
   "codemirror_mode": {
    "name": "ipython",
    "version": 3
   },
   "file_extension": ".py",
   "mimetype": "text/x-python",
   "name": "python",
   "nbconvert_exporter": "python",
   "pygments_lexer": "ipython3",
   "version": "3.9.16"
  }
 },
 "nbformat": 4,
 "nbformat_minor": 5
}
