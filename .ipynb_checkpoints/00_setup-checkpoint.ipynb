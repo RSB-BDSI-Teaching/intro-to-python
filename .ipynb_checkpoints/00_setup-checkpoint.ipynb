{
 "cells": [
  {
   "cell_type": "markdown",
   "id": "1add48af",
   "metadata": {},
   "source": [
    "# Setting up for your Windows machine (Windows 10 or higher)\n",
    "\n",
    "1. Following the [tutorial](https://ubuntu.com/tutorials/install-ubuntu-on-wsl2-on-windows-11-with-gui-support#1-overview) to install the Ubuntu Windows Subsystem for Linux (WSL). \n",
    "\n",
    "2. After installing the WSL, download the Anaconda installer by running the command below in your ubuntu terminal:\n",
    "\n",
    "```wget https://repo.anaconda.com/archive/Anaconda3-2023.03-Linux-x86_64.sh```\n",
    "\n",
    "3. After the downloading, run the following command to install it:\n",
    "\n",
    "```bash Anaconda3-2023.03-Linux-x86_64.sh```\n",
    "\n",
    "4. After installing, use the command ```exit``` to exit the terminal and reopen a new one in order to start Anaconda. In the new terminal, you will see a ```(base)``` before the command prompt. \n"
   ]
  },
  {
   "cell_type": "markdown",
   "id": "ddd9dda3",
   "metadata": {},
   "source": [
    "# Setting up for your MacOS machine\n",
    "\n",
    "1. Open the terminal, and run the following command to download Anaconda:\n",
    "    * (Intel chip) ```wget https://repo.anaconda.com/archive/Anaconda3-2023.03-MacOSX-x86_64.sh```\n",
    "    * (M1 chip) ```wget https://repo.anaconda.com/archive/Anaconda3-2023.03-MacOSX-arm64.sh```\n",
    "\n",
    "2. After the downloading, run the following command to install it:\n",
    "    * (Intel chip) ```bash Anaconda3-2023.03-Linux-x86_64.sh```\n",
    "    * (M1 chip) ```bash Anaconda3-2023.03-MaxOSX-arm64.sh```\n",
    "\n",
    "3. After installing, use the command ```exit``` to exit the terminal and reopen a new one in order to start Anaconda. In the new terminal, you will see a ```(base)``` before the command prompt. "
   ]
  },
  {
   "cell_type": "code",
   "execution_count": null,
   "id": "14527bd4",
   "metadata": {},
   "outputs": [],
   "source": [
    "########################\n",
    "\n",
    "# finished week 1 tutorail. \n",
    "# understand everything and changed where it's needed.\n",
    "\n",
    "# need to run the week 2 tutorial and understand everything, and change wherever it's needed.\n"
   ]
  }
 ],
 "metadata": {
  "kernelspec": {
   "display_name": "Python 3 (ipykernel)",
   "language": "python",
   "name": "python3"
  },
  "language_info": {
   "codemirror_mode": {
    "name": "ipython",
    "version": 3
   },
   "file_extension": ".py",
   "mimetype": "text/x-python",
   "name": "python",
   "nbconvert_exporter": "python",
   "pygments_lexer": "ipython3",
   "version": "3.10.9"
  }
 },
 "nbformat": 4,
 "nbformat_minor": 5
}
