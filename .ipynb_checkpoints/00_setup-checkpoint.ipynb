{
 "cells": [
  {
   "cell_type": "markdown",
   "id": "1add48af",
   "metadata": {},
   "source": [
    "# Setting up for your Windows machine (Windows 10 or higher)\n",
    "\n",
    "1. Following the [tutorial](https://ubuntu.com/tutorials/install-ubuntu-on-wsl2-on-windows-11-with-gui-support#1-overview) to install the Ubuntu Windows Subsystem for Linux (WSL). \n",
    "\n",
    "2. After installing the WSL, dhe Anaconda installer by running the command below in your ubuntu terminal. "
   ]
  },
  {
   "cell_type": "markdown",
   "id": "ddd9dda3",
   "metadata": {},
   "source": [
    "# Setting up for your MacOS machine"
   ]
  },
  {
   "cell_type": "code",
   "execution_count": null,
   "id": "14527bd4",
   "metadata": {},
   "outputs": [],
   "source": []
  }
 ],
 "metadata": {
  "kernelspec": {
   "display_name": "Python 3 (ipykernel)",
   "language": "python",
   "name": "python3"
  },
  "language_info": {
   "codemirror_mode": {
    "name": "ipython",
    "version": 3
   },
   "file_extension": ".py",
   "mimetype": "text/x-python",
   "name": "python",
   "nbconvert_exporter": "python",
   "pygments_lexer": "ipython3",
   "version": "3.10.9"
  }
 },
 "nbformat": 4,
 "nbformat_minor": 5
}
