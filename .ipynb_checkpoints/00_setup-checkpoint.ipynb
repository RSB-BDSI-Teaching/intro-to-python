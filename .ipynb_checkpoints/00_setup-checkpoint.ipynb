{
 "cells": [
  {
   "cell_type": "markdown",
   "id": "b3a4b6d0",
   "metadata": {},
   "source": [
    "# Installing WSL and Anaconda on your Windows machine (Windows 10 or higher)\n",
    "\n",
    "__You will need administrator's rights for this process.__\n",
    "\n",
    "1. Following step 1, 2, and 3 of the [tutorial](https://ubuntu.com/tutorials/install-ubuntu-on-wsl2-on-windows-10#1-overview) to install the Ubuntu Windows Subsystem for Linux (WSL) (you will need administrator rights).\n",
    "\n",
    "2. After the above tutorial, you have successfully installed a Linux system in your Windows computer.\n",
    "\n",
    "3. Then, we can open an Ubuntu terminal by searching \"Ubuntu\" in the Windows search bar, and click the icon to open. Your Ubuntu terminal should look like this: ![ubuntu_terminal](figures/ubuntu_terminal.png)\n",
    "\n",
    "4. Then, we need to run two lines of commands to download the Anaconda installer into our Linux system.\n",
    "\n",
    "5. Let's run the first command by copying the following code, then go to your Ubuntu terminal, and use `right click` to paste it to the terminal, then press `enter` to run the code."
   ]
  },
  {
   "cell_type": "raw",
   "id": "dbf63b56",
   "metadata": {},
   "source": [
    "cd ~"
   ]
  },
  {
   "cell_type": "markdown",
   "id": "07153e41",
   "metadata": {},
   "source": [
    "6. You may see result like this: ![cd](figures/cd_result.png)\n",
    "\n",
    "7. Then, we can run the second command by copying the following code to our Ubuntu terminal and press `enter` to run. "
   ]
  },
  {
   "cell_type": "raw",
   "id": "edea538a",
   "metadata": {},
   "source": [
    "wget https://repo.anaconda.com/archive/Anaconda3-2023.03-Linux-x86_64.sh"
   ]
  },
  {
   "cell_type": "markdown",
   "id": "7b28c23e",
   "metadata": {},
   "source": [
    "8. You may see result like this: ![download_installer](figures/download_installer.png)"
   ]
  },
  {
   "cell_type": "markdown",
   "id": "c61ca2e1",
   "metadata": {},
   "source": [
    "9. Then, we can run the following command to run the installer to install Anaconda:"
   ]
  },
  {
   "cell_type": "raw",
   "id": "38f57893",
   "metadata": {},
   "source": [
    "bash Anaconda3-2023.03-Linux-x86_64.sh"
   ]
  },
  {
   "cell_type": "markdown",
   "id": "4d4b90a2",
   "metadata": {},
   "source": [
    "10. Apologies for not having an example image for the above step because I have installed Anaconda on my laptop already. You may be prompted with questions, you can answer the questions by type `y` or `yes` and press `enter`.\n",
    "\n",
    "11. After you finish installing Anaconda, you need to exit the Ubuntu terminal and re-open a new one. To do this, we can simply type `exit` in the command line and press `enter`, and in the Windows search bar search \"Ubuntu\" and open a new terminal. \n",
    "\n",
    "12. In the new Ubuntu terminal, you will see a text `(base)` at the beginning of your command line, like the first picture I showed above. If you see the `(base)`, it means you have successfully installed Anaconda in your Linux system. "
   ]
  },
  {
   "cell_type": "markdown",
   "id": "cfb359fd",
   "metadata": {},
   "source": [
    "# Installing Anaconda on your MacOS machine\n",
    "\n",
    "### If you have an ANU managed laptop \n",
    "\n",
    "1. Install Anaconda and Homebrew from the ANU software management App (I forgot the App name). \n",
    "\n",
    "### If you have a personal laptop \n",
    "\n",
    "1. Go to the Anaconda [website](https://www.anaconda.com/download), and download the right version for your device, and install it. "
   ]
  },
  {
   "cell_type": "markdown",
   "id": "4812aa93",
   "metadata": {},
   "source": [
    "# Downloading the course materials from GitHub \n",
    "\n",
    "1. Git comes installed by default on most Mac and Linux machines so we don't have to download it. \n",
    "\n",
    "2. Go to this GitHub [page](https://github.com/RSB-BDSI-Teaching/intro-to-python).\n",
    "\n",
    "3. Click the green __Code__ button, then click __HTTPS__, then copy the https address.\n",
    "\n",
    "![github](figures/github_page.png)\n",
    "\n",
    "4. Go to your terminal and run the following code:\n",
    "\n",
    "```cd ~```\n",
    "\n",
    "```git clone the_https_address```\n",
    "\n",
    "5. Then use the ```ls``` command to check if the GitHub repository has been downloaded."
   ]
  },
  {
   "cell_type": "markdown",
   "id": "14bcf6a5",
   "metadata": {},
   "source": [
    "# Install packages using conda \n",
    "\n",
    "Run the following code in the Terminal to install the necessary packages used in this course:\n",
    "\n",
    "```conda install -c conda-forge biopython``` \n",
    "\n",
    "You will be prompted with a question asking if you want to install the following packages, please type `y` and press `enter` to continue. "
   ]
  },
  {
   "cell_type": "markdown",
   "id": "43cc4a59",
   "metadata": {},
   "source": [
    "# Using Jupyter Notebook\n",
    "\n",
    "1. Run the following command in the terminal to start Jupyter Notebook:\n",
    "\n",
    "```cd ~/intro-to-python```\n",
    "\n",
    "```jupyter notebook```\n",
    "\n",
    "2. After running the command, you will see some information like this:\n",
    "\n",
    "![jupyter_notebook](figures/jupyter_notebook.png)\n",
    "\n",
    "3. Copy one of the bottom 2 URLs and open it using your browser, you will see the Jupyter Notebook interface. Then you can choose one of the Jupyter Notebook files to starting to work on. \n",
    "\n",
    "4. In the meanwhile, don't close or terminate your terminal, it will stop the running Jupyter Notebook. "
   ]
  }
 ],
 "metadata": {
  "kernelspec": {
   "display_name": "Python 3 (ipykernel)",
   "language": "python",
   "name": "python3"
  },
  "language_info": {
   "codemirror_mode": {
    "name": "ipython",
    "version": 3
   },
   "file_extension": ".py",
   "mimetype": "text/x-python",
   "name": "python",
   "nbconvert_exporter": "python",
   "pygments_lexer": "ipython3",
   "version": "3.10.9"
  }
 },
 "nbformat": 4,
 "nbformat_minor": 5
}
