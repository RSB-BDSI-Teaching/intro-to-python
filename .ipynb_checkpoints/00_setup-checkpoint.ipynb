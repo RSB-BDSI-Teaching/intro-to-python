{
 "cells": [
  {
   "cell_type": "markdown",
   "id": "b3a4b6d0",
   "metadata": {},
   "source": [
    "# Setting up for your Windows machine (Windows 10 or higher)\n",
    "\n",
    "1. Following the [tutorial](https://ubuntu.com/tutorials/install-ubuntu-on-wsl2-on-windows-11-with-gui-support#1-overview) to install the Ubuntu Windows Subsystem for Linux (WSL) (you will need administrator rights).\n",
    "\n",
    "2. After installing the WSL, download the Anaconda installer by running the command below in your ubuntu terminal:\n",
    "\n",
    "```wget https://repo.anaconda.com/archive/Anaconda3-2023.03-Linux-x86_64.sh```\n",
    "\n",
    "3. After the downloading, run the following command to install it:\n",
    "\n",
    "```bash Anaconda3-2023.03-Linux-x86_64.sh```\n",
    "\n",
    "4. After installing, use the command ```exit``` to exit the terminal and reopen a new one in order to start Anaconda. In the new terminal, you will see a ```(base)``` before the command prompt. "
   ]
  },
  {
   "cell_type": "markdown",
   "id": "b3681b99",
   "metadata": {},
   "source": [
    "# Setting up for your MacOS machine\n",
    "\n",
    "1. Open the terminal, and run the following command to download Anaconda:\n",
    "\n",
    "* (Intel chip): ```wget https://repo.anaconda.com/archive/Anaconda3-2023.03-MacOSX-x86_64.sh```\n",
    "* (M1 chip): ```wget https://repo.anaconda.com/archive/Anaconda3-2023.03-MacOSX-arm64.sh```\n",
    "\n",
    "2. After the downloading, run the following command to install it:\n",
    "* (Intel chip) ```bash Anaconda3-2023.03-Linux-x86_64.sh```\n",
    "* (M1 chip) ```bash Anaconda3-2023.03-MaxOSX-arm64.sh```\n",
    "\n",
    "3. After installing, use the command ```exit``` to exit the terminal and reopen a new one in order to start Anaconda. In the new terminal, you will see a ```(base)``` before the command prompt."
   ]
  },
  {
   "cell_type": "markdown",
   "id": "7732edcd",
   "metadata": {},
   "source": [
    "# Downloading the course materials from GitHub \n",
    "\n",
    "1. Git comes installed by default on most Mac and Linux machines so we don't have to download it. \n",
    "\n",
    "2. Go to this GitHub [page](https://github.com/RSB-BDSI-Teaching/intro-to-python).\n",
    "\n",
    "3. Click the green __Code__ button, then click __HTTPS__, then copy the https address.\n",
    "\n",
    "![github](figures/github_page.png)\n",
    "\n",
    "4. Go to your terminal and in your home directory, run the following code:\n",
    "\n",
    "```git clone the_https_address```\n",
    "\n",
    "5. Then use the ```ls``` command to check if the GitHub repository has been downloaded."
   ]
  },
  {
   "cell_type": "markdown",
   "id": "765a6946",
   "metadata": {},
   "source": [
    "# Using Jupyter Notebook\n",
    "\n",
    "1. Run the following command in the terminal to start Jupyter Notebook:\n",
    "\n",
    "```jupyter notebook```\n",
    "\n",
    "2. After running the command, you will see some information like this:\n",
    "\n",
    "![jupyter_notebook](figures/jupyter_notebook.png)\n",
    "\n",
    "3. Copy one of the bottom 2 URLs and open it using your browser. In the meanwhile, don't close or terminate your terminal. "
   ]
  },
  {
   "cell_type": "markdown",
   "id": "b59f76e2",
   "metadata": {},
   "source": []
  },
  {
   "cell_type": "code",
   "execution_count": null,
   "id": "6a7ed4a3",
   "metadata": {},
   "outputs": [],
   "source": [
    "# continue on week 2 tutorial "
   ]
  }
 ],
 "metadata": {
  "kernelspec": {
   "display_name": "Python 3 (ipykernel)",
   "language": "python",
   "name": "python3"
  },
  "language_info": {
   "codemirror_mode": {
    "name": "ipython",
    "version": 3
   },
   "file_extension": ".py",
   "mimetype": "text/x-python",
   "name": "python",
   "nbconvert_exporter": "python",
   "pygments_lexer": "ipython3",
   "version": "3.10.9"
  }
 },
 "nbformat": 4,
 "nbformat_minor": 5
}
