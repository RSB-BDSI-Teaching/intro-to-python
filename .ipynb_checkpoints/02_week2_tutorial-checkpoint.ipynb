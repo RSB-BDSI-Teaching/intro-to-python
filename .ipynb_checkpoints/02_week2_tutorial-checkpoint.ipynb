{
 "cells": [
  {
   "cell_type": "markdown",
   "metadata": {},
   "source": [
    "# Week 2 Tutorial - Control Flow \n",
    "\n",
    "This week, we will cover the following contents:\n",
    "\n",
    "1. Loops and Statements \n",
    "    * If statement\n",
    "    * For loop\n",
    "    * While loop\n",
    "2. Loop Control Statements\n",
    "    * Continue statement \n",
    "    * Break statement \n",
    "    * Pass statement "
   ]
  },
  {
   "cell_type": "markdown",
   "metadata": {},
   "source": [
    "## Loops and Statements\n",
    "\n",
    "### If Statement\n",
    "\n",
    "In Python, the if statement is a conditional statement that allows you to execute a block of code only if a certain condition is True. \n",
    "\n",
    "It follows the general syntax:"
   ]
  },
  {
   "cell_type": "code",
   "execution_count": 3,
   "metadata": {},
   "outputs": [
    {
     "ename": "SyntaxError",
     "evalue": "incomplete input (3124047070.py, line 2)",
     "output_type": "error",
     "traceback": [
      "\u001b[0;36m  Cell \u001b[0;32mIn[3], line 2\u001b[0;36m\u001b[0m\n\u001b[0;31m    # code block to be executed if condition is True\u001b[0m\n\u001b[0m                                                    ^\u001b[0m\n\u001b[0;31mSyntaxError\u001b[0m\u001b[0;31m:\u001b[0m incomplete input\n"
     ]
    }
   ],
   "source": [
    "if condition:\n",
    "    # code block to be executed if condition is True"
   ]
  },
  {
   "cell_type": "markdown",
   "metadata": {},
   "source": [
    "The condition in the if statement is an expression that evaluates to a boolean value (True or False), it means you can't if a number or a string, it doesn't make sense. For example, ```if 5:``` or ```if \"apple and banana\":```.\n",
    "\n",
    "* If the condition is True, the code block will be __executed__.\n",
    "* If the condition is False, the code block will be __skipped__.\n",
    "\n",
    "__A simple example of `if` statement:__"
   ]
  },
  {
   "cell_type": "code",
   "execution_count": 8,
   "metadata": {},
   "outputs": [
    {
     "name": "stdout",
     "output_type": "stream",
     "text": [
      "x is positive.\n"
     ]
    }
   ],
   "source": [
    "x = 5\n",
    "\n",
    "if x > 0:  \n",
    "    print(\"x is positive.\")"
   ]
  },
  {
   "cell_type": "markdown",
   "metadata": {},
   "source": [
    "Above, when our x is greater than 0 the code will print \"x is positive\", and when our x is not greater than 0 the code will do nothing because it will skip the indented line."
   ]
  },
  {
   "cell_type": "markdown",
   "metadata": {},
   "source": [
    "__`if...elif...else` for multiple conditions:__\n",
    "\n",
    "The general syntax:"
   ]
  },
  {
   "cell_type": "code",
   "execution_count": 1,
   "metadata": {
    "scrolled": false
   },
   "outputs": [
    {
     "ename": "IndentationError",
     "evalue": "expected an indented block after 'if' statement on line 1 (2645580786.py, line 3)",
     "output_type": "error",
     "traceback": [
      "\u001b[0;36m  Cell \u001b[0;32mIn[1], line 3\u001b[0;36m\u001b[0m\n\u001b[0;31m    elif condition:\u001b[0m\n\u001b[0m    ^\u001b[0m\n\u001b[0;31mIndentationError\u001b[0m\u001b[0;31m:\u001b[0m expected an indented block after 'if' statement on line 1\n"
     ]
    }
   ],
   "source": [
    "if condition:\n",
    "    # code block to be executed if condition is True\n",
    "elif condition:\n",
    "    # code block to be executed if condition is True\n",
    "else:\n",
    "    # code block to be executed when other conditions have not been met "
   ]
  },
  {
   "cell_type": "markdown",
   "metadata": {},
   "source": [
    "You can use as many elif as you want, for example:"
   ]
  },
  {
   "cell_type": "code",
   "execution_count": 17,
   "metadata": {
    "scrolled": false
   },
   "outputs": [
    {
     "name": "stdout",
     "output_type": "stream",
     "text": [
      "Please enter your score:66\n",
      "Score: 66\n",
      "Grade: C\n"
     ]
    }
   ],
   "source": [
    "# Example of if-elif-else statement to determine grade\n",
    "score = int(input(\"Please enter your score:\"))\n",
    "\n",
    "if score >= 85:\n",
    "    grade = 'HD'  # High Distinction\n",
    "elif score >= 75:\n",
    "    grade = 'D'  # Distinction\n",
    "elif score >= 65:\n",
    "    grade = 'C'  # Credit\n",
    "elif score >= 50:\n",
    "    grade = 'P'  # Pass\n",
    "else:\n",
    "    grade = 'F'  # Fail\n",
    "\n",
    "print(\"Score:\", score)\n",
    "print(\"Grade:\", grade)"
   ]
  },
  {
   "cell_type": "markdown",
   "metadata": {},
   "source": [
    "__Exercise: program a BMI calculator__\n",
    "\n",
    "The equation for calculating BMI is: \n",
    "\n",
    "_BMI = Weight(kg) / (Height(meters)^2)_\n",
    "\n",
    "And the health result relate to BMI is:\n",
    "* Underweight: BMI < 18.5\n",
    "* Healthy: 18.5 =< BMI < 25\n",
    "* Overweight: 25 =< BMI < 30\n",
    "* Obese: BMI > 30"
   ]
  },
  {
   "cell_type": "code",
   "execution_count": 16,
   "metadata": {},
   "outputs": [],
   "source": [
    "# write your solution here\n",
    "# hint: convert the input data type to float using function float() "
   ]
  },
  {
   "cell_type": "markdown",
   "metadata": {},
   "source": [
    "### For Loop\n",
    "\n",
    "Computing is mostly about doing the same thing again and again in an automated fashion. \n",
    "\n",
    "A for loop is a control flow statement in Python that is used to iterate over a sequence of values or a collection, and execute a block of code once for each element in the sequence. It allows you to repeatedly perform a set of tasks or operations on each element in the sequence without having to write repetitive code. \n",
    "\n",
    "The basic idea behind a for loop is to iterate over each element in an iterable, such as a list, tuple, string, or dictionary, and perform some action for each element. The loop automatically handles the iteration process, moving from one element to the next until all elements have been processed.\n",
    "\n",
    "An example task that we might want to repeat is printing each character in a DNA sequence on a line of its own. "
   ]
  },
  {
   "cell_type": "code",
   "execution_count": 2,
   "metadata": {
    "scrolled": false
   },
   "outputs": [],
   "source": [
    "DNAseq = 'atgtataacattggccataccccgtatacccatgcgaaccatattggccattaa'"
   ]
  },
  {
   "cell_type": "markdown",
   "metadata": {},
   "source": [
    "One way to do this would be using a series of print statements: "
   ]
  },
  {
   "cell_type": "code",
   "execution_count": 2,
   "metadata": {
    "scrolled": true
   },
   "outputs": [
    {
     "name": "stdout",
     "output_type": "stream",
     "text": [
      "a\n",
      "t\n",
      "g\n",
      "t\n",
      "a\n"
     ]
    }
   ],
   "source": [
    "print(DNAseq[0])\n",
    "print(DNAseq[1])\n",
    "print(DNAseq[2])\n",
    "print(DNAseq[3])\n",
    "print(DNAseq[4])"
   ]
  },
  {
   "cell_type": "markdown",
   "metadata": {},
   "source": [
    "But we have to type many lines of code to print all of the bases from the sequence. `for` loop can do the job in a much simpler way:"
   ]
  },
  {
   "cell_type": "code",
   "execution_count": 2,
   "metadata": {
    "scrolled": true
   },
   "outputs": [
    {
     "name": "stdout",
     "output_type": "stream",
     "text": [
      "a\n",
      "t\n",
      "g\n",
      "t\n",
      "a\n",
      "t\n",
      "a\n",
      "a\n",
      "c\n",
      "a\n",
      "t\n",
      "t\n",
      "g\n",
      "g\n",
      "c\n",
      "c\n",
      "a\n",
      "t\n",
      "a\n",
      "c\n",
      "c\n",
      "c\n",
      "c\n",
      "g\n",
      "t\n",
      "a\n",
      "t\n",
      "a\n",
      "c\n",
      "c\n",
      "c\n",
      "a\n",
      "t\n",
      "g\n",
      "c\n",
      "g\n",
      "a\n",
      "a\n",
      "c\n",
      "c\n",
      "a\n",
      "t\n",
      "a\n",
      "t\n",
      "t\n",
      "g\n",
      "g\n",
      "c\n",
      "c\n",
      "a\n",
      "t\n",
      "t\n",
      "a\n",
      "a\n"
     ]
    }
   ],
   "source": [
    "for base in DNAseq:\n",
    "    print(base)"
   ]
  },
  {
   "cell_type": "markdown",
   "metadata": {},
   "source": [
    "Only two lines of code, we can print all of the bases. And this code can be applied to other sequences as well, for example:"
   ]
  },
  {
   "cell_type": "code",
   "execution_count": 4,
   "metadata": {},
   "outputs": [],
   "source": [
    "DNAseq1 = \"ATCGGATCGTAGCTA\""
   ]
  },
  {
   "cell_type": "code",
   "execution_count": 5,
   "metadata": {
    "scrolled": true
   },
   "outputs": [
    {
     "name": "stdout",
     "output_type": "stream",
     "text": [
      "A\n",
      "T\n",
      "C\n",
      "G\n",
      "G\n",
      "A\n",
      "T\n",
      "C\n",
      "G\n",
      "T\n",
      "A\n",
      "G\n",
      "C\n",
      "T\n",
      "A\n"
     ]
    }
   ],
   "source": [
    "for base in DNAseq1:\n",
    "    print(base)"
   ]
  },
  {
   "cell_type": "markdown",
   "metadata": {},
   "source": [
    "__Exercise: print out all the elements in the variable `fruit_basket`__"
   ]
  },
  {
   "cell_type": "code",
   "execution_count": 7,
   "metadata": {},
   "outputs": [],
   "source": [
    "fruit_basket = [\"apple\", \"banana\", \"cherry\"]"
   ]
  },
  {
   "cell_type": "code",
   "execution_count": null,
   "metadata": {},
   "outputs": [],
   "source": []
  },
  {
   "cell_type": "markdown",
   "metadata": {},
   "source": [
    "The syntax of a for loop is:"
   ]
  },
  {
   "cell_type": "code",
   "execution_count": 6,
   "metadata": {
    "scrolled": false
   },
   "outputs": [
    {
     "ename": "SyntaxError",
     "evalue": "invalid syntax (72260008.py, line 2)",
     "output_type": "error",
     "traceback": [
      "\u001b[0;36m  Cell \u001b[0;32mIn[6], line 2\u001b[0;36m\u001b[0m\n\u001b[0;31m    do something with variable\u001b[0m\n\u001b[0m       ^\u001b[0m\n\u001b[0;31mSyntaxError\u001b[0m\u001b[0;31m:\u001b[0m invalid syntax\n"
     ]
    }
   ],
   "source": [
    "for variable in sequence:\n",
    "    do something with variable "
   ]
  },
  {
   "cell_type": "markdown",
   "metadata": {},
   "source": [
    "For loop can be used to write many functions from simple to complicated ones. We can use for loop to write some of the simple functions we use frequently in our daily life, for example:\n",
    "\n",
    "Use `for` loop to calculate the length of an object:"
   ]
  },
  {
   "cell_type": "code",
   "execution_count": 3,
   "metadata": {},
   "outputs": [
    {
     "data": {
      "text/plain": [
       "'atgtataacattggccataccccgtatacccatgcgaaccatattggccattaa'"
      ]
     },
     "execution_count": 3,
     "metadata": {},
     "output_type": "execute_result"
    }
   ],
   "source": [
    "DNAseq"
   ]
  },
  {
   "cell_type": "code",
   "execution_count": 5,
   "metadata": {},
   "outputs": [
    {
     "name": "stdout",
     "output_type": "stream",
     "text": [
      "The DNAseq is 54 bases long.\n"
     ]
    }
   ],
   "source": [
    "length = 0\n",
    "\n",
    "for base in DNAseq:\n",
    "    length = length + 1\n",
    "\n",
    "print(\"The DNAseq is\", length, \"bases long.\")"
   ]
  },
  {
   "cell_type": "markdown",
   "metadata": {},
   "source": [
    "__Exercise: calculate the length of `DNAseq1`__"
   ]
  },
  {
   "cell_type": "code",
   "execution_count": null,
   "metadata": {},
   "outputs": [],
   "source": []
  },
  {
   "cell_type": "markdown",
   "metadata": {},
   "source": [
    "__Exercise: calculate how many fruits are in the `basket`__"
   ]
  },
  {
   "cell_type": "code",
   "execution_count": null,
   "metadata": {},
   "outputs": [],
   "source": [
    "basket = [\"apple\", \"banana\", \"peach\", \"nectarine\", \"apple_2\", \"pineapple\"]"
   ]
  },
  {
   "cell_type": "code",
   "execution_count": null,
   "metadata": {},
   "outputs": [],
   "source": []
  },
  {
   "cell_type": "markdown",
   "metadata": {},
   "source": [
    "We can also use `for` loop to write a sum function:"
   ]
  },
  {
   "cell_type": "code",
   "execution_count": 7,
   "metadata": {},
   "outputs": [],
   "source": [
    "numbers = (55, 85, 2, 69, 6.5)"
   ]
  },
  {
   "cell_type": "code",
   "execution_count": 8,
   "metadata": {},
   "outputs": [
    {
     "name": "stdout",
     "output_type": "stream",
     "text": [
      "The sum of numbers are 217.5.\n"
     ]
    }
   ],
   "source": [
    "total = 0 \n",
    "\n",
    "for number in numbers:\n",
    "    total = total + number\n",
    "\n",
    "print(\"The sum of numbers are \", total, \".\", sep=\"\")"
   ]
  },
  {
   "cell_type": "markdown",
   "metadata": {},
   "source": [
    "__Exercise: calculate the sum of `random_nums`__"
   ]
  },
  {
   "cell_type": "code",
   "execution_count": 10,
   "metadata": {},
   "outputs": [],
   "source": [
    "random_nums = [12, 0.8375428904650853, 91, 0.6966343650289288, 69, 0.24629010004599906, 23, 0.8102107711173415, 24, 0.1895123376310659]"
   ]
  },
  {
   "cell_type": "code",
   "execution_count": null,
   "metadata": {},
   "outputs": [],
   "source": []
  },
  {
   "cell_type": "markdown",
   "metadata": {},
   "source": [
    "But these simple functions we don't need to write it by ourselves every time, there are built-in functions in Python.\n",
    "\n",
    "The function `len()` for calculating length:"
   ]
  },
  {
   "cell_type": "code",
   "execution_count": 11,
   "metadata": {},
   "outputs": [
    {
     "data": {
      "text/plain": [
       "54"
      ]
     },
     "execution_count": 11,
     "metadata": {},
     "output_type": "execute_result"
    }
   ],
   "source": [
    "len(DNAseq)"
   ]
  },
  {
   "cell_type": "markdown",
   "metadata": {},
   "source": [
    "__Exercise: calculate the length of `DNAseq1` and `basket` using `len()`__"
   ]
  },
  {
   "cell_type": "code",
   "execution_count": null,
   "metadata": {},
   "outputs": [],
   "source": []
  },
  {
   "cell_type": "markdown",
   "metadata": {},
   "source": [
    "The function `sum()` for calculating the sum:"
   ]
  },
  {
   "cell_type": "code",
   "execution_count": 12,
   "metadata": {},
   "outputs": [
    {
     "data": {
      "text/plain": [
       "217.5"
      ]
     },
     "execution_count": 12,
     "metadata": {},
     "output_type": "execute_result"
    }
   ],
   "source": [
    "sum(numbers)"
   ]
  },
  {
   "cell_type": "markdown",
   "metadata": {},
   "source": [
    "__Exercise: calculate the sum of `random_nums`__"
   ]
  },
  {
   "cell_type": "code",
   "execution_count": null,
   "metadata": {},
   "outputs": [],
   "source": []
  },
  {
   "cell_type": "markdown",
   "metadata": {},
   "source": [
    "### Iterable\n",
    "\n",
    "Not every data type can be iterated by a for loop. An iterable is any object that can be looped over with a `for` loop. This includes:\n",
    "* Lists\n",
    "* Tuples \n",
    "* Strings \n",
    "* Sets\n",
    "* Dictionaries \n",
    "\n",
    "Data types that are not iterables:\n",
    "* Integers and floats\n",
    "* Booleans"
   ]
  },
  {
   "cell_type": "markdown",
   "metadata": {},
   "source": [
    "### Iterate Over Numbers in For Loop \n",
    "\n",
    "All practises we did before we looped everthing from the beginning to the end, but not every time we would want to iterate everything. \n",
    "\n",
    "What if I want to run the commands on half of the list? or if I want to run the commands on every other element?\n",
    "\n",
    "Python has a built-in function called `range()` that creates a list of numbers, we can loop through these numbers and use it as indexes to get the elements we want. The range() function returns a sequence of numbers, starting from 0 by default, and increments by 1 (by default), and stops before a specified number.\n",
    "\n",
    "Syntax: range(start, stop, increment)"
   ]
  },
  {
   "cell_type": "code",
   "execution_count": 1,
   "metadata": {
    "scrolled": true
   },
   "outputs": [
    {
     "name": "stdout",
     "output_type": "stream",
     "text": [
      "0\n",
      "1\n",
      "2\n"
     ]
    }
   ],
   "source": [
    "for i in range(3): # starting from 0 and increments by 1 until 3 (exclusive)\n",
    "    print(i)"
   ]
  },
  {
   "cell_type": "code",
   "execution_count": 27,
   "metadata": {},
   "outputs": [
    {
     "name": "stdout",
     "output_type": "stream",
     "text": [
      "2\n",
      "3\n",
      "4\n"
     ]
    }
   ],
   "source": [
    "for i in range(2,5): # starting from 2 and increments by 1 until 5 (exclusive)\n",
    "    print(i)"
   ]
  },
  {
   "cell_type": "code",
   "execution_count": 28,
   "metadata": {},
   "outputs": [
    {
     "name": "stdout",
     "output_type": "stream",
     "text": [
      "10\n",
      "15\n",
      "20\n",
      "25\n"
     ]
    }
   ],
   "source": [
    "for i in range(10,30,5): # starting from 10 and increments by 5 until 30 (exclusive)\n",
    "    print(i)"
   ]
  },
  {
   "cell_type": "markdown",
   "metadata": {},
   "source": [
    "__Exercise: Write a loop that prints all the even numbers in the range between 1 and 10 (inclusive)__"
   ]
  },
  {
   "cell_type": "code",
   "execution_count": null,
   "metadata": {},
   "outputs": [],
   "source": []
  },
  {
   "cell_type": "markdown",
   "metadata": {},
   "source": [
    "We can make it more generic and use what we have learned before:"
   ]
  },
  {
   "cell_type": "code",
   "execution_count": 6,
   "metadata": {},
   "outputs": [
    {
     "name": "stdout",
     "output_type": "stream",
     "text": [
      "2\n",
      "4\n",
      "6\n",
      "8\n",
      "10\n"
     ]
    }
   ],
   "source": [
    "start, end = 1, 10\n",
    "\n",
    "for i in range(start, end + 1):\n",
    "    if i % 2 == 0:\n",
    "        print(i)"
   ]
  },
  {
   "cell_type": "markdown",
   "metadata": {},
   "source": [
    "Here, we used __if statement__ and __modulo operation__ to check if the number is even and only print out those that are. "
   ]
  },
  {
   "cell_type": "markdown",
   "metadata": {},
   "source": [
    "__Iterate over indexes:__\n",
    "\n",
    "Iterate over numbers in for loop is very useful when you combine it with object indexes. You can execute a block of command to items that are part of a object rather than loop everthing from the beginning to the end. \n",
    "\n",
    "Before that we need to learn the concept of subscripting."
   ]
  },
  {
   "cell_type": "markdown",
   "metadata": {},
   "source": [
    "__Subscripting in Python:__\n",
    "\n",
    "In Python, subscripting refers to accessing individual elements or slices of a sequence or collection, such as strings, lists, tuples, or arrays, using square brackets [] and an index or slice notation. It allows you to extract or modify specific elements of a sequence. For example:"
   ]
  },
  {
   "cell_type": "markdown",
   "metadata": {},
   "source": [
    "__HERE TO CONTINUR !!!__"
   ]
  },
  {
   "cell_type": "code",
   "execution_count": null,
   "metadata": {},
   "outputs": [],
   "source": []
  },
  {
   "cell_type": "code",
   "execution_count": null,
   "metadata": {},
   "outputs": [],
   "source": []
  },
  {
   "cell_type": "code",
   "execution_count": null,
   "metadata": {},
   "outputs": [],
   "source": []
  },
  {
   "cell_type": "code",
   "execution_count": null,
   "metadata": {},
   "outputs": [],
   "source": []
  },
  {
   "cell_type": "markdown",
   "metadata": {},
   "source": [
    "### While Loop\n",
    "\n",
    "A while loop allows you to repeatedly execute a block of code as long as a certain condition is True. \n",
    "\n",
    "The general syntax of a while loop in Python is as follows:"
   ]
  },
  {
   "cell_type": "code",
   "execution_count": 2,
   "metadata": {
    "scrolled": false
   },
   "outputs": [
    {
     "ename": "SyntaxError",
     "evalue": "incomplete input (2941978553.py, line 2)",
     "output_type": "error",
     "traceback": [
      "\u001b[0;36m  Cell \u001b[0;32mIn[2], line 2\u001b[0;36m\u001b[0m\n\u001b[0;31m    # Code to be executed\u001b[0m\n\u001b[0m                         ^\u001b[0m\n\u001b[0;31mSyntaxError\u001b[0m\u001b[0;31m:\u001b[0m incomplete input\n"
     ]
    }
   ],
   "source": [
    "while condition:\n",
    "    # Code to be executed"
   ]
  },
  {
   "cell_type": "markdown",
   "metadata": {},
   "source": [
    "__A simple example of While Loop:__"
   ]
  },
  {
   "cell_type": "code",
   "execution_count": 3,
   "metadata": {
    "scrolled": true
   },
   "outputs": [
    {
     "name": "stdout",
     "output_type": "stream",
     "text": [
      "1\n",
      "2\n",
      "3\n",
      "4\n",
      "5\n"
     ]
    }
   ],
   "source": [
    "count = 1\n",
    "\n",
    "while count <= 5:\n",
    "    print(count)\n",
    "    count += 1"
   ]
  },
  {
   "cell_type": "markdown",
   "metadata": {},
   "source": [
    "__A biological example of While Loop:__\n",
    "\n",
    "We can use while loop to find the start codon in a DNA sequence."
   ]
  },
  {
   "cell_type": "code",
   "execution_count": 6,
   "metadata": {},
   "outputs": [
    {
     "name": "stdout",
     "output_type": "stream",
     "text": [
      "Start codon found at index: 6\n"
     ]
    }
   ],
   "source": [
    "# Define the DNA sequence\n",
    "dna_sequence = \"TTAGCTATGACATGTAGGCTAGCTAG\"\n",
    "\n",
    "# Initialize the index variable\n",
    "index = 0\n",
    "\n",
    "# Use a while loop to search for the start codon\n",
    "while index < len(dna_sequence):\n",
    "    codon = dna_sequence[index:index+3] \n",
    "    if codon == \"ATG\": \n",
    "        print(\"Start codon found at index:\", index)\n",
    "        break  \n",
    "    index += 1 \n",
    "else: \n",
    "    print(\"Start codon not found in the given DNA sequence.\")"
   ]
  },
  {
   "cell_type": "markdown",
   "metadata": {},
   "source": []
  },
  {
   "cell_type": "code",
   "execution_count": null,
   "metadata": {},
   "outputs": [],
   "source": []
  },
  {
   "cell_type": "code",
   "execution_count": null,
   "metadata": {},
   "outputs": [],
   "source": []
  },
  {
   "cell_type": "code",
   "execution_count": null,
   "metadata": {},
   "outputs": [],
   "source": []
  },
  {
   "cell_type": "code",
   "execution_count": null,
   "metadata": {},
   "outputs": [],
   "source": []
  },
  {
   "cell_type": "code",
   "execution_count": null,
   "metadata": {},
   "outputs": [],
   "source": []
  },
  {
   "cell_type": "code",
   "execution_count": null,
   "metadata": {},
   "outputs": [],
   "source": []
  },
  {
   "cell_type": "code",
   "execution_count": null,
   "metadata": {},
   "outputs": [],
   "source": []
  },
  {
   "cell_type": "code",
   "execution_count": 19,
   "metadata": {},
   "outputs": [
    {
     "data": {
      "text/plain": [
       "'atgtataacattggccataccccgtatacccatgcgaaccatattggccattaa'"
      ]
     },
     "execution_count": 19,
     "metadata": {},
     "output_type": "execute_result"
    }
   ],
   "source": [
    "DNAseq"
   ]
  },
  {
   "cell_type": "code",
   "execution_count": 25,
   "metadata": {
    "scrolled": true
   },
   "outputs": [
    {
     "data": {
      "text/plain": [
       "'a'"
      ]
     },
     "execution_count": 25,
     "metadata": {},
     "output_type": "execute_result"
    }
   ],
   "source": [
    "# access the element at index 0\n",
    "DNAseq[0] "
   ]
  },
  {
   "cell_type": "code",
   "execution_count": 26,
   "metadata": {},
   "outputs": [
    {
     "data": {
      "text/plain": [
       "'t'"
      ]
     },
     "execution_count": 26,
     "metadata": {},
     "output_type": "execute_result"
    }
   ],
   "source": [
    "# access the element at index 5\n",
    "DNAseq[5] "
   ]
  },
  {
   "cell_type": "code",
   "execution_count": 27,
   "metadata": {},
   "outputs": [
    {
     "data": {
      "text/plain": [
       "'atg'"
      ]
     },
     "execution_count": 27,
     "metadata": {},
     "output_type": "execute_result"
    }
   ],
   "source": [
    "# access the elements from index 0 to 3 (exclusive)\n",
    "DNAseq[0:3] "
   ]
  },
  {
   "cell_type": "markdown",
   "metadata": {},
   "source": [
    "__Note:__ when using square brackets to slice a sequence from a collection, the beginning index is always inclusive and the ending index is exclusive. \n",
    "\n",
    "So for `DNAseq[0:3]`, it includes index 0, 1, 2 but not 3."
   ]
  },
  {
   "cell_type": "code",
   "execution_count": 28,
   "metadata": {},
   "outputs": [
    {
     "data": {
      "text/plain": [
       "'atgtat'"
      ]
     },
     "execution_count": 28,
     "metadata": {},
     "output_type": "execute_result"
    }
   ],
   "source": [
    "# access the elements from the beginning to index 6 (exclusive)\n",
    "DNAseq[:6]"
   ]
  },
  {
   "cell_type": "code",
   "execution_count": 29,
   "metadata": {},
   "outputs": [
    {
     "data": {
      "text/plain": [
       "'gtataacattggccataccccgtatacccatgcgaaccatattggccattaa'"
      ]
     },
     "execution_count": 29,
     "metadata": {},
     "output_type": "execute_result"
    }
   ],
   "source": [
    "# access the elements from index 2 (inclusive) to the end\n",
    "DNAseq[2:]"
   ]
  },
  {
   "cell_type": "markdown",
   "metadata": {},
   "source": [
    "You can use subsetting to print out all the first bases of all codons."
   ]
  },
  {
   "cell_type": "code",
   "execution_count": 30,
   "metadata": {
    "scrolled": false
   },
   "outputs": [
    {
     "name": "stdout",
     "output_type": "stream",
     "text": [
      "a\n",
      "t\n",
      "a\n",
      "a\n",
      "g\n",
      "c\n",
      "a\n",
      "c\n",
      "t\n",
      "a\n",
      "c\n",
      "g\n",
      "a\n",
      "c\n",
      "a\n",
      "g\n",
      "c\n",
      "t\n"
     ]
    }
   ],
   "source": [
    "for i in range(0, len(DNAseq), 3):\n",
    "    print(DNAseq[i])"
   ]
  },
  {
   "cell_type": "markdown",
   "metadata": {},
   "source": [
    "For the above loop, consider the question:\n",
    "* What indexes are been used in the loop? Obviously it's not all the indexes in variable DNAseq. \n",
    "\n",
    "### Exercise\n",
    "\n",
    "Write a loop that prints all the codons (non-overlapping 3-mers) of our variable DNAseq."
   ]
  },
  {
   "cell_type": "code",
   "execution_count": null,
   "metadata": {},
   "outputs": [],
   "source": [
    "# write your code here:\n"
   ]
  },
  {
   "cell_type": "code",
   "execution_count": 31,
   "metadata": {},
   "outputs": [
    {
     "name": "stdout",
     "output_type": "stream",
     "text": [
      "atg\n",
      "tat\n",
      "aac\n",
      "att\n",
      "ggc\n",
      "cat\n",
      "acc\n",
      "ccg\n",
      "tat\n",
      "acc\n",
      "cat\n",
      "gcg\n",
      "aac\n",
      "cat\n",
      "att\n",
      "ggc\n",
      "cat\n",
      "taa\n"
     ]
    }
   ],
   "source": [
    "# solution\n",
    "for i in range(0, len(DNAseq), 3):\n",
    "    print(DNAseq[i:i+3])"
   ]
  },
  {
   "cell_type": "code",
   "execution_count": 32,
   "metadata": {},
   "outputs": [
    {
     "name": "stdout",
     "output_type": "stream",
     "text": [
      "0 atg\n",
      "3 tat\n",
      "6 aac\n",
      "9 att\n",
      "12 ggc\n",
      "15 cat\n",
      "18 acc\n",
      "21 ccg\n",
      "24 tat\n",
      "27 acc\n",
      "30 cat\n",
      "33 gcg\n",
      "36 aac\n",
      "39 cat\n",
      "42 att\n",
      "45 ggc\n",
      "48 cat\n",
      "51 taa\n"
     ]
    }
   ],
   "source": [
    "# this one also prints the start index of the codon\n",
    "for i in range(0, len(DNAseq), 3):\n",
    "    print(i,DNAseq[i:i+3])"
   ]
  },
  {
   "cell_type": "markdown",
   "metadata": {},
   "source": [
    "## Control flow - more ways to affect the order in which statements run\n",
    "\n",
    "So far we've seen \"for\" loop in a few of our Python examples.\n",
    "\n",
    "There are a few other \"control flow\" statements that affect the order in which statements run.\n",
    "\n",
    "We'll start first with the \"if statement\" ... and its variants."
   ]
  },
  {
   "cell_type": "markdown",
   "metadata": {},
   "source": [
    "We can also use loops to count how often the base 'a' occurs in our variable DNAseq."
   ]
  },
  {
   "cell_type": "code",
   "execution_count": 4,
   "metadata": {},
   "outputs": [
    {
     "name": "stdout",
     "output_type": "stream",
     "text": [
      "We have the following base counts:\n",
      "a: 17\n"
     ]
    }
   ],
   "source": [
    "a_count = 0\n",
    "\n",
    "for base in DNAseq:\n",
    "    if base == 'a':\n",
    "        a_count += 1\n",
    "        \n",
    "print('We have the following base counts:')\n",
    "print('a:', a_count)    "
   ]
  },
  {
   "cell_type": "markdown",
   "metadata": {},
   "source": [
    "__Exercise: What are the counts of each regular base [a, t, c, g] in DNAseq?__"
   ]
  },
  {
   "cell_type": "code",
   "execution_count": null,
   "metadata": {},
   "outputs": [],
   "source": [
    "# write your code here: \n",
    "\n"
   ]
  },
  {
   "cell_type": "code",
   "execution_count": 5,
   "metadata": {},
   "outputs": [
    {
     "name": "stdout",
     "output_type": "stream",
     "text": [
      "We have the following base counts:\n",
      "a: 17\n",
      "t: 14\n",
      "c: 15\n",
      "g: 8\n"
     ]
    }
   ],
   "source": [
    "a_count = 0\n",
    "t_count = 0\n",
    "c_count = 0\n",
    "g_count = 0\n",
    "\n",
    "for base in DNAseq:\n",
    "    if base == 'a':\n",
    "        a_count += 1\n",
    "    elif base == 't':\n",
    "        t_count += 1\n",
    "    elif base == 'c':\n",
    "        c_count += 1\n",
    "    elif base == \"g\":\n",
    "        g_count += 1\n",
    "    else:\n",
    "        print(base, 'is not a regular base [a, t, c, g]')\n",
    "        \n",
    "print('We have the following base counts:')\n",
    "print('a:', a_count)\n",
    "print('t:', t_count)\n",
    "print('c:', c_count)\n",
    "print('g:', g_count)   "
   ]
  },
  {
   "cell_type": "markdown",
   "metadata": {},
   "source": [
    "## Data structures\n",
    "\n",
    "### Lists, tuples, and sets\n",
    "\n",
    "Python has a set of standard 'containers' where you can store information in. Each data structure has its purpose and advantages.\n"
   ]
  },
  {
   "cell_type": "markdown",
   "metadata": {},
   "source": [
    "### Lists\n",
    "\n",
    "Lists are ordered sequences of elements. Each element or value that is inside of a list is called an item. Just as strings are defined as characters between quotes, lists are defined by having values between square brackets []. \n",
    "\n",
    "For example, codons within DNA sequence could be stored in a list of 3-mers."
   ]
  },
  {
   "cell_type": "code",
   "execution_count": null,
   "metadata": {},
   "outputs": [],
   "source": [
    "DNAseq"
   ]
  },
  {
   "cell_type": "code",
   "execution_count": null,
   "metadata": {},
   "outputs": [],
   "source": [
    "### initially you can copy and paste the codons over and make a list\n",
    "DNAseq_codons = ['atg', 'tat', 'aac' ]"
   ]
  },
  {
   "cell_type": "markdown",
   "metadata": {},
   "source": [
    "We can also make a list more easily by looping over the string."
   ]
  },
  {
   "cell_type": "code",
   "execution_count": null,
   "metadata": {},
   "outputs": [],
   "source": [
    "DNAseq_codons = []\n",
    "\n",
    "for i in range(0, len(DNAseq), 3):\n",
    "    DNAseq_codons.append(DNAseq[i:i+3])\n",
    "    print(DNAseq[i:i+3])\n",
    "print(DNAseq_codons)"
   ]
  },
  {
   "cell_type": "markdown",
   "metadata": {},
   "source": [
    "### Lists are\n",
    "* subscriptable\n",
    "* mutable"
   ]
  },
  {
   "cell_type": "code",
   "execution_count": null,
   "metadata": {},
   "outputs": [],
   "source": [
    "DNAseq_codons[4]"
   ]
  },
  {
   "cell_type": "code",
   "execution_count": null,
   "metadata": {},
   "outputs": [],
   "source": [
    "DNAseq_codons[4] = 'aat'"
   ]
  },
  {
   "cell_type": "code",
   "execution_count": null,
   "metadata": {},
   "outputs": [],
   "source": [
    "DNAseq_codons"
   ]
  },
  {
   "cell_type": "markdown",
   "metadata": {},
   "source": [
    "### Sets\n",
    "\n",
    "Sets are unordered collection of items where each item occurs only once. It has no duplicated elements."
   ]
  },
  {
   "cell_type": "code",
   "execution_count": null,
   "metadata": {},
   "outputs": [],
   "source": [
    "print(DNAseq_codons)\n",
    "type(DNAseq_codons)"
   ]
  },
  {
   "cell_type": "code",
   "execution_count": null,
   "metadata": {},
   "outputs": [],
   "source": [
    "set(DNAseq_codons)"
   ]
  },
  {
   "cell_type": "code",
   "execution_count": null,
   "metadata": {},
   "outputs": [],
   "source": [
    "set[0]"
   ]
  },
  {
   "cell_type": "markdown",
   "metadata": {},
   "source": [
    "### Sets are\n",
    "* not subscriptable\n",
    "* not mutable\n",
    "\n",
    "Because sets cannot have multiple occurrences of the same element, it makes sets highly useful to efficiently remove duplicate values from a list and to perform common math operations like unions and intersections."
   ]
  },
  {
   "cell_type": "markdown",
   "metadata": {},
   "source": [
    "### Dictionaries\n",
    "\n",
    "Dictionaries are (unordered) containers of key:value pairs where each key can only occur once.\n",
    "\n",
    "They are one of most useful Python data structures. Looking up elements in a dictionary is really fast and there are lots of built-in functions to use and manipulate dictionaries."
   ]
  },
  {
   "cell_type": "markdown",
   "metadata": {},
   "source": [
    "We can use a dictionary to reverse complement a DNA sequence."
   ]
  },
  {
   "cell_type": "code",
   "execution_count": null,
   "metadata": {},
   "outputs": [],
   "source": [
    "base_pair_dict = {'a' : 't', \n",
    "                  't' : 'a', \n",
    "                  'g' : 'c', \n",
    "                  'c' : 'g'}"
   ]
  },
  {
   "cell_type": "code",
   "execution_count": null,
   "metadata": {},
   "outputs": [],
   "source": [
    "base_pair_dict"
   ]
  },
  {
   "cell_type": "code",
   "execution_count": null,
   "metadata": {},
   "outputs": [],
   "source": [
    "base_pair_dict['g']"
   ]
  },
  {
   "cell_type": "code",
   "execution_count": null,
   "metadata": {},
   "outputs": [],
   "source": [
    "###so now reverse complement our DNA sequence\n",
    "\n",
    "reverse_comp_DNAseq = ''\n",
    "\n",
    "for base in DNAseq[::-1]:\n",
    "    paired_base = base_pair_dict[base]\n",
    "    reverse_comp_DNAseq += paired_base\n",
    "    \n",
    "print(reverse_comp_DNAseq, 'is the reverse complement of', DNAseq)"
   ]
  },
  {
   "cell_type": "markdown",
   "metadata": {},
   "source": [
    "### Exercise: decode the hidden message in the DNA sequences\n",
    "\n",
    "Use the coding table dictonary to decode the hidden message!!!!  \n",
    "Hint you can convert a string to upper case with the function: x.upper(), where x is your string variable.\n"
   ]
  },
  {
   "cell_type": "code",
   "execution_count": null,
   "metadata": {},
   "outputs": [],
   "source": [
    "'agt'.upper()"
   ]
  },
  {
   "cell_type": "code",
   "execution_count": null,
   "metadata": {},
   "outputs": [],
   "source": [
    "coding_table_dict = { \n",
    "        'ATA':'I', 'ATC':'I', 'ATT':'I', 'ATG':'M', \n",
    "        'ACA':'T', 'ACC':'T', 'ACG':'T', 'ACT':'T', \n",
    "        'AAC':'N', 'AAT':'N', 'AAA':'K', 'AAG':'K', \n",
    "        'AGC':'S', 'AGT':'S', 'AGA':'R', 'AGG':'R',                  \n",
    "        'CTA':'L', 'CTC':'L', 'CTG':'L', 'CTT':'L', \n",
    "        'CCA':'P', 'CCC':'P', 'CCG':'P', 'CCT':'P', \n",
    "        'CAC':'H', 'CAT':'H', 'CAA':'Q', 'CAG':'Q', \n",
    "        'CGA':'R', 'CGC':'R', 'CGG':'R', 'CGT':'R', \n",
    "        'GTA':'V', 'GTC':'V', 'GTG':'V', 'GTT':'V', \n",
    "        'GCA':'A', 'GCC':'A', 'GCG':'A', 'GCT':'A', \n",
    "        'GAC':'D', 'GAT':'D', 'GAA':'E', 'GAG':'E', \n",
    "        'GGA':'G', 'GGC':'G', 'GGG':'G', 'GGT':'G', \n",
    "        'TCA':'S', 'TCC':'S', 'TCG':'S', 'TCT':'S', \n",
    "        'TTC':'F', 'TTT':'F', 'TTA':'L', 'TTG':'L', \n",
    "        'TAC':'Y', 'TAT':'Y', 'TAA':'_', 'TAG':'_', \n",
    "        'TGC':'C', 'TGT':'C', 'TGA':'_', 'TGG':'W', \n",
    "    } "
   ]
  },
  {
   "cell_type": "code",
   "execution_count": null,
   "metadata": {},
   "outputs": [],
   "source": []
  },
  {
   "cell_type": "markdown",
   "metadata": {},
   "source": [
    "### Solution"
   ]
  },
  {
   "cell_type": "code",
   "execution_count": null,
   "metadata": {},
   "outputs": [],
   "source": [
    "hidden_message = ''\n",
    "\n",
    "for i in range(0, len(DNAseq), 3):\n",
    "    codon = DNAseq[i:i+3]\n",
    "    amino_acid = coding_table_dict[codon.upper()]\n",
    "    hidden_message = hidden_message + amino_acid\n",
    "\n",
    "print(\"This is the hidden message in\", DNAseq, ':\\n', hidden_message)"
   ]
  },
  {
   "cell_type": "code",
   "execution_count": null,
   "metadata": {},
   "outputs": [],
   "source": [
    "hidden_message = ''\n",
    "\n",
    "for i in range(0, len(DNAseq2), 3):\n",
    "    codon = DNAseq2[i:i+3]\n",
    "    amino_acid = coding_table_dict[codon.upper()]\n",
    "    hidden_message = hidden_message + amino_acid\n",
    "\n",
    "print(\"This is the hidden message in\", DNAseq2, ':\\n',hidden_message)"
   ]
  },
  {
   "cell_type": "code",
   "execution_count": null,
   "metadata": {},
   "outputs": [],
   "source": []
  }
 ],
 "metadata": {
  "kernelspec": {
   "display_name": "Python 3 (ipykernel)",
   "language": "python",
   "name": "python3"
  },
  "language_info": {
   "codemirror_mode": {
    "name": "ipython",
    "version": 3
   },
   "file_extension": ".py",
   "mimetype": "text/x-python",
   "name": "python",
   "nbconvert_exporter": "python",
   "pygments_lexer": "ipython3",
   "version": "3.10.9"
  }
 },
 "nbformat": 4,
 "nbformat_minor": 4
}
