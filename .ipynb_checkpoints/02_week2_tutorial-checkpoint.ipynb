{
 "cells": [
  {
   "cell_type": "markdown",
   "metadata": {},
   "source": [
    "# Week 2 Tutorial - Control Flow \n",
    "\n",
    "This week, we will cover the following contents:\n",
    "\n",
    "1. Loops and Statements \n",
    "    * If statement\n",
    "    * For loop\n",
    "    * While loop\n",
    "2. Loop Control Statements\n",
    "    * Continue statement \n",
    "    * Break statement \n",
    "    * Pass statement "
   ]
  },
  {
   "cell_type": "markdown",
   "metadata": {},
   "source": [
    "## Loops and Statements\n",
    "\n",
    "### If Statement\n",
    "\n",
    "In Python, the if statement is a conditional statement that allows you to execute a block of code only if a certain condition is True. \n",
    "\n",
    "It follows the general syntax:"
   ]
  },
  {
   "cell_type": "code",
   "execution_count": 3,
   "metadata": {},
   "outputs": [
    {
     "ename": "SyntaxError",
     "evalue": "incomplete input (3124047070.py, line 2)",
     "output_type": "error",
     "traceback": [
      "\u001b[0;36m  Cell \u001b[0;32mIn[3], line 2\u001b[0;36m\u001b[0m\n\u001b[0;31m    # code block to be executed if condition is True\u001b[0m\n\u001b[0m                                                    ^\u001b[0m\n\u001b[0;31mSyntaxError\u001b[0m\u001b[0;31m:\u001b[0m incomplete input\n"
     ]
    }
   ],
   "source": [
    "if condition:\n",
    "    # code block to be executed if condition is True"
   ]
  },
  {
   "cell_type": "markdown",
   "metadata": {},
   "source": [
    "The condition in the if statement is an expression that evaluates to a boolean value (True or False), it means you can't if a number or a string, it doesn't make sense. For example, ```if 5:``` or ```if \"apple and banana\":```.\n",
    "\n",
    "* If the condition is True, the code block will be __executed__.\n",
    "* If the condition is False, the code block will be __skipped__.\n",
    "\n",
    "__A simple example of If Statement:__"
   ]
  },
  {
   "cell_type": "code",
   "execution_count": 8,
   "metadata": {},
   "outputs": [
    {
     "name": "stdout",
     "output_type": "stream",
     "text": [
      "x is positive.\n"
     ]
    }
   ],
   "source": [
    "x = 5\n",
    "\n",
    "if x > 0:  \n",
    "    print(\"x is positive.\")"
   ]
  },
  {
   "cell_type": "markdown",
   "metadata": {},
   "source": [
    "Above, when our x is greater than 0 the code will print \"x is positive\", and when our x is not greater than 0 the code will do nothing because it will skip the indented line."
   ]
  },
  {
   "cell_type": "markdown",
   "metadata": {},
   "source": [
    "__if...elif...else for multiple conditions:__\n",
    "\n",
    "The general syntax:"
   ]
  },
  {
   "cell_type": "code",
   "execution_count": 1,
   "metadata": {
    "scrolled": false
   },
   "outputs": [
    {
     "ename": "IndentationError",
     "evalue": "expected an indented block after 'if' statement on line 1 (2645580786.py, line 3)",
     "output_type": "error",
     "traceback": [
      "\u001b[0;36m  Cell \u001b[0;32mIn[1], line 3\u001b[0;36m\u001b[0m\n\u001b[0;31m    elif condition:\u001b[0m\n\u001b[0m    ^\u001b[0m\n\u001b[0;31mIndentationError\u001b[0m\u001b[0;31m:\u001b[0m expected an indented block after 'if' statement on line 1\n"
     ]
    }
   ],
   "source": [
    "if condition:\n",
    "    # code block to be executed if condition is True\n",
    "elif condition:\n",
    "    # code block to be executed if condition is True\n",
    "else:\n",
    "    # code block to be executed when other conditions have not been met "
   ]
  },
  {
   "cell_type": "markdown",
   "metadata": {},
   "source": [
    "You can use as many elif as you want, for example:"
   ]
  },
  {
   "cell_type": "code",
   "execution_count": 2,
   "metadata": {
    "scrolled": true
   },
   "outputs": [
    {
     "name": "stdout",
     "output_type": "stream",
     "text": [
      "Score: 78\n",
      "Grade: D\n"
     ]
    }
   ],
   "source": [
    "# Example of if-elif-else statement to determine grade\n",
    "score = 78\n",
    "\n",
    "if score >= 85:\n",
    "    grade = 'HD'  # High Distinction\n",
    "elif score >= 75:\n",
    "    grade = 'D'  # Distinction\n",
    "elif score >= 65:\n",
    "    grade = 'C'  # Credit\n",
    "elif score >= 50:\n",
    "    grade = 'P'  # Pass\n",
    "else:\n",
    "    grade = 'F'  # Fail\n",
    "\n",
    "print(\"Score:\", score)\n",
    "print(\"Grade:\", grade)"
   ]
  },
  {
   "cell_type": "markdown",
   "metadata": {},
   "source": [
    "### For Loop\n",
    "\n",
    "Computing is mostly about doing the same thing again and again in an automated fashion. An example task that we might want to repeat is printing each character in a DNA sequence on a line of its own. "
   ]
  },
  {
   "cell_type": "code",
   "execution_count": 8,
   "metadata": {
    "scrolled": false
   },
   "outputs": [],
   "source": [
    "DNAseq = 'atgtataacattggccataccccgtatacccatgcgaaccatattggccattaa'"
   ]
  },
  {
   "cell_type": "markdown",
   "metadata": {},
   "source": [
    "One way to do this would be using a series of print statements: "
   ]
  },
  {
   "cell_type": "code",
   "execution_count": 2,
   "metadata": {},
   "outputs": [
    {
     "name": "stdout",
     "output_type": "stream",
     "text": [
      "a\n",
      "t\n",
      "g\n",
      "t\n",
      "a\n"
     ]
    }
   ],
   "source": [
    "print(DNAseq[0])\n",
    "print(DNAseq[1])\n",
    "print(DNAseq[2])\n",
    "print(DNAseq[3])\n",
    "print(DNAseq[4])"
   ]
  },
  {
   "cell_type": "markdown",
   "metadata": {},
   "source": [
    "**Python Indexing:**\n",
    "\n",
    "Above, we used square brackets to access the values at different positions in the string, where ```DNAseq[0]``` means the first value in the string and ```DNAseq[1]``` means the second value in the string, and so on. As we may notice, we used 0 to represent the first value rather than 1, it is because Python Indexing starts from 0, and same as many other programming languages. \n",
    "\n",
    "Python Indexing starts from 0 because it is a convention that has been adopted by many programming languages, including C, C++, java, and many others. The idea behind starting from 0 is to make it easier to calculate memory addresses, which is important when dealing with low-level programming tasks. \n",
    "\n",
    "Okay, let's get back to print our bases."
   ]
  },
  {
   "cell_type": "code",
   "execution_count": 9,
   "metadata": {
    "scrolled": true
   },
   "outputs": [
    {
     "name": "stdout",
     "output_type": "stream",
     "text": [
      "t\n",
      "a\n",
      "a\n",
      "c\n",
      "a\n"
     ]
    }
   ],
   "source": [
    "print(DNAseq[5])\n",
    "print(DNAseq[6])\n",
    "print(DNAseq[7])\n",
    "print(DNAseq[8])\n",
    "print(DNAseq[9])"
   ]
  },
  {
   "cell_type": "markdown",
   "metadata": {},
   "source": [
    "I'm getting a bit tired, let me check how many bases left for me to print."
   ]
  },
  {
   "cell_type": "code",
   "execution_count": 10,
   "metadata": {},
   "outputs": [
    {
     "data": {
      "text/plain": [
       "54"
      ]
     },
     "execution_count": 10,
     "metadata": {},
     "output_type": "execute_result"
    }
   ],
   "source": [
    "len(DNAseq)"
   ]
  },
  {
   "cell_type": "markdown",
   "metadata": {},
   "source": [
    "The len() function can check the length of a string. The sequence is 54 bases long and to print all of them I have to to write the print() funtion 54 times. \n",
    "\n",
    "Obviously this is not a good way to solve the problem because:\n",
    "* What if I need to print a sequence with 20K bases? \n",
    "* What if I have multiple sequences I need to print?\n",
    "\n",
    "A better approach is to use **For Loop** in Python."
   ]
  },
  {
   "cell_type": "markdown",
   "metadata": {},
   "source": [
    "__What is a for loop? And what does it do?__\n",
    "\n",
    "A for loop is a control flow statement in Python that is used to iterate over a sequence of values or a collection, and execute a block of code once for each element in the sequence. It allows you to repeatedly perform a set of tasks or operations on each element in the sequence without having to write repetitive code. \n",
    "\n",
    "The basic idea behind a for loop is to iterate over each element in an iterable, such as a list, tuple, string, or dictionary, and perform some action for each element. The loop automatically handles the iteration process, moving from one element to the next until all elements have been processed.\n",
    "\n",
    "__The syntax of a for loop is:__"
   ]
  },
  {
   "cell_type": "code",
   "execution_count": 7,
   "metadata": {
    "scrolled": false
   },
   "outputs": [
    {
     "ename": "SyntaxError",
     "evalue": "incomplete input (2662539125.py, line 2)",
     "output_type": "error",
     "traceback": [
      "\u001b[0;36m  Cell \u001b[0;32mIn[7], line 2\u001b[0;36m\u001b[0m\n\u001b[0;31m    # Code block to be executed\u001b[0m\n\u001b[0m                               ^\u001b[0m\n\u001b[0;31mSyntaxError\u001b[0m\u001b[0;31m:\u001b[0m incomplete input\n"
     ]
    }
   ],
   "source": [
    "for variable in iterable:\n",
    "    # Code block to be executed"
   ]
  },
  {
   "cell_type": "markdown",
   "metadata": {},
   "source": [
    "__A simple example of for loop:__\n",
    "\n",
    "In this example, we will create a list called \"numbers\" and it contains integers from 1 to 5, and use for loop to print all of the integers. "
   ]
  },
  {
   "cell_type": "code",
   "execution_count": 9,
   "metadata": {
    "scrolled": true
   },
   "outputs": [
    {
     "name": "stdout",
     "output_type": "stream",
     "text": [
      "1\n",
      "2\n",
      "3\n",
      "4\n",
      "5\n"
     ]
    }
   ],
   "source": [
    "numbers = [1, 2, 3, 4, 5] # create a list \n",
    "\n",
    "# use for loop to print every element in the list \n",
    "for num in numbers:\n",
    "    print(num)"
   ]
  },
  {
   "cell_type": "markdown",
   "metadata": {},
   "source": [
    "__Use for loop to print all the bases in the object \"DNAseq\":__\n",
    "\n",
    "We have defined the variable \"DNAseq\" before in the same Jupyter Notebook so we don't need to define it again, it is saved in the environment. But if you close the notebook it will delete all the variables you have created in this session. You will have to run those codes again to create the variables. "
   ]
  },
  {
   "cell_type": "code",
   "execution_count": 22,
   "metadata": {
    "scrolled": true
   },
   "outputs": [
    {
     "name": "stdout",
     "output_type": "stream",
     "text": [
      "a\n",
      "t\n",
      "g\n",
      "t\n",
      "a\n",
      "t\n",
      "a\n",
      "a\n",
      "c\n",
      "a\n",
      "t\n",
      "t\n",
      "g\n",
      "g\n",
      "c\n",
      "c\n",
      "a\n",
      "t\n",
      "a\n",
      "c\n",
      "c\n",
      "c\n",
      "c\n",
      "g\n",
      "t\n",
      "a\n",
      "t\n",
      "a\n",
      "c\n",
      "c\n",
      "c\n",
      "a\n",
      "t\n",
      "g\n",
      "c\n",
      "g\n",
      "a\n",
      "a\n",
      "c\n",
      "c\n",
      "a\n",
      "t\n",
      "a\n",
      "t\n",
      "t\n",
      "g\n",
      "g\n",
      "c\n",
      "c\n",
      "a\n",
      "t\n",
      "t\n",
      "a\n",
      "a\n"
     ]
    }
   ],
   "source": [
    "for base in DNAseq:\n",
    "    print(base)"
   ]
  },
  {
   "cell_type": "code",
   "execution_count": 12,
   "metadata": {},
   "outputs": [],
   "source": [
    "# create two more variables for us to practice \n",
    "DNAseq2 = 'ccgtatacccatgcgaacatggcgaaagaaagctttgcgagcacctaa'\n",
    "DNAseq3 = 'ccgt'"
   ]
  },
  {
   "cell_type": "markdown",
   "metadata": {},
   "source": [
    "__Use for loop to print all the bases in the object \"DNAseq2\":__"
   ]
  },
  {
   "cell_type": "code",
   "execution_count": 21,
   "metadata": {
    "scrolled": true
   },
   "outputs": [
    {
     "name": "stdout",
     "output_type": "stream",
     "text": [
      "c\n",
      "c\n",
      "g\n",
      "t\n",
      "a\n",
      "t\n",
      "a\n",
      "c\n",
      "c\n",
      "c\n",
      "a\n",
      "t\n",
      "g\n",
      "c\n",
      "g\n",
      "a\n",
      "a\n",
      "c\n",
      "a\n",
      "t\n",
      "g\n",
      "g\n",
      "c\n",
      "g\n",
      "a\n",
      "a\n",
      "a\n",
      "g\n",
      "a\n",
      "a\n",
      "a\n",
      "g\n",
      "c\n",
      "t\n",
      "t\n",
      "t\n",
      "g\n",
      "c\n",
      "g\n",
      "a\n",
      "g\n",
      "c\n",
      "a\n",
      "c\n",
      "c\n",
      "t\n",
      "a\n",
      "a\n"
     ]
    }
   ],
   "source": [
    "for base in DNAseq2:\n",
    "    print(base)"
   ]
  },
  {
   "cell_type": "markdown",
   "metadata": {},
   "source": [
    "__Use for loop to print all the bases in the object \"DNAseq3\":__"
   ]
  },
  {
   "cell_type": "code",
   "execution_count": 14,
   "metadata": {},
   "outputs": [
    {
     "name": "stdout",
     "output_type": "stream",
     "text": [
      "c\n",
      "c\n",
      "g\n",
      "t\n"
     ]
    }
   ],
   "source": [
    "for base in DNAseq3:\n",
    "    print(base)"
   ]
  },
  {
   "cell_type": "markdown",
   "metadata": {},
   "source": [
    "We can see that no matter how long our sequence is, we can always use two lines of code to perform the same task. \n",
    "\n",
    "Unlike many other languages, there is no command to start/end a loop (e.g. do/done in **bash**). What is indented after the for statement belongs to the loop."
   ]
  },
  {
   "cell_type": "markdown",
   "metadata": {},
   "source": [
    "__Exercise 01: Write a loop that counts the number of bases in your DNA sequence (variable DNAseq)__\n",
    "\n",
    "Here is a reference example:"
   ]
  },
  {
   "cell_type": "code",
   "execution_count": 15,
   "metadata": {},
   "outputs": [
    {
     "name": "stdout",
     "output_type": "stream",
     "text": [
      "There are 6 fruits in my basket.\n"
     ]
    }
   ],
   "source": [
    "# how many fruits are in my basket?\n",
    "\n",
    "basket = [\"apple\", \"banana\", \"peach\", \"nectarine\", \"apple_2\", \"pineapple\"]\n",
    "number_of_fruits = 0\n",
    "\n",
    "for fruit in basket:\n",
    "    number_of_fruits = number_of_fruits + 1\n",
    "\n",
    "print(\"There are\", number_of_fruits, \"fruits in my basket.\")"
   ]
  },
  {
   "cell_type": "code",
   "execution_count": 16,
   "metadata": {},
   "outputs": [],
   "source": [
    "# write your solution here:\n",
    "\n"
   ]
  },
  {
   "cell_type": "markdown",
   "metadata": {},
   "source": [
    "__Exercise 02: Now make it print the DNA sequence too. Like \"There are 3 bases in the sequence atg.\"__"
   ]
  },
  {
   "cell_type": "code",
   "execution_count": 18,
   "metadata": {},
   "outputs": [],
   "source": [
    "# write your solution here:\n",
    "\n"
   ]
  },
  {
   "cell_type": "markdown",
   "metadata": {},
   "source": [
    "Note that there is a space between the sequence and the dot in the above output. That's because for the print() function, when you use comma to concatenate data it will put a space in between by default. \n",
    "\n",
    "To change this default setting, we can use the \"sep\" argument to specify which delimiter we want to use. Below, we specify sep=\"\" which means we don't use any delimiter so the data will concatenate right next to each other. In this way, you need to make sure to include the space character in your strings. Otherwise, you won't get any space between your data. "
   ]
  },
  {
   "cell_type": "code",
   "execution_count": 16,
   "metadata": {},
   "outputs": [
    {
     "name": "stdout",
     "output_type": "stream",
     "text": [
      "There are 54 letters in the sequence atgtataacattggccataccccgtatacccatgcgaaccatattggccattaa.\n"
     ]
    }
   ],
   "source": [
    "print('There are ', number_of_bases, ' letters in the sequence ', DNAseq, '.', sep=\"\")"
   ]
  },
  {
   "cell_type": "markdown",
   "metadata": {},
   "source": [
    "But finding the length of a string is such a common operation that Python has a built-in function to do it called __len()__:"
   ]
  },
  {
   "cell_type": "code",
   "execution_count": 21,
   "metadata": {},
   "outputs": [
    {
     "data": {
      "text/plain": [
       "54"
      ]
     },
     "execution_count": 21,
     "metadata": {},
     "output_type": "execute_result"
    }
   ],
   "source": [
    "len(DNAseq)"
   ]
  },
  {
   "cell_type": "markdown",
   "metadata": {},
   "source": [
    "len() is much faster than any function we could write ourselves, and much easier to read than a two-line loop; it will also give us the length of many other things that we haven’t met yet, so we should always use it when we can."
   ]
  },
  {
   "cell_type": "markdown",
   "metadata": {},
   "source": [
    "### Iterate Over Numbers in For Loop \n",
    "\n",
    "All practises we did before we looped everthing from the beginning to the end, but not all of the time we want to execute the commands on all of our data.\n",
    "\n",
    "__What if I want to run the commands on half of the list? What if I want to run the commands on every other element?__\n",
    "\n",
    "Python has a built-in function called __range()__ that creates a list of numbers, we can loop through these numbers and use it as indexes to get the elements we want. The range() function returns a sequence of numbers, starting from 0 by default, and increments by 1 (by default), and stops before a specified number.\n",
    "\n",
    "Syntax: range(start, stop, increment)"
   ]
  },
  {
   "cell_type": "code",
   "execution_count": 1,
   "metadata": {
    "scrolled": true
   },
   "outputs": [
    {
     "name": "stdout",
     "output_type": "stream",
     "text": [
      "0\n",
      "1\n",
      "2\n"
     ]
    }
   ],
   "source": [
    "for i in range(3): # starting from 0 and increments by 1 until 3 (exclusive)\n",
    "    print(i)"
   ]
  },
  {
   "cell_type": "code",
   "execution_count": 27,
   "metadata": {},
   "outputs": [
    {
     "name": "stdout",
     "output_type": "stream",
     "text": [
      "2\n",
      "3\n",
      "4\n"
     ]
    }
   ],
   "source": [
    "for i in range(2,5): # starting from 2 and increments by 1 until 5 (exclusive)\n",
    "    print(i)"
   ]
  },
  {
   "cell_type": "code",
   "execution_count": 28,
   "metadata": {},
   "outputs": [
    {
     "name": "stdout",
     "output_type": "stream",
     "text": [
      "10\n",
      "15\n",
      "20\n",
      "25\n"
     ]
    }
   ],
   "source": [
    "for i in range(10,30,5): # starting from 10 and increments by 5 until 30 (exclusive)\n",
    "    print(i)"
   ]
  },
  {
   "cell_type": "markdown",
   "metadata": {},
   "source": [
    "__Exercise 03: Write a loop that prints all the even numbers in the range between 1 and 10 (inclusive)__"
   ]
  },
  {
   "cell_type": "code",
   "execution_count": null,
   "metadata": {},
   "outputs": [],
   "source": [
    "# write your code here:\n",
    "\n"
   ]
  },
  {
   "cell_type": "markdown",
   "metadata": {},
   "source": [
    "We can make it more generic and use what we have learned before:"
   ]
  },
  {
   "cell_type": "code",
   "execution_count": 6,
   "metadata": {},
   "outputs": [
    {
     "name": "stdout",
     "output_type": "stream",
     "text": [
      "2\n",
      "4\n",
      "6\n",
      "8\n",
      "10\n"
     ]
    }
   ],
   "source": [
    "start, end = 1, 10\n",
    "\n",
    "for i in range(start, end + 1):\n",
    "    if i % 2 == 0:\n",
    "        print(i)"
   ]
  },
  {
   "cell_type": "markdown",
   "metadata": {},
   "source": [
    "Here, we used __if statement__ and __modulo operation__ to check if the number is even and only print out those that are. "
   ]
  },
  {
   "cell_type": "markdown",
   "metadata": {},
   "source": [
    "__Iterate over indexes:__\n",
    "\n",
    "Iterate over numbers in for loop is very useful when you combine it with object indexes. You can execute a block of command to items that are part of a object rather than loop everthing from the beginning to the end. \n",
    "\n",
    "Before that we need to learn the concept of subscripting."
   ]
  },
  {
   "cell_type": "markdown",
   "metadata": {},
   "source": [
    "__Subscripting in Python:__\n",
    "\n",
    "In Python, subscripting refers to accessing individual elements or slices of a sequence or collection, such as strings, lists, tuples, or arrays, using square brackets [] and an index or slice notation. It allows you to extract or modify specific elements of a sequence. For example:"
   ]
  },
  {
   "cell_type": "markdown",
   "metadata": {},
   "source": [
    "__HERE TO CONTINUR !!!__"
   ]
  },
  {
   "cell_type": "code",
   "execution_count": null,
   "metadata": {},
   "outputs": [],
   "source": []
  },
  {
   "cell_type": "code",
   "execution_count": null,
   "metadata": {},
   "outputs": [],
   "source": []
  },
  {
   "cell_type": "code",
   "execution_count": null,
   "metadata": {},
   "outputs": [],
   "source": []
  },
  {
   "cell_type": "code",
   "execution_count": null,
   "metadata": {},
   "outputs": [],
   "source": []
  },
  {
   "cell_type": "markdown",
   "metadata": {},
   "source": [
    "### While Loop\n",
    "\n",
    "A while loop allows you to repeatedly execute a block of code as long as a certain condition is True. \n",
    "\n",
    "The general syntax of a while loop in Python is as follows:"
   ]
  },
  {
   "cell_type": "code",
   "execution_count": 2,
   "metadata": {
    "scrolled": false
   },
   "outputs": [
    {
     "ename": "SyntaxError",
     "evalue": "incomplete input (2941978553.py, line 2)",
     "output_type": "error",
     "traceback": [
      "\u001b[0;36m  Cell \u001b[0;32mIn[2], line 2\u001b[0;36m\u001b[0m\n\u001b[0;31m    # Code to be executed\u001b[0m\n\u001b[0m                         ^\u001b[0m\n\u001b[0;31mSyntaxError\u001b[0m\u001b[0;31m:\u001b[0m incomplete input\n"
     ]
    }
   ],
   "source": [
    "while condition:\n",
    "    # Code to be executed"
   ]
  },
  {
   "cell_type": "markdown",
   "metadata": {},
   "source": [
    "__A simple example of While Loop:__"
   ]
  },
  {
   "cell_type": "code",
   "execution_count": 3,
   "metadata": {
    "scrolled": true
   },
   "outputs": [
    {
     "name": "stdout",
     "output_type": "stream",
     "text": [
      "1\n",
      "2\n",
      "3\n",
      "4\n",
      "5\n"
     ]
    }
   ],
   "source": [
    "count = 1\n",
    "\n",
    "while count <= 5:\n",
    "    print(count)\n",
    "    count += 1"
   ]
  },
  {
   "cell_type": "markdown",
   "metadata": {},
   "source": [
    "__A biological example of While Loop:__\n",
    "\n",
    "We can use while loop to find the start codon in a DNA sequence."
   ]
  },
  {
   "cell_type": "code",
   "execution_count": 6,
   "metadata": {},
   "outputs": [
    {
     "name": "stdout",
     "output_type": "stream",
     "text": [
      "Start codon found at index: 6\n"
     ]
    }
   ],
   "source": [
    "# Define the DNA sequence\n",
    "dna_sequence = \"TTAGCTATGACATGTAGGCTAGCTAG\"\n",
    "\n",
    "# Initialize the index variable\n",
    "index = 0\n",
    "\n",
    "# Use a while loop to search for the start codon\n",
    "while index < len(dna_sequence):\n",
    "    codon = dna_sequence[index:index+3] \n",
    "    if codon == \"ATG\": \n",
    "        print(\"Start codon found at index:\", index)\n",
    "        break  \n",
    "    index += 1 \n",
    "else: \n",
    "    print(\"Start codon not found in the given DNA sequence.\")"
   ]
  },
  {
   "cell_type": "markdown",
   "metadata": {},
   "source": []
  },
  {
   "cell_type": "code",
   "execution_count": null,
   "metadata": {},
   "outputs": [],
   "source": []
  },
  {
   "cell_type": "code",
   "execution_count": null,
   "metadata": {},
   "outputs": [],
   "source": []
  },
  {
   "cell_type": "code",
   "execution_count": null,
   "metadata": {},
   "outputs": [],
   "source": []
  },
  {
   "cell_type": "code",
   "execution_count": null,
   "metadata": {},
   "outputs": [],
   "source": []
  },
  {
   "cell_type": "code",
   "execution_count": null,
   "metadata": {},
   "outputs": [],
   "source": []
  },
  {
   "cell_type": "code",
   "execution_count": null,
   "metadata": {},
   "outputs": [],
   "source": []
  },
  {
   "cell_type": "code",
   "execution_count": null,
   "metadata": {},
   "outputs": [],
   "source": []
  },
  {
   "cell_type": "code",
   "execution_count": 19,
   "metadata": {},
   "outputs": [
    {
     "data": {
      "text/plain": [
       "'atgtataacattggccataccccgtatacccatgcgaaccatattggccattaa'"
      ]
     },
     "execution_count": 19,
     "metadata": {},
     "output_type": "execute_result"
    }
   ],
   "source": [
    "DNAseq"
   ]
  },
  {
   "cell_type": "code",
   "execution_count": 25,
   "metadata": {
    "scrolled": true
   },
   "outputs": [
    {
     "data": {
      "text/plain": [
       "'a'"
      ]
     },
     "execution_count": 25,
     "metadata": {},
     "output_type": "execute_result"
    }
   ],
   "source": [
    "# access the element at index 0\n",
    "DNAseq[0] "
   ]
  },
  {
   "cell_type": "code",
   "execution_count": 26,
   "metadata": {},
   "outputs": [
    {
     "data": {
      "text/plain": [
       "'t'"
      ]
     },
     "execution_count": 26,
     "metadata": {},
     "output_type": "execute_result"
    }
   ],
   "source": [
    "# access the element at index 5\n",
    "DNAseq[5] "
   ]
  },
  {
   "cell_type": "code",
   "execution_count": 27,
   "metadata": {},
   "outputs": [
    {
     "data": {
      "text/plain": [
       "'atg'"
      ]
     },
     "execution_count": 27,
     "metadata": {},
     "output_type": "execute_result"
    }
   ],
   "source": [
    "# access the elements from index 0 to 3 (exclusive)\n",
    "DNAseq[0:3] "
   ]
  },
  {
   "cell_type": "markdown",
   "metadata": {},
   "source": [
    "__Note:__ when using square brackets to slice a sequence from a collection, the beginning index is always inclusive and the ending index is exclusive. \n",
    "\n",
    "So for `DNAseq[0:3]`, it includes index 0, 1, 2 but not 3."
   ]
  },
  {
   "cell_type": "code",
   "execution_count": 28,
   "metadata": {},
   "outputs": [
    {
     "data": {
      "text/plain": [
       "'atgtat'"
      ]
     },
     "execution_count": 28,
     "metadata": {},
     "output_type": "execute_result"
    }
   ],
   "source": [
    "# access the elements from the beginning to index 6 (exclusive)\n",
    "DNAseq[:6]"
   ]
  },
  {
   "cell_type": "code",
   "execution_count": 29,
   "metadata": {},
   "outputs": [
    {
     "data": {
      "text/plain": [
       "'gtataacattggccataccccgtatacccatgcgaaccatattggccattaa'"
      ]
     },
     "execution_count": 29,
     "metadata": {},
     "output_type": "execute_result"
    }
   ],
   "source": [
    "# access the elements from index 2 (inclusive) to the end\n",
    "DNAseq[2:]"
   ]
  },
  {
   "cell_type": "markdown",
   "metadata": {},
   "source": [
    "You can use subsetting to print out all the first bases of all codons."
   ]
  },
  {
   "cell_type": "code",
   "execution_count": 30,
   "metadata": {
    "scrolled": false
   },
   "outputs": [
    {
     "name": "stdout",
     "output_type": "stream",
     "text": [
      "a\n",
      "t\n",
      "a\n",
      "a\n",
      "g\n",
      "c\n",
      "a\n",
      "c\n",
      "t\n",
      "a\n",
      "c\n",
      "g\n",
      "a\n",
      "c\n",
      "a\n",
      "g\n",
      "c\n",
      "t\n"
     ]
    }
   ],
   "source": [
    "for i in range(0, len(DNAseq), 3):\n",
    "    print(DNAseq[i])"
   ]
  },
  {
   "cell_type": "markdown",
   "metadata": {},
   "source": [
    "For the above loop, consider the question:\n",
    "* What indexes are been used in the loop? Obviously it's not all the indexes in variable DNAseq. \n",
    "\n",
    "### Exercise\n",
    "\n",
    "Write a loop that prints all the codons (non-overlapping 3-mers) of our variable DNAseq."
   ]
  },
  {
   "cell_type": "code",
   "execution_count": null,
   "metadata": {},
   "outputs": [],
   "source": [
    "# write your code here:\n",
    "\n",
    "\n"
   ]
  },
  {
   "cell_type": "code",
   "execution_count": 31,
   "metadata": {},
   "outputs": [
    {
     "name": "stdout",
     "output_type": "stream",
     "text": [
      "atg\n",
      "tat\n",
      "aac\n",
      "att\n",
      "ggc\n",
      "cat\n",
      "acc\n",
      "ccg\n",
      "tat\n",
      "acc\n",
      "cat\n",
      "gcg\n",
      "aac\n",
      "cat\n",
      "att\n",
      "ggc\n",
      "cat\n",
      "taa\n"
     ]
    }
   ],
   "source": [
    "# solution\n",
    "for i in range(0, len(DNAseq), 3):\n",
    "    print(DNAseq[i:i+3])"
   ]
  },
  {
   "cell_type": "code",
   "execution_count": 32,
   "metadata": {},
   "outputs": [
    {
     "name": "stdout",
     "output_type": "stream",
     "text": [
      "0 atg\n",
      "3 tat\n",
      "6 aac\n",
      "9 att\n",
      "12 ggc\n",
      "15 cat\n",
      "18 acc\n",
      "21 ccg\n",
      "24 tat\n",
      "27 acc\n",
      "30 cat\n",
      "33 gcg\n",
      "36 aac\n",
      "39 cat\n",
      "42 att\n",
      "45 ggc\n",
      "48 cat\n",
      "51 taa\n"
     ]
    }
   ],
   "source": [
    "# this one also prints the start index of the codon\n",
    "for i in range(0, len(DNAseq), 3):\n",
    "    print(i,DNAseq[i:i+3])"
   ]
  },
  {
   "cell_type": "markdown",
   "metadata": {},
   "source": [
    "## Control flow - more ways to affect the order in which statements run\n",
    "\n",
    "So far we've seen \"for\" loop in a few of our Python examples.\n",
    "\n",
    "There are a few other \"control flow\" statements that affect the order in which statements run.\n",
    "\n",
    "We'll start first with the \"if statement\" ... and its variants."
   ]
  },
  {
   "cell_type": "markdown",
   "metadata": {},
   "source": [
    "We can also use loops to count how often the base 'a' occurs in our variable DNAseq."
   ]
  },
  {
   "cell_type": "code",
   "execution_count": 4,
   "metadata": {},
   "outputs": [
    {
     "name": "stdout",
     "output_type": "stream",
     "text": [
      "We have the following base counts:\n",
      "a: 17\n"
     ]
    }
   ],
   "source": [
    "a_count = 0\n",
    "\n",
    "for base in DNAseq:\n",
    "    if base == 'a':\n",
    "        a_count += 1\n",
    "        \n",
    "print('We have the following base counts:')\n",
    "print('a:', a_count)    "
   ]
  },
  {
   "cell_type": "markdown",
   "metadata": {},
   "source": [
    "__Exercise: What are the counts of each regular base [a, t, c, g] in DNAseq?__"
   ]
  },
  {
   "cell_type": "code",
   "execution_count": null,
   "metadata": {},
   "outputs": [],
   "source": [
    "# write your code here: \n",
    "\n"
   ]
  },
  {
   "cell_type": "code",
   "execution_count": 5,
   "metadata": {},
   "outputs": [
    {
     "name": "stdout",
     "output_type": "stream",
     "text": [
      "We have the following base counts:\n",
      "a: 17\n",
      "t: 14\n",
      "c: 15\n",
      "g: 8\n"
     ]
    }
   ],
   "source": [
    "a_count = 0\n",
    "t_count = 0\n",
    "c_count = 0\n",
    "g_count = 0\n",
    "\n",
    "for base in DNAseq:\n",
    "    if base == 'a':\n",
    "        a_count += 1\n",
    "    elif base == 't':\n",
    "        t_count += 1\n",
    "    elif base == 'c':\n",
    "        c_count += 1\n",
    "    elif base == \"g\":\n",
    "        g_count += 1\n",
    "    else:\n",
    "        print(base, 'is not a regular base [a, t, c, g]')\n",
    "        \n",
    "print('We have the following base counts:')\n",
    "print('a:', a_count)\n",
    "print('t:', t_count)\n",
    "print('c:', c_count)\n",
    "print('g:', g_count)   "
   ]
  },
  {
   "cell_type": "markdown",
   "metadata": {},
   "source": [
    "## Data structures\n",
    "\n",
    "### Lists, tuples, and sets\n",
    "\n",
    "Python has a set of standard 'containers' where you can store information in. Each data structure has its purpose and advantages.\n"
   ]
  },
  {
   "cell_type": "markdown",
   "metadata": {},
   "source": [
    "### Lists\n",
    "\n",
    "Lists are ordered sequences of elements. Each element or value that is inside of a list is called an item. Just as strings are defined as characters between quotes, lists are defined by having values between square brackets []. \n",
    "\n",
    "For example, codons within DNA sequence could be stored in a list of 3-mers."
   ]
  },
  {
   "cell_type": "code",
   "execution_count": null,
   "metadata": {},
   "outputs": [],
   "source": [
    "DNAseq"
   ]
  },
  {
   "cell_type": "code",
   "execution_count": null,
   "metadata": {},
   "outputs": [],
   "source": [
    "### initially you can copy and paste the codons over and make a list\n",
    "DNAseq_codons = ['atg', 'tat', 'aac' ]"
   ]
  },
  {
   "cell_type": "markdown",
   "metadata": {},
   "source": [
    "We can also make a list more easily by looping over the string."
   ]
  },
  {
   "cell_type": "code",
   "execution_count": null,
   "metadata": {},
   "outputs": [],
   "source": [
    "DNAseq_codons = []\n",
    "\n",
    "for i in range(0, len(DNAseq), 3):\n",
    "    DNAseq_codons.append(DNAseq[i:i+3])\n",
    "    print(DNAseq[i:i+3])\n",
    "print(DNAseq_codons)"
   ]
  },
  {
   "cell_type": "markdown",
   "metadata": {},
   "source": [
    "### Lists are\n",
    "* subscriptable\n",
    "* mutable"
   ]
  },
  {
   "cell_type": "code",
   "execution_count": null,
   "metadata": {},
   "outputs": [],
   "source": [
    "DNAseq_codons[4]"
   ]
  },
  {
   "cell_type": "code",
   "execution_count": null,
   "metadata": {},
   "outputs": [],
   "source": [
    "DNAseq_codons[4] = 'aat'"
   ]
  },
  {
   "cell_type": "code",
   "execution_count": null,
   "metadata": {},
   "outputs": [],
   "source": [
    "DNAseq_codons"
   ]
  },
  {
   "cell_type": "markdown",
   "metadata": {},
   "source": [
    "### Sets\n",
    "\n",
    "Sets are unordered collection of items where each item occurs only once. It has no duplicated elements."
   ]
  },
  {
   "cell_type": "code",
   "execution_count": null,
   "metadata": {},
   "outputs": [],
   "source": [
    "print(DNAseq_codons)\n",
    "type(DNAseq_codons)"
   ]
  },
  {
   "cell_type": "code",
   "execution_count": null,
   "metadata": {},
   "outputs": [],
   "source": [
    "set(DNAseq_codons)"
   ]
  },
  {
   "cell_type": "code",
   "execution_count": null,
   "metadata": {},
   "outputs": [],
   "source": [
    "set[0]"
   ]
  },
  {
   "cell_type": "markdown",
   "metadata": {},
   "source": [
    "### Sets are\n",
    "* not subscriptable\n",
    "* not mutable\n",
    "\n",
    "Because sets cannot have multiple occurrences of the same element, it makes sets highly useful to efficiently remove duplicate values from a list and to perform common math operations like unions and intersections."
   ]
  },
  {
   "cell_type": "markdown",
   "metadata": {},
   "source": [
    "### Dictionaries\n",
    "\n",
    "Dictionaries are (unordered) containers of key:value pairs where each key can only occur once.\n",
    "\n",
    "They are one of most useful Python data structures. Looking up elements in a dictionary is really fast and there are lots of built-in functions to use and manipulate dictionaries."
   ]
  },
  {
   "cell_type": "markdown",
   "metadata": {},
   "source": [
    "We can use a dictionary to reverse complement a DNA sequence."
   ]
  },
  {
   "cell_type": "code",
   "execution_count": null,
   "metadata": {},
   "outputs": [],
   "source": [
    "base_pair_dict = {'a' : 't', \n",
    "                  't' : 'a', \n",
    "                  'g' : 'c', \n",
    "                  'c' : 'g'}"
   ]
  },
  {
   "cell_type": "code",
   "execution_count": null,
   "metadata": {},
   "outputs": [],
   "source": [
    "base_pair_dict"
   ]
  },
  {
   "cell_type": "code",
   "execution_count": null,
   "metadata": {},
   "outputs": [],
   "source": [
    "base_pair_dict['g']"
   ]
  },
  {
   "cell_type": "code",
   "execution_count": null,
   "metadata": {},
   "outputs": [],
   "source": [
    "###so now reverse complement our DNA sequence\n",
    "\n",
    "reverse_comp_DNAseq = ''\n",
    "\n",
    "for base in DNAseq[::-1]:\n",
    "    paired_base = base_pair_dict[base]\n",
    "    reverse_comp_DNAseq += paired_base\n",
    "    \n",
    "print(reverse_comp_DNAseq, 'is the reverse complement of', DNAseq)"
   ]
  },
  {
   "cell_type": "markdown",
   "metadata": {},
   "source": [
    "### Exercise: decode the hidden message in the DNA sequences\n",
    "\n",
    "Use the coding table dictonary to decode the hidden message!!!!  \n",
    "Hint you can convert a string to upper case with the function: x.upper(), where x is your string variable.\n"
   ]
  },
  {
   "cell_type": "code",
   "execution_count": null,
   "metadata": {},
   "outputs": [],
   "source": [
    "'agt'.upper()"
   ]
  },
  {
   "cell_type": "code",
   "execution_count": null,
   "metadata": {},
   "outputs": [],
   "source": [
    "coding_table_dict = { \n",
    "        'ATA':'I', 'ATC':'I', 'ATT':'I', 'ATG':'M', \n",
    "        'ACA':'T', 'ACC':'T', 'ACG':'T', 'ACT':'T', \n",
    "        'AAC':'N', 'AAT':'N', 'AAA':'K', 'AAG':'K', \n",
    "        'AGC':'S', 'AGT':'S', 'AGA':'R', 'AGG':'R',                  \n",
    "        'CTA':'L', 'CTC':'L', 'CTG':'L', 'CTT':'L', \n",
    "        'CCA':'P', 'CCC':'P', 'CCG':'P', 'CCT':'P', \n",
    "        'CAC':'H', 'CAT':'H', 'CAA':'Q', 'CAG':'Q', \n",
    "        'CGA':'R', 'CGC':'R', 'CGG':'R', 'CGT':'R', \n",
    "        'GTA':'V', 'GTC':'V', 'GTG':'V', 'GTT':'V', \n",
    "        'GCA':'A', 'GCC':'A', 'GCG':'A', 'GCT':'A', \n",
    "        'GAC':'D', 'GAT':'D', 'GAA':'E', 'GAG':'E', \n",
    "        'GGA':'G', 'GGC':'G', 'GGG':'G', 'GGT':'G', \n",
    "        'TCA':'S', 'TCC':'S', 'TCG':'S', 'TCT':'S', \n",
    "        'TTC':'F', 'TTT':'F', 'TTA':'L', 'TTG':'L', \n",
    "        'TAC':'Y', 'TAT':'Y', 'TAA':'_', 'TAG':'_', \n",
    "        'TGC':'C', 'TGT':'C', 'TGA':'_', 'TGG':'W', \n",
    "    } "
   ]
  },
  {
   "cell_type": "code",
   "execution_count": null,
   "metadata": {},
   "outputs": [],
   "source": []
  },
  {
   "cell_type": "markdown",
   "metadata": {},
   "source": [
    "### Solution"
   ]
  },
  {
   "cell_type": "code",
   "execution_count": null,
   "metadata": {},
   "outputs": [],
   "source": [
    "hidden_message = ''\n",
    "\n",
    "for i in range(0, len(DNAseq), 3):\n",
    "    codon = DNAseq[i:i+3]\n",
    "    amino_acid = coding_table_dict[codon.upper()]\n",
    "    hidden_message = hidden_message + amino_acid\n",
    "\n",
    "print(\"This is the hidden message in\", DNAseq, ':\\n', hidden_message)"
   ]
  },
  {
   "cell_type": "code",
   "execution_count": null,
   "metadata": {},
   "outputs": [],
   "source": [
    "hidden_message = ''\n",
    "\n",
    "for i in range(0, len(DNAseq2), 3):\n",
    "    codon = DNAseq2[i:i+3]\n",
    "    amino_acid = coding_table_dict[codon.upper()]\n",
    "    hidden_message = hidden_message + amino_acid\n",
    "\n",
    "print(\"This is the hidden message in\", DNAseq2, ':\\n',hidden_message)"
   ]
  },
  {
   "cell_type": "code",
   "execution_count": null,
   "metadata": {},
   "outputs": [],
   "source": []
  }
 ],
 "metadata": {
  "kernelspec": {
   "display_name": "Python 3 (ipykernel)",
   "language": "python",
   "name": "python3"
  },
  "language_info": {
   "codemirror_mode": {
    "name": "ipython",
    "version": 3
   },
   "file_extension": ".py",
   "mimetype": "text/x-python",
   "name": "python",
   "nbconvert_exporter": "python",
   "pygments_lexer": "ipython3",
   "version": "3.10.9"
  }
 },
 "nbformat": 4,
 "nbformat_minor": 4
}
