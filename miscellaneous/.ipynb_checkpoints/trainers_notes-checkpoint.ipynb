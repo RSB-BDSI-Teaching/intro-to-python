{
 "cells": [
  {
   "cell_type": "markdown",
   "id": "92ee81f3",
   "metadata": {},
   "source": [
    "# Week 1\n",
    "\n",
    "We finished at Dictionaries. So, things before that would be enough for the first week’s class. Move it next time. \n",
    "\n",
    "I think it’s okay to learn the if statement before the logical operations, it will be easier for them to understand Booleans and logical operators. Or we can move Booleans and logical operators to week 2 before the if statement. \n",
    "\n",
    "Also tell them what things I teach is for actual use and what things are just to know it. Maybe write it in the notebook. \n",
    "\n",
    "They don't need that much practises for simple things, but I think it's better still include it in the notebook but adjust in the class depends on people's ability. \n",
    "\n",
    "Maybe include some homework... just for practise. \n",
    "\n",
    "I don't think they need to know that dictionaries can take different data types as keys, they only need to know to use strings as keys. "
   ]
  },
  {
   "cell_type": "markdown",
   "id": "3a5d40eb",
   "metadata": {},
   "source": [
    "# Week 2\n",
    "\n",
    "Overall pretty good, I made a few mistakes when writing the BMI calculator. Also the examples for while loop are not good.  "
   ]
  }
 ],
 "metadata": {
  "kernelspec": {
   "display_name": "Python 3 (ipykernel)",
   "language": "python",
   "name": "python3"
  },
  "language_info": {
   "codemirror_mode": {
    "name": "ipython",
    "version": 3
   },
   "file_extension": ".py",
   "mimetype": "text/x-python",
   "name": "python",
   "nbconvert_exporter": "python",
   "pygments_lexer": "ipython3",
   "version": "3.10.9"
  }
 },
 "nbformat": 4,
 "nbformat_minor": 5
}
