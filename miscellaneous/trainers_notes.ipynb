{
 "cells": [
  {
   "cell_type": "markdown",
   "id": "0af50f30",
   "metadata": {},
   "source": [
    "# Setup \n",
    "\n",
    "No need to download WSL, it's okay to use desktop version Anaconda. "
   ]
  },
  {
   "cell_type": "markdown",
   "id": "92ee81f3",
   "metadata": {},
   "source": [
    "# Week 1\n",
    "\n",
    "We finished at Dictionaries. So, things before that would be enough for the first week’s class. Move it next time. \n",
    "\n",
    "I think it’s okay to learn the if statement before the logical operations, it will be easier for them to understand Booleans and logical operators. Or we can move Booleans and logical operators to week 2 before the if statement. \n",
    "\n",
    "Also tell them what things I teach is for actual use and what things are just to know it. Maybe write it in the notebook. \n",
    "\n",
    "They don't need that much practises for simple things, but I think it's better still include it in the notebook but adjust in the class depends on people's ability. \n",
    "\n",
    "Maybe include some homework... just for practise. \n",
    "\n",
    "I don't think they need to know that dictionaries can take different data types as keys, they only need to know to use strings as keys. "
   ]
  },
  {
   "cell_type": "markdown",
   "id": "3a5d40eb",
   "metadata": {},
   "source": [
    "# Week 2\n",
    "\n",
    "Overall pretty good, I made a few mistakes when writing the BMI calculator. Also the examples for while loop are not good.  \n",
    "\n",
    "Content from dictionary to for loop (not finished). \n",
    "\n"
   ]
  },
  {
   "cell_type": "markdown",
   "id": "7d05ba2a",
   "metadata": {},
   "source": [
    "# Week 3\n",
    "\n",
    "The Python module/class/objects parts seem boring to the students. We finish at the Seq class. \n",
    "\n",
    "Maybe next time I should make the class 2 hours long, and 5 weeks. \n",
    "\n",
    "I should not touch other people's laptop or pull something out... \n",
    "\n",
    "Delete the Linux part in week 3's notebook. \n",
    "\n",
    "When introducing the `Seq` class, I should only teach then `dir()` then get themselves to explore what options do they have for the class, and do translate/complement etc. "
   ]
  },
  {
   "cell_type": "code",
   "execution_count": null,
   "id": "9a0c578c",
   "metadata": {},
   "outputs": [],
   "source": []
  }
 ],
 "metadata": {
  "kernelspec": {
   "display_name": "Python 3 (ipykernel)",
   "language": "python",
   "name": "python3"
  },
  "language_info": {
   "codemirror_mode": {
    "name": "ipython",
    "version": 3
   },
   "file_extension": ".py",
   "mimetype": "text/x-python",
   "name": "python",
   "nbconvert_exporter": "python",
   "pygments_lexer": "ipython3",
   "version": "3.10.9"
  }
 },
 "nbformat": 4,
 "nbformat_minor": 5
}
