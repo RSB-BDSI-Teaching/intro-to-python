{
 "cells": [
  {
   "cell_type": "markdown",
   "id": "b3a4b6d0",
   "metadata": {},
   "source": [
    "# Setting up for your Windows machine (Windows 10 or higher)\n",
    "\n",
    "1. Following the [tutorial](https://ubuntu.com/tutorials/install-ubuntu-on-wsl2-on-windows-11-with-gui-support#1-overview) to install the Ubuntu Windows Subsystem for Linux (WSL) (you will need administrator rights).\n",
    "\n",
    "2. In the taskbar, search \"Ubuntu\" to open your Ubuntu terminal. \n",
    "\n",
    "3. After installing the WSL, download the Anaconda installer by running the command below in your Ubuntu terminal:\n",
    "\n",
    "```sh\n",
    "cd ~\n",
    "wget https://repo.anaconda.com/archive/Anaconda3-2023.03-Linux-x86_64.sh\n",
    "```\n",
    "\n",
    "4. After the downloading, run the following command to install it:\n",
    "\n",
    "```sh\n",
    "bash Anaconda3-2023.03-Linux-x86_64.sh\n",
    "```\n",
    "\n",
    "5. After installing, use the command ```exit``` to exit the terminal and reopen a new one in order to start Anaconda. In the new terminal, you will see a ```(base)``` before the command prompt. "
   ]
  },
  {
   "cell_type": "markdown",
   "id": "cfb359fd",
   "metadata": {},
   "source": [
    "# Setting up for your MacOS machine\n",
    "\n",
    "1. Open the terminal, and run the following command to download Anaconda:\n",
    "\n",
    "* (Intel chip): \n",
    "\n",
    "```sh\n",
    "cd ~\n",
    "wget https://repo.anaconda.com/archive/Anaconda3-2023.03-MacOSX-x86_64.sh\n",
    "```\n",
    "* (M1 chip): \n",
    "\n",
    "```sh\n",
    "cd ~\n",
    "wget https://repo.anaconda.com/archive/Anaconda3-2023.03-MacOSX-arm64.sh\n",
    "```\n",
    "\n",
    "2. After downloading, run the following command to install it:\n",
    "* (Intel chip):\n",
    "\n",
    "```sh\n",
    "bash Anaconda3-2023.03-Linux-x86_64.sh\n",
    "```\n",
    "\n",
    "* (M1 chip):\n",
    "\n",
    "```sh\n",
    "bash Anaconda3-2023.03-MaxOSX-arm64.sh\n",
    "```\n",
    "\n",
    "3. After installing, use the command ```exit``` to exit the terminal and reopen a new one in order to start Anaconda. In the new terminal, you will see a ```(base)``` before the command prompt."
   ]
  },
  {
   "cell_type": "markdown",
   "id": "4812aa93",
   "metadata": {},
   "source": [
    "# Downloading the course materials from GitHub \n",
    "\n",
    "1. Git comes installed by default on most Mac and Linux machines so we don't have to download it. \n",
    "\n",
    "2. Go to this GitHub [page](https://github.com/RSB-BDSI-Teaching/intro-to-python).\n",
    "\n",
    "3. Click the green __Code__ button, then click __HTTPS__, then copy the https address.\n",
    "\n",
    "![github](figures/github_page.png)\n",
    "\n",
    "4. Go to your terminal and in your home directory, run the following code:\n",
    "\n",
    "```sh\n",
    "cd ~\n",
    "git clone the_https_address\n",
    "```\n",
    "\n",
    "5. Then use the ```ls``` command to check if the GitHub repository has been downloaded."
   ]
  },
  {
   "cell_type": "markdown",
   "id": "43cc4a59",
   "metadata": {},
   "source": [
    "# Using Jupyter Notebook\n",
    "\n",
    "1. Run the following command in the terminal to start Jupyter Notebook:\n",
    "\n",
    "```sh\n",
    "cd ~/intro-to-python\n",
    "jupyter notebook\n",
    "```\n",
    "\n",
    "2. After running the command, you will see some information like this:\n",
    "\n",
    "![jupyter_notebook](figures/jupyter_notebook.png)\n",
    "\n",
    "3. Copy one of the bottom 2 URLs and open it using your browser, you will see the Jupyter Notebook interface. Then you can choose one of the Jupyter Notebook files to starting to work on. \n",
    "\n",
    "4. In the meanwhile, don't close or terminate your terminal, it will stop the running Jupyter Notebook. "
   ]
  },
  {
   "cell_type": "markdown",
   "id": "14bcf6a5",
   "metadata": {},
   "source": [
    "# Install packages using conda \n",
    "\n",
    "Run the following codes in the Terminal to install the necessary packages used in this course:\n",
    "\n",
    "```sh\n",
    "conda install -c conda-forge biopython\n",
    "``` "
   ]
  }
 ],
 "metadata": {
  "kernelspec": {
   "display_name": "Python 3 (ipykernel)",
   "language": "python",
   "name": "python3"
  },
  "language_info": {
   "codemirror_mode": {
    "name": "ipython",
    "version": 3
   },
   "file_extension": ".py",
   "mimetype": "text/x-python",
   "name": "python",
   "nbconvert_exporter": "python",
   "pygments_lexer": "ipython3",
   "version": "3.10.9"
  }
 },
 "nbformat": 4,
 "nbformat_minor": 5
}
