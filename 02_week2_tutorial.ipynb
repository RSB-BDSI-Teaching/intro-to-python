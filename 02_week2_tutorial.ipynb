{
 "cells": [
  {
   "cell_type": "markdown",
   "metadata": {},
   "source": [
    "# Python introduction - session 2\n",
    "## Loops and control statements & data structures\n",
    "### Loops\n",
    "\n",
    "Computing is mostly about doing the same thing again and again in an automated fashion.\n",
    "\n",
    "An example task that we might want to repeat is printing each character in a DNA sequence on a line of its own. "
   ]
  },
  {
   "cell_type": "code",
   "execution_count": 3,
   "metadata": {
    "scrolled": false
   },
   "outputs": [],
   "source": [
    "DNAseq = 'atgtataacattggccataccccgtatacccatgcgaaccatattggccattaa'"
   ]
  },
  {
   "cell_type": "markdown",
   "metadata": {},
   "source": [
    "One way to do this would be to use a series of print statements: "
   ]
  },
  {
   "cell_type": "code",
   "execution_count": 3,
   "metadata": {},
   "outputs": [
    {
     "name": "stdout",
     "output_type": "stream",
     "text": [
      "a\n",
      "t\n",
      "g\n",
      "t\n",
      "a\n"
     ]
    }
   ],
   "source": [
    "print(DNAseq[0])\n",
    "print(DNAseq[1])\n",
    "print(DNAseq[2])\n",
    "print(DNAseq[3])\n",
    "print(DNAseq[4])"
   ]
  },
  {
   "cell_type": "markdown",
   "metadata": {},
   "source": [
    "__Python indexing__ starts from 0 because it is a convention that has been adopted by many programming languages, including C, java, and many others. The idea behind starting from 0 is to make it easier to calculate memory addresses, which is important when dealing with low-level programming tasks. \n",
    "\n",
    "Do people need me to explain more about indexing? It can be difficult to understand but you can also just remember python indexing starts from 0. \n",
    "\n",
    "Okay, let's get back to print our bases. But I'm getting a little bit tired... let me check how many bases left for me to print."
   ]
  },
  {
   "cell_type": "code",
   "execution_count": 4,
   "metadata": {},
   "outputs": [
    {
     "data": {
      "text/plain": [
       "54"
      ]
     },
     "execution_count": 4,
     "metadata": {},
     "output_type": "execute_result"
    }
   ],
   "source": [
    "len(DNAseq)"
   ]
  },
  {
   "cell_type": "markdown",
   "metadata": {},
   "source": [
    "The len() function can check the length of a string.\n",
    "\n",
    "The sequence is 54 bases long and to print all of them I have to to write the print() funtion 54 times. \n",
    "\n",
    "Obviously this is not a good way to solve the problem:\n",
    "* What if I need to print a sequence with 20K bases? \n",
    "* What if I have multiple sequences I need to print?\n",
    "\n",
    "A better approach is to use **for loops** in Python."
   ]
  },
  {
   "cell_type": "code",
   "execution_count": 5,
   "metadata": {},
   "outputs": [],
   "source": [
    "# create two more variables for us to practice \n",
    "\n",
    "DNAseq2 = 'ccgtatacccatgcgaacatggcgaaagaaagctttgcgagcacctaa'\n",
    "DNAseq3 = 'ccgt'"
   ]
  },
  {
   "cell_type": "code",
   "execution_count": 7,
   "metadata": {},
   "outputs": [
    {
     "name": "stdout",
     "output_type": "stream",
     "text": [
      "a\n",
      "t\n",
      "g\n",
      "t\n",
      "a\n",
      "t\n",
      "a\n",
      "a\n",
      "c\n",
      "a\n",
      "t\n",
      "t\n",
      "g\n",
      "g\n",
      "c\n",
      "c\n",
      "a\n",
      "t\n",
      "a\n",
      "c\n",
      "c\n",
      "c\n",
      "c\n",
      "g\n",
      "t\n",
      "a\n",
      "t\n",
      "a\n",
      "c\n",
      "c\n",
      "c\n",
      "a\n",
      "t\n",
      "g\n",
      "c\n",
      "g\n",
      "a\n",
      "a\n",
      "c\n",
      "c\n",
      "a\n",
      "t\n",
      "a\n",
      "t\n",
      "t\n",
      "g\n",
      "g\n",
      "c\n",
      "c\n",
      "a\n",
      "t\n",
      "t\n",
      "a\n",
      "a\n"
     ]
    }
   ],
   "source": [
    "for base in DNAseq:\n",
    "    print(base)"
   ]
  },
  {
   "cell_type": "code",
   "execution_count": 8,
   "metadata": {},
   "outputs": [
    {
     "name": "stdout",
     "output_type": "stream",
     "text": [
      "c\n",
      "c\n",
      "g\n",
      "t\n",
      "a\n",
      "t\n",
      "a\n",
      "c\n",
      "c\n",
      "c\n",
      "a\n",
      "t\n",
      "g\n",
      "c\n",
      "g\n",
      "a\n",
      "a\n",
      "c\n",
      "a\n",
      "t\n",
      "g\n",
      "g\n",
      "c\n",
      "g\n",
      "a\n",
      "a\n",
      "a\n",
      "g\n",
      "a\n",
      "a\n",
      "a\n",
      "g\n",
      "c\n",
      "t\n",
      "t\n",
      "t\n",
      "g\n",
      "c\n",
      "g\n",
      "a\n",
      "g\n",
      "c\n",
      "a\n",
      "c\n",
      "c\n",
      "t\n",
      "a\n",
      "a\n"
     ]
    }
   ],
   "source": [
    "for base in DNAseq2:\n",
    "    print(base)"
   ]
  },
  {
   "cell_type": "code",
   "execution_count": 9,
   "metadata": {},
   "outputs": [
    {
     "name": "stdout",
     "output_type": "stream",
     "text": [
      "c\n",
      "c\n",
      "g\n",
      "t\n"
     ]
    }
   ],
   "source": [
    "for base in DNAseq3:\n",
    "    print(base)"
   ]
  },
  {
   "cell_type": "markdown",
   "metadata": {},
   "source": [
    "We can see that no matter how long our sequence is, we can always use two lines of code to perform the same task. \n",
    "\n",
    "__In python, the syntax of for loop is:__"
   ]
  },
  {
   "cell_type": "code",
   "execution_count": 7,
   "metadata": {},
   "outputs": [
    {
     "ename": "SyntaxError",
     "evalue": "invalid syntax (1047291770.py, line 2)",
     "output_type": "error",
     "traceback": [
      "\u001b[0;36m  Cell \u001b[0;32mIn[7], line 2\u001b[0;36m\u001b[0m\n\u001b[0;31m    do things on variable\u001b[0m\n\u001b[0m       ^\u001b[0m\n\u001b[0;31mSyntaxError\u001b[0m\u001b[0;31m:\u001b[0m invalid syntax\n"
     ]
    }
   ],
   "source": [
    "for variable in collection:\n",
    "    do things on variable"
   ]
  },
  {
   "cell_type": "markdown",
   "metadata": {},
   "source": [
    "We can call the loop variable anything we like, but there must be a **colon** at the end of the line starting the loop, and we must **indent** anything we want to run inside the loop. \n",
    "\n",
    "Like the for loop we ran for printing bases:"
   ]
  },
  {
   "cell_type": "code",
   "execution_count": null,
   "metadata": {},
   "outputs": [],
   "source": [
    "for base in DNAseq3:\n",
    "    print(base)"
   ]
  },
  {
   "cell_type": "markdown",
   "metadata": {},
   "source": [
    "\"base\" is our variable name, we can change it to anything we want, but we also need to make sure the code we run in the loop has the same name. For example, we can change the loop to:"
   ]
  },
  {
   "cell_type": "code",
   "execution_count": 13,
   "metadata": {},
   "outputs": [
    {
     "name": "stdout",
     "output_type": "stream",
     "text": [
      "c\n",
      "c\n",
      "g\n",
      "t\n"
     ]
    }
   ],
   "source": [
    "for i in DNAseq3:\n",
    "    print(i)"
   ]
  },
  {
   "cell_type": "markdown",
   "metadata": {},
   "source": [
    "Unlike many other languages, there is no command to start/end a loop (e.g. do/done in **bash**). What is indented after the for statement belongs to the loop.\n",
    "\n",
    "### Exercise\n",
    "\n",
    "Write a loop that counts the number of bases in your DNA sequence (variable DNAseq)."
   ]
  },
  {
   "cell_type": "code",
   "execution_count": 14,
   "metadata": {},
   "outputs": [
    {
     "name": "stdout",
     "output_type": "stream",
     "text": [
      "There are 0 bases in our DNAsequence.\n"
     ]
    }
   ],
   "source": [
    "number_of_bases = 0\n",
    "\n",
    "# Here goes a loop that iterates over DNAseq and counts the bases\n",
    "\n",
    "\n",
    "\n",
    "print('There are', number_of_bases, 'bases in our DNAsequence.')"
   ]
  },
  {
   "cell_type": "markdown",
   "metadata": {},
   "source": [
    "### Solution"
   ]
  },
  {
   "cell_type": "code",
   "execution_count": 15,
   "metadata": {},
   "outputs": [
    {
     "name": "stdout",
     "output_type": "stream",
     "text": [
      "There are 54 bases in our DNAsequence.\n"
     ]
    }
   ],
   "source": [
    "number_of_bases = 0\n",
    "\n",
    "for base in DNAseq:\n",
    "    number_of_bases = number_of_bases + 1\n",
    "    \n",
    "print('There are', number_of_bases, 'bases in our DNAsequence.')"
   ]
  },
  {
   "cell_type": "markdown",
   "metadata": {},
   "source": [
    "Now make it print the DNA sequence too."
   ]
  },
  {
   "cell_type": "code",
   "execution_count": 15,
   "metadata": {},
   "outputs": [
    {
     "name": "stdout",
     "output_type": "stream",
     "text": [
      "There are 54 bases in the sequence atgtataacattggccataccccgtatacccatgcgaaccatattggccattaa .\n"
     ]
    }
   ],
   "source": [
    "number_of_bases = 0\n",
    "\n",
    "for base in DNAseq:\n",
    "    number_of_bases = number_of_bases + 1\n",
    "    \n",
    "print('There are', number_of_bases, 'bases in the sequence', DNAseq, '.')"
   ]
  },
  {
   "cell_type": "markdown",
   "metadata": {},
   "source": [
    "__Notice__ that there is a space between the sequence and the dot in the above output. That's because for the print() function, when you use comma to concatenate data the function will put a space in between by default. \n",
    "\n",
    "To change this default setting, we can use the \"sep\" argument to specify which delimiter we want to use. Below, we specify sep=\"\" which means we don't use any delimiter so the data will concatenate right next to each other. In this way, you need to make sure to include the space character in your strings. Otherwise, you won't get any space between your data. "
   ]
  },
  {
   "cell_type": "code",
   "execution_count": 16,
   "metadata": {},
   "outputs": [
    {
     "name": "stdout",
     "output_type": "stream",
     "text": [
      "There are 54 letters in the sequence atgtataacattggccataccccgtatacccatgcgaaccatattggccattaa.\n"
     ]
    }
   ],
   "source": [
    "print('There are ', number_of_bases, ' letters in the sequence ', DNAseq, '.', sep=\"\")"
   ]
  },
  {
   "cell_type": "markdown",
   "metadata": {},
   "source": [
    "But finding the length of a string is such a common operation that Python actually has a built-in function to do it called len:"
   ]
  },
  {
   "cell_type": "code",
   "execution_count": 21,
   "metadata": {},
   "outputs": [
    {
     "data": {
      "text/plain": [
       "54"
      ]
     },
     "execution_count": 21,
     "metadata": {},
     "output_type": "execute_result"
    }
   ],
   "source": [
    "len(DNAseq)"
   ]
  },
  {
   "cell_type": "markdown",
   "metadata": {},
   "source": [
    "len() is much faster than any function we could write ourselves, and much easier to read than a two-line loop; it will also give us the length of many other things that we haven’t met yet, so we should always use it when we can."
   ]
  },
  {
   "cell_type": "markdown",
   "metadata": {},
   "source": [
    "### How do we iterate over numbers?\n",
    "Python has a built-in function called range that creates a list of numbers. Range can accept 1-3 parameters. \n",
    "- If one parameter is input, range creates an array of that length, starting at zero and incrementing by 1. \n",
    "- If 2 parameters are input, range starts at the first and ends at the second, incrementing by one. \n",
    "- If range is passed 3 parameters, it stars at the first one, ends at the second one, and increments by the third one."
   ]
  },
  {
   "cell_type": "code",
   "execution_count": 26,
   "metadata": {},
   "outputs": [
    {
     "name": "stdout",
     "output_type": "stream",
     "text": [
      "0\n",
      "1\n",
      "2\n"
     ]
    }
   ],
   "source": [
    "for i in range(3):\n",
    "    print(i)"
   ]
  },
  {
   "cell_type": "code",
   "execution_count": 27,
   "metadata": {},
   "outputs": [
    {
     "name": "stdout",
     "output_type": "stream",
     "text": [
      "2\n",
      "3\n",
      "4\n"
     ]
    }
   ],
   "source": [
    "for i in range(2,5):\n",
    "    print(i)"
   ]
  },
  {
   "cell_type": "code",
   "execution_count": 28,
   "metadata": {},
   "outputs": [
    {
     "name": "stdout",
     "output_type": "stream",
     "text": [
      "10\n",
      "15\n",
      "20\n",
      "25\n"
     ]
    }
   ],
   "source": [
    "for i in range(10,30,5):\n",
    "    print(i)"
   ]
  },
  {
   "cell_type": "markdown",
   "metadata": {},
   "source": [
    "### Exercise\n",
    "Write a loop that prints all the even numbers in the range between 1 and 10 (inclusive)"
   ]
  },
  {
   "cell_type": "code",
   "execution_count": null,
   "metadata": {},
   "outputs": [],
   "source": [
    "# write your code here:\n",
    "\n",
    "\n"
   ]
  },
  {
   "cell_type": "code",
   "execution_count": 17,
   "metadata": {
    "scrolled": true
   },
   "outputs": [
    {
     "name": "stdout",
     "output_type": "stream",
     "text": [
      "2\n",
      "4\n",
      "6\n",
      "8\n",
      "10\n"
     ]
    }
   ],
   "source": [
    "# solution \n",
    "\n",
    "for i in range(2,11,2):\n",
    "    print(i)"
   ]
  },
  {
   "cell_type": "markdown",
   "metadata": {},
   "source": [
    "Above, we used the range() function to only print out the numbers that start from 2 and end in 10 with a increment of 2 which are all the even numbers between 1 and 10 (inclusive).\n",
    "\n",
    "We can make it more generic and use what we have learned before:"
   ]
  },
  {
   "cell_type": "code",
   "execution_count": 18,
   "metadata": {},
   "outputs": [
    {
     "name": "stdout",
     "output_type": "stream",
     "text": [
      "2\n",
      "4\n",
      "6\n",
      "8\n",
      "10\n"
     ]
    }
   ],
   "source": [
    "start, end = 1, 10\n",
    "\n",
    "for i in range(start, end + 1):\n",
    "    if i % 2 == 0:\n",
    "        print(i)"
   ]
  },
  {
   "cell_type": "markdown",
   "metadata": {},
   "source": [
    "Here, we used if statement and modulo operation to check if the number is even and only print out those that are. \n",
    "\n",
    "### Subscripting\n",
    "\n",
    "In Python, subscripting refers to accessing individual elements or slices of a sequence or collection, such as strings, lists, tuples, or arrays, using square brackets [] and an index or slice notation. It allows you to extract or modify specific elements of a sequence. For example:"
   ]
  },
  {
   "cell_type": "code",
   "execution_count": 19,
   "metadata": {},
   "outputs": [
    {
     "data": {
      "text/plain": [
       "'atgtataacattggccataccccgtatacccatgcgaaccatattggccattaa'"
      ]
     },
     "execution_count": 19,
     "metadata": {},
     "output_type": "execute_result"
    }
   ],
   "source": [
    "DNAseq"
   ]
  },
  {
   "cell_type": "code",
   "execution_count": 25,
   "metadata": {
    "scrolled": true
   },
   "outputs": [
    {
     "data": {
      "text/plain": [
       "'a'"
      ]
     },
     "execution_count": 25,
     "metadata": {},
     "output_type": "execute_result"
    }
   ],
   "source": [
    "# access the element at index 0\n",
    "DNAseq[0] "
   ]
  },
  {
   "cell_type": "code",
   "execution_count": 26,
   "metadata": {},
   "outputs": [
    {
     "data": {
      "text/plain": [
       "'t'"
      ]
     },
     "execution_count": 26,
     "metadata": {},
     "output_type": "execute_result"
    }
   ],
   "source": [
    "# access the element at index 5\n",
    "DNAseq[5] "
   ]
  },
  {
   "cell_type": "code",
   "execution_count": 27,
   "metadata": {},
   "outputs": [
    {
     "data": {
      "text/plain": [
       "'atg'"
      ]
     },
     "execution_count": 27,
     "metadata": {},
     "output_type": "execute_result"
    }
   ],
   "source": [
    "# access the elements from index 0 to 3 (exclusive)\n",
    "DNAseq[0:3] "
   ]
  },
  {
   "cell_type": "markdown",
   "metadata": {},
   "source": [
    "__Note__ when using square brackets to slice a sequence from a collection, the beginning index is always inclusive and the ending index is exclusive. \n",
    "\n",
    "So for `DNAseq[0:3]`, it includes index 0, 1, 2 but not 3."
   ]
  },
  {
   "cell_type": "code",
   "execution_count": 28,
   "metadata": {},
   "outputs": [
    {
     "data": {
      "text/plain": [
       "'atgtat'"
      ]
     },
     "execution_count": 28,
     "metadata": {},
     "output_type": "execute_result"
    }
   ],
   "source": [
    "# access the elements from the beginning to index 6 (exclusive)\n",
    "DNAseq[:6]"
   ]
  },
  {
   "cell_type": "code",
   "execution_count": 29,
   "metadata": {},
   "outputs": [
    {
     "data": {
      "text/plain": [
       "'gtataacattggccataccccgtatacccatgcgaaccatattggccattaa'"
      ]
     },
     "execution_count": 29,
     "metadata": {},
     "output_type": "execute_result"
    }
   ],
   "source": [
    "# access the elements from index 2 (inclusive) to the end\n",
    "DNAseq[2:]"
   ]
  },
  {
   "cell_type": "markdown",
   "metadata": {},
   "source": [
    "You can use subsetting to print out all the first bases of all codons."
   ]
  },
  {
   "cell_type": "code",
   "execution_count": 30,
   "metadata": {
    "scrolled": false
   },
   "outputs": [
    {
     "name": "stdout",
     "output_type": "stream",
     "text": [
      "a\n",
      "t\n",
      "a\n",
      "a\n",
      "g\n",
      "c\n",
      "a\n",
      "c\n",
      "t\n",
      "a\n",
      "c\n",
      "g\n",
      "a\n",
      "c\n",
      "a\n",
      "g\n",
      "c\n",
      "t\n"
     ]
    }
   ],
   "source": [
    "for i in range(0, len(DNAseq), 3):\n",
    "    print(DNAseq[i])"
   ]
  },
  {
   "cell_type": "markdown",
   "metadata": {},
   "source": [
    "For the above loop, consider the question:\n",
    "* What indexes are been used in the loop? Obviously it's not all the indexes in variable DNAseq. \n",
    "\n",
    "### Exercise\n",
    "\n",
    "Write a loop that prints all the codons (non-overlapping 3-mers) of our variable DNAseq."
   ]
  },
  {
   "cell_type": "code",
   "execution_count": null,
   "metadata": {},
   "outputs": [],
   "source": [
    "# write your code here:\n",
    "\n",
    "\n"
   ]
  },
  {
   "cell_type": "code",
   "execution_count": 31,
   "metadata": {},
   "outputs": [
    {
     "name": "stdout",
     "output_type": "stream",
     "text": [
      "atg\n",
      "tat\n",
      "aac\n",
      "att\n",
      "ggc\n",
      "cat\n",
      "acc\n",
      "ccg\n",
      "tat\n",
      "acc\n",
      "cat\n",
      "gcg\n",
      "aac\n",
      "cat\n",
      "att\n",
      "ggc\n",
      "cat\n",
      "taa\n"
     ]
    }
   ],
   "source": [
    "# solution\n",
    "for i in range(0, len(DNAseq), 3):\n",
    "    print(DNAseq[i:i+3])"
   ]
  },
  {
   "cell_type": "code",
   "execution_count": 32,
   "metadata": {},
   "outputs": [
    {
     "name": "stdout",
     "output_type": "stream",
     "text": [
      "0 atg\n",
      "3 tat\n",
      "6 aac\n",
      "9 att\n",
      "12 ggc\n",
      "15 cat\n",
      "18 acc\n",
      "21 ccg\n",
      "24 tat\n",
      "27 acc\n",
      "30 cat\n",
      "33 gcg\n",
      "36 aac\n",
      "39 cat\n",
      "42 att\n",
      "45 ggc\n",
      "48 cat\n",
      "51 taa\n"
     ]
    }
   ],
   "source": [
    "# this one also prints the start index of the codon\n",
    "for i in range(0, len(DNAseq), 3):\n",
    "    print(i,DNAseq[i:i+3])"
   ]
  },
  {
   "cell_type": "markdown",
   "metadata": {},
   "source": [
    "## Control flow - more ways to affect the order in which statements run\n",
    "\n",
    "So far we've seen \"for\" loop in a few of our Python examples.\n",
    "\n",
    "There are a few other \"control flow\" statements that affect the order in which statements run.\n",
    "\n",
    "We'll start first with the \"if statement\" ... and its variants."
   ]
  },
  {
   "cell_type": "code",
   "execution_count": 33,
   "metadata": {},
   "outputs": [
    {
     "name": "stdout",
     "output_type": "stream",
     "text": [
      "step 1\n",
      "x is small ... just 5\n",
      "step 2\n",
      "x is 10 or bigger. It's 11\n"
     ]
    }
   ],
   "source": [
    "x = 5\n",
    "\n",
    "print(\"step 1\")\n",
    "\n",
    "if x < 10:\n",
    "    print(\"x is small ... just\", x)\n",
    "\n",
    "x = 11\n",
    "\n",
    "print(\"step 2\")\n",
    "\n",
    "if x < 10:\n",
    "    print(\"x is small ... just\", x)\n",
    "if x >= 10:\n",
    "    print(\"x is 10 or bigger. It's\", x)"
   ]
  },
  {
   "cell_type": "code",
   "execution_count": 34,
   "metadata": {},
   "outputs": [
    {
     "name": "stdout",
     "output_type": "stream",
     "text": [
      "x is 10 or bigger. It's 11\n"
     ]
    }
   ],
   "source": [
    "if x < 10:\n",
    "    print(\"x is small ... just\", x)\n",
    "else:\n",
    "    print(\"x is 10 or bigger. It's\", x)"
   ]
  },
  {
   "cell_type": "markdown",
   "metadata": {},
   "source": [
    "An __if statement__ can be quite complex.\n",
    "\n",
    "Note the use of `elif` below, which means \"else if\".\n",
    "\n",
    "# here "
   ]
  },
  {
   "cell_type": "code",
   "execution_count": null,
   "metadata": {},
   "outputs": [],
   "source": [
    "if x < 10:\n",
    "    print(\"x is small ... just\", x)\n",
    "elif x == 10:\n",
    "    print(\"medium x. It's\", x)\n",
    "elif x == 11:\n",
    "    print(\"medium x. It's\", x)\n",
    "elif x == 12:\n",
    "    print(\"medium x. It's\", x)\n",
    "else:\n",
    "    print(\"x bigger than 12. It's\", x)"
   ]
  },
  {
   "cell_type": "markdown",
   "metadata": {},
   "source": [
    "Multiple conditions can be tested in the same `if` statement. You can use `and` if both predicates need to be true, or `or` if only one of them needs to be true."
   ]
  },
  {
   "cell_type": "code",
   "execution_count": null,
   "metadata": {},
   "outputs": [],
   "source": [
    "if x < 10:\n",
    "    print(\"x is small ... just\", x)\n",
    "elif x >= 10 and x <= 12:\n",
    "    print(\"medium x. It's\", x)\n",
    "else:\n",
    "    print(\"x bigger than 12. It's\", x)"
   ]
  },
  {
   "cell_type": "markdown",
   "metadata": {},
   "source": [
    "Statements can be nested into each other. So we can put an if statement inside a for loop, for example:"
   ]
  },
  {
   "cell_type": "code",
   "execution_count": 1,
   "metadata": {},
   "outputs": [
    {
     "name": "stdout",
     "output_type": "stream",
     "text": [
      "8 is smaller.\n",
      "9 is smaller.\n",
      "10 is medium size :)\n",
      "11 is medium size :)\n",
      "12 is medium size :)\n",
      "i is 13\n",
      "i is 14\n"
     ]
    }
   ],
   "source": [
    "for i in range(8, 15):\n",
    "    if i < 10:\n",
    "        print(i, \"is smaller.\")\n",
    "    elif i >= 10 and i <= 12:\n",
    "        print(i, \"is medium size :)\")\n",
    "    else:\n",
    "        print(\"i is\", i)"
   ]
  },
  {
   "cell_type": "markdown",
   "metadata": {},
   "source": [
    "We can also use loops to count how often the base 'a' occurs in our variable DNAseq."
   ]
  },
  {
   "cell_type": "code",
   "execution_count": 4,
   "metadata": {},
   "outputs": [
    {
     "name": "stdout",
     "output_type": "stream",
     "text": [
      "We have the following base counts:\n",
      "a: 17\n"
     ]
    }
   ],
   "source": [
    "a_count = 0\n",
    "\n",
    "for base in DNAseq:\n",
    "    if base == 'a':\n",
    "        a_count += 1\n",
    "        \n",
    "print('We have the following base counts:')\n",
    "print('a:', a_count)    "
   ]
  },
  {
   "cell_type": "markdown",
   "metadata": {},
   "source": [
    "### Exercise\n",
    "What are the counts of each regular base [a, t, c, g] in DNAseq?"
   ]
  },
  {
   "cell_type": "code",
   "execution_count": null,
   "metadata": {},
   "outputs": [],
   "source": [
    "# write your code here: \n",
    "\n"
   ]
  },
  {
   "cell_type": "code",
   "execution_count": 5,
   "metadata": {},
   "outputs": [
    {
     "name": "stdout",
     "output_type": "stream",
     "text": [
      "We have the following base counts:\n",
      "a: 17\n",
      "t: 14\n",
      "c: 15\n",
      "g: 8\n"
     ]
    }
   ],
   "source": [
    "a_count = 0\n",
    "t_count = 0\n",
    "c_count = 0\n",
    "g_count = 0\n",
    "\n",
    "for base in DNAseq:\n",
    "    if base == 'a':\n",
    "        a_count += 1\n",
    "    elif base == 't':\n",
    "        t_count += 1\n",
    "    elif base == 'c':\n",
    "        c_count += 1\n",
    "    elif base == \"g\":\n",
    "        g_count += 1\n",
    "    else:\n",
    "        print(base, 'is not a regular base [a, t, c, g]')\n",
    "        \n",
    "print('We have the following base counts:')\n",
    "print('a:', a_count)\n",
    "print('t:', t_count)\n",
    "print('c:', c_count)\n",
    "print('g:', g_count)   "
   ]
  },
  {
   "cell_type": "markdown",
   "metadata": {},
   "source": [
    "## Data structures\n",
    "\n",
    "### Lists, tuples, and sets\n",
    "\n",
    "Python has a set of standard 'containers' where you can store information in. Each data structure has its purpose and advantages.\n"
   ]
  },
  {
   "cell_type": "markdown",
   "metadata": {},
   "source": [
    "### Lists\n",
    "\n",
    "Lists are ordered sequences of elements. Each element or value that is inside of a list is called an item. Just as strings are defined as characters between quotes, lists are defined by having values between square brackets []. \n",
    "\n",
    "For example, codons within DNA sequence could be stored in a list of 3-mers."
   ]
  },
  {
   "cell_type": "code",
   "execution_count": null,
   "metadata": {},
   "outputs": [],
   "source": [
    "DNAseq"
   ]
  },
  {
   "cell_type": "code",
   "execution_count": null,
   "metadata": {},
   "outputs": [],
   "source": [
    "### initially you can copy and paste the codons over and make a list\n",
    "DNAseq_codons = ['atg', 'tat', 'aac' ]"
   ]
  },
  {
   "cell_type": "markdown",
   "metadata": {},
   "source": [
    "We can also make a list more easily by looping over the string."
   ]
  },
  {
   "cell_type": "code",
   "execution_count": null,
   "metadata": {},
   "outputs": [],
   "source": [
    "DNAseq_codons = []\n",
    "\n",
    "for i in range(0, len(DNAseq), 3):\n",
    "    DNAseq_codons.append(DNAseq[i:i+3])\n",
    "    print(DNAseq[i:i+3])\n",
    "print(DNAseq_codons)"
   ]
  },
  {
   "cell_type": "markdown",
   "metadata": {},
   "source": [
    "### Lists are\n",
    "* subscriptable\n",
    "* mutable"
   ]
  },
  {
   "cell_type": "code",
   "execution_count": null,
   "metadata": {},
   "outputs": [],
   "source": [
    "DNAseq_codons[4]"
   ]
  },
  {
   "cell_type": "code",
   "execution_count": null,
   "metadata": {},
   "outputs": [],
   "source": [
    "DNAseq_codons[4] = 'aat'"
   ]
  },
  {
   "cell_type": "code",
   "execution_count": null,
   "metadata": {},
   "outputs": [],
   "source": [
    "DNAseq_codons"
   ]
  },
  {
   "cell_type": "markdown",
   "metadata": {},
   "source": [
    "### Sets\n",
    "\n",
    "Sets are unordered collection of items where each item occurs only once. It has no duplicated elements."
   ]
  },
  {
   "cell_type": "code",
   "execution_count": null,
   "metadata": {},
   "outputs": [],
   "source": [
    "print(DNAseq_codons)\n",
    "type(DNAseq_codons)"
   ]
  },
  {
   "cell_type": "code",
   "execution_count": null,
   "metadata": {},
   "outputs": [],
   "source": [
    "set(DNAseq_codons)"
   ]
  },
  {
   "cell_type": "code",
   "execution_count": null,
   "metadata": {},
   "outputs": [],
   "source": [
    "set[0]"
   ]
  },
  {
   "cell_type": "markdown",
   "metadata": {},
   "source": [
    "### Sets are\n",
    "* not subscriptable\n",
    "* not mutable\n",
    "\n",
    "Because sets cannot have multiple occurrences of the same element, it makes sets highly useful to efficiently remove duplicate values from a list and to perform common math operations like unions and intersections."
   ]
  },
  {
   "cell_type": "markdown",
   "metadata": {},
   "source": [
    "### Dictionaries\n",
    "\n",
    "Dictionaries are (unordered) containers of key:value pairs where each key can only occur once.\n",
    "\n",
    "They are one of most useful Python data structures. Looking up elements in a dictionary is really fast and there are lots of built-in functions to use and manipulate dictionaries."
   ]
  },
  {
   "cell_type": "markdown",
   "metadata": {},
   "source": [
    "We can use a dictionary to reverse complement a DNA sequence."
   ]
  },
  {
   "cell_type": "code",
   "execution_count": null,
   "metadata": {},
   "outputs": [],
   "source": [
    "base_pair_dict = {'a' : 't', \n",
    "                  't' : 'a', \n",
    "                  'g' : 'c', \n",
    "                  'c' : 'g'}"
   ]
  },
  {
   "cell_type": "code",
   "execution_count": null,
   "metadata": {},
   "outputs": [],
   "source": [
    "base_pair_dict"
   ]
  },
  {
   "cell_type": "code",
   "execution_count": null,
   "metadata": {},
   "outputs": [],
   "source": [
    "base_pair_dict['g']"
   ]
  },
  {
   "cell_type": "code",
   "execution_count": null,
   "metadata": {},
   "outputs": [],
   "source": [
    "###so now reverse complement our DNA sequence\n",
    "\n",
    "reverse_comp_DNAseq = ''\n",
    "\n",
    "for base in DNAseq[::-1]:\n",
    "    paired_base = base_pair_dict[base]\n",
    "    reverse_comp_DNAseq += paired_base\n",
    "    \n",
    "print(reverse_comp_DNAseq, 'is the reverse complement of', DNAseq)"
   ]
  },
  {
   "cell_type": "markdown",
   "metadata": {},
   "source": [
    "### Exercise: decode the hidden message in the DNA sequences\n",
    "\n",
    "Use the coding table dictonary to decode the hidden message!!!!  \n",
    "Hint you can convert a string to upper case with the function: x.upper(), where x is your string variable.\n"
   ]
  },
  {
   "cell_type": "code",
   "execution_count": null,
   "metadata": {},
   "outputs": [],
   "source": [
    "'agt'.upper()"
   ]
  },
  {
   "cell_type": "code",
   "execution_count": null,
   "metadata": {},
   "outputs": [],
   "source": [
    "coding_table_dict = { \n",
    "        'ATA':'I', 'ATC':'I', 'ATT':'I', 'ATG':'M', \n",
    "        'ACA':'T', 'ACC':'T', 'ACG':'T', 'ACT':'T', \n",
    "        'AAC':'N', 'AAT':'N', 'AAA':'K', 'AAG':'K', \n",
    "        'AGC':'S', 'AGT':'S', 'AGA':'R', 'AGG':'R',                  \n",
    "        'CTA':'L', 'CTC':'L', 'CTG':'L', 'CTT':'L', \n",
    "        'CCA':'P', 'CCC':'P', 'CCG':'P', 'CCT':'P', \n",
    "        'CAC':'H', 'CAT':'H', 'CAA':'Q', 'CAG':'Q', \n",
    "        'CGA':'R', 'CGC':'R', 'CGG':'R', 'CGT':'R', \n",
    "        'GTA':'V', 'GTC':'V', 'GTG':'V', 'GTT':'V', \n",
    "        'GCA':'A', 'GCC':'A', 'GCG':'A', 'GCT':'A', \n",
    "        'GAC':'D', 'GAT':'D', 'GAA':'E', 'GAG':'E', \n",
    "        'GGA':'G', 'GGC':'G', 'GGG':'G', 'GGT':'G', \n",
    "        'TCA':'S', 'TCC':'S', 'TCG':'S', 'TCT':'S', \n",
    "        'TTC':'F', 'TTT':'F', 'TTA':'L', 'TTG':'L', \n",
    "        'TAC':'Y', 'TAT':'Y', 'TAA':'_', 'TAG':'_', \n",
    "        'TGC':'C', 'TGT':'C', 'TGA':'_', 'TGG':'W', \n",
    "    } "
   ]
  },
  {
   "cell_type": "code",
   "execution_count": null,
   "metadata": {},
   "outputs": [],
   "source": []
  },
  {
   "cell_type": "markdown",
   "metadata": {},
   "source": [
    "### Solution"
   ]
  },
  {
   "cell_type": "code",
   "execution_count": null,
   "metadata": {},
   "outputs": [],
   "source": [
    "hidden_message = ''\n",
    "\n",
    "for i in range(0, len(DNAseq), 3):\n",
    "    codon = DNAseq[i:i+3]\n",
    "    amino_acid = coding_table_dict[codon.upper()]\n",
    "    hidden_message = hidden_message + amino_acid\n",
    "\n",
    "print(\"This is the hidden message in\", DNAseq, ':\\n', hidden_message)"
   ]
  },
  {
   "cell_type": "code",
   "execution_count": null,
   "metadata": {},
   "outputs": [],
   "source": [
    "hidden_message = ''\n",
    "\n",
    "for i in range(0, len(DNAseq2), 3):\n",
    "    codon = DNAseq2[i:i+3]\n",
    "    amino_acid = coding_table_dict[codon.upper()]\n",
    "    hidden_message = hidden_message + amino_acid\n",
    "\n",
    "print(\"This is the hidden message in\", DNAseq2, ':\\n',hidden_message)"
   ]
  },
  {
   "cell_type": "code",
   "execution_count": null,
   "metadata": {},
   "outputs": [],
   "source": []
  }
 ],
 "metadata": {
  "kernelspec": {
   "display_name": "Python 3 (ipykernel)",
   "language": "python",
   "name": "python3"
  },
  "language_info": {
   "codemirror_mode": {
    "name": "ipython",
    "version": 3
   },
   "file_extension": ".py",
   "mimetype": "text/x-python",
   "name": "python",
   "nbconvert_exporter": "python",
   "pygments_lexer": "ipython3",
   "version": "3.10.9"
  }
 },
 "nbformat": 4,
 "nbformat_minor": 4
}
