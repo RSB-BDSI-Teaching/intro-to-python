{
 "cells": [
  {
   "cell_type": "markdown",
   "metadata": {},
   "source": [
    "# Week 2 Tutorial - Control Flow \n",
    "\n",
    "This week, we will cover the following contents:\n",
    "\n",
    "1. Loops and Statements \n",
    "    * If statement\n",
    "    * For loop\n",
    "    * While loop\n",
    "2. Loop Control Statements\n",
    "    * Continue statement \n",
    "    * Break statement "
   ]
  },
  {
   "cell_type": "markdown",
   "metadata": {},
   "source": [
    "## Loops and Statements\n",
    "\n",
    "### If Statement\n",
    "\n",
    "In Python, the if statement is a conditional statement that allows you to execute a block of code only if a certain condition is True. \n",
    "\n",
    "It follows the general syntax:"
   ]
  },
  {
   "cell_type": "code",
   "execution_count": 3,
   "metadata": {},
   "outputs": [
    {
     "ename": "SyntaxError",
     "evalue": "incomplete input (3124047070.py, line 2)",
     "output_type": "error",
     "traceback": [
      "\u001b[0;36m  Cell \u001b[0;32mIn[3], line 2\u001b[0;36m\u001b[0m\n\u001b[0;31m    # code block to be executed if condition is True\u001b[0m\n\u001b[0m                                                    ^\u001b[0m\n\u001b[0;31mSyntaxError\u001b[0m\u001b[0;31m:\u001b[0m incomplete input\n"
     ]
    }
   ],
   "source": [
    "if condition:\n",
    "    # code block to be executed if condition is True"
   ]
  },
  {
   "cell_type": "markdown",
   "metadata": {},
   "source": [
    "The condition in the if statement is an expression that evaluates to a boolean value (True or False), it means you can't if a number or a string, it doesn't make sense. For example, ```if 5:``` or ```if \"apple and banana\":```.\n",
    "\n",
    "* If the condition is True, the code block will be __executed__.\n",
    "* If the condition is False, the code block will be __skipped__.\n",
    "\n",
    "__A simple example of `if` statement:__"
   ]
  },
  {
   "cell_type": "code",
   "execution_count": 8,
   "metadata": {},
   "outputs": [
    {
     "name": "stdout",
     "output_type": "stream",
     "text": [
      "x is positive.\n"
     ]
    }
   ],
   "source": [
    "x = 5\n",
    "\n",
    "if x > 0:  \n",
    "    print(\"x is positive.\")"
   ]
  },
  {
   "cell_type": "markdown",
   "metadata": {},
   "source": [
    "Above, when our x is greater than 0 the code will print \"x is positive\", and when our x is not greater than 0 the code will do nothing because it will skip the indented line."
   ]
  },
  {
   "cell_type": "markdown",
   "metadata": {},
   "source": [
    "__`if...elif...else` for multiple conditions:__\n",
    "\n",
    "The general syntax:"
   ]
  },
  {
   "cell_type": "code",
   "execution_count": 1,
   "metadata": {
    "scrolled": false
   },
   "outputs": [
    {
     "ename": "IndentationError",
     "evalue": "expected an indented block after 'if' statement on line 1 (2645580786.py, line 3)",
     "output_type": "error",
     "traceback": [
      "\u001b[0;36m  Cell \u001b[0;32mIn[1], line 3\u001b[0;36m\u001b[0m\n\u001b[0;31m    elif condition:\u001b[0m\n\u001b[0m    ^\u001b[0m\n\u001b[0;31mIndentationError\u001b[0m\u001b[0;31m:\u001b[0m expected an indented block after 'if' statement on line 1\n"
     ]
    }
   ],
   "source": [
    "if condition:\n",
    "    # code block to be executed if condition is True\n",
    "elif condition:\n",
    "    # code block to be executed if condition is True\n",
    "else:\n",
    "    # code block to be executed when other conditions have not been met "
   ]
  },
  {
   "cell_type": "markdown",
   "metadata": {},
   "source": [
    "You can use as many elif as you want, for example:"
   ]
  },
  {
   "cell_type": "code",
   "execution_count": 17,
   "metadata": {
    "scrolled": false
   },
   "outputs": [
    {
     "name": "stdout",
     "output_type": "stream",
     "text": [
      "Please enter your score:66\n",
      "Score: 66\n",
      "Grade: C\n"
     ]
    }
   ],
   "source": [
    "# Example of if-elif-else statement to determine grade\n",
    "score = int(input(\"Please enter your score:\"))\n",
    "\n",
    "if score >= 85:\n",
    "    grade = 'HD'  # High Distinction\n",
    "elif score >= 75:\n",
    "    grade = 'D'  # Distinction\n",
    "elif score >= 65:\n",
    "    grade = 'C'  # Credit\n",
    "elif score >= 50:\n",
    "    grade = 'P'  # Pass\n",
    "else:\n",
    "    grade = 'F'  # Fail\n",
    "\n",
    "print(\"Score:\", score)\n",
    "print(\"Grade:\", grade)"
   ]
  },
  {
   "cell_type": "markdown",
   "metadata": {},
   "source": [
    "__Exercise: program a BMI calculator__\n",
    "\n",
    "The equation for calculating BMI is: \n",
    "\n",
    "_BMI = Weight(kg) / (Height(meters)^2)_\n",
    "\n",
    "And the health result relate to BMI is:\n",
    "* Underweight: BMI < 18.5\n",
    "* Healthy: 18.5 =< BMI < 25\n",
    "* Overweight: 25 =< BMI < 30\n",
    "* Obese: BMI > 30"
   ]
  },
  {
   "cell_type": "code",
   "execution_count": 16,
   "metadata": {},
   "outputs": [],
   "source": [
    "# write your solution here\n",
    "# hint: convert the input data type to float using function float() "
   ]
  },
  {
   "cell_type": "markdown",
   "metadata": {},
   "source": [
    "### For Loop\n",
    "\n",
    "Computing is mostly about doing the same thing again and again in an automated fashion. \n",
    "\n",
    "A for loop is a control flow statement in Python that is used to iterate over a sequence of values or a collection, and execute a block of code once for each element in the sequence. It allows you to repeatedly perform a set of tasks or operations on each element in the sequence without having to write repetitive code. \n",
    "\n",
    "The basic idea behind a for loop is to iterate over each element in an iterable, such as a list, tuple, string, or dictionary, and perform some action for each element. The loop automatically handles the iteration process, moving from one element to the next until all elements have been processed.\n",
    "\n",
    "An example task that we might want to repeat is printing each character in a DNA sequence on a line of its own. "
   ]
  },
  {
   "cell_type": "code",
   "execution_count": 7,
   "metadata": {
    "scrolled": false
   },
   "outputs": [],
   "source": [
    "DNAseq = 'atgtataacattggccataccccgtatacccatgcgaaccatattggccattaa'"
   ]
  },
  {
   "cell_type": "markdown",
   "metadata": {},
   "source": [
    "One way to do this would be using a series of print statements: "
   ]
  },
  {
   "cell_type": "code",
   "execution_count": 2,
   "metadata": {
    "scrolled": true
   },
   "outputs": [
    {
     "name": "stdout",
     "output_type": "stream",
     "text": [
      "a\n",
      "t\n",
      "g\n",
      "t\n",
      "a\n"
     ]
    }
   ],
   "source": [
    "print(DNAseq[0])\n",
    "print(DNAseq[1])\n",
    "print(DNAseq[2])\n",
    "print(DNAseq[3])\n",
    "print(DNAseq[4])"
   ]
  },
  {
   "cell_type": "markdown",
   "metadata": {},
   "source": [
    "But we have to type many lines of code to print all of the bases from the sequence. `for` loop can do the job in a much simpler way:"
   ]
  },
  {
   "cell_type": "code",
   "execution_count": 2,
   "metadata": {
    "scrolled": true
   },
   "outputs": [
    {
     "name": "stdout",
     "output_type": "stream",
     "text": [
      "a\n",
      "t\n",
      "g\n",
      "t\n",
      "a\n",
      "t\n",
      "a\n",
      "a\n",
      "c\n",
      "a\n",
      "t\n",
      "t\n",
      "g\n",
      "g\n",
      "c\n",
      "c\n",
      "a\n",
      "t\n",
      "a\n",
      "c\n",
      "c\n",
      "c\n",
      "c\n",
      "g\n",
      "t\n",
      "a\n",
      "t\n",
      "a\n",
      "c\n",
      "c\n",
      "c\n",
      "a\n",
      "t\n",
      "g\n",
      "c\n",
      "g\n",
      "a\n",
      "a\n",
      "c\n",
      "c\n",
      "a\n",
      "t\n",
      "a\n",
      "t\n",
      "t\n",
      "g\n",
      "g\n",
      "c\n",
      "c\n",
      "a\n",
      "t\n",
      "t\n",
      "a\n",
      "a\n"
     ]
    }
   ],
   "source": [
    "for base in DNAseq:\n",
    "    print(base)"
   ]
  },
  {
   "cell_type": "markdown",
   "metadata": {},
   "source": [
    "Only two lines of code, we can print all of the bases. And this code can be applied to other sequences as well, for example:"
   ]
  },
  {
   "cell_type": "code",
   "execution_count": 4,
   "metadata": {},
   "outputs": [],
   "source": [
    "DNAseq1 = \"ATCGGATCGTAGCTA\""
   ]
  },
  {
   "cell_type": "code",
   "execution_count": 5,
   "metadata": {
    "scrolled": true
   },
   "outputs": [
    {
     "name": "stdout",
     "output_type": "stream",
     "text": [
      "A\n",
      "T\n",
      "C\n",
      "G\n",
      "G\n",
      "A\n",
      "T\n",
      "C\n",
      "G\n",
      "T\n",
      "A\n",
      "G\n",
      "C\n",
      "T\n",
      "A\n"
     ]
    }
   ],
   "source": [
    "for base in DNAseq1:\n",
    "    print(base)"
   ]
  },
  {
   "cell_type": "markdown",
   "metadata": {},
   "source": [
    "__Exercise: print out all the elements in the variable `fruit_basket`__"
   ]
  },
  {
   "cell_type": "code",
   "execution_count": 7,
   "metadata": {},
   "outputs": [],
   "source": [
    "fruit_basket = [\"apple\", \"banana\", \"cherry\"]"
   ]
  },
  {
   "cell_type": "code",
   "execution_count": null,
   "metadata": {},
   "outputs": [],
   "source": []
  },
  {
   "cell_type": "markdown",
   "metadata": {},
   "source": [
    "The syntax of a for loop is:"
   ]
  },
  {
   "cell_type": "code",
   "execution_count": 6,
   "metadata": {
    "scrolled": false
   },
   "outputs": [
    {
     "ename": "SyntaxError",
     "evalue": "invalid syntax (72260008.py, line 2)",
     "output_type": "error",
     "traceback": [
      "\u001b[0;36m  Cell \u001b[0;32mIn[6], line 2\u001b[0;36m\u001b[0m\n\u001b[0;31m    do something with variable\u001b[0m\n\u001b[0m       ^\u001b[0m\n\u001b[0;31mSyntaxError\u001b[0m\u001b[0;31m:\u001b[0m invalid syntax\n"
     ]
    }
   ],
   "source": [
    "for variable in sequence:\n",
    "    do something with variable "
   ]
  },
  {
   "cell_type": "markdown",
   "metadata": {},
   "source": [
    "For loop can be used to write many functions from simple to complicated ones. We can use for loop to write some of the simple functions we use frequently in our daily life, for example:\n",
    "\n",
    "Use `for` loop to calculate the length of an object:"
   ]
  },
  {
   "cell_type": "code",
   "execution_count": 3,
   "metadata": {},
   "outputs": [
    {
     "data": {
      "text/plain": [
       "'atgtataacattggccataccccgtatacccatgcgaaccatattggccattaa'"
      ]
     },
     "execution_count": 3,
     "metadata": {},
     "output_type": "execute_result"
    }
   ],
   "source": [
    "DNAseq"
   ]
  },
  {
   "cell_type": "code",
   "execution_count": 5,
   "metadata": {},
   "outputs": [
    {
     "name": "stdout",
     "output_type": "stream",
     "text": [
      "The DNAseq is 54 bases long.\n"
     ]
    }
   ],
   "source": [
    "length = 0\n",
    "\n",
    "for base in DNAseq:\n",
    "    length = length + 1\n",
    "\n",
    "print(\"The DNAseq is\", length, \"bases long.\")"
   ]
  },
  {
   "cell_type": "markdown",
   "metadata": {},
   "source": [
    "__Exercise: calculate the length of `DNAseq1`__"
   ]
  },
  {
   "cell_type": "code",
   "execution_count": null,
   "metadata": {},
   "outputs": [],
   "source": []
  },
  {
   "cell_type": "markdown",
   "metadata": {},
   "source": [
    "__Exercise: calculate how many fruits are in the `basket`__"
   ]
  },
  {
   "cell_type": "code",
   "execution_count": null,
   "metadata": {},
   "outputs": [],
   "source": [
    "basket = [\"apple\", \"banana\", \"peach\", \"nectarine\", \"apple_2\", \"pineapple\"]"
   ]
  },
  {
   "cell_type": "code",
   "execution_count": null,
   "metadata": {},
   "outputs": [],
   "source": []
  },
  {
   "cell_type": "markdown",
   "metadata": {},
   "source": [
    "We can also use `for` loop to write a sum function:"
   ]
  },
  {
   "cell_type": "code",
   "execution_count": 7,
   "metadata": {},
   "outputs": [],
   "source": [
    "numbers = (55, 85, 2, 69, 6.5)"
   ]
  },
  {
   "cell_type": "code",
   "execution_count": 8,
   "metadata": {},
   "outputs": [
    {
     "name": "stdout",
     "output_type": "stream",
     "text": [
      "The sum of numbers are 217.5.\n"
     ]
    }
   ],
   "source": [
    "total = 0 \n",
    "\n",
    "for number in numbers:\n",
    "    total = total + number\n",
    "\n",
    "print(\"The sum of numbers are \", total, \".\", sep=\"\")"
   ]
  },
  {
   "cell_type": "markdown",
   "metadata": {},
   "source": [
    "__Exercise: calculate the sum of `random_nums`__"
   ]
  },
  {
   "cell_type": "code",
   "execution_count": 10,
   "metadata": {},
   "outputs": [],
   "source": [
    "random_nums = [12, 0.8375428904650853, 91, 0.6966343650289288, 69, 0.24629010004599906, 23, 0.8102107711173415, 24, 0.1895123376310659]"
   ]
  },
  {
   "cell_type": "code",
   "execution_count": null,
   "metadata": {},
   "outputs": [],
   "source": []
  },
  {
   "cell_type": "markdown",
   "metadata": {},
   "source": [
    "But these simple functions we don't need to write it by ourselves every time, there are built-in functions in Python.\n",
    "\n",
    "The function `len()` for calculating length:"
   ]
  },
  {
   "cell_type": "code",
   "execution_count": 11,
   "metadata": {},
   "outputs": [
    {
     "data": {
      "text/plain": [
       "54"
      ]
     },
     "execution_count": 11,
     "metadata": {},
     "output_type": "execute_result"
    }
   ],
   "source": [
    "len(DNAseq)"
   ]
  },
  {
   "cell_type": "markdown",
   "metadata": {},
   "source": [
    "__Exercise: calculate the length of `DNAseq1` and `basket` using `len()`__"
   ]
  },
  {
   "cell_type": "code",
   "execution_count": null,
   "metadata": {},
   "outputs": [],
   "source": []
  },
  {
   "cell_type": "markdown",
   "metadata": {},
   "source": [
    "The function `sum()` for calculating the sum:"
   ]
  },
  {
   "cell_type": "code",
   "execution_count": 12,
   "metadata": {},
   "outputs": [
    {
     "data": {
      "text/plain": [
       "217.5"
      ]
     },
     "execution_count": 12,
     "metadata": {},
     "output_type": "execute_result"
    }
   ],
   "source": [
    "sum(numbers)"
   ]
  },
  {
   "cell_type": "markdown",
   "metadata": {},
   "source": [
    "__Exercise: calculate the sum of `random_nums`__"
   ]
  },
  {
   "cell_type": "code",
   "execution_count": null,
   "metadata": {},
   "outputs": [],
   "source": []
  },
  {
   "cell_type": "markdown",
   "metadata": {},
   "source": [
    "### Iterable\n",
    "\n",
    "Not every data type can be iterated by a for loop. An iterable is any object that can be looped over with a `for` loop. This includes:\n",
    "* Lists\n",
    "* Tuples \n",
    "* Strings \n",
    "* Sets\n",
    "* Dictionaries \n",
    "\n",
    "Data types that are not iterables:\n",
    "* Integers and floats\n",
    "* Booleans"
   ]
  },
  {
   "cell_type": "markdown",
   "metadata": {},
   "source": [
    "### Iterate over indexes in For Loop\n",
    "\n",
    "All practises we did before we looped everthing from the beginning to the end, but there are times we don't want to iterate over everything. \n",
    "\n",
    "What if I want to run the commands on half of the list? or if I want to run the commands on every other element?\n",
    "\n",
    "Python has a built-in function called `range()` that creates a list of numbers, we can loop through these numbers and use it as indexes to get the elements we want. The `range()` function returns a sequence of numbers, starting from 0 by default, and increments by 1 (by default), and stops before a specified number.\n",
    "\n",
    "__Syntax:__ `range(start, stop, increment)`\n",
    "\n",
    "Starting from 0 and incrementing by 1 until 10 (exclusive):"
   ]
  },
  {
   "cell_type": "code",
   "execution_count": 1,
   "metadata": {
    "scrolled": false
   },
   "outputs": [
    {
     "name": "stdout",
     "output_type": "stream",
     "text": [
      "0\n",
      "1\n",
      "2\n",
      "3\n",
      "4\n",
      "5\n",
      "6\n",
      "7\n",
      "8\n",
      "9\n"
     ]
    }
   ],
   "source": [
    "for i in range(10): \n",
    "    print(i)"
   ]
  },
  {
   "cell_type": "markdown",
   "metadata": {},
   "source": [
    "Starting from 2 and incrementing by 1 until 5 (exclusive):"
   ]
  },
  {
   "cell_type": "code",
   "execution_count": 3,
   "metadata": {},
   "outputs": [
    {
     "name": "stdout",
     "output_type": "stream",
     "text": [
      "2\n",
      "3\n",
      "4\n"
     ]
    }
   ],
   "source": [
    "for i in range(2,5):\n",
    "    print(i)"
   ]
  },
  {
   "cell_type": "markdown",
   "metadata": {},
   "source": [
    "Starting from 10 and incrementing by 5 until 30 (exclusive):"
   ]
  },
  {
   "cell_type": "code",
   "execution_count": 4,
   "metadata": {},
   "outputs": [
    {
     "name": "stdout",
     "output_type": "stream",
     "text": [
      "10\n",
      "15\n",
      "20\n",
      "25\n"
     ]
    }
   ],
   "source": [
    "for i in range(10,30,5): \n",
    "    print(i)"
   ]
  },
  {
   "cell_type": "markdown",
   "metadata": {},
   "source": [
    "__Exercise: Write a loop that prints all the even numbers in the range between 1 and 10 (inclusive)__"
   ]
  },
  {
   "cell_type": "code",
   "execution_count": null,
   "metadata": {},
   "outputs": [],
   "source": []
  },
  {
   "cell_type": "markdown",
   "metadata": {},
   "source": [
    "__Exercise: Write a loop that prints every 5th base from variable DNAseq__"
   ]
  },
  {
   "cell_type": "code",
   "execution_count": null,
   "metadata": {},
   "outputs": [],
   "source": []
  },
  {
   "cell_type": "markdown",
   "metadata": {},
   "source": [
    "__Exercise: Write a loop that prints all the codons (non-overlapping 3-mers) of our variable DNAseq__"
   ]
  },
  {
   "cell_type": "code",
   "execution_count": null,
   "metadata": {},
   "outputs": [],
   "source": []
  },
  {
   "cell_type": "markdown",
   "metadata": {},
   "source": [
    "__Exercise: Write a loop that put the above codons into a new list called `codons`__"
   ]
  },
  {
   "cell_type": "code",
   "execution_count": null,
   "metadata": {},
   "outputs": [],
   "source": []
  },
  {
   "cell_type": "markdown",
   "metadata": {},
   "source": [
    "### More practise on for loop\n",
    "\n",
    "Use for loop to count the number of base \"a\" in DNAseq:"
   ]
  },
  {
   "cell_type": "code",
   "execution_count": 50,
   "metadata": {},
   "outputs": [
    {
     "name": "stdout",
     "output_type": "stream",
     "text": [
      "The number of base 'a' in DNAseq is 17\n"
     ]
    }
   ],
   "source": [
    "a_count = 0\n",
    "\n",
    "for base in DNAseq:\n",
    "    if base == \"a\":\n",
    "        a_count = a_count + 1\n",
    "\n",
    "print(\"The number of base 'a' in DNAseq is\", a_count)"
   ]
  },
  {
   "cell_type": "markdown",
   "metadata": {},
   "source": [
    "__Exercise: Count the number of each rugular base [a,t,c,g] in the sequence DNAseq__"
   ]
  },
  {
   "cell_type": "code",
   "execution_count": null,
   "metadata": {},
   "outputs": [],
   "source": [
    "a_count = 0\n",
    "t_count = 0\n",
    "c_count = 0\n",
    "g_count = 0\n",
    "\n",
    "for base in DNAseq:\n",
    "    if base == 'a':\n",
    "        a_count += 1\n",
    "    elif base == 't':\n",
    "        t_count += 1\n",
    "    elif base == 'c':\n",
    "        c_count += 1\n",
    "    elif base == \"g\":\n",
    "        g_count += 1\n",
    "    else:\n",
    "        print(base, 'is not a regular base [a, t, c, g]')\n",
    "        \n",
    "print('We have the following base counts:')\n",
    "print('a:', a_count)\n",
    "print('t:', t_count)\n",
    "print('c:', c_count)\n",
    "print('g:', g_count)   "
   ]
  },
  {
   "cell_type": "markdown",
   "metadata": {},
   "source": [
    "Use for loop to build a reverse complement of DNAseq:"
   ]
  },
  {
   "cell_type": "code",
   "execution_count": 29,
   "metadata": {},
   "outputs": [],
   "source": [
    "base_pair_dict = {'a' : 't', \n",
    "                  't' : 'a', \n",
    "                  'g' : 'c', \n",
    "                  'c' : 'g'}"
   ]
  },
  {
   "cell_type": "markdown",
   "metadata": {},
   "source": [
    "As previous learned, we can use keys as indexes to access the value of a key:"
   ]
  },
  {
   "cell_type": "code",
   "execution_count": 30,
   "metadata": {},
   "outputs": [
    {
     "data": {
      "text/plain": [
       "'t'"
      ]
     },
     "execution_count": 30,
     "metadata": {},
     "output_type": "execute_result"
    }
   ],
   "source": [
    "base_pair_dict[\"a\"]"
   ]
  },
  {
   "cell_type": "markdown",
   "metadata": {},
   "source": [
    "Reverse complement DNAseq:"
   ]
  },
  {
   "cell_type": "code",
   "execution_count": 51,
   "metadata": {},
   "outputs": [
    {
     "name": "stdout",
     "output_type": "stream",
     "text": [
      "The reverse complement of DNAseq is ttaatggccaatatggttcgcatgggtatacggggtatggccaatgttatacat\n"
     ]
    }
   ],
   "source": [
    "r_complement_DNAseq = ''\n",
    "\n",
    "for base in DNAseq[::-1]:\n",
    "    complement_base = base_pair_dict[base]\n",
    "    r_complement_DNAseq += complement_base\n",
    "\n",
    "print(\"The reverse complement of DNAseq is\", r_complement_DNAseq)"
   ]
  },
  {
   "cell_type": "markdown",
   "metadata": {},
   "source": [
    "__Exercise: transcribe DNAseq (assume it's in the 5' to 3' direction)__"
   ]
  },
  {
   "cell_type": "code",
   "execution_count": null,
   "metadata": {},
   "outputs": [],
   "source": []
  },
  {
   "cell_type": "markdown",
   "metadata": {},
   "source": [
    "__Exercise: translating the DNAseq to protein sequence__"
   ]
  },
  {
   "cell_type": "code",
   "execution_count": 53,
   "metadata": {},
   "outputs": [],
   "source": [
    "coding_table_dict = { \n",
    "        'ATA':'I', 'ATC':'I', 'ATT':'I', 'ATG':'M', \n",
    "        'ACA':'T', 'ACC':'T', 'ACG':'T', 'ACT':'T', \n",
    "        'AAC':'N', 'AAT':'N', 'AAA':'K', 'AAG':'K', \n",
    "        'AGC':'S', 'AGT':'S', 'AGA':'R', 'AGG':'R',                  \n",
    "        'CTA':'L', 'CTC':'L', 'CTG':'L', 'CTT':'L', \n",
    "        'CCA':'P', 'CCC':'P', 'CCG':'P', 'CCT':'P', \n",
    "        'CAC':'H', 'CAT':'H', 'CAA':'Q', 'CAG':'Q', \n",
    "        'CGA':'R', 'CGC':'R', 'CGG':'R', 'CGT':'R', \n",
    "        'GTA':'V', 'GTC':'V', 'GTG':'V', 'GTT':'V', \n",
    "        'GCA':'A', 'GCC':'A', 'GCG':'A', 'GCT':'A', \n",
    "        'GAC':'D', 'GAT':'D', 'GAA':'E', 'GAG':'E', \n",
    "        'GGA':'G', 'GGC':'G', 'GGG':'G', 'GGT':'G', \n",
    "        'TCA':'S', 'TCC':'S', 'TCG':'S', 'TCT':'S', \n",
    "        'TTC':'F', 'TTT':'F', 'TTA':'L', 'TTG':'L', \n",
    "        'TAC':'Y', 'TAT':'Y', 'TAA':'_', 'TAG':'_', \n",
    "        'TGC':'C', 'TGT':'C', 'TGA':'_', 'TGG':'W', \n",
    "    } "
   ]
  },
  {
   "cell_type": "code",
   "execution_count": 54,
   "metadata": {},
   "outputs": [
    {
     "name": "stdout",
     "output_type": "stream",
     "text": [
      "The protein sequence of DNAseq is MYNIGHTPYTHANHIGH_\n"
     ]
    }
   ],
   "source": [
    "protein_seq = ''\n",
    "\n",
    "for i in range(0,len(DNAseq),3):\n",
    "    codon = DNAseq[i:i+3]\n",
    "    amino_acid = coding_table_dict[codon.upper()]\n",
    "    protein_seq = protein_seq + amino_acid\n",
    "\n",
    "print(\"The protein sequence of DNAseq is\", protein_seq)"
   ]
  },
  {
   "cell_type": "markdown",
   "metadata": {},
   "source": [
    "### While Loop\n",
    "\n",
    "A while loop allows you to repeatedly execute a block of code as long as a certain condition is True. \n",
    "\n",
    "The general syntax of a while loop in Python is as follows:"
   ]
  },
  {
   "cell_type": "code",
   "execution_count": 2,
   "metadata": {
    "scrolled": false
   },
   "outputs": [
    {
     "ename": "SyntaxError",
     "evalue": "incomplete input (2941978553.py, line 2)",
     "output_type": "error",
     "traceback": [
      "\u001b[0;36m  Cell \u001b[0;32mIn[2], line 2\u001b[0;36m\u001b[0m\n\u001b[0;31m    # Code to be executed\u001b[0m\n\u001b[0m                         ^\u001b[0m\n\u001b[0;31mSyntaxError\u001b[0m\u001b[0;31m:\u001b[0m incomplete input\n"
     ]
    }
   ],
   "source": [
    "while condition:\n",
    "    # Code to be executed"
   ]
  },
  {
   "cell_type": "markdown",
   "metadata": {},
   "source": [
    "Counting up from 1 to 5:"
   ]
  },
  {
   "cell_type": "code",
   "execution_count": 3,
   "metadata": {
    "scrolled": false
   },
   "outputs": [
    {
     "name": "stdout",
     "output_type": "stream",
     "text": [
      "1\n",
      "2\n",
      "3\n",
      "4\n",
      "5\n"
     ]
    }
   ],
   "source": [
    "count = 1\n",
    "\n",
    "while count <= 5:\n",
    "    print(count)\n",
    "    count += 1"
   ]
  },
  {
   "cell_type": "markdown",
   "metadata": {},
   "source": [
    "__Exercise: counting up from 18 to 23__"
   ]
  },
  {
   "cell_type": "code",
   "execution_count": null,
   "metadata": {},
   "outputs": [],
   "source": []
  },
  {
   "cell_type": "markdown",
   "metadata": {},
   "source": [
    "Counting down from 5 to 1:"
   ]
  },
  {
   "cell_type": "code",
   "execution_count": 59,
   "metadata": {},
   "outputs": [
    {
     "name": "stdout",
     "output_type": "stream",
     "text": [
      "5\n",
      "4\n",
      "3\n",
      "2\n",
      "1\n"
     ]
    }
   ],
   "source": [
    "i = 5\n",
    "while i > 0:\n",
    "    print(i)\n",
    "    i -= 1"
   ]
  },
  {
   "cell_type": "markdown",
   "metadata": {},
   "source": [
    "__Exercise: counting down from 19 to 11__"
   ]
  },
  {
   "cell_type": "code",
   "execution_count": null,
   "metadata": {},
   "outputs": [],
   "source": []
  },
  {
   "cell_type": "markdown",
   "metadata": {},
   "source": [
    "Summing up numbers from 1 to 10:"
   ]
  },
  {
   "cell_type": "code",
   "execution_count": 58,
   "metadata": {},
   "outputs": [
    {
     "name": "stdout",
     "output_type": "stream",
     "text": [
      "The sum of numbers from 1 to 10 is 55\n"
     ]
    }
   ],
   "source": [
    "i = 1\n",
    "total = 0\n",
    "\n",
    "while i <= 10:\n",
    "    total += i\n",
    "    i += 1\n",
    "\n",
    "print(\"The sum of numbers from 1 to 10 is\", total)"
   ]
  },
  {
   "cell_type": "markdown",
   "metadata": {},
   "source": [
    "__Exercise: summing up numbers from 25 to 50__"
   ]
  },
  {
   "cell_type": "code",
   "execution_count": 61,
   "metadata": {},
   "outputs": [
    {
     "name": "stdout",
     "output_type": "stream",
     "text": [
      "The sum of numbers from 25 to 50 is 975\n"
     ]
    }
   ],
   "source": [
    "i = 25\n",
    "total = 0\n",
    "\n",
    "while i <= 50:\n",
    "    total += i\n",
    "    i += 1\n",
    "    \n",
    "print(\"The sum of numbers from 25 to 50 is\", total)"
   ]
  },
  {
   "cell_type": "markdown",
   "metadata": {},
   "source": [
    "We can also use while loop to count the number of nucleotides in a DNA sequence:"
   ]
  },
  {
   "cell_type": "code",
   "execution_count": 72,
   "metadata": {},
   "outputs": [
    {
     "data": {
      "text/plain": [
       "'atgtataacattggccataccccgtatacccatgcgaaccatattggccattaa'"
      ]
     },
     "execution_count": 72,
     "metadata": {},
     "output_type": "execute_result"
    }
   ],
   "source": [
    "DNAseq"
   ]
  },
  {
   "cell_type": "code",
   "execution_count": 73,
   "metadata": {},
   "outputs": [
    {
     "name": "stdout",
     "output_type": "stream",
     "text": [
      "{'A': 17, 'T': 14, 'C': 15, 'G': 8}\n"
     ]
    }
   ],
   "source": [
    "nucleotide_count = {\"A\": 0, \"T\": 0, \"C\": 0, \"G\": 0}\n",
    "i = 0\n",
    "\n",
    "while i < len(DNAseq):\n",
    "    nucleotide_count[DNAseq[i].upper()] += 1\n",
    "    i += 1\n",
    "    \n",
    "print(nucleotide_count)"
   ]
  },
  {
   "cell_type": "markdown",
   "metadata": {},
   "source": [
    "The above while loop has fewer codes than the for loop we wrote before. But it is also possible to use for loop in the above method.\n",
    "\n",
    "__Exercise: use dictionary and for loop to count the number of nucleotides in DNAseq__"
   ]
  },
  {
   "cell_type": "code",
   "execution_count": 76,
   "metadata": {},
   "outputs": [
    {
     "name": "stdout",
     "output_type": "stream",
     "text": [
      "{'A': 17, 'T': 14, 'C': 15, 'G': 8}\n"
     ]
    }
   ],
   "source": [
    "nucleotide_count = {\"A\": 0, \"T\": 0, \"C\": 0, \"G\": 0}\n",
    "\n",
    "for base in DNAseq:\n",
    "    nucleotide_count[base.upper()] += 1\n",
    "\n",
    "print(nucleotide_count)"
   ]
  },
  {
   "cell_type": "markdown",
   "metadata": {},
   "source": [
    "__Infinite while loop__\n",
    "\n",
    "An infinite while loop is a loop that never terminates because the loop is always true. This can happen if the loop condition is not specified correctly or if the loop condition is not updated inside the loop.\n",
    "\n",
    "Here's an example of an infinite loop:"
   ]
  },
  {
   "cell_type": "code",
   "execution_count": 78,
   "metadata": {
    "scrolled": true
   },
   "outputs": [
    {
     "ename": "SyntaxError",
     "evalue": "incomplete input (1132239231.py, line 3)",
     "output_type": "error",
     "traceback": [
      "\u001b[0;36m  Cell \u001b[0;32mIn[78], line 3\u001b[0;36m\u001b[0m\n\u001b[0;31m    \u001b[0m\n\u001b[0m    ^\u001b[0m\n\u001b[0;31mSyntaxError\u001b[0m\u001b[0;31m:\u001b[0m incomplete input\n"
     ]
    }
   ],
   "source": [
    "i = 1\n",
    "while i > 0:\n",
    "    print(i)"
   ]
  },
  {
   "cell_type": "markdown",
   "metadata": {},
   "source": [
    "To terminate an infinite loop, you can click the `solid square` button next to the `Run` button.\n",
    "\n",
    "It is important to avoid infinite loops in our code because they can cause our program to crash or hang. To avoid infinite loops, make sure that the loop condition is specified correctly and that the loop condition is updated inside the loop. "
   ]
  },
  {
   "cell_type": "markdown",
   "metadata": {},
   "source": [
    "### Continue statement \n",
    "\n",
    "In Python, the `continue` statement is used inside loops to skip the current iteration and move on to the next iteration. When a `continue` statement is encountered inside a loop, the remaining code in the current iteration is skipped, and the loop immediately starts the next iteration. \n",
    "\n",
    "Here's an example of using the `continue` statement in a for loop to skip the even numbers and only print the odd numbers:"
   ]
  },
  {
   "cell_type": "code",
   "execution_count": 79,
   "metadata": {},
   "outputs": [
    {
     "name": "stdout",
     "output_type": "stream",
     "text": [
      "1\n",
      "3\n",
      "5\n",
      "7\n",
      "9\n"
     ]
    }
   ],
   "source": [
    "numbers = [1, 2, 3, 4, 5, 6, 7, 8, 9, 10]\n",
    "\n",
    "for number in numbers:\n",
    "    if number % 2 == 0:\n",
    "        continue\n",
    "    print(number)"
   ]
  },
  {
   "cell_type": "markdown",
   "metadata": {},
   "source": [
    "### Break statement \n",
    "\n",
    "The `break` statement is used inside loops to terminate the loop early. When a `break` statement is encountered inside a loop, the loop immediately terminates, and the program continues with the code after the loop. \n",
    "\n",
    "Here's an example of using the `break` statement in a `for` loop:"
   ]
  },
  {
   "cell_type": "code",
   "execution_count": 81,
   "metadata": {},
   "outputs": [
    {
     "name": "stdout",
     "output_type": "stream",
     "text": [
      "Start codon found at index: 6\n"
     ]
    }
   ],
   "source": [
    "# find the start codon in a DNA sequence \n",
    "\n",
    "dna_sequence = \"TTAGCTATGACATGTAGGCTAGCTAG\"\n",
    "index = 0\n",
    "\n",
    "while index < len(dna_sequence):\n",
    "    codon = dna_sequence[index:index+3] \n",
    "    if codon == \"ATG\": \n",
    "        print(\"Start codon found at index:\", index)\n",
    "        break  \n",
    "    index += 1 \n",
    "else:\n",
    "    print(\"Start codon not found in the given DNA sequence.\")"
   ]
  },
  {
   "cell_type": "markdown",
   "metadata": {},
   "source": [
    "### Infinite while loop `while True:` with `break` statement \n",
    "\n",
    "The `while True` loop is a type of infinite loop that continues indefinitely until the program is interrupted or the loop is explicitly broken using a `break` statement. This loop is useful in situations where you want to repeat a set of instructions until a specific is met or until the program is manually stopped. \n",
    "\n",
    "Here's an example of using a `while True` loop to continuously prompt the user for input until they enter a valid number:"
   ]
  },
  {
   "cell_type": "code",
   "execution_count": 87,
   "metadata": {
    "scrolled": true
   },
   "outputs": [
    {
     "name": "stdout",
     "output_type": "stream",
     "text": [
      "Please enter a number: 6.00\n",
      "Invalid input. Please enter a valid number.\n",
      "Please enter a number: 6.00\n",
      "Invalid input. Please enter a valid number.\n",
      "Please enter a number: 1\n",
      "The number you entered is: 1\n"
     ]
    }
   ],
   "source": [
    "while True:\n",
    "    user_input = input(\"Please enter a number: \")\n",
    "    try:\n",
    "        number = int(user_input)\n",
    "        break\n",
    "    except ValueError:\n",
    "        print(\"Invalid input. Please enter a valid number.\")\n",
    "\n",
    "print(\"The number you entered is:\", number)"
   ]
  },
  {
   "cell_type": "markdown",
   "metadata": {},
   "source": [
    "Try input a floating-point number and 5.0 in, do you receive an error? Why?"
   ]
  },
  {
   "cell_type": "markdown",
   "metadata": {},
   "source": [
    "### `try` and `except` statement \n",
    "\n",
    "\n",
    "__HERE TO CONTINUE!__"
   ]
  },
  {
   "cell_type": "code",
   "execution_count": null,
   "metadata": {},
   "outputs": [],
   "source": []
  },
  {
   "cell_type": "code",
   "execution_count": 82,
   "metadata": {},
   "outputs": [],
   "source": [
    "# -------------------------------------------------"
   ]
  },
  {
   "cell_type": "code",
   "execution_count": null,
   "metadata": {},
   "outputs": [],
   "source": []
  },
  {
   "cell_type": "code",
   "execution_count": null,
   "metadata": {},
   "outputs": [],
   "source": []
  },
  {
   "cell_type": "code",
   "execution_count": null,
   "metadata": {},
   "outputs": [],
   "source": []
  },
  {
   "cell_type": "code",
   "execution_count": null,
   "metadata": {},
   "outputs": [],
   "source": []
  },
  {
   "cell_type": "code",
   "execution_count": null,
   "metadata": {},
   "outputs": [],
   "source": []
  },
  {
   "cell_type": "code",
   "execution_count": null,
   "metadata": {},
   "outputs": [],
   "source": []
  },
  {
   "cell_type": "code",
   "execution_count": null,
   "metadata": {},
   "outputs": [],
   "source": []
  },
  {
   "cell_type": "code",
   "execution_count": null,
   "metadata": {},
   "outputs": [],
   "source": []
  },
  {
   "cell_type": "code",
   "execution_count": null,
   "metadata": {},
   "outputs": [],
   "source": []
  },
  {
   "cell_type": "code",
   "execution_count": 27,
   "metadata": {},
   "outputs": [],
   "source": []
  },
  {
   "cell_type": "code",
   "execution_count": null,
   "metadata": {},
   "outputs": [],
   "source": []
  },
  {
   "cell_type": "code",
   "execution_count": null,
   "metadata": {},
   "outputs": [],
   "source": []
  },
  {
   "cell_type": "code",
   "execution_count": null,
   "metadata": {},
   "outputs": [],
   "source": []
  },
  {
   "cell_type": "code",
   "execution_count": null,
   "metadata": {},
   "outputs": [],
   "source": []
  },
  {
   "cell_type": "code",
   "execution_count": null,
   "metadata": {},
   "outputs": [],
   "source": []
  }
 ],
 "metadata": {
  "kernelspec": {
   "display_name": "Python 3 (ipykernel)",
   "language": "python",
   "name": "python3"
  },
  "language_info": {
   "codemirror_mode": {
    "name": "ipython",
    "version": 3
   },
   "file_extension": ".py",
   "mimetype": "text/x-python",
   "name": "python",
   "nbconvert_exporter": "python",
   "pygments_lexer": "ipython3",
   "version": "3.10.9"
  }
 },
 "nbformat": 4,
 "nbformat_minor": 4
}
